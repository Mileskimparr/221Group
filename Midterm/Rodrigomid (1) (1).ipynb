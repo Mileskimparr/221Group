{
 "cells": [
  {
   "cell_type": "code",
   "execution_count": 1,
   "id": "d198d7ca-08a3-4003-af87-7ae1ebf173af",
   "metadata": {
    "executionInfo": {
     "elapsed": 259,
     "status": "ok",
     "timestamp": 1707737006067,
     "user": {
      "displayName": "Rodrigo Gutierrez",
      "userId": "04409930615507589682"
     },
     "user_tz": 480
    },
    "id": "d198d7ca-08a3-4003-af87-7ae1ebf173af"
   },
   "outputs": [],
   "source": [
    "## This is Rodrigo Gutierrez's midterm notebook. Our group is researching park equity in the 2nd and 5th Supervisorial Districts\n",
    "## in Los Angeles, CA. The members of my group are Annie Chan, Miles Parr Kim, Aydin Pasebani, and Max Garcia."
   ]
  },
  {
   "cell_type": "code",
   "execution_count": 2,
   "id": "dfeeceb7-abfb-49d9-9112-8d71dce865d7",
   "metadata": {
    "executionInfo": {
     "elapsed": 287,
     "status": "ok",
     "timestamp": 1707737006819,
     "user": {
      "displayName": "Rodrigo Gutierrez",
      "userId": "04409930615507589682"
     },
     "user_tz": 480
    },
    "id": "dfeeceb7-abfb-49d9-9112-8d71dce865d7"
   },
   "outputs": [],
   "source": [
    "## I am focusing my code on the number of unhoused individuals in LA County comparing that to the average rent, and whether\n",
    "## parks are more prevalent in census tracts with higher rent costs."
   ]
  },
  {
   "cell_type": "code",
   "execution_count": 3,
   "id": "dc26d586-9bbe-4c7c-a936-4ffa7195c37f",
   "metadata": {
    "executionInfo": {
     "elapsed": 7,
     "status": "ok",
     "timestamp": 1707737006820,
     "user": {
      "displayName": "Rodrigo Gutierrez",
      "userId": "04409930615507589682"
     },
     "user_tz": 480
    },
    "id": "dc26d586-9bbe-4c7c-a936-4ffa7195c37f"
   },
   "outputs": [],
   "source": [
    "## Here I am importing all my libraries that I will potentially use. I may not use them all, but I like to import them just in\n",
    "## case."
   ]
  },
  {
   "cell_type": "code",
   "execution_count": 4,
   "id": "9f26addf-c5f9-49ba-8004-e8b11aea63cb",
   "metadata": {
    "executionInfo": {
     "elapsed": 4632,
     "status": "ok",
     "timestamp": 1707737011446,
     "user": {
      "displayName": "Rodrigo Gutierrez",
      "userId": "04409930615507589682"
     },
     "user_tz": 480
    },
    "id": "9f26addf-c5f9-49ba-8004-e8b11aea63cb"
   },
   "outputs": [],
   "source": [
    "import pandas as pd\n",
    "import geopandas as gpd\n",
    "from matplotlib import pyplot as plt\n",
    "import seaborn as sns\n",
    "from scipy.spatial import distance_matrix as distance_matrix\n",
    "from shapely.geometry import Point"
   ]
  },
  {
   "cell_type": "code",
   "execution_count": 5,
   "id": "24379854-a2c1-4455-a9bb-b157f703d4b3",
   "metadata": {
    "executionInfo": {
     "elapsed": 6,
     "status": "ok",
     "timestamp": 1707737011446,
     "user": {
      "displayName": "Rodrigo Gutierrez",
      "userId": "04409930615507589682"
     },
     "user_tz": 480
    },
    "id": "24379854-a2c1-4455-a9bb-b157f703d4b3"
   },
   "outputs": [],
   "source": [
    "## Here I am reading in my GEOJSON file of the 2020 Census tracts."
   ]
  },
  {
   "cell_type": "code",
   "execution_count": 6,
   "id": "0e130e6a-b7fa-4b08-8c00-18d44d765058",
   "metadata": {
    "colab": {
     "base_uri": "https://localhost:8080/",
     "height": 599
    },
    "executionInfo": {
     "elapsed": 738,
     "status": "error",
     "timestamp": 1707737012180,
     "user": {
      "displayName": "Rodrigo Gutierrez",
      "userId": "04409930615507589682"
     },
     "user_tz": 480
    },
    "id": "0e130e6a-b7fa-4b08-8c00-18d44d765058",
    "outputId": "112b9131-371b-474b-c1ea-aa4bf38be6bb"
   },
   "outputs": [
    {
     "name": "stderr",
     "output_type": "stream",
     "text": [
      "ERROR 1: PROJ: proj_create_from_database: Open of /opt/conda/share/proj failed\n"
     ]
    }
   ],
   "source": [
    "tracts = gpd.read_file('data/2020_Census_Tracts.geojson')"
   ]
  },
  {
   "cell_type": "code",
   "execution_count": 7,
   "id": "0bb07600-4eb4-41cd-810d-9d4f4a64a715",
   "metadata": {
    "executionInfo": {
     "elapsed": 9,
     "status": "aborted",
     "timestamp": 1707737012182,
     "user": {
      "displayName": "Rodrigo Gutierrez",
      "userId": "04409930615507589682"
     },
     "user_tz": 480
    },
    "id": "0bb07600-4eb4-41cd-810d-9d4f4a64a715"
   },
   "outputs": [],
   "source": [
    "## Here I am creating a 'FIPS' column because I will use this later on to merge datasets. I used the .head() function to preview\n",
    "## the data."
   ]
  },
  {
   "cell_type": "code",
   "execution_count": 8,
   "id": "577bea53-e968-4e9e-af38-ddfa1a018796",
   "metadata": {
    "executionInfo": {
     "elapsed": 10,
     "status": "aborted",
     "timestamp": 1707737012183,
     "user": {
      "displayName": "Rodrigo Gutierrez",
      "userId": "04409930615507589682"
     },
     "user_tz": 480
    },
    "id": "577bea53-e968-4e9e-af38-ddfa1a018796"
   },
   "outputs": [
    {
     "data": {
      "text/html": [
       "<div>\n",
       "<style scoped>\n",
       "    .dataframe tbody tr th:only-of-type {\n",
       "        vertical-align: middle;\n",
       "    }\n",
       "\n",
       "    .dataframe tbody tr th {\n",
       "        vertical-align: top;\n",
       "    }\n",
       "\n",
       "    .dataframe thead th {\n",
       "        text-align: right;\n",
       "    }\n",
       "</style>\n",
       "<table border=\"1\" class=\"dataframe\">\n",
       "  <thead>\n",
       "    <tr style=\"text-align: right;\">\n",
       "      <th></th>\n",
       "      <th>OBJECTID</th>\n",
       "      <th>CT20</th>\n",
       "      <th>LABEL</th>\n",
       "      <th>ShapeSTArea</th>\n",
       "      <th>ShapeSTLength</th>\n",
       "      <th>geometry</th>\n",
       "      <th>FIPS</th>\n",
       "    </tr>\n",
       "  </thead>\n",
       "  <tbody>\n",
       "    <tr>\n",
       "      <th>0</th>\n",
       "      <td>4992</td>\n",
       "      <td>101110</td>\n",
       "      <td>1011.10</td>\n",
       "      <td>1.229562e+07</td>\n",
       "      <td>15083.854287</td>\n",
       "      <td>POLYGON ((-118.29793 34.26323, -118.30082 34.2...</td>\n",
       "      <td>06037101110</td>\n",
       "    </tr>\n",
       "    <tr>\n",
       "      <th>1</th>\n",
       "      <td>4993</td>\n",
       "      <td>101122</td>\n",
       "      <td>1011.22</td>\n",
       "      <td>2.845774e+07</td>\n",
       "      <td>31671.455844</td>\n",
       "      <td>POLYGON ((-118.27743 34.25991, -118.27743 34.2...</td>\n",
       "      <td>06037101122</td>\n",
       "    </tr>\n",
       "    <tr>\n",
       "      <th>2</th>\n",
       "      <td>4994</td>\n",
       "      <td>101220</td>\n",
       "      <td>1012.20</td>\n",
       "      <td>7.522093e+06</td>\n",
       "      <td>12698.783810</td>\n",
       "      <td>POLYGON ((-118.27818 34.25577, -118.27887 34.2...</td>\n",
       "      <td>06037101220</td>\n",
       "    </tr>\n",
       "  </tbody>\n",
       "</table>\n",
       "</div>"
      ],
      "text/plain": [
       "   OBJECTID    CT20    LABEL   ShapeSTArea  ShapeSTLength  \\\n",
       "0      4992  101110  1011.10  1.229562e+07   15083.854287   \n",
       "1      4993  101122  1011.22  2.845774e+07   31671.455844   \n",
       "2      4994  101220  1012.20  7.522093e+06   12698.783810   \n",
       "\n",
       "                                            geometry         FIPS  \n",
       "0  POLYGON ((-118.29793 34.26323, -118.30082 34.2...  06037101110  \n",
       "1  POLYGON ((-118.27743 34.25991, -118.27743 34.2...  06037101122  \n",
       "2  POLYGON ((-118.27818 34.25577, -118.27887 34.2...  06037101220  "
      ]
     },
     "execution_count": 8,
     "metadata": {},
     "output_type": "execute_result"
    }
   ],
   "source": [
    "tracts['FIPS'] ='06' + '037' + tracts['CT20']\n",
    "tracts.head(3)"
   ]
  },
  {
   "cell_type": "code",
   "execution_count": 9,
   "id": "088976ac-3604-4de2-9213-62cc42a6f880",
   "metadata": {
    "executionInfo": {
     "elapsed": 11,
     "status": "aborted",
     "timestamp": 1707737012184,
     "user": {
      "displayName": "Rodrigo Gutierrez",
      "userId": "04409930615507589682"
     },
     "user_tz": 480
    },
    "id": "088976ac-3604-4de2-9213-62cc42a6f880"
   },
   "outputs": [],
   "source": [
    "## Here I am reading in the file containing all the information of the 2nd Supervisioral District.\n",
    "## I am reading in the column 'CT20' as a string in order to create the 'FIPS' column."
   ]
  },
  {
   "cell_type": "code",
   "execution_count": 10,
   "id": "2e42a6a3-6e19-4662-aab3-f6dea5967745",
   "metadata": {
    "executionInfo": {
     "elapsed": 11,
     "status": "aborted",
     "timestamp": 1707737012184,
     "user": {
      "displayName": "Rodrigo Gutierrez",
      "userId": "04409930615507589682"
     },
     "user_tz": 480
    },
    "id": "2e42a6a3-6e19-4662-aab3-f6dea5967745"
   },
   "outputs": [],
   "source": [
    "District2 = pd.read_csv('data/District2 (1).csv',\n",
    "    dtype =\n",
    "    {\n",
    "        'CT20':str,\n",
    "    }\n",
    ")"
   ]
  },
  {
   "cell_type": "code",
   "execution_count": 11,
   "id": "b3297be1-b753-4d06-9198-867f3da8fd46",
   "metadata": {
    "executionInfo": {
     "elapsed": 11,
     "status": "aborted",
     "timestamp": 1707737012185,
     "user": {
      "displayName": "Rodrigo Gutierrez",
      "userId": "04409930615507589682"
     },
     "user_tz": 480
    },
    "id": "b3297be1-b753-4d06-9198-867f3da8fd46"
   },
   "outputs": [],
   "source": [
    "District2['FIPS'] = '06' + '037' + District2['CT20']"
   ]
  },
  {
   "cell_type": "code",
   "execution_count": 12,
   "id": "752a5502-2833-4247-a736-a8c90cd8128c",
   "metadata": {
    "executionInfo": {
     "elapsed": 12,
     "status": "aborted",
     "timestamp": 1707737012186,
     "user": {
      "displayName": "Rodrigo Gutierrez",
      "userId": "04409930615507589682"
     },
     "user_tz": 480
    },
    "id": "752a5502-2833-4247-a736-a8c90cd8128c"
   },
   "outputs": [],
   "source": [
    "## Here I am performing my first merge with the tracts and District 2, on the column 'FIPS'. I then use .head() to visualize."
   ]
  },
  {
   "cell_type": "code",
   "execution_count": 13,
   "id": "2a586c53-ec26-4c93-a20e-16728ee6ddd7",
   "metadata": {
    "executionInfo": {
     "elapsed": 12,
     "status": "aborted",
     "timestamp": 1707737012186,
     "user": {
      "displayName": "Rodrigo Gutierrez",
      "userId": "04409930615507589682"
     },
     "user_tz": 480
    },
    "id": "2a586c53-ec26-4c93-a20e-16728ee6ddd7"
   },
   "outputs": [
    {
     "data": {
      "text/html": [
       "<div>\n",
       "<style scoped>\n",
       "    .dataframe tbody tr th:only-of-type {\n",
       "        vertical-align: middle;\n",
       "    }\n",
       "\n",
       "    .dataframe tbody tr th {\n",
       "        vertical-align: top;\n",
       "    }\n",
       "\n",
       "    .dataframe thead th {\n",
       "        text-align: right;\n",
       "    }\n",
       "</style>\n",
       "<table border=\"1\" class=\"dataframe\">\n",
       "  <thead>\n",
       "    <tr style=\"text-align: right;\">\n",
       "      <th></th>\n",
       "      <th>OBJECTID</th>\n",
       "      <th>CT20_x</th>\n",
       "      <th>LABEL_x</th>\n",
       "      <th>ShapeSTArea</th>\n",
       "      <th>ShapeSTLength</th>\n",
       "      <th>geometry</th>\n",
       "      <th>FIPS</th>\n",
       "      <th>OBJECTID_12</th>\n",
       "      <th>Join_Count</th>\n",
       "      <th>TARGET_FID</th>\n",
       "      <th>...</th>\n",
       "      <th>NAME</th>\n",
       "      <th>SUP_NAME</th>\n",
       "      <th>DIST_SUP</th>\n",
       "      <th>CITYNAME_ALF</th>\n",
       "      <th>NAME_1</th>\n",
       "      <th>JURISDICTION</th>\n",
       "      <th>AREA_NUM</th>\n",
       "      <th>AREA_NAME</th>\n",
       "      <th>Shape__Area</th>\n",
       "      <th>Shape__Length</th>\n",
       "    </tr>\n",
       "  </thead>\n",
       "  <tbody>\n",
       "    <tr>\n",
       "      <th>0</th>\n",
       "      <td>5631</td>\n",
       "      <td>211000</td>\n",
       "      <td>2110.00</td>\n",
       "      <td>2.859668e+07</td>\n",
       "      <td>25170.331758</td>\n",
       "      <td>POLYGON ((-118.32268 34.07621, -118.32355 34.0...</td>\n",
       "      <td>06037211000</td>\n",
       "      <td>640</td>\n",
       "      <td>2</td>\n",
       "      <td>640</td>\n",
       "      <td>...</td>\n",
       "      <td>2ND SUP. DISTRICT</td>\n",
       "      <td>2ND DISTRICT: HOLLY MITCHELL</td>\n",
       "      <td>2</td>\n",
       "      <td>LOS ANGELES</td>\n",
       "      <td>NaN</td>\n",
       "      <td>INCORPORATED CITY</td>\n",
       "      <td>5</td>\n",
       "      <td>Westside Planning Area</td>\n",
       "      <td>3.881413e+06</td>\n",
       "      <td>9270.888577</td>\n",
       "    </tr>\n",
       "    <tr>\n",
       "      <th>1</th>\n",
       "      <td>5632</td>\n",
       "      <td>211121</td>\n",
       "      <td>2111.21</td>\n",
       "      <td>2.302636e+06</td>\n",
       "      <td>7588.943500</td>\n",
       "      <td>POLYGON ((-118.28441 34.07672, -118.28560 34.0...</td>\n",
       "      <td>06037211121</td>\n",
       "      <td>641</td>\n",
       "      <td>2</td>\n",
       "      <td>641</td>\n",
       "      <td>...</td>\n",
       "      <td>2ND SUP. DISTRICT</td>\n",
       "      <td>2ND DISTRICT: HOLLY MITCHELL</td>\n",
       "      <td>2</td>\n",
       "      <td>LOS ANGELES</td>\n",
       "      <td>NaN</td>\n",
       "      <td>INCORPORATED CITY</td>\n",
       "      <td>9</td>\n",
       "      <td>Metro Planning Area</td>\n",
       "      <td>3.125745e+05</td>\n",
       "      <td>2799.117227</td>\n",
       "    </tr>\n",
       "    <tr>\n",
       "      <th>2</th>\n",
       "      <td>5633</td>\n",
       "      <td>211122</td>\n",
       "      <td>2111.22</td>\n",
       "      <td>3.934734e+06</td>\n",
       "      <td>8274.051868</td>\n",
       "      <td>POLYGON ((-118.28682 34.07634, -118.28798 34.0...</td>\n",
       "      <td>06037211122</td>\n",
       "      <td>642</td>\n",
       "      <td>3</td>\n",
       "      <td>642</td>\n",
       "      <td>...</td>\n",
       "      <td>2ND SUP. DISTRICT</td>\n",
       "      <td>2ND DISTRICT: HOLLY MITCHELL</td>\n",
       "      <td>2</td>\n",
       "      <td>LOS ANGELES</td>\n",
       "      <td>NaN</td>\n",
       "      <td>INCORPORATED CITY</td>\n",
       "      <td>9</td>\n",
       "      <td>Metro Planning Area</td>\n",
       "      <td>5.341218e+05</td>\n",
       "      <td>3050.487937</td>\n",
       "    </tr>\n",
       "    <tr>\n",
       "      <th>3</th>\n",
       "      <td>5634</td>\n",
       "      <td>211123</td>\n",
       "      <td>2111.23</td>\n",
       "      <td>1.851716e+06</td>\n",
       "      <td>6798.256629</td>\n",
       "      <td>POLYGON ((-118.28231 34.06287, -118.28309 34.0...</td>\n",
       "      <td>06037211123</td>\n",
       "      <td>643</td>\n",
       "      <td>2</td>\n",
       "      <td>643</td>\n",
       "      <td>...</td>\n",
       "      <td>2ND SUP. DISTRICT</td>\n",
       "      <td>2ND DISTRICT: HOLLY MITCHELL</td>\n",
       "      <td>2</td>\n",
       "      <td>LOS ANGELES</td>\n",
       "      <td>NaN</td>\n",
       "      <td>INCORPORATED CITY</td>\n",
       "      <td>9</td>\n",
       "      <td>Metro Planning Area</td>\n",
       "      <td>2.513022e+05</td>\n",
       "      <td>2501.035059</td>\n",
       "    </tr>\n",
       "    <tr>\n",
       "      <th>4</th>\n",
       "      <td>5635</td>\n",
       "      <td>211124</td>\n",
       "      <td>2111.24</td>\n",
       "      <td>4.252116e+06</td>\n",
       "      <td>8179.690837</td>\n",
       "      <td>POLYGON ((-118.28681 34.06899, -118.28734 34.0...</td>\n",
       "      <td>06037211124</td>\n",
       "      <td>644</td>\n",
       "      <td>2</td>\n",
       "      <td>644</td>\n",
       "      <td>...</td>\n",
       "      <td>2ND SUP. DISTRICT</td>\n",
       "      <td>2ND DISTRICT: HOLLY MITCHELL</td>\n",
       "      <td>2</td>\n",
       "      <td>LOS ANGELES</td>\n",
       "      <td>NaN</td>\n",
       "      <td>INCORPORATED CITY</td>\n",
       "      <td>9</td>\n",
       "      <td>Metro Planning Area</td>\n",
       "      <td>5.771177e+05</td>\n",
       "      <td>3012.923477</td>\n",
       "    </tr>\n",
       "  </tbody>\n",
       "</table>\n",
       "<p>5 rows × 22 columns</p>\n",
       "</div>"
      ],
      "text/plain": [
       "   OBJECTID  CT20_x  LABEL_x   ShapeSTArea  ShapeSTLength  \\\n",
       "0      5631  211000  2110.00  2.859668e+07   25170.331758   \n",
       "1      5632  211121  2111.21  2.302636e+06    7588.943500   \n",
       "2      5633  211122  2111.22  3.934734e+06    8274.051868   \n",
       "3      5634  211123  2111.23  1.851716e+06    6798.256629   \n",
       "4      5635  211124  2111.24  4.252116e+06    8179.690837   \n",
       "\n",
       "                                            geometry         FIPS  \\\n",
       "0  POLYGON ((-118.32268 34.07621, -118.32355 34.0...  06037211000   \n",
       "1  POLYGON ((-118.28441 34.07672, -118.28560 34.0...  06037211121   \n",
       "2  POLYGON ((-118.28682 34.07634, -118.28798 34.0...  06037211122   \n",
       "3  POLYGON ((-118.28231 34.06287, -118.28309 34.0...  06037211123   \n",
       "4  POLYGON ((-118.28681 34.06899, -118.28734 34.0...  06037211124   \n",
       "\n",
       "   OBJECTID_12  Join_Count  TARGET_FID  ...               NAME  \\\n",
       "0          640           2         640  ...  2ND SUP. DISTRICT   \n",
       "1          641           2         641  ...  2ND SUP. DISTRICT   \n",
       "2          642           3         642  ...  2ND SUP. DISTRICT   \n",
       "3          643           2         643  ...  2ND SUP. DISTRICT   \n",
       "4          644           2         644  ...  2ND SUP. DISTRICT   \n",
       "\n",
       "                       SUP_NAME DIST_SUP CITYNAME_ALF  NAME_1  \\\n",
       "0  2ND DISTRICT: HOLLY MITCHELL        2  LOS ANGELES     NaN   \n",
       "1  2ND DISTRICT: HOLLY MITCHELL        2  LOS ANGELES     NaN   \n",
       "2  2ND DISTRICT: HOLLY MITCHELL        2  LOS ANGELES     NaN   \n",
       "3  2ND DISTRICT: HOLLY MITCHELL        2  LOS ANGELES     NaN   \n",
       "4  2ND DISTRICT: HOLLY MITCHELL        2  LOS ANGELES     NaN   \n",
       "\n",
       "        JURISDICTION AREA_NUM               AREA_NAME   Shape__Area  \\\n",
       "0  INCORPORATED CITY        5  Westside Planning Area  3.881413e+06   \n",
       "1  INCORPORATED CITY        9     Metro Planning Area  3.125745e+05   \n",
       "2  INCORPORATED CITY        9     Metro Planning Area  5.341218e+05   \n",
       "3  INCORPORATED CITY        9     Metro Planning Area  2.513022e+05   \n",
       "4  INCORPORATED CITY        9     Metro Planning Area  5.771177e+05   \n",
       "\n",
       "  Shape__Length  \n",
       "0   9270.888577  \n",
       "1   2799.117227  \n",
       "2   3050.487937  \n",
       "3   2501.035059  \n",
       "4   3012.923477  \n",
       "\n",
       "[5 rows x 22 columns]"
      ]
     },
     "execution_count": 13,
     "metadata": {},
     "output_type": "execute_result"
    }
   ],
   "source": [
    "Dis2tracts = tracts.merge(District2, on = 'FIPS')\n",
    "Dis2tracts.head()"
   ]
  },
  {
   "cell_type": "code",
   "execution_count": 14,
   "id": "cd33977c-3714-4093-a9ef-3300516ec50d",
   "metadata": {
    "executionInfo": {
     "elapsed": 13,
     "status": "aborted",
     "timestamp": 1707737012187,
     "user": {
      "displayName": "Rodrigo Gutierrez",
      "userId": "04409930615507589682"
     },
     "user_tz": 480
    },
    "id": "cd33977c-3714-4093-a9ef-3300516ec50d"
   },
   "outputs": [],
   "source": [
    "## Reading in District 5 file, doing the same reading in 'CT20' as a string to create 'FIPS' column to merge with tracts data."
   ]
  },
  {
   "cell_type": "code",
   "execution_count": 15,
   "id": "099720ec-6ee1-44c9-92a6-1c8735a1f085",
   "metadata": {
    "executionInfo": {
     "elapsed": 13,
     "status": "aborted",
     "timestamp": 1707737012187,
     "user": {
      "displayName": "Rodrigo Gutierrez",
      "userId": "04409930615507589682"
     },
     "user_tz": 480
    },
    "id": "099720ec-6ee1-44c9-92a6-1c8735a1f085"
   },
   "outputs": [
    {
     "data": {
      "text/html": [
       "<div>\n",
       "<style scoped>\n",
       "    .dataframe tbody tr th:only-of-type {\n",
       "        vertical-align: middle;\n",
       "    }\n",
       "\n",
       "    .dataframe tbody tr th {\n",
       "        vertical-align: top;\n",
       "    }\n",
       "\n",
       "    .dataframe thead th {\n",
       "        text-align: right;\n",
       "    }\n",
       "</style>\n",
       "<table border=\"1\" class=\"dataframe\">\n",
       "  <thead>\n",
       "    <tr style=\"text-align: right;\">\n",
       "      <th></th>\n",
       "      <th>OBJECTID_12</th>\n",
       "      <th>Join_Count</th>\n",
       "      <th>TARGET_FID</th>\n",
       "      <th>CT20</th>\n",
       "      <th>LABEL</th>\n",
       "      <th>NAME</th>\n",
       "      <th>SUP_NAME</th>\n",
       "      <th>DIST_SUP</th>\n",
       "      <th>CITYNAME_ALF</th>\n",
       "      <th>NAME_1</th>\n",
       "      <th>JURISDICTION</th>\n",
       "      <th>AREA_NUM</th>\n",
       "      <th>AREA_NAME</th>\n",
       "      <th>Shape__Area</th>\n",
       "      <th>Shape__Length</th>\n",
       "    </tr>\n",
       "  </thead>\n",
       "  <tbody>\n",
       "    <tr>\n",
       "      <th>0</th>\n",
       "      <td>1</td>\n",
       "      <td>1</td>\n",
       "      <td>1</td>\n",
       "      <td>101110</td>\n",
       "      <td>1011.10</td>\n",
       "      <td>5TH SUP. DISTRICT</td>\n",
       "      <td>5TH DISTRICT: KATHRYN BARGER</td>\n",
       "      <td>5</td>\n",
       "      <td>LOS ANGELES</td>\n",
       "      <td>NaN</td>\n",
       "      <td>INCORPORATED CITY</td>\n",
       "      <td>3</td>\n",
       "      <td>San Fernando Valley Planning Area</td>\n",
       "      <td>1.676519e+06</td>\n",
       "      <td>5565.411341</td>\n",
       "    </tr>\n",
       "    <tr>\n",
       "      <th>1</th>\n",
       "      <td>2</td>\n",
       "      <td>1</td>\n",
       "      <td>2</td>\n",
       "      <td>101122</td>\n",
       "      <td>1011.22</td>\n",
       "      <td>5TH SUP. DISTRICT</td>\n",
       "      <td>5TH DISTRICT: KATHRYN BARGER</td>\n",
       "      <td>5</td>\n",
       "      <td>LOS ANGELES</td>\n",
       "      <td>NaN</td>\n",
       "      <td>INCORPORATED CITY</td>\n",
       "      <td>3</td>\n",
       "      <td>San Fernando Valley Planning Area</td>\n",
       "      <td>3.881001e+06</td>\n",
       "      <td>11695.304277</td>\n",
       "    </tr>\n",
       "    <tr>\n",
       "      <th>2</th>\n",
       "      <td>3</td>\n",
       "      <td>1</td>\n",
       "      <td>3</td>\n",
       "      <td>101220</td>\n",
       "      <td>1012.20</td>\n",
       "      <td>5TH SUP. DISTRICT</td>\n",
       "      <td>5TH DISTRICT: KATHRYN BARGER</td>\n",
       "      <td>5</td>\n",
       "      <td>LOS ANGELES</td>\n",
       "      <td>NaN</td>\n",
       "      <td>INCORPORATED CITY</td>\n",
       "      <td>3</td>\n",
       "      <td>San Fernando Valley Planning Area</td>\n",
       "      <td>1.025452e+06</td>\n",
       "      <td>4688.607147</td>\n",
       "    </tr>\n",
       "    <tr>\n",
       "      <th>3</th>\n",
       "      <td>4</td>\n",
       "      <td>1</td>\n",
       "      <td>4</td>\n",
       "      <td>101221</td>\n",
       "      <td>1012.21</td>\n",
       "      <td>5TH SUP. DISTRICT</td>\n",
       "      <td>5TH DISTRICT: KATHRYN BARGER</td>\n",
       "      <td>5</td>\n",
       "      <td>LOS ANGELES</td>\n",
       "      <td>NaN</td>\n",
       "      <td>INCORPORATED CITY</td>\n",
       "      <td>3</td>\n",
       "      <td>San Fernando Valley Planning Area</td>\n",
       "      <td>5.197057e+05</td>\n",
       "      <td>3378.824327</td>\n",
       "    </tr>\n",
       "    <tr>\n",
       "      <th>4</th>\n",
       "      <td>5</td>\n",
       "      <td>1</td>\n",
       "      <td>5</td>\n",
       "      <td>101222</td>\n",
       "      <td>1012.22</td>\n",
       "      <td>5TH SUP. DISTRICT</td>\n",
       "      <td>5TH DISTRICT: KATHRYN BARGER</td>\n",
       "      <td>5</td>\n",
       "      <td>LOS ANGELES</td>\n",
       "      <td>NaN</td>\n",
       "      <td>INCORPORATED CITY</td>\n",
       "      <td>3</td>\n",
       "      <td>San Fernando Valley Planning Area</td>\n",
       "      <td>4.350619e+05</td>\n",
       "      <td>3685.233312</td>\n",
       "    </tr>\n",
       "    <tr>\n",
       "      <th>...</th>\n",
       "      <td>...</td>\n",
       "      <td>...</td>\n",
       "      <td>...</td>\n",
       "      <td>...</td>\n",
       "      <td>...</td>\n",
       "      <td>...</td>\n",
       "      <td>...</td>\n",
       "      <td>...</td>\n",
       "      <td>...</td>\n",
       "      <td>...</td>\n",
       "      <td>...</td>\n",
       "      <td>...</td>\n",
       "      <td>...</td>\n",
       "      <td>...</td>\n",
       "      <td>...</td>\n",
       "    </tr>\n",
       "    <tr>\n",
       "      <th>443</th>\n",
       "      <td>2468</td>\n",
       "      <td>2</td>\n",
       "      <td>2468</td>\n",
       "      <td>980009</td>\n",
       "      <td>9800.09</td>\n",
       "      <td>5TH SUP. DISTRICT</td>\n",
       "      <td>5TH DISTRICT: KATHRYN BARGER</td>\n",
       "      <td>5</td>\n",
       "      <td>LOS ANGELES</td>\n",
       "      <td>NaN</td>\n",
       "      <td>INCORPORATED CITY</td>\n",
       "      <td>3</td>\n",
       "      <td>Metro Planning Area</td>\n",
       "      <td>3.111583e+07</td>\n",
       "      <td>29917.249730</td>\n",
       "    </tr>\n",
       "    <tr>\n",
       "      <th>444</th>\n",
       "      <td>2479</td>\n",
       "      <td>1</td>\n",
       "      <td>2479</td>\n",
       "      <td>980020</td>\n",
       "      <td>9800.20</td>\n",
       "      <td>5TH SUP. DISTRICT</td>\n",
       "      <td>5TH DISTRICT: KATHRYN BARGER</td>\n",
       "      <td>5</td>\n",
       "      <td>LOS ANGELES</td>\n",
       "      <td>NaN</td>\n",
       "      <td>INCORPORATED CITY</td>\n",
       "      <td>3</td>\n",
       "      <td>San Fernando Valley Planning Area</td>\n",
       "      <td>1.251160e+07</td>\n",
       "      <td>22316.623372</td>\n",
       "    </tr>\n",
       "    <tr>\n",
       "      <th>445</th>\n",
       "      <td>2480</td>\n",
       "      <td>2</td>\n",
       "      <td>2480</td>\n",
       "      <td>980021</td>\n",
       "      <td>9800.21</td>\n",
       "      <td>5TH SUP. DISTRICT</td>\n",
       "      <td>5TH DISTRICT: KATHRYN BARGER</td>\n",
       "      <td>5</td>\n",
       "      <td>LOS ANGELES</td>\n",
       "      <td>NaN</td>\n",
       "      <td>INCORPORATED CITY</td>\n",
       "      <td>3</td>\n",
       "      <td>San Fernando Valley Planning Area</td>\n",
       "      <td>1.019501e+07</td>\n",
       "      <td>18963.319732</td>\n",
       "    </tr>\n",
       "    <tr>\n",
       "      <th>446</th>\n",
       "      <td>2485</td>\n",
       "      <td>1</td>\n",
       "      <td>2485</td>\n",
       "      <td>980026</td>\n",
       "      <td>9800.26</td>\n",
       "      <td>5TH SUP. DISTRICT</td>\n",
       "      <td>5TH DISTRICT: KATHRYN BARGER</td>\n",
       "      <td>5</td>\n",
       "      <td>LOS ANGELES</td>\n",
       "      <td>NaN</td>\n",
       "      <td>INCORPORATED CITY</td>\n",
       "      <td>1</td>\n",
       "      <td>San Fernando Valley Planning Area</td>\n",
       "      <td>2.040772e+07</td>\n",
       "      <td>37925.072334</td>\n",
       "    </tr>\n",
       "    <tr>\n",
       "      <th>447</th>\n",
       "      <td>2495</td>\n",
       "      <td>1</td>\n",
       "      <td>2495</td>\n",
       "      <td>980039</td>\n",
       "      <td>9800.39</td>\n",
       "      <td>5TH SUP. DISTRICT</td>\n",
       "      <td>5TH DISTRICT: KATHRYN BARGER</td>\n",
       "      <td>5</td>\n",
       "      <td>NaN</td>\n",
       "      <td>UNIVERSAL CITY</td>\n",
       "      <td>UNINCORPORATED AREA</td>\n",
       "      <td>3</td>\n",
       "      <td>San Fernando Valley Planning Area</td>\n",
       "      <td>1.990662e+06</td>\n",
       "      <td>7196.703430</td>\n",
       "    </tr>\n",
       "  </tbody>\n",
       "</table>\n",
       "<p>448 rows × 15 columns</p>\n",
       "</div>"
      ],
      "text/plain": [
       "     OBJECTID_12  Join_Count  TARGET_FID    CT20    LABEL               NAME  \\\n",
       "0              1           1           1  101110  1011.10  5TH SUP. DISTRICT   \n",
       "1              2           1           2  101122  1011.22  5TH SUP. DISTRICT   \n",
       "2              3           1           3  101220  1012.20  5TH SUP. DISTRICT   \n",
       "3              4           1           4  101221  1012.21  5TH SUP. DISTRICT   \n",
       "4              5           1           5  101222  1012.22  5TH SUP. DISTRICT   \n",
       "..           ...         ...         ...     ...      ...                ...   \n",
       "443         2468           2        2468  980009  9800.09  5TH SUP. DISTRICT   \n",
       "444         2479           1        2479  980020  9800.20  5TH SUP. DISTRICT   \n",
       "445         2480           2        2480  980021  9800.21  5TH SUP. DISTRICT   \n",
       "446         2485           1        2485  980026  9800.26  5TH SUP. DISTRICT   \n",
       "447         2495           1        2495  980039  9800.39  5TH SUP. DISTRICT   \n",
       "\n",
       "                         SUP_NAME  DIST_SUP CITYNAME_ALF          NAME_1  \\\n",
       "0    5TH DISTRICT: KATHRYN BARGER         5  LOS ANGELES             NaN   \n",
       "1    5TH DISTRICT: KATHRYN BARGER         5  LOS ANGELES             NaN   \n",
       "2    5TH DISTRICT: KATHRYN BARGER         5  LOS ANGELES             NaN   \n",
       "3    5TH DISTRICT: KATHRYN BARGER         5  LOS ANGELES             NaN   \n",
       "4    5TH DISTRICT: KATHRYN BARGER         5  LOS ANGELES             NaN   \n",
       "..                            ...       ...          ...             ...   \n",
       "443  5TH DISTRICT: KATHRYN BARGER         5  LOS ANGELES             NaN   \n",
       "444  5TH DISTRICT: KATHRYN BARGER         5  LOS ANGELES             NaN   \n",
       "445  5TH DISTRICT: KATHRYN BARGER         5  LOS ANGELES             NaN   \n",
       "446  5TH DISTRICT: KATHRYN BARGER         5  LOS ANGELES             NaN   \n",
       "447  5TH DISTRICT: KATHRYN BARGER         5          NaN  UNIVERSAL CITY   \n",
       "\n",
       "            JURISDICTION  AREA_NUM                          AREA_NAME  \\\n",
       "0      INCORPORATED CITY         3  San Fernando Valley Planning Area   \n",
       "1      INCORPORATED CITY         3  San Fernando Valley Planning Area   \n",
       "2      INCORPORATED CITY         3  San Fernando Valley Planning Area   \n",
       "3      INCORPORATED CITY         3  San Fernando Valley Planning Area   \n",
       "4      INCORPORATED CITY         3  San Fernando Valley Planning Area   \n",
       "..                   ...       ...                                ...   \n",
       "443    INCORPORATED CITY         3                Metro Planning Area   \n",
       "444    INCORPORATED CITY         3  San Fernando Valley Planning Area   \n",
       "445    INCORPORATED CITY         3  San Fernando Valley Planning Area   \n",
       "446    INCORPORATED CITY         1  San Fernando Valley Planning Area   \n",
       "447  UNINCORPORATED AREA         3  San Fernando Valley Planning Area   \n",
       "\n",
       "      Shape__Area  Shape__Length  \n",
       "0    1.676519e+06    5565.411341  \n",
       "1    3.881001e+06   11695.304277  \n",
       "2    1.025452e+06    4688.607147  \n",
       "3    5.197057e+05    3378.824327  \n",
       "4    4.350619e+05    3685.233312  \n",
       "..            ...            ...  \n",
       "443  3.111583e+07   29917.249730  \n",
       "444  1.251160e+07   22316.623372  \n",
       "445  1.019501e+07   18963.319732  \n",
       "446  2.040772e+07   37925.072334  \n",
       "447  1.990662e+06    7196.703430  \n",
       "\n",
       "[448 rows x 15 columns]"
      ]
     },
     "execution_count": 15,
     "metadata": {},
     "output_type": "execute_result"
    }
   ],
   "source": [
    "District5 = pd.read_csv('data/District5 (1) (1).csv',\n",
    "    dtype =\n",
    "    {\n",
    "        'CT20':str,\n",
    "    }\n",
    " )\n",
    "District5"
   ]
  },
  {
   "cell_type": "code",
   "execution_count": 16,
   "id": "cb4e7e04-4c00-4ba6-99d3-3ed3dc1f9f05",
   "metadata": {
    "executionInfo": {
     "elapsed": 14,
     "status": "aborted",
     "timestamp": 1707737012188,
     "user": {
      "displayName": "Rodrigo Gutierrez",
      "userId": "04409930615507589682"
     },
     "user_tz": 480
    },
    "id": "cb4e7e04-4c00-4ba6-99d3-3ed3dc1f9f05"
   },
   "outputs": [],
   "source": [
    "District5['FIPS'] = '06' + '037' + District5['CT20']"
   ]
  },
  {
   "cell_type": "code",
   "execution_count": 17,
   "id": "c0cf3866-c3f8-4f6c-a3ef-6c1f1ccd783d",
   "metadata": {
    "executionInfo": {
     "elapsed": 7048,
     "status": "aborted",
     "timestamp": 1707737012189,
     "user": {
      "displayName": "Rodrigo Gutierrez",
      "userId": "04409930615507589682"
     },
     "user_tz": 480
    },
    "id": "c0cf3866-c3f8-4f6c-a3ef-6c1f1ccd783d"
   },
   "outputs": [
    {
     "data": {
      "text/html": [
       "<div>\n",
       "<style scoped>\n",
       "    .dataframe tbody tr th:only-of-type {\n",
       "        vertical-align: middle;\n",
       "    }\n",
       "\n",
       "    .dataframe tbody tr th {\n",
       "        vertical-align: top;\n",
       "    }\n",
       "\n",
       "    .dataframe thead th {\n",
       "        text-align: right;\n",
       "    }\n",
       "</style>\n",
       "<table border=\"1\" class=\"dataframe\">\n",
       "  <thead>\n",
       "    <tr style=\"text-align: right;\">\n",
       "      <th></th>\n",
       "      <th>OBJECTID_12</th>\n",
       "      <th>Join_Count</th>\n",
       "      <th>TARGET_FID</th>\n",
       "      <th>CT20</th>\n",
       "      <th>LABEL</th>\n",
       "      <th>NAME</th>\n",
       "      <th>SUP_NAME</th>\n",
       "      <th>DIST_SUP</th>\n",
       "      <th>CITYNAME_ALF</th>\n",
       "      <th>NAME_1</th>\n",
       "      <th>JURISDICTION</th>\n",
       "      <th>AREA_NUM</th>\n",
       "      <th>AREA_NAME</th>\n",
       "      <th>Shape__Area</th>\n",
       "      <th>Shape__Length</th>\n",
       "      <th>FIPS</th>\n",
       "    </tr>\n",
       "  </thead>\n",
       "  <tbody>\n",
       "    <tr>\n",
       "      <th>0</th>\n",
       "      <td>1</td>\n",
       "      <td>1</td>\n",
       "      <td>1</td>\n",
       "      <td>101110</td>\n",
       "      <td>1011.10</td>\n",
       "      <td>5TH SUP. DISTRICT</td>\n",
       "      <td>5TH DISTRICT: KATHRYN BARGER</td>\n",
       "      <td>5</td>\n",
       "      <td>LOS ANGELES</td>\n",
       "      <td>NaN</td>\n",
       "      <td>INCORPORATED CITY</td>\n",
       "      <td>3</td>\n",
       "      <td>San Fernando Valley Planning Area</td>\n",
       "      <td>1.676519e+06</td>\n",
       "      <td>5565.411341</td>\n",
       "      <td>06037101110</td>\n",
       "    </tr>\n",
       "    <tr>\n",
       "      <th>1</th>\n",
       "      <td>2</td>\n",
       "      <td>1</td>\n",
       "      <td>2</td>\n",
       "      <td>101122</td>\n",
       "      <td>1011.22</td>\n",
       "      <td>5TH SUP. DISTRICT</td>\n",
       "      <td>5TH DISTRICT: KATHRYN BARGER</td>\n",
       "      <td>5</td>\n",
       "      <td>LOS ANGELES</td>\n",
       "      <td>NaN</td>\n",
       "      <td>INCORPORATED CITY</td>\n",
       "      <td>3</td>\n",
       "      <td>San Fernando Valley Planning Area</td>\n",
       "      <td>3.881001e+06</td>\n",
       "      <td>11695.304277</td>\n",
       "      <td>06037101122</td>\n",
       "    </tr>\n",
       "    <tr>\n",
       "      <th>2</th>\n",
       "      <td>3</td>\n",
       "      <td>1</td>\n",
       "      <td>3</td>\n",
       "      <td>101220</td>\n",
       "      <td>1012.20</td>\n",
       "      <td>5TH SUP. DISTRICT</td>\n",
       "      <td>5TH DISTRICT: KATHRYN BARGER</td>\n",
       "      <td>5</td>\n",
       "      <td>LOS ANGELES</td>\n",
       "      <td>NaN</td>\n",
       "      <td>INCORPORATED CITY</td>\n",
       "      <td>3</td>\n",
       "      <td>San Fernando Valley Planning Area</td>\n",
       "      <td>1.025452e+06</td>\n",
       "      <td>4688.607147</td>\n",
       "      <td>06037101220</td>\n",
       "    </tr>\n",
       "    <tr>\n",
       "      <th>3</th>\n",
       "      <td>4</td>\n",
       "      <td>1</td>\n",
       "      <td>4</td>\n",
       "      <td>101221</td>\n",
       "      <td>1012.21</td>\n",
       "      <td>5TH SUP. DISTRICT</td>\n",
       "      <td>5TH DISTRICT: KATHRYN BARGER</td>\n",
       "      <td>5</td>\n",
       "      <td>LOS ANGELES</td>\n",
       "      <td>NaN</td>\n",
       "      <td>INCORPORATED CITY</td>\n",
       "      <td>3</td>\n",
       "      <td>San Fernando Valley Planning Area</td>\n",
       "      <td>5.197057e+05</td>\n",
       "      <td>3378.824327</td>\n",
       "      <td>06037101221</td>\n",
       "    </tr>\n",
       "    <tr>\n",
       "      <th>4</th>\n",
       "      <td>5</td>\n",
       "      <td>1</td>\n",
       "      <td>5</td>\n",
       "      <td>101222</td>\n",
       "      <td>1012.22</td>\n",
       "      <td>5TH SUP. DISTRICT</td>\n",
       "      <td>5TH DISTRICT: KATHRYN BARGER</td>\n",
       "      <td>5</td>\n",
       "      <td>LOS ANGELES</td>\n",
       "      <td>NaN</td>\n",
       "      <td>INCORPORATED CITY</td>\n",
       "      <td>3</td>\n",
       "      <td>San Fernando Valley Planning Area</td>\n",
       "      <td>4.350619e+05</td>\n",
       "      <td>3685.233312</td>\n",
       "      <td>06037101222</td>\n",
       "    </tr>\n",
       "    <tr>\n",
       "      <th>...</th>\n",
       "      <td>...</td>\n",
       "      <td>...</td>\n",
       "      <td>...</td>\n",
       "      <td>...</td>\n",
       "      <td>...</td>\n",
       "      <td>...</td>\n",
       "      <td>...</td>\n",
       "      <td>...</td>\n",
       "      <td>...</td>\n",
       "      <td>...</td>\n",
       "      <td>...</td>\n",
       "      <td>...</td>\n",
       "      <td>...</td>\n",
       "      <td>...</td>\n",
       "      <td>...</td>\n",
       "      <td>...</td>\n",
       "    </tr>\n",
       "    <tr>\n",
       "      <th>443</th>\n",
       "      <td>2468</td>\n",
       "      <td>2</td>\n",
       "      <td>2468</td>\n",
       "      <td>980009</td>\n",
       "      <td>9800.09</td>\n",
       "      <td>5TH SUP. DISTRICT</td>\n",
       "      <td>5TH DISTRICT: KATHRYN BARGER</td>\n",
       "      <td>5</td>\n",
       "      <td>LOS ANGELES</td>\n",
       "      <td>NaN</td>\n",
       "      <td>INCORPORATED CITY</td>\n",
       "      <td>3</td>\n",
       "      <td>Metro Planning Area</td>\n",
       "      <td>3.111583e+07</td>\n",
       "      <td>29917.249730</td>\n",
       "      <td>06037980009</td>\n",
       "    </tr>\n",
       "    <tr>\n",
       "      <th>444</th>\n",
       "      <td>2479</td>\n",
       "      <td>1</td>\n",
       "      <td>2479</td>\n",
       "      <td>980020</td>\n",
       "      <td>9800.20</td>\n",
       "      <td>5TH SUP. DISTRICT</td>\n",
       "      <td>5TH DISTRICT: KATHRYN BARGER</td>\n",
       "      <td>5</td>\n",
       "      <td>LOS ANGELES</td>\n",
       "      <td>NaN</td>\n",
       "      <td>INCORPORATED CITY</td>\n",
       "      <td>3</td>\n",
       "      <td>San Fernando Valley Planning Area</td>\n",
       "      <td>1.251160e+07</td>\n",
       "      <td>22316.623372</td>\n",
       "      <td>06037980020</td>\n",
       "    </tr>\n",
       "    <tr>\n",
       "      <th>445</th>\n",
       "      <td>2480</td>\n",
       "      <td>2</td>\n",
       "      <td>2480</td>\n",
       "      <td>980021</td>\n",
       "      <td>9800.21</td>\n",
       "      <td>5TH SUP. DISTRICT</td>\n",
       "      <td>5TH DISTRICT: KATHRYN BARGER</td>\n",
       "      <td>5</td>\n",
       "      <td>LOS ANGELES</td>\n",
       "      <td>NaN</td>\n",
       "      <td>INCORPORATED CITY</td>\n",
       "      <td>3</td>\n",
       "      <td>San Fernando Valley Planning Area</td>\n",
       "      <td>1.019501e+07</td>\n",
       "      <td>18963.319732</td>\n",
       "      <td>06037980021</td>\n",
       "    </tr>\n",
       "    <tr>\n",
       "      <th>446</th>\n",
       "      <td>2485</td>\n",
       "      <td>1</td>\n",
       "      <td>2485</td>\n",
       "      <td>980026</td>\n",
       "      <td>9800.26</td>\n",
       "      <td>5TH SUP. DISTRICT</td>\n",
       "      <td>5TH DISTRICT: KATHRYN BARGER</td>\n",
       "      <td>5</td>\n",
       "      <td>LOS ANGELES</td>\n",
       "      <td>NaN</td>\n",
       "      <td>INCORPORATED CITY</td>\n",
       "      <td>1</td>\n",
       "      <td>San Fernando Valley Planning Area</td>\n",
       "      <td>2.040772e+07</td>\n",
       "      <td>37925.072334</td>\n",
       "      <td>06037980026</td>\n",
       "    </tr>\n",
       "    <tr>\n",
       "      <th>447</th>\n",
       "      <td>2495</td>\n",
       "      <td>1</td>\n",
       "      <td>2495</td>\n",
       "      <td>980039</td>\n",
       "      <td>9800.39</td>\n",
       "      <td>5TH SUP. DISTRICT</td>\n",
       "      <td>5TH DISTRICT: KATHRYN BARGER</td>\n",
       "      <td>5</td>\n",
       "      <td>NaN</td>\n",
       "      <td>UNIVERSAL CITY</td>\n",
       "      <td>UNINCORPORATED AREA</td>\n",
       "      <td>3</td>\n",
       "      <td>San Fernando Valley Planning Area</td>\n",
       "      <td>1.990662e+06</td>\n",
       "      <td>7196.703430</td>\n",
       "      <td>06037980039</td>\n",
       "    </tr>\n",
       "  </tbody>\n",
       "</table>\n",
       "<p>448 rows × 16 columns</p>\n",
       "</div>"
      ],
      "text/plain": [
       "     OBJECTID_12  Join_Count  TARGET_FID    CT20    LABEL               NAME  \\\n",
       "0              1           1           1  101110  1011.10  5TH SUP. DISTRICT   \n",
       "1              2           1           2  101122  1011.22  5TH SUP. DISTRICT   \n",
       "2              3           1           3  101220  1012.20  5TH SUP. DISTRICT   \n",
       "3              4           1           4  101221  1012.21  5TH SUP. DISTRICT   \n",
       "4              5           1           5  101222  1012.22  5TH SUP. DISTRICT   \n",
       "..           ...         ...         ...     ...      ...                ...   \n",
       "443         2468           2        2468  980009  9800.09  5TH SUP. DISTRICT   \n",
       "444         2479           1        2479  980020  9800.20  5TH SUP. DISTRICT   \n",
       "445         2480           2        2480  980021  9800.21  5TH SUP. DISTRICT   \n",
       "446         2485           1        2485  980026  9800.26  5TH SUP. DISTRICT   \n",
       "447         2495           1        2495  980039  9800.39  5TH SUP. DISTRICT   \n",
       "\n",
       "                         SUP_NAME  DIST_SUP CITYNAME_ALF          NAME_1  \\\n",
       "0    5TH DISTRICT: KATHRYN BARGER         5  LOS ANGELES             NaN   \n",
       "1    5TH DISTRICT: KATHRYN BARGER         5  LOS ANGELES             NaN   \n",
       "2    5TH DISTRICT: KATHRYN BARGER         5  LOS ANGELES             NaN   \n",
       "3    5TH DISTRICT: KATHRYN BARGER         5  LOS ANGELES             NaN   \n",
       "4    5TH DISTRICT: KATHRYN BARGER         5  LOS ANGELES             NaN   \n",
       "..                            ...       ...          ...             ...   \n",
       "443  5TH DISTRICT: KATHRYN BARGER         5  LOS ANGELES             NaN   \n",
       "444  5TH DISTRICT: KATHRYN BARGER         5  LOS ANGELES             NaN   \n",
       "445  5TH DISTRICT: KATHRYN BARGER         5  LOS ANGELES             NaN   \n",
       "446  5TH DISTRICT: KATHRYN BARGER         5  LOS ANGELES             NaN   \n",
       "447  5TH DISTRICT: KATHRYN BARGER         5          NaN  UNIVERSAL CITY   \n",
       "\n",
       "            JURISDICTION  AREA_NUM                          AREA_NAME  \\\n",
       "0      INCORPORATED CITY         3  San Fernando Valley Planning Area   \n",
       "1      INCORPORATED CITY         3  San Fernando Valley Planning Area   \n",
       "2      INCORPORATED CITY         3  San Fernando Valley Planning Area   \n",
       "3      INCORPORATED CITY         3  San Fernando Valley Planning Area   \n",
       "4      INCORPORATED CITY         3  San Fernando Valley Planning Area   \n",
       "..                   ...       ...                                ...   \n",
       "443    INCORPORATED CITY         3                Metro Planning Area   \n",
       "444    INCORPORATED CITY         3  San Fernando Valley Planning Area   \n",
       "445    INCORPORATED CITY         3  San Fernando Valley Planning Area   \n",
       "446    INCORPORATED CITY         1  San Fernando Valley Planning Area   \n",
       "447  UNINCORPORATED AREA         3  San Fernando Valley Planning Area   \n",
       "\n",
       "      Shape__Area  Shape__Length         FIPS  \n",
       "0    1.676519e+06    5565.411341  06037101110  \n",
       "1    3.881001e+06   11695.304277  06037101122  \n",
       "2    1.025452e+06    4688.607147  06037101220  \n",
       "3    5.197057e+05    3378.824327  06037101221  \n",
       "4    4.350619e+05    3685.233312  06037101222  \n",
       "..            ...            ...          ...  \n",
       "443  3.111583e+07   29917.249730  06037980009  \n",
       "444  1.251160e+07   22316.623372  06037980020  \n",
       "445  1.019501e+07   18963.319732  06037980021  \n",
       "446  2.040772e+07   37925.072334  06037980026  \n",
       "447  1.990662e+06    7196.703430  06037980039  \n",
       "\n",
       "[448 rows x 16 columns]"
      ]
     },
     "execution_count": 17,
     "metadata": {},
     "output_type": "execute_result"
    }
   ],
   "source": [
    "District5"
   ]
  },
  {
   "cell_type": "code",
   "execution_count": 18,
   "id": "19e48106-35bd-4ffd-8d4b-1ed53cd0c15b",
   "metadata": {
    "executionInfo": {
     "elapsed": 7047,
     "status": "aborted",
     "timestamp": 1707737012189,
     "user": {
      "displayName": "Rodrigo Gutierrez",
      "userId": "04409930615507589682"
     },
     "user_tz": 480
    },
    "id": "19e48106-35bd-4ffd-8d4b-1ed53cd0c15b"
   },
   "outputs": [],
   "source": [
    "## Here I am merging District 5 and the tracts data on the 'FIPS' column."
   ]
  },
  {
   "cell_type": "code",
   "execution_count": 19,
   "id": "e4eb93a3-e445-4bb0-a413-93e1bac773d5",
   "metadata": {
    "executionInfo": {
     "elapsed": 7047,
     "status": "aborted",
     "timestamp": 1707737012190,
     "user": {
      "displayName": "Rodrigo Gutierrez",
      "userId": "04409930615507589682"
     },
     "user_tz": 480
    },
    "id": "e4eb93a3-e445-4bb0-a413-93e1bac773d5"
   },
   "outputs": [],
   "source": [
    "Dis5tracts = tracts.merge(District5, on = 'FIPS')"
   ]
  },
  {
   "cell_type": "code",
   "execution_count": 20,
   "id": "f088057a-b5ef-47e2-ac07-e2910918e231",
   "metadata": {
    "executionInfo": {
     "elapsed": 7046,
     "status": "aborted",
     "timestamp": 1707737012190,
     "user": {
      "displayName": "Rodrigo Gutierrez",
      "userId": "04409930615507589682"
     },
     "user_tz": 480
    },
    "id": "f088057a-b5ef-47e2-ac07-e2910918e231"
   },
   "outputs": [],
   "source": [
    "## Previewing the data, looks like they merged good."
   ]
  },
  {
   "cell_type": "code",
   "execution_count": 21,
   "id": "984dfa6c-8fd0-46b1-affa-429aba63f4b1",
   "metadata": {
    "executionInfo": {
     "elapsed": 7041,
     "status": "aborted",
     "timestamp": 1707737012191,
     "user": {
      "displayName": "Rodrigo Gutierrez",
      "userId": "04409930615507589682"
     },
     "user_tz": 480
    },
    "id": "984dfa6c-8fd0-46b1-affa-429aba63f4b1"
   },
   "outputs": [
    {
     "data": {
      "text/html": [
       "<div>\n",
       "<style scoped>\n",
       "    .dataframe tbody tr th:only-of-type {\n",
       "        vertical-align: middle;\n",
       "    }\n",
       "\n",
       "    .dataframe tbody tr th {\n",
       "        vertical-align: top;\n",
       "    }\n",
       "\n",
       "    .dataframe thead th {\n",
       "        text-align: right;\n",
       "    }\n",
       "</style>\n",
       "<table border=\"1\" class=\"dataframe\">\n",
       "  <thead>\n",
       "    <tr style=\"text-align: right;\">\n",
       "      <th></th>\n",
       "      <th>OBJECTID</th>\n",
       "      <th>CT20_x</th>\n",
       "      <th>LABEL_x</th>\n",
       "      <th>ShapeSTArea</th>\n",
       "      <th>ShapeSTLength</th>\n",
       "      <th>geometry</th>\n",
       "      <th>FIPS</th>\n",
       "      <th>OBJECTID_12</th>\n",
       "      <th>Join_Count</th>\n",
       "      <th>TARGET_FID</th>\n",
       "      <th>...</th>\n",
       "      <th>NAME</th>\n",
       "      <th>SUP_NAME</th>\n",
       "      <th>DIST_SUP</th>\n",
       "      <th>CITYNAME_ALF</th>\n",
       "      <th>NAME_1</th>\n",
       "      <th>JURISDICTION</th>\n",
       "      <th>AREA_NUM</th>\n",
       "      <th>AREA_NAME</th>\n",
       "      <th>Shape__Area</th>\n",
       "      <th>Shape__Length</th>\n",
       "    </tr>\n",
       "  </thead>\n",
       "  <tbody>\n",
       "    <tr>\n",
       "      <th>0</th>\n",
       "      <td>4992</td>\n",
       "      <td>101110</td>\n",
       "      <td>1011.10</td>\n",
       "      <td>1.229562e+07</td>\n",
       "      <td>15083.854287</td>\n",
       "      <td>POLYGON ((-118.29793 34.26323, -118.30082 34.2...</td>\n",
       "      <td>06037101110</td>\n",
       "      <td>1</td>\n",
       "      <td>1</td>\n",
       "      <td>1</td>\n",
       "      <td>...</td>\n",
       "      <td>5TH SUP. DISTRICT</td>\n",
       "      <td>5TH DISTRICT: KATHRYN BARGER</td>\n",
       "      <td>5</td>\n",
       "      <td>LOS ANGELES</td>\n",
       "      <td>NaN</td>\n",
       "      <td>INCORPORATED CITY</td>\n",
       "      <td>3</td>\n",
       "      <td>San Fernando Valley Planning Area</td>\n",
       "      <td>1.676519e+06</td>\n",
       "      <td>5565.411341</td>\n",
       "    </tr>\n",
       "    <tr>\n",
       "      <th>1</th>\n",
       "      <td>4993</td>\n",
       "      <td>101122</td>\n",
       "      <td>1011.22</td>\n",
       "      <td>2.845774e+07</td>\n",
       "      <td>31671.455844</td>\n",
       "      <td>POLYGON ((-118.27743 34.25991, -118.27743 34.2...</td>\n",
       "      <td>06037101122</td>\n",
       "      <td>2</td>\n",
       "      <td>1</td>\n",
       "      <td>2</td>\n",
       "      <td>...</td>\n",
       "      <td>5TH SUP. DISTRICT</td>\n",
       "      <td>5TH DISTRICT: KATHRYN BARGER</td>\n",
       "      <td>5</td>\n",
       "      <td>LOS ANGELES</td>\n",
       "      <td>NaN</td>\n",
       "      <td>INCORPORATED CITY</td>\n",
       "      <td>3</td>\n",
       "      <td>San Fernando Valley Planning Area</td>\n",
       "      <td>3.881001e+06</td>\n",
       "      <td>11695.304277</td>\n",
       "    </tr>\n",
       "    <tr>\n",
       "      <th>2</th>\n",
       "      <td>4994</td>\n",
       "      <td>101220</td>\n",
       "      <td>1012.20</td>\n",
       "      <td>7.522093e+06</td>\n",
       "      <td>12698.783810</td>\n",
       "      <td>POLYGON ((-118.27818 34.25577, -118.27887 34.2...</td>\n",
       "      <td>06037101220</td>\n",
       "      <td>3</td>\n",
       "      <td>1</td>\n",
       "      <td>3</td>\n",
       "      <td>...</td>\n",
       "      <td>5TH SUP. DISTRICT</td>\n",
       "      <td>5TH DISTRICT: KATHRYN BARGER</td>\n",
       "      <td>5</td>\n",
       "      <td>LOS ANGELES</td>\n",
       "      <td>NaN</td>\n",
       "      <td>INCORPORATED CITY</td>\n",
       "      <td>3</td>\n",
       "      <td>San Fernando Valley Planning Area</td>\n",
       "      <td>1.025452e+06</td>\n",
       "      <td>4688.607147</td>\n",
       "    </tr>\n",
       "    <tr>\n",
       "      <th>3</th>\n",
       "      <td>4995</td>\n",
       "      <td>101221</td>\n",
       "      <td>1012.21</td>\n",
       "      <td>3.812000e+06</td>\n",
       "      <td>9161.710543</td>\n",
       "      <td>POLYGON ((-118.28735 34.25591, -118.28863 34.2...</td>\n",
       "      <td>06037101221</td>\n",
       "      <td>4</td>\n",
       "      <td>1</td>\n",
       "      <td>4</td>\n",
       "      <td>...</td>\n",
       "      <td>5TH SUP. DISTRICT</td>\n",
       "      <td>5TH DISTRICT: KATHRYN BARGER</td>\n",
       "      <td>5</td>\n",
       "      <td>LOS ANGELES</td>\n",
       "      <td>NaN</td>\n",
       "      <td>INCORPORATED CITY</td>\n",
       "      <td>3</td>\n",
       "      <td>San Fernando Valley Planning Area</td>\n",
       "      <td>5.197057e+05</td>\n",
       "      <td>3378.824327</td>\n",
       "    </tr>\n",
       "    <tr>\n",
       "      <th>4</th>\n",
       "      <td>4996</td>\n",
       "      <td>101222</td>\n",
       "      <td>1012.22</td>\n",
       "      <td>3.191371e+06</td>\n",
       "      <td>9980.600461</td>\n",
       "      <td>POLYGON ((-118.28594 34.25590, -118.28697 34.2...</td>\n",
       "      <td>06037101222</td>\n",
       "      <td>5</td>\n",
       "      <td>1</td>\n",
       "      <td>5</td>\n",
       "      <td>...</td>\n",
       "      <td>5TH SUP. DISTRICT</td>\n",
       "      <td>5TH DISTRICT: KATHRYN BARGER</td>\n",
       "      <td>5</td>\n",
       "      <td>LOS ANGELES</td>\n",
       "      <td>NaN</td>\n",
       "      <td>INCORPORATED CITY</td>\n",
       "      <td>3</td>\n",
       "      <td>San Fernando Valley Planning Area</td>\n",
       "      <td>4.350619e+05</td>\n",
       "      <td>3685.233312</td>\n",
       "    </tr>\n",
       "  </tbody>\n",
       "</table>\n",
       "<p>5 rows × 22 columns</p>\n",
       "</div>"
      ],
      "text/plain": [
       "   OBJECTID  CT20_x  LABEL_x   ShapeSTArea  ShapeSTLength  \\\n",
       "0      4992  101110  1011.10  1.229562e+07   15083.854287   \n",
       "1      4993  101122  1011.22  2.845774e+07   31671.455844   \n",
       "2      4994  101220  1012.20  7.522093e+06   12698.783810   \n",
       "3      4995  101221  1012.21  3.812000e+06    9161.710543   \n",
       "4      4996  101222  1012.22  3.191371e+06    9980.600461   \n",
       "\n",
       "                                            geometry         FIPS  \\\n",
       "0  POLYGON ((-118.29793 34.26323, -118.30082 34.2...  06037101110   \n",
       "1  POLYGON ((-118.27743 34.25991, -118.27743 34.2...  06037101122   \n",
       "2  POLYGON ((-118.27818 34.25577, -118.27887 34.2...  06037101220   \n",
       "3  POLYGON ((-118.28735 34.25591, -118.28863 34.2...  06037101221   \n",
       "4  POLYGON ((-118.28594 34.25590, -118.28697 34.2...  06037101222   \n",
       "\n",
       "   OBJECTID_12  Join_Count  TARGET_FID  ...               NAME  \\\n",
       "0            1           1           1  ...  5TH SUP. DISTRICT   \n",
       "1            2           1           2  ...  5TH SUP. DISTRICT   \n",
       "2            3           1           3  ...  5TH SUP. DISTRICT   \n",
       "3            4           1           4  ...  5TH SUP. DISTRICT   \n",
       "4            5           1           5  ...  5TH SUP. DISTRICT   \n",
       "\n",
       "                       SUP_NAME DIST_SUP CITYNAME_ALF  NAME_1  \\\n",
       "0  5TH DISTRICT: KATHRYN BARGER        5  LOS ANGELES     NaN   \n",
       "1  5TH DISTRICT: KATHRYN BARGER        5  LOS ANGELES     NaN   \n",
       "2  5TH DISTRICT: KATHRYN BARGER        5  LOS ANGELES     NaN   \n",
       "3  5TH DISTRICT: KATHRYN BARGER        5  LOS ANGELES     NaN   \n",
       "4  5TH DISTRICT: KATHRYN BARGER        5  LOS ANGELES     NaN   \n",
       "\n",
       "        JURISDICTION AREA_NUM                          AREA_NAME  \\\n",
       "0  INCORPORATED CITY        3  San Fernando Valley Planning Area   \n",
       "1  INCORPORATED CITY        3  San Fernando Valley Planning Area   \n",
       "2  INCORPORATED CITY        3  San Fernando Valley Planning Area   \n",
       "3  INCORPORATED CITY        3  San Fernando Valley Planning Area   \n",
       "4  INCORPORATED CITY        3  San Fernando Valley Planning Area   \n",
       "\n",
       "    Shape__Area Shape__Length  \n",
       "0  1.676519e+06   5565.411341  \n",
       "1  3.881001e+06  11695.304277  \n",
       "2  1.025452e+06   4688.607147  \n",
       "3  5.197057e+05   3378.824327  \n",
       "4  4.350619e+05   3685.233312  \n",
       "\n",
       "[5 rows x 22 columns]"
      ]
     },
     "execution_count": 21,
     "metadata": {},
     "output_type": "execute_result"
    }
   ],
   "source": [
    "Dis5tracts.head()"
   ]
  },
  {
   "cell_type": "code",
   "execution_count": 22,
   "id": "d3f5aa89-827f-43e3-8c7c-652956464b7b",
   "metadata": {
    "executionInfo": {
     "elapsed": 7040,
     "status": "aborted",
     "timestamp": 1707737012191,
     "user": {
      "displayName": "Rodrigo Gutierrez",
      "userId": "04409930615507589682"
     },
     "user_tz": 480
    },
    "id": "d3f5aa89-827f-43e3-8c7c-652956464b7b"
   },
   "outputs": [],
   "source": [
    "## Reading in my data set with the counts of unhoused individuals in LA County. I cleaned this data in Excel before reading in,\n",
    "## keeping only the columns with the tract number, location, and the counts for unsheltered, sheltered, and total population."
   ]
  },
  {
   "cell_type": "code",
   "execution_count": 23,
   "id": "a24fafdb-1105-473c-9787-ca148f2637cf",
   "metadata": {
    "executionInfo": {
     "elapsed": 6,
     "status": "aborted",
     "timestamp": 1707737012436,
     "user": {
      "displayName": "Rodrigo Gutierrez",
      "userId": "04409930615507589682"
     },
     "user_tz": 480
    },
    "id": "a24fafdb-1105-473c-9787-ca148f2637cf"
   },
   "outputs": [],
   "source": [
    "# I read in the column 'Tract Num' as a string in order to create a 'FIPS' number, necessary if I want to merge."
   ]
  },
  {
   "cell_type": "code",
   "execution_count": 24,
   "id": "a63d0a2b-dbb5-4419-acca-9dfb34088a98",
   "metadata": {
    "executionInfo": {
     "elapsed": 6,
     "status": "aborted",
     "timestamp": 1707737012436,
     "user": {
      "displayName": "Rodrigo Gutierrez",
      "userId": "04409930615507589682"
     },
     "user_tz": 480
    },
    "id": "a63d0a2b-dbb5-4419-acca-9dfb34088a98"
   },
   "outputs": [],
   "source": [
    "# I used the .head() function after to see how well the data was read, looks pretty good."
   ]
  },
  {
   "cell_type": "code",
   "execution_count": 25,
   "id": "90de7579-1654-46be-b851-ecd27a12a081",
   "metadata": {
    "executionInfo": {
     "elapsed": 7,
     "status": "aborted",
     "timestamp": 1707737012437,
     "user": {
      "displayName": "Rodrigo Gutierrez",
      "userId": "04409930615507589682"
     },
     "user_tz": 480
    },
    "id": "90de7579-1654-46be-b851-ecd27a12a081"
   },
   "outputs": [
    {
     "data": {
      "text/html": [
       "<div>\n",
       "<style scoped>\n",
       "    .dataframe tbody tr th:only-of-type {\n",
       "        vertical-align: middle;\n",
       "    }\n",
       "\n",
       "    .dataframe tbody tr th {\n",
       "        vertical-align: top;\n",
       "    }\n",
       "\n",
       "    .dataframe thead th {\n",
       "        text-align: right;\n",
       "    }\n",
       "</style>\n",
       "<table border=\"1\" class=\"dataframe\">\n",
       "  <thead>\n",
       "    <tr style=\"text-align: right;\">\n",
       "      <th></th>\n",
       "      <th>TractNum</th>\n",
       "      <th>Location</th>\n",
       "      <th>Total Unsheltered</th>\n",
       "      <th>Total Sheltered</th>\n",
       "      <th>Total Population</th>\n",
       "    </tr>\n",
       "  </thead>\n",
       "  <tbody>\n",
       "    <tr>\n",
       "      <th>0</th>\n",
       "      <td>101110</td>\n",
       "      <td>Sunland-Tujunga NC</td>\n",
       "      <td>12.614</td>\n",
       "      <td>0</td>\n",
       "      <td>12.614</td>\n",
       "    </tr>\n",
       "    <tr>\n",
       "      <th>1</th>\n",
       "      <td>101122</td>\n",
       "      <td>Sunland-Tujunga NC</td>\n",
       "      <td>1.000</td>\n",
       "      <td>0</td>\n",
       "      <td>1.000</td>\n",
       "    </tr>\n",
       "    <tr>\n",
       "      <th>2</th>\n",
       "      <td>101210</td>\n",
       "      <td>Sunland-Tujunga NC</td>\n",
       "      <td>14.517</td>\n",
       "      <td>0</td>\n",
       "      <td>14.517</td>\n",
       "    </tr>\n",
       "    <tr>\n",
       "      <th>3</th>\n",
       "      <td>101220</td>\n",
       "      <td>Sunland-Tujunga NC</td>\n",
       "      <td>24.058</td>\n",
       "      <td>0</td>\n",
       "      <td>24.058</td>\n",
       "    </tr>\n",
       "    <tr>\n",
       "      <th>4</th>\n",
       "      <td>101300</td>\n",
       "      <td>Sunland-Tujunga NC</td>\n",
       "      <td>9.278</td>\n",
       "      <td>0</td>\n",
       "      <td>9.278</td>\n",
       "    </tr>\n",
       "  </tbody>\n",
       "</table>\n",
       "</div>"
      ],
      "text/plain": [
       "  TractNum            Location  Total Unsheltered  Total Sheltered  \\\n",
       "0   101110  Sunland-Tujunga NC             12.614                0   \n",
       "1   101122  Sunland-Tujunga NC              1.000                0   \n",
       "2   101210  Sunland-Tujunga NC             14.517                0   \n",
       "3   101220  Sunland-Tujunga NC             24.058                0   \n",
       "4   101300  Sunland-Tujunga NC              9.278                0   \n",
       "\n",
       "   Total Population  \n",
       "0            12.614  \n",
       "1             1.000  \n",
       "2            14.517  \n",
       "3            24.058  \n",
       "4             9.278  "
      ]
     },
     "execution_count": 25,
     "metadata": {},
     "output_type": "execute_result"
    }
   ],
   "source": [
    "unhoused_count = pd.read_csv('data/unhoused.csv',\n",
    "    dtype =\n",
    "    {\n",
    "        'TractNum':str,\n",
    "    }\n",
    ")\n",
    "unhoused_count.head()"
   ]
  },
  {
   "cell_type": "code",
   "execution_count": 26,
   "id": "6d043c0f-435b-490f-b0ea-dafa914da57f",
   "metadata": {
    "executionInfo": {
     "elapsed": 6,
     "status": "aborted",
     "timestamp": 1707737012437,
     "user": {
      "displayName": "Rodrigo Gutierrez",
      "userId": "04409930615507589682"
     },
     "user_tz": 480
    },
    "id": "6d043c0f-435b-490f-b0ea-dafa914da57f"
   },
   "outputs": [],
   "source": [
    "## Creating 'FIPS' number for unhoused_count, previewing it to make sure there is a leading zero. Looks good."
   ]
  },
  {
   "cell_type": "code",
   "execution_count": 27,
   "id": "814180c6-8335-4de9-ba10-830a20e42741",
   "metadata": {
    "executionInfo": {
     "elapsed": 6,
     "status": "aborted",
     "timestamp": 1707737012437,
     "user": {
      "displayName": "Rodrigo Gutierrez",
      "userId": "04409930615507589682"
     },
     "user_tz": 480
    },
    "id": "814180c6-8335-4de9-ba10-830a20e42741"
   },
   "outputs": [
    {
     "data": {
      "text/html": [
       "<div>\n",
       "<style scoped>\n",
       "    .dataframe tbody tr th:only-of-type {\n",
       "        vertical-align: middle;\n",
       "    }\n",
       "\n",
       "    .dataframe tbody tr th {\n",
       "        vertical-align: top;\n",
       "    }\n",
       "\n",
       "    .dataframe thead th {\n",
       "        text-align: right;\n",
       "    }\n",
       "</style>\n",
       "<table border=\"1\" class=\"dataframe\">\n",
       "  <thead>\n",
       "    <tr style=\"text-align: right;\">\n",
       "      <th></th>\n",
       "      <th>TractNum</th>\n",
       "      <th>Location</th>\n",
       "      <th>Total Unsheltered</th>\n",
       "      <th>Total Sheltered</th>\n",
       "      <th>Total Population</th>\n",
       "      <th>FIPS</th>\n",
       "    </tr>\n",
       "  </thead>\n",
       "  <tbody>\n",
       "    <tr>\n",
       "      <th>0</th>\n",
       "      <td>101110</td>\n",
       "      <td>Sunland-Tujunga NC</td>\n",
       "      <td>12.614</td>\n",
       "      <td>0</td>\n",
       "      <td>12.614</td>\n",
       "      <td>06037101110</td>\n",
       "    </tr>\n",
       "    <tr>\n",
       "      <th>1</th>\n",
       "      <td>101122</td>\n",
       "      <td>Sunland-Tujunga NC</td>\n",
       "      <td>1.000</td>\n",
       "      <td>0</td>\n",
       "      <td>1.000</td>\n",
       "      <td>06037101122</td>\n",
       "    </tr>\n",
       "    <tr>\n",
       "      <th>2</th>\n",
       "      <td>101210</td>\n",
       "      <td>Sunland-Tujunga NC</td>\n",
       "      <td>14.517</td>\n",
       "      <td>0</td>\n",
       "      <td>14.517</td>\n",
       "      <td>06037101210</td>\n",
       "    </tr>\n",
       "    <tr>\n",
       "      <th>3</th>\n",
       "      <td>101220</td>\n",
       "      <td>Sunland-Tujunga NC</td>\n",
       "      <td>24.058</td>\n",
       "      <td>0</td>\n",
       "      <td>24.058</td>\n",
       "      <td>06037101220</td>\n",
       "    </tr>\n",
       "    <tr>\n",
       "      <th>4</th>\n",
       "      <td>101300</td>\n",
       "      <td>Sunland-Tujunga NC</td>\n",
       "      <td>9.278</td>\n",
       "      <td>0</td>\n",
       "      <td>9.278</td>\n",
       "      <td>06037101300</td>\n",
       "    </tr>\n",
       "  </tbody>\n",
       "</table>\n",
       "</div>"
      ],
      "text/plain": [
       "  TractNum            Location  Total Unsheltered  Total Sheltered  \\\n",
       "0   101110  Sunland-Tujunga NC             12.614                0   \n",
       "1   101122  Sunland-Tujunga NC              1.000                0   \n",
       "2   101210  Sunland-Tujunga NC             14.517                0   \n",
       "3   101220  Sunland-Tujunga NC             24.058                0   \n",
       "4   101300  Sunland-Tujunga NC              9.278                0   \n",
       "\n",
       "   Total Population         FIPS  \n",
       "0            12.614  06037101110  \n",
       "1             1.000  06037101122  \n",
       "2            14.517  06037101210  \n",
       "3            24.058  06037101220  \n",
       "4             9.278  06037101300  "
      ]
     },
     "execution_count": 27,
     "metadata": {},
     "output_type": "execute_result"
    }
   ],
   "source": [
    "unhoused_count['FIPS'] = '06' + '037' + unhoused_count['TractNum']\n",
    "unhoused_count.head()"
   ]
  },
  {
   "cell_type": "code",
   "execution_count": 28,
   "id": "e84b4248-4be4-4900-b41f-f45f85869a46",
   "metadata": {
    "executionInfo": {
     "elapsed": 6,
     "status": "aborted",
     "timestamp": 1707737012437,
     "user": {
      "displayName": "Rodrigo Gutierrez",
      "userId": "04409930615507589682"
     },
     "user_tz": 480
    },
    "id": "e84b4248-4be4-4900-b41f-f45f85869a46"
   },
   "outputs": [],
   "source": [
    "## Performing a merge between my merged Dis2tracts and the unhoused_count on 'FIPS'. I used the .head() variable to visualize."
   ]
  },
  {
   "cell_type": "code",
   "execution_count": 29,
   "id": "9b7aa1de-7e73-49da-a037-e77120188340",
   "metadata": {
    "executionInfo": {
     "elapsed": 7,
     "status": "aborted",
     "timestamp": 1707737012438,
     "user": {
      "displayName": "Rodrigo Gutierrez",
      "userId": "04409930615507589682"
     },
     "user_tz": 480
    },
    "id": "9b7aa1de-7e73-49da-a037-e77120188340"
   },
   "outputs": [
    {
     "data": {
      "text/html": [
       "<div>\n",
       "<style scoped>\n",
       "    .dataframe tbody tr th:only-of-type {\n",
       "        vertical-align: middle;\n",
       "    }\n",
       "\n",
       "    .dataframe tbody tr th {\n",
       "        vertical-align: top;\n",
       "    }\n",
       "\n",
       "    .dataframe thead th {\n",
       "        text-align: right;\n",
       "    }\n",
       "</style>\n",
       "<table border=\"1\" class=\"dataframe\">\n",
       "  <thead>\n",
       "    <tr style=\"text-align: right;\">\n",
       "      <th></th>\n",
       "      <th>OBJECTID</th>\n",
       "      <th>CT20_x</th>\n",
       "      <th>LABEL_x</th>\n",
       "      <th>ShapeSTArea</th>\n",
       "      <th>ShapeSTLength</th>\n",
       "      <th>geometry</th>\n",
       "      <th>FIPS</th>\n",
       "      <th>OBJECTID_12</th>\n",
       "      <th>Join_Count</th>\n",
       "      <th>TARGET_FID</th>\n",
       "      <th>...</th>\n",
       "      <th>JURISDICTION</th>\n",
       "      <th>AREA_NUM</th>\n",
       "      <th>AREA_NAME</th>\n",
       "      <th>Shape__Area</th>\n",
       "      <th>Shape__Length</th>\n",
       "      <th>TractNum</th>\n",
       "      <th>Location</th>\n",
       "      <th>Total Unsheltered</th>\n",
       "      <th>Total Sheltered</th>\n",
       "      <th>Total Population</th>\n",
       "    </tr>\n",
       "  </thead>\n",
       "  <tbody>\n",
       "    <tr>\n",
       "      <th>0</th>\n",
       "      <td>5631</td>\n",
       "      <td>211000</td>\n",
       "      <td>2110.00</td>\n",
       "      <td>2.859668e+07</td>\n",
       "      <td>25170.331758</td>\n",
       "      <td>POLYGON ((-118.32268 34.07621, -118.32355 34.0...</td>\n",
       "      <td>06037211000</td>\n",
       "      <td>640</td>\n",
       "      <td>2</td>\n",
       "      <td>640</td>\n",
       "      <td>...</td>\n",
       "      <td>INCORPORATED CITY</td>\n",
       "      <td>5</td>\n",
       "      <td>Westside Planning Area</td>\n",
       "      <td>3.881413e+06</td>\n",
       "      <td>9270.888577</td>\n",
       "      <td>211000</td>\n",
       "      <td>Greater Wilshire NC</td>\n",
       "      <td>9.331</td>\n",
       "      <td>27</td>\n",
       "      <td>36.331</td>\n",
       "    </tr>\n",
       "    <tr>\n",
       "      <th>1</th>\n",
       "      <td>5632</td>\n",
       "      <td>211121</td>\n",
       "      <td>2111.21</td>\n",
       "      <td>2.302636e+06</td>\n",
       "      <td>7588.943500</td>\n",
       "      <td>POLYGON ((-118.28441 34.07672, -118.28560 34.0...</td>\n",
       "      <td>06037211121</td>\n",
       "      <td>641</td>\n",
       "      <td>2</td>\n",
       "      <td>641</td>\n",
       "      <td>...</td>\n",
       "      <td>INCORPORATED CITY</td>\n",
       "      <td>9</td>\n",
       "      <td>Metro Planning Area</td>\n",
       "      <td>3.125745e+05</td>\n",
       "      <td>2799.117227</td>\n",
       "      <td>211121</td>\n",
       "      <td>Rampart Village NC</td>\n",
       "      <td>140.100</td>\n",
       "      <td>0</td>\n",
       "      <td>140.100</td>\n",
       "    </tr>\n",
       "    <tr>\n",
       "      <th>2</th>\n",
       "      <td>5633</td>\n",
       "      <td>211122</td>\n",
       "      <td>2111.22</td>\n",
       "      <td>3.934734e+06</td>\n",
       "      <td>8274.051868</td>\n",
       "      <td>POLYGON ((-118.28682 34.07634, -118.28798 34.0...</td>\n",
       "      <td>06037211122</td>\n",
       "      <td>642</td>\n",
       "      <td>3</td>\n",
       "      <td>642</td>\n",
       "      <td>...</td>\n",
       "      <td>INCORPORATED CITY</td>\n",
       "      <td>9</td>\n",
       "      <td>Metro Planning Area</td>\n",
       "      <td>5.341218e+05</td>\n",
       "      <td>3050.487937</td>\n",
       "      <td>211122</td>\n",
       "      <td>Rampart Village NC</td>\n",
       "      <td>123.470</td>\n",
       "      <td>0</td>\n",
       "      <td>123.470</td>\n",
       "    </tr>\n",
       "    <tr>\n",
       "      <th>3</th>\n",
       "      <td>5636</td>\n",
       "      <td>211201</td>\n",
       "      <td>2112.01</td>\n",
       "      <td>1.500116e+06</td>\n",
       "      <td>4915.797811</td>\n",
       "      <td>POLYGON ((-118.29655 34.07273, -118.29657 34.0...</td>\n",
       "      <td>06037211201</td>\n",
       "      <td>645</td>\n",
       "      <td>2</td>\n",
       "      <td>645</td>\n",
       "      <td>...</td>\n",
       "      <td>INCORPORATED CITY</td>\n",
       "      <td>9</td>\n",
       "      <td>Metro Planning Area</td>\n",
       "      <td>2.036427e+05</td>\n",
       "      <td>1811.419313</td>\n",
       "      <td>211201</td>\n",
       "      <td>Wilshire Center-Koreatown NC</td>\n",
       "      <td>1.427</td>\n",
       "      <td>0</td>\n",
       "      <td>1.427</td>\n",
       "    </tr>\n",
       "    <tr>\n",
       "      <th>4</th>\n",
       "      <td>5637</td>\n",
       "      <td>211202</td>\n",
       "      <td>2112.02</td>\n",
       "      <td>1.928501e+06</td>\n",
       "      <td>5559.519694</td>\n",
       "      <td>POLYGON ((-118.29169 34.07274, -118.29169 34.0...</td>\n",
       "      <td>06037211202</td>\n",
       "      <td>646</td>\n",
       "      <td>3</td>\n",
       "      <td>646</td>\n",
       "      <td>...</td>\n",
       "      <td>INCORPORATED CITY</td>\n",
       "      <td>9</td>\n",
       "      <td>Metro Planning Area</td>\n",
       "      <td>2.617965e+05</td>\n",
       "      <td>2048.091994</td>\n",
       "      <td>211202</td>\n",
       "      <td>Wilshire Center-Koreatown NC</td>\n",
       "      <td>11.762</td>\n",
       "      <td>0</td>\n",
       "      <td>11.762</td>\n",
       "    </tr>\n",
       "  </tbody>\n",
       "</table>\n",
       "<p>5 rows × 27 columns</p>\n",
       "</div>"
      ],
      "text/plain": [
       "   OBJECTID  CT20_x  LABEL_x   ShapeSTArea  ShapeSTLength  \\\n",
       "0      5631  211000  2110.00  2.859668e+07   25170.331758   \n",
       "1      5632  211121  2111.21  2.302636e+06    7588.943500   \n",
       "2      5633  211122  2111.22  3.934734e+06    8274.051868   \n",
       "3      5636  211201  2112.01  1.500116e+06    4915.797811   \n",
       "4      5637  211202  2112.02  1.928501e+06    5559.519694   \n",
       "\n",
       "                                            geometry         FIPS  \\\n",
       "0  POLYGON ((-118.32268 34.07621, -118.32355 34.0...  06037211000   \n",
       "1  POLYGON ((-118.28441 34.07672, -118.28560 34.0...  06037211121   \n",
       "2  POLYGON ((-118.28682 34.07634, -118.28798 34.0...  06037211122   \n",
       "3  POLYGON ((-118.29655 34.07273, -118.29657 34.0...  06037211201   \n",
       "4  POLYGON ((-118.29169 34.07274, -118.29169 34.0...  06037211202   \n",
       "\n",
       "   OBJECTID_12  Join_Count  TARGET_FID  ...       JURISDICTION  AREA_NUM  \\\n",
       "0          640           2         640  ...  INCORPORATED CITY         5   \n",
       "1          641           2         641  ...  INCORPORATED CITY         9   \n",
       "2          642           3         642  ...  INCORPORATED CITY         9   \n",
       "3          645           2         645  ...  INCORPORATED CITY         9   \n",
       "4          646           3         646  ...  INCORPORATED CITY         9   \n",
       "\n",
       "                AREA_NAME   Shape__Area  Shape__Length TractNum  \\\n",
       "0  Westside Planning Area  3.881413e+06    9270.888577   211000   \n",
       "1     Metro Planning Area  3.125745e+05    2799.117227   211121   \n",
       "2     Metro Planning Area  5.341218e+05    3050.487937   211122   \n",
       "3     Metro Planning Area  2.036427e+05    1811.419313   211201   \n",
       "4     Metro Planning Area  2.617965e+05    2048.091994   211202   \n",
       "\n",
       "                       Location Total Unsheltered  Total Sheltered  \\\n",
       "0           Greater Wilshire NC             9.331               27   \n",
       "1            Rampart Village NC           140.100                0   \n",
       "2            Rampart Village NC           123.470                0   \n",
       "3  Wilshire Center-Koreatown NC             1.427                0   \n",
       "4  Wilshire Center-Koreatown NC            11.762                0   \n",
       "\n",
       "  Total Population  \n",
       "0           36.331  \n",
       "1          140.100  \n",
       "2          123.470  \n",
       "3            1.427  \n",
       "4           11.762  \n",
       "\n",
       "[5 rows x 27 columns]"
      ]
     },
     "execution_count": 29,
     "metadata": {},
     "output_type": "execute_result"
    }
   ],
   "source": [
    "Dis2_tracthome = Dis2tracts.merge(unhoused_count, on ='FIPS')\n",
    "Dis2_tracthome.head()"
   ]
  },
  {
   "cell_type": "code",
   "execution_count": 30,
   "id": "92e46944-273b-431d-a095-af31232e4f00",
   "metadata": {
    "executionInfo": {
     "elapsed": 7,
     "status": "aborted",
     "timestamp": 1707737012438,
     "user": {
      "displayName": "Rodrigo Gutierrez",
      "userId": "04409930615507589682"
     },
     "user_tz": 480
    },
    "id": "92e46944-273b-431d-a095-af31232e4f00"
   },
   "outputs": [],
   "source": [
    "## Visualizing the data here, showing frequency of unhoused residents. The majority of census tracts, have less than 50."
   ]
  },
  {
   "cell_type": "code",
   "execution_count": 31,
   "id": "41f06534-7893-4a82-8433-cc7320572641",
   "metadata": {
    "executionInfo": {
     "elapsed": 7,
     "status": "aborted",
     "timestamp": 1707737012438,
     "user": {
      "displayName": "Rodrigo Gutierrez",
      "userId": "04409930615507589682"
     },
     "user_tz": 480
    },
    "id": "41f06534-7893-4a82-8433-cc7320572641"
   },
   "outputs": [
    {
     "data": {
      "text/plain": [
       "<Axes: ylabel='Frequency'>"
      ]
     },
     "execution_count": 31,
     "metadata": {},
     "output_type": "execute_result"
    },
    {
     "data": {
      "image/png": "[encoded data removed]",
      "text/plain": [
       "<Figure size 640x480 with 1 Axes>"
      ]
     },
     "metadata": {},
     "output_type": "display_data"
    }
   ],
   "source": [
    "Dis2_tracthome['Total Unsheltered'].plot.hist()"
   ]
  },
  {
   "cell_type": "code",
   "execution_count": 32,
   "id": "7861892c-a18c-4393-a0e1-b01f74f10001",
   "metadata": {
    "executionInfo": {
     "elapsed": 6,
     "status": "aborted",
     "timestamp": 1707737012438,
     "user": {
      "displayName": "Rodrigo Gutierrez",
      "userId": "04409930615507589682"
     },
     "user_tz": 480
    },
    "id": "7861892c-a18c-4393-a0e1-b01f74f10001"
   },
   "outputs": [],
   "source": [
    "## Here I am doing the same merge as the line above, just doing it with my data from District 5."
   ]
  },
  {
   "cell_type": "code",
   "execution_count": 33,
   "id": "c4c40908-be8d-48a5-b972-4528fff7b434",
   "metadata": {
    "executionInfo": {
     "elapsed": 6,
     "status": "aborted",
     "timestamp": 1707737012438,
     "user": {
      "displayName": "Rodrigo Gutierrez",
      "userId": "04409930615507589682"
     },
     "user_tz": 480
    },
    "id": "c4c40908-be8d-48a5-b972-4528fff7b434"
   },
   "outputs": [
    {
     "data": {
      "text/html": [
       "<div>\n",
       "<style scoped>\n",
       "    .dataframe tbody tr th:only-of-type {\n",
       "        vertical-align: middle;\n",
       "    }\n",
       "\n",
       "    .dataframe tbody tr th {\n",
       "        vertical-align: top;\n",
       "    }\n",
       "\n",
       "    .dataframe thead th {\n",
       "        text-align: right;\n",
       "    }\n",
       "</style>\n",
       "<table border=\"1\" class=\"dataframe\">\n",
       "  <thead>\n",
       "    <tr style=\"text-align: right;\">\n",
       "      <th></th>\n",
       "      <th>OBJECTID</th>\n",
       "      <th>CT20_x</th>\n",
       "      <th>LABEL_x</th>\n",
       "      <th>ShapeSTArea</th>\n",
       "      <th>ShapeSTLength</th>\n",
       "      <th>geometry</th>\n",
       "      <th>FIPS</th>\n",
       "      <th>OBJECTID_12</th>\n",
       "      <th>Join_Count</th>\n",
       "      <th>TARGET_FID</th>\n",
       "      <th>...</th>\n",
       "      <th>JURISDICTION</th>\n",
       "      <th>AREA_NUM</th>\n",
       "      <th>AREA_NAME</th>\n",
       "      <th>Shape__Area</th>\n",
       "      <th>Shape__Length</th>\n",
       "      <th>TractNum</th>\n",
       "      <th>Location</th>\n",
       "      <th>Total Unsheltered</th>\n",
       "      <th>Total Sheltered</th>\n",
       "      <th>Total Population</th>\n",
       "    </tr>\n",
       "  </thead>\n",
       "  <tbody>\n",
       "    <tr>\n",
       "      <th>0</th>\n",
       "      <td>4992</td>\n",
       "      <td>101110</td>\n",
       "      <td>1011.10</td>\n",
       "      <td>1.229562e+07</td>\n",
       "      <td>15083.854287</td>\n",
       "      <td>POLYGON ((-118.29793 34.26323, -118.30082 34.2...</td>\n",
       "      <td>06037101110</td>\n",
       "      <td>1</td>\n",
       "      <td>1</td>\n",
       "      <td>1</td>\n",
       "      <td>...</td>\n",
       "      <td>INCORPORATED CITY</td>\n",
       "      <td>3</td>\n",
       "      <td>San Fernando Valley Planning Area</td>\n",
       "      <td>1.676519e+06</td>\n",
       "      <td>5565.411341</td>\n",
       "      <td>101110</td>\n",
       "      <td>Sunland-Tujunga NC</td>\n",
       "      <td>12.614</td>\n",
       "      <td>0</td>\n",
       "      <td>12.614</td>\n",
       "    </tr>\n",
       "    <tr>\n",
       "      <th>1</th>\n",
       "      <td>4993</td>\n",
       "      <td>101122</td>\n",
       "      <td>1011.22</td>\n",
       "      <td>2.845774e+07</td>\n",
       "      <td>31671.455844</td>\n",
       "      <td>POLYGON ((-118.27743 34.25991, -118.27743 34.2...</td>\n",
       "      <td>06037101122</td>\n",
       "      <td>2</td>\n",
       "      <td>1</td>\n",
       "      <td>2</td>\n",
       "      <td>...</td>\n",
       "      <td>INCORPORATED CITY</td>\n",
       "      <td>3</td>\n",
       "      <td>San Fernando Valley Planning Area</td>\n",
       "      <td>3.881001e+06</td>\n",
       "      <td>11695.304277</td>\n",
       "      <td>101122</td>\n",
       "      <td>Sunland-Tujunga NC</td>\n",
       "      <td>1.000</td>\n",
       "      <td>0</td>\n",
       "      <td>1.000</td>\n",
       "    </tr>\n",
       "    <tr>\n",
       "      <th>2</th>\n",
       "      <td>4994</td>\n",
       "      <td>101220</td>\n",
       "      <td>1012.20</td>\n",
       "      <td>7.522093e+06</td>\n",
       "      <td>12698.783810</td>\n",
       "      <td>POLYGON ((-118.27818 34.25577, -118.27887 34.2...</td>\n",
       "      <td>06037101220</td>\n",
       "      <td>3</td>\n",
       "      <td>1</td>\n",
       "      <td>3</td>\n",
       "      <td>...</td>\n",
       "      <td>INCORPORATED CITY</td>\n",
       "      <td>3</td>\n",
       "      <td>San Fernando Valley Planning Area</td>\n",
       "      <td>1.025452e+06</td>\n",
       "      <td>4688.607147</td>\n",
       "      <td>101220</td>\n",
       "      <td>Sunland-Tujunga NC</td>\n",
       "      <td>24.058</td>\n",
       "      <td>0</td>\n",
       "      <td>24.058</td>\n",
       "    </tr>\n",
       "    <tr>\n",
       "      <th>3</th>\n",
       "      <td>4997</td>\n",
       "      <td>101300</td>\n",
       "      <td>1013.00</td>\n",
       "      <td>2.777377e+07</td>\n",
       "      <td>29384.860602</td>\n",
       "      <td>POLYGON ((-118.26528 34.25238, -118.26539 34.2...</td>\n",
       "      <td>06037101300</td>\n",
       "      <td>6</td>\n",
       "      <td>1</td>\n",
       "      <td>6</td>\n",
       "      <td>...</td>\n",
       "      <td>INCORPORATED CITY</td>\n",
       "      <td>3</td>\n",
       "      <td>San Fernando Valley Planning Area</td>\n",
       "      <td>3.786001e+06</td>\n",
       "      <td>10858.706120</td>\n",
       "      <td>101300</td>\n",
       "      <td>Sunland-Tujunga NC</td>\n",
       "      <td>9.278</td>\n",
       "      <td>0</td>\n",
       "      <td>9.278</td>\n",
       "    </tr>\n",
       "    <tr>\n",
       "      <th>4</th>\n",
       "      <td>4998</td>\n",
       "      <td>101400</td>\n",
       "      <td>1014.00</td>\n",
       "      <td>6.791532e+07</td>\n",
       "      <td>42668.928986</td>\n",
       "      <td>POLYGON ((-118.29946 34.25598, -118.30027 34.2...</td>\n",
       "      <td>06037101400</td>\n",
       "      <td>7</td>\n",
       "      <td>1</td>\n",
       "      <td>7</td>\n",
       "      <td>...</td>\n",
       "      <td>INCORPORATED CITY</td>\n",
       "      <td>3</td>\n",
       "      <td>San Fernando Valley Planning Area</td>\n",
       "      <td>9.256641e+06</td>\n",
       "      <td>15739.594223</td>\n",
       "      <td>101400</td>\n",
       "      <td>Sunland-Tujunga NC</td>\n",
       "      <td>17.615</td>\n",
       "      <td>0</td>\n",
       "      <td>17.615</td>\n",
       "    </tr>\n",
       "  </tbody>\n",
       "</table>\n",
       "<p>5 rows × 27 columns</p>\n",
       "</div>"
      ],
      "text/plain": [
       "   OBJECTID  CT20_x  LABEL_x   ShapeSTArea  ShapeSTLength  \\\n",
       "0      4992  101110  1011.10  1.229562e+07   15083.854287   \n",
       "1      4993  101122  1011.22  2.845774e+07   31671.455844   \n",
       "2      4994  101220  1012.20  7.522093e+06   12698.783810   \n",
       "3      4997  101300  1013.00  2.777377e+07   29384.860602   \n",
       "4      4998  101400  1014.00  6.791532e+07   42668.928986   \n",
       "\n",
       "                                            geometry         FIPS  \\\n",
       "0  POLYGON ((-118.29793 34.26323, -118.30082 34.2...  06037101110   \n",
       "1  POLYGON ((-118.27743 34.25991, -118.27743 34.2...  06037101122   \n",
       "2  POLYGON ((-118.27818 34.25577, -118.27887 34.2...  06037101220   \n",
       "3  POLYGON ((-118.26528 34.25238, -118.26539 34.2...  06037101300   \n",
       "4  POLYGON ((-118.29946 34.25598, -118.30027 34.2...  06037101400   \n",
       "\n",
       "   OBJECTID_12  Join_Count  TARGET_FID  ...       JURISDICTION  AREA_NUM  \\\n",
       "0            1           1           1  ...  INCORPORATED CITY         3   \n",
       "1            2           1           2  ...  INCORPORATED CITY         3   \n",
       "2            3           1           3  ...  INCORPORATED CITY         3   \n",
       "3            6           1           6  ...  INCORPORATED CITY         3   \n",
       "4            7           1           7  ...  INCORPORATED CITY         3   \n",
       "\n",
       "                           AREA_NAME   Shape__Area  Shape__Length TractNum  \\\n",
       "0  San Fernando Valley Planning Area  1.676519e+06    5565.411341   101110   \n",
       "1  San Fernando Valley Planning Area  3.881001e+06   11695.304277   101122   \n",
       "2  San Fernando Valley Planning Area  1.025452e+06    4688.607147   101220   \n",
       "3  San Fernando Valley Planning Area  3.786001e+06   10858.706120   101300   \n",
       "4  San Fernando Valley Planning Area  9.256641e+06   15739.594223   101400   \n",
       "\n",
       "             Location Total Unsheltered  Total Sheltered Total Population  \n",
       "0  Sunland-Tujunga NC            12.614                0           12.614  \n",
       "1  Sunland-Tujunga NC             1.000                0            1.000  \n",
       "2  Sunland-Tujunga NC            24.058                0           24.058  \n",
       "3  Sunland-Tujunga NC             9.278                0            9.278  \n",
       "4  Sunland-Tujunga NC            17.615                0           17.615  \n",
       "\n",
       "[5 rows x 27 columns]"
      ]
     },
     "execution_count": 33,
     "metadata": {},
     "output_type": "execute_result"
    }
   ],
   "source": [
    "Dis5_tracthome = Dis5tracts.merge(unhoused_count, on ='FIPS')\n",
    "Dis5_tracthome.head()"
   ]
  },
  {
   "cell_type": "code",
   "execution_count": 34,
   "id": "9736ccd1-a96a-4f11-873e-3210924ec8c0",
   "metadata": {
    "executionInfo": {
     "elapsed": 6,
     "status": "aborted",
     "timestamp": 1707737012438,
     "user": {
      "displayName": "Rodrigo Gutierrez",
      "userId": "04409930615507589682"
     },
     "user_tz": 480
    },
    "id": "9736ccd1-a96a-4f11-873e-3210924ec8c0"
   },
   "outputs": [],
   "source": [
    "## Visualizing district 5 data here with census tracts, it has a signficantly different amount of areas, but that might be\n",
    "## because district 2 has more census tracts given that district 5 is mostly Antelope Valley which is more sparse."
   ]
  },
  {
   "cell_type": "code",
   "execution_count": 35,
   "id": "7a8833b2-62d9-496f-a38c-b9940712b461",
   "metadata": {
    "executionInfo": {
     "elapsed": 6,
     "status": "aborted",
     "timestamp": 1707737012439,
     "user": {
      "displayName": "Rodrigo Gutierrez",
      "userId": "04409930615507589682"
     },
     "user_tz": 480
    },
    "id": "7a8833b2-62d9-496f-a38c-b9940712b461"
   },
   "outputs": [
    {
     "data": {
      "text/plain": [
       "<Axes: ylabel='Frequency'>"
      ]
     },
     "execution_count": 35,
     "metadata": {},
     "output_type": "execute_result"
    },
    {
     "data": {
      "image/png": "[encoded data removed]",
      "text/plain": [
       "<Figure size 640x480 with 1 Axes>"
      ]
     },
     "metadata": {},
     "output_type": "display_data"
    }
   ],
   "source": [
    "Dis5_tracthome['Total Population'].plot.hist()"
   ]
  },
  {
   "cell_type": "code",
   "execution_count": 36,
   "id": "2b8576a0-e52a-4454-b89c-931b194a2ec5",
   "metadata": {
    "executionInfo": {
     "elapsed": 7244,
     "status": "aborted",
     "timestamp": 1707737012439,
     "user": {
      "displayName": "Rodrigo Gutierrez",
      "userId": "04409930615507589682"
     },
     "user_tz": 480
    },
    "id": "2b8576a0-e52a-4454-b89c-931b194a2ec5"
   },
   "outputs": [],
   "source": [
    "## I want to see what are the locations with the highest counts of unhoused individuals. I didn't know what CANNDU was,\n",
    "## but a quick internet search produced that it stands for 'Community And Neighbors for Ninth District Unity'. This area is in\n",
    "## South Los Angeles close to the neighborhood of Florence-Graham also nearby."
   ]
  },
  {
   "cell_type": "code",
   "execution_count": 37,
   "id": "214344c4-83b8-4789-8d14-b09f5424f6a8",
   "metadata": {
    "executionInfo": {
     "elapsed": 7239,
     "status": "aborted",
     "timestamp": 1707737012439,
     "user": {
      "displayName": "Rodrigo Gutierrez",
      "userId": "04409930615507589682"
     },
     "user_tz": 480
    },
    "id": "214344c4-83b8-4789-8d14-b09f5424f6a8"
   },
   "outputs": [
    {
     "data": {
      "text/html": [
       "<div>\n",
       "<style scoped>\n",
       "    .dataframe tbody tr th:only-of-type {\n",
       "        vertical-align: middle;\n",
       "    }\n",
       "\n",
       "    .dataframe tbody tr th {\n",
       "        vertical-align: top;\n",
       "    }\n",
       "\n",
       "    .dataframe thead th {\n",
       "        text-align: right;\n",
       "    }\n",
       "</style>\n",
       "<table border=\"1\" class=\"dataframe\">\n",
       "  <thead>\n",
       "    <tr style=\"text-align: right;\">\n",
       "      <th></th>\n",
       "      <th>FIPS</th>\n",
       "      <th>Total Population</th>\n",
       "      <th>Location</th>\n",
       "    </tr>\n",
       "  </thead>\n",
       "  <tbody>\n",
       "    <tr>\n",
       "      <th>170</th>\n",
       "      <td>06037239202</td>\n",
       "      <td>397.98</td>\n",
       "      <td>CANNDU NC</td>\n",
       "    </tr>\n",
       "    <tr>\n",
       "      <th>122</th>\n",
       "      <td>06037231100</td>\n",
       "      <td>393.11</td>\n",
       "      <td>South Central NC</td>\n",
       "    </tr>\n",
       "    <tr>\n",
       "      <th>247</th>\n",
       "      <td>06037540902</td>\n",
       "      <td>321.08</td>\n",
       "      <td>Willowbrook</td>\n",
       "    </tr>\n",
       "    <tr>\n",
       "      <th>241</th>\n",
       "      <td>06037535400</td>\n",
       "      <td>224.23</td>\n",
       "      <td>Florence-Graham</td>\n",
       "    </tr>\n",
       "    <tr>\n",
       "      <th>275</th>\n",
       "      <td>06037543305</td>\n",
       "      <td>202.13</td>\n",
       "      <td>Unincorporated Compton</td>\n",
       "    </tr>\n",
       "    <tr>\n",
       "      <th>318</th>\n",
       "      <td>06037601401</td>\n",
       "      <td>198.92</td>\n",
       "      <td>Inglewood</td>\n",
       "    </tr>\n",
       "    <tr>\n",
       "      <th>134</th>\n",
       "      <td>06037232500</td>\n",
       "      <td>189.22</td>\n",
       "      <td>Empowerment Congress Central NC</td>\n",
       "    </tr>\n",
       "    <tr>\n",
       "      <th>96</th>\n",
       "      <td>06037222700</td>\n",
       "      <td>157.26</td>\n",
       "      <td>Empowerment Congress North NC</td>\n",
       "    </tr>\n",
       "    <tr>\n",
       "      <th>1</th>\n",
       "      <td>06037211121</td>\n",
       "      <td>140.10</td>\n",
       "      <td>Rampart Village NC</td>\n",
       "    </tr>\n",
       "    <tr>\n",
       "      <th>143</th>\n",
       "      <td>06037234902</td>\n",
       "      <td>139.74</td>\n",
       "      <td>Park Mesa Heights Community Council</td>\n",
       "    </tr>\n",
       "  </tbody>\n",
       "</table>\n",
       "</div>"
      ],
      "text/plain": [
       "            FIPS  Total Population                             Location\n",
       "170  06037239202            397.98                            CANNDU NC\n",
       "122  06037231100            393.11                     South Central NC\n",
       "247  06037540902            321.08                          Willowbrook\n",
       "241  06037535400            224.23                      Florence-Graham\n",
       "275  06037543305            202.13               Unincorporated Compton\n",
       "318  06037601401            198.92                            Inglewood\n",
       "134  06037232500            189.22      Empowerment Congress Central NC\n",
       "96   06037222700            157.26        Empowerment Congress North NC\n",
       "1    06037211121            140.10                   Rampart Village NC\n",
       "143  06037234902            139.74  Park Mesa Heights Community Council"
      ]
     },
     "execution_count": 37,
     "metadata": {},
     "output_type": "execute_result"
    }
   ],
   "source": [
    "Dis2_tracthome.sort_values(by='Total Population', ascending = False)[['FIPS', 'Total Population', 'Location']].head(10)"
   ]
  },
  {
   "cell_type": "code",
   "execution_count": 38,
   "id": "aebccb50-9f13-4e0d-9b2f-a940839c54a3",
   "metadata": {
    "executionInfo": {
     "elapsed": 7238,
     "status": "aborted",
     "timestamp": 1707737012439,
     "user": {
      "displayName": "Rodrigo Gutierrez",
      "userId": "04409930615507589682"
     },
     "user_tz": 480
    },
    "id": "aebccb50-9f13-4e0d-9b2f-a940839c54a3"
   },
   "outputs": [],
   "source": [
    "## Similar to the line above, I see here that unincorporated Antelope Valley and Lancaster show up the most."
   ]
  },
  {
   "cell_type": "code",
   "execution_count": 39,
   "id": "ec2d0c19-64cb-4a26-884a-99d942278829",
   "metadata": {
    "executionInfo": {
     "elapsed": 7233,
     "status": "aborted",
     "timestamp": 1707737012439,
     "user": {
      "displayName": "Rodrigo Gutierrez",
      "userId": "04409930615507589682"
     },
     "user_tz": 480
    },
    "id": "ec2d0c19-64cb-4a26-884a-99d942278829"
   },
   "outputs": [
    {
     "data": {
      "text/html": [
       "<div>\n",
       "<style scoped>\n",
       "    .dataframe tbody tr th:only-of-type {\n",
       "        vertical-align: middle;\n",
       "    }\n",
       "\n",
       "    .dataframe tbody tr th {\n",
       "        vertical-align: top;\n",
       "    }\n",
       "\n",
       "    .dataframe thead th {\n",
       "        text-align: right;\n",
       "    }\n",
       "</style>\n",
       "<table border=\"1\" class=\"dataframe\">\n",
       "  <thead>\n",
       "    <tr style=\"text-align: right;\">\n",
       "      <th></th>\n",
       "      <th>FIPS</th>\n",
       "      <th>Total Population</th>\n",
       "      <th>Location</th>\n",
       "    </tr>\n",
       "  </thead>\n",
       "  <tbody>\n",
       "    <tr>\n",
       "      <th>159</th>\n",
       "      <td>06037900102</td>\n",
       "      <td>308.710</td>\n",
       "      <td>Unincorporated Antelope Valley</td>\n",
       "    </tr>\n",
       "    <tr>\n",
       "      <th>16</th>\n",
       "      <td>06037121102</td>\n",
       "      <td>164.080</td>\n",
       "      <td>Sun Valley Area NC</td>\n",
       "    </tr>\n",
       "    <tr>\n",
       "      <th>189</th>\n",
       "      <td>06037910002</td>\n",
       "      <td>157.520</td>\n",
       "      <td>Unincorporated Antelope Valley</td>\n",
       "    </tr>\n",
       "    <tr>\n",
       "      <th>31</th>\n",
       "      <td>06037125200</td>\n",
       "      <td>127.390</td>\n",
       "      <td>Valley Village NC</td>\n",
       "    </tr>\n",
       "    <tr>\n",
       "      <th>179</th>\n",
       "      <td>06037901003</td>\n",
       "      <td>96.200</td>\n",
       "      <td>Lancaster</td>\n",
       "    </tr>\n",
       "    <tr>\n",
       "      <th>178</th>\n",
       "      <td>06037900806</td>\n",
       "      <td>95.951</td>\n",
       "      <td>Lancaster</td>\n",
       "    </tr>\n",
       "    <tr>\n",
       "      <th>173</th>\n",
       "      <td>06037900703</td>\n",
       "      <td>84.454</td>\n",
       "      <td>Lancaster</td>\n",
       "    </tr>\n",
       "    <tr>\n",
       "      <th>253</th>\n",
       "      <td>06037920314</td>\n",
       "      <td>82.119</td>\n",
       "      <td>Santa Clarita</td>\n",
       "    </tr>\n",
       "    <tr>\n",
       "      <th>177</th>\n",
       "      <td>06037900805</td>\n",
       "      <td>75.068</td>\n",
       "      <td>Lancaster</td>\n",
       "    </tr>\n",
       "    <tr>\n",
       "      <th>269</th>\n",
       "      <td>06037980021</td>\n",
       "      <td>73.249</td>\n",
       "      <td>Pacoima NC</td>\n",
       "    </tr>\n",
       "  </tbody>\n",
       "</table>\n",
       "</div>"
      ],
      "text/plain": [
       "            FIPS  Total Population                        Location\n",
       "159  06037900102           308.710  Unincorporated Antelope Valley\n",
       "16   06037121102           164.080              Sun Valley Area NC\n",
       "189  06037910002           157.520  Unincorporated Antelope Valley\n",
       "31   06037125200           127.390               Valley Village NC\n",
       "179  06037901003            96.200                       Lancaster\n",
       "178  06037900806            95.951                       Lancaster\n",
       "173  06037900703            84.454                       Lancaster\n",
       "253  06037920314            82.119                   Santa Clarita\n",
       "177  06037900805            75.068                       Lancaster\n",
       "269  06037980021            73.249                      Pacoima NC"
      ]
     },
     "execution_count": 39,
     "metadata": {},
     "output_type": "execute_result"
    }
   ],
   "source": [
    "Dis5_tracthome.sort_values(by='Total Population', ascending = False)[['FIPS', 'Total Population', 'Location']].head(10)"
   ]
  },
  {
   "cell_type": "code",
   "execution_count": 40,
   "id": "8dacaee3-340f-469d-a183-d247c88fbca4",
   "metadata": {
    "executionInfo": {
     "elapsed": 7233,
     "status": "aborted",
     "timestamp": 1707737012440,
     "user": {
      "displayName": "Rodrigo Gutierrez",
      "userId": "04409930615507589682"
     },
     "user_tz": 480
    },
    "id": "8dacaee3-340f-469d-a183-d247c88fbca4"
   },
   "outputs": [],
   "source": [
    "## Reading in data about Gross Rent in LA County, reading in GEO_ID as a string to use it to merge. I cleaned the data in Excel."
   ]
  },
  {
   "cell_type": "code",
   "execution_count": 41,
   "id": "517ba6b7-8730-404f-bd56-34817cf4cf1d",
   "metadata": {
    "executionInfo": {
     "elapsed": 7228,
     "status": "aborted",
     "timestamp": 1707737012440,
     "user": {
      "displayName": "Rodrigo Gutierrez",
      "userId": "04409930615507589682"
     },
     "user_tz": 480
    },
    "id": "517ba6b7-8730-404f-bd56-34817cf4cf1d"
   },
   "outputs": [
    {
     "data": {
      "text/html": [
       "<div>\n",
       "<style scoped>\n",
       "    .dataframe tbody tr th:only-of-type {\n",
       "        vertical-align: middle;\n",
       "    }\n",
       "\n",
       "    .dataframe tbody tr th {\n",
       "        vertical-align: top;\n",
       "    }\n",
       "\n",
       "    .dataframe thead th {\n",
       "        text-align: right;\n",
       "    }\n",
       "</style>\n",
       "<table border=\"1\" class=\"dataframe\">\n",
       "  <thead>\n",
       "    <tr style=\"text-align: right;\">\n",
       "      <th></th>\n",
       "      <th>GEO_ID</th>\n",
       "      <th>NAME</th>\n",
       "      <th>Gross Rent</th>\n",
       "    </tr>\n",
       "  </thead>\n",
       "  <tbody>\n",
       "    <tr>\n",
       "      <th>0</th>\n",
       "      <td>06037101110</td>\n",
       "      <td>Census Tract 1011.10, Los Angeles County, Cali...</td>\n",
       "      <td>1689</td>\n",
       "    </tr>\n",
       "    <tr>\n",
       "      <th>1</th>\n",
       "      <td>06037101122</td>\n",
       "      <td>Census Tract 1011.22, Los Angeles County, Cali...</td>\n",
       "      <td>2529</td>\n",
       "    </tr>\n",
       "    <tr>\n",
       "      <th>2</th>\n",
       "      <td>06037101220</td>\n",
       "      <td>Census Tract 1012.20, Los Angeles County, Cali...</td>\n",
       "      <td>1324</td>\n",
       "    </tr>\n",
       "    <tr>\n",
       "      <th>3</th>\n",
       "      <td>06037101221</td>\n",
       "      <td>Census Tract 1012.21, Los Angeles County, Cali...</td>\n",
       "      <td>1484</td>\n",
       "    </tr>\n",
       "    <tr>\n",
       "      <th>4</th>\n",
       "      <td>06037101222</td>\n",
       "      <td>Census Tract 1012.22, Los Angeles County, Cali...</td>\n",
       "      <td>1525</td>\n",
       "    </tr>\n",
       "    <tr>\n",
       "      <th>...</th>\n",
       "      <td>...</td>\n",
       "      <td>...</td>\n",
       "      <td>...</td>\n",
       "    </tr>\n",
       "    <tr>\n",
       "      <th>2493</th>\n",
       "      <td>06037980038</td>\n",
       "      <td>Census Tract 9800.38, Los Angeles County, Cali...</td>\n",
       "      <td>-</td>\n",
       "    </tr>\n",
       "    <tr>\n",
       "      <th>2494</th>\n",
       "      <td>06037980039</td>\n",
       "      <td>Census Tract 9800.39, Los Angeles County, Cali...</td>\n",
       "      <td>-</td>\n",
       "    </tr>\n",
       "    <tr>\n",
       "      <th>2495</th>\n",
       "      <td>06037990100</td>\n",
       "      <td>Census Tract 9901, Los Angeles County, California</td>\n",
       "      <td>-</td>\n",
       "    </tr>\n",
       "    <tr>\n",
       "      <th>2496</th>\n",
       "      <td>06037990200</td>\n",
       "      <td>Census Tract 9902, Los Angeles County, California</td>\n",
       "      <td>-</td>\n",
       "    </tr>\n",
       "    <tr>\n",
       "      <th>2497</th>\n",
       "      <td>06037990300</td>\n",
       "      <td>Census Tract 9903, Los Angeles County, California</td>\n",
       "      <td>-</td>\n",
       "    </tr>\n",
       "  </tbody>\n",
       "</table>\n",
       "<p>2498 rows × 3 columns</p>\n",
       "</div>"
      ],
      "text/plain": [
       "           GEO_ID                                               NAME  \\\n",
       "0     06037101110  Census Tract 1011.10, Los Angeles County, Cali...   \n",
       "1     06037101122  Census Tract 1011.22, Los Angeles County, Cali...   \n",
       "2     06037101220  Census Tract 1012.20, Los Angeles County, Cali...   \n",
       "3     06037101221  Census Tract 1012.21, Los Angeles County, Cali...   \n",
       "4     06037101222  Census Tract 1012.22, Los Angeles County, Cali...   \n",
       "...           ...                                                ...   \n",
       "2493  06037980038  Census Tract 9800.38, Los Angeles County, Cali...   \n",
       "2494  06037980039  Census Tract 9800.39, Los Angeles County, Cali...   \n",
       "2495  06037990100  Census Tract 9901, Los Angeles County, California   \n",
       "2496  06037990200  Census Tract 9902, Los Angeles County, California   \n",
       "2497  06037990300  Census Tract 9903, Los Angeles County, California   \n",
       "\n",
       "     Gross Rent  \n",
       "0          1689  \n",
       "1          2529  \n",
       "2          1324  \n",
       "3          1484  \n",
       "4          1525  \n",
       "...         ...  \n",
       "2493          -  \n",
       "2494          -  \n",
       "2495          -  \n",
       "2496          -  \n",
       "2497          -  \n",
       "\n",
       "[2498 rows x 3 columns]"
      ]
     },
     "execution_count": 41,
     "metadata": {},
     "output_type": "execute_result"
    }
   ],
   "source": [
    "rent = pd.read_csv('data/rentdata.csv',\n",
    "dtype=\n",
    "    {\n",
    "        'GEO_ID':str,\n",
    "    }\n",
    ")\n",
    "rent"
   ]
  },
  {
   "cell_type": "code",
   "execution_count": 42,
   "id": "1cc99499-1d77-4511-b821-fca65dfe7191",
   "metadata": {
    "executionInfo": {
     "elapsed": 7226,
     "status": "aborted",
     "timestamp": 1707737012440,
     "user": {
      "displayName": "Rodrigo Gutierrez",
      "userId": "04409930615507589682"
     },
     "user_tz": 480
    },
    "id": "1cc99499-1d77-4511-b821-fca65dfe7191"
   },
   "outputs": [],
   "source": [
    "## Here I am renaming the GEO_ID column to 'FIPS' in order to merge with my other data."
   ]
  },
  {
   "cell_type": "code",
   "execution_count": 43,
   "id": "b3a731bf-7951-4ece-a0ec-1ea28c7d443c",
   "metadata": {
    "executionInfo": {
     "elapsed": 7227,
     "status": "aborted",
     "timestamp": 1707737012441,
     "user": {
      "displayName": "Rodrigo Gutierrez",
      "userId": "04409930615507589682"
     },
     "user_tz": 480
    },
    "id": "b3a731bf-7951-4ece-a0ec-1ea28c7d443c"
   },
   "outputs": [],
   "source": [
    "rent['FIPS'] = rent['GEO_ID']"
   ]
  },
  {
   "cell_type": "code",
   "execution_count": 44,
   "id": "13a94b51-ef14-47f7-bbf0-0aa46337c8af",
   "metadata": {
    "executionInfo": {
     "elapsed": 7226,
     "status": "aborted",
     "timestamp": 1707737012441,
     "user": {
      "displayName": "Rodrigo Gutierrez",
      "userId": "04409930615507589682"
     },
     "user_tz": 480
    },
    "id": "13a94b51-ef14-47f7-bbf0-0aa46337c8af"
   },
   "outputs": [],
   "source": [
    "## Checking how the data looks making sure there is a leading 0, there is!"
   ]
  },
  {
   "cell_type": "code",
   "execution_count": 45,
   "id": "d41d4e12-6d7b-4749-9cff-fe7efb55f785",
   "metadata": {
    "executionInfo": {
     "elapsed": 7221,
     "status": "aborted",
     "timestamp": 1707737012441,
     "user": {
      "displayName": "Rodrigo Gutierrez",
      "userId": "04409930615507589682"
     },
     "user_tz": 480
    },
    "id": "d41d4e12-6d7b-4749-9cff-fe7efb55f785"
   },
   "outputs": [
    {
     "data": {
      "text/html": [
       "<div>\n",
       "<style scoped>\n",
       "    .dataframe tbody tr th:only-of-type {\n",
       "        vertical-align: middle;\n",
       "    }\n",
       "\n",
       "    .dataframe tbody tr th {\n",
       "        vertical-align: top;\n",
       "    }\n",
       "\n",
       "    .dataframe thead th {\n",
       "        text-align: right;\n",
       "    }\n",
       "</style>\n",
       "<table border=\"1\" class=\"dataframe\">\n",
       "  <thead>\n",
       "    <tr style=\"text-align: right;\">\n",
       "      <th></th>\n",
       "      <th>GEO_ID</th>\n",
       "      <th>NAME</th>\n",
       "      <th>Gross Rent</th>\n",
       "      <th>FIPS</th>\n",
       "    </tr>\n",
       "  </thead>\n",
       "  <tbody>\n",
       "    <tr>\n",
       "      <th>0</th>\n",
       "      <td>06037101110</td>\n",
       "      <td>Census Tract 1011.10, Los Angeles County, Cali...</td>\n",
       "      <td>1689</td>\n",
       "      <td>06037101110</td>\n",
       "    </tr>\n",
       "    <tr>\n",
       "      <th>1</th>\n",
       "      <td>06037101122</td>\n",
       "      <td>Census Tract 1011.22, Los Angeles County, Cali...</td>\n",
       "      <td>2529</td>\n",
       "      <td>06037101122</td>\n",
       "    </tr>\n",
       "    <tr>\n",
       "      <th>2</th>\n",
       "      <td>06037101220</td>\n",
       "      <td>Census Tract 1012.20, Los Angeles County, Cali...</td>\n",
       "      <td>1324</td>\n",
       "      <td>06037101220</td>\n",
       "    </tr>\n",
       "    <tr>\n",
       "      <th>3</th>\n",
       "      <td>06037101221</td>\n",
       "      <td>Census Tract 1012.21, Los Angeles County, Cali...</td>\n",
       "      <td>1484</td>\n",
       "      <td>06037101221</td>\n",
       "    </tr>\n",
       "    <tr>\n",
       "      <th>4</th>\n",
       "      <td>06037101222</td>\n",
       "      <td>Census Tract 1012.22, Los Angeles County, Cali...</td>\n",
       "      <td>1525</td>\n",
       "      <td>06037101222</td>\n",
       "    </tr>\n",
       "    <tr>\n",
       "      <th>...</th>\n",
       "      <td>...</td>\n",
       "      <td>...</td>\n",
       "      <td>...</td>\n",
       "      <td>...</td>\n",
       "    </tr>\n",
       "    <tr>\n",
       "      <th>2493</th>\n",
       "      <td>06037980038</td>\n",
       "      <td>Census Tract 9800.38, Los Angeles County, Cali...</td>\n",
       "      <td>-</td>\n",
       "      <td>06037980038</td>\n",
       "    </tr>\n",
       "    <tr>\n",
       "      <th>2494</th>\n",
       "      <td>06037980039</td>\n",
       "      <td>Census Tract 9800.39, Los Angeles County, Cali...</td>\n",
       "      <td>-</td>\n",
       "      <td>06037980039</td>\n",
       "    </tr>\n",
       "    <tr>\n",
       "      <th>2495</th>\n",
       "      <td>06037990100</td>\n",
       "      <td>Census Tract 9901, Los Angeles County, California</td>\n",
       "      <td>-</td>\n",
       "      <td>06037990100</td>\n",
       "    </tr>\n",
       "    <tr>\n",
       "      <th>2496</th>\n",
       "      <td>06037990200</td>\n",
       "      <td>Census Tract 9902, Los Angeles County, California</td>\n",
       "      <td>-</td>\n",
       "      <td>06037990200</td>\n",
       "    </tr>\n",
       "    <tr>\n",
       "      <th>2497</th>\n",
       "      <td>06037990300</td>\n",
       "      <td>Census Tract 9903, Los Angeles County, California</td>\n",
       "      <td>-</td>\n",
       "      <td>06037990300</td>\n",
       "    </tr>\n",
       "  </tbody>\n",
       "</table>\n",
       "<p>2498 rows × 4 columns</p>\n",
       "</div>"
      ],
      "text/plain": [
       "           GEO_ID                                               NAME  \\\n",
       "0     06037101110  Census Tract 1011.10, Los Angeles County, Cali...   \n",
       "1     06037101122  Census Tract 1011.22, Los Angeles County, Cali...   \n",
       "2     06037101220  Census Tract 1012.20, Los Angeles County, Cali...   \n",
       "3     06037101221  Census Tract 1012.21, Los Angeles County, Cali...   \n",
       "4     06037101222  Census Tract 1012.22, Los Angeles County, Cali...   \n",
       "...           ...                                                ...   \n",
       "2493  06037980038  Census Tract 9800.38, Los Angeles County, Cali...   \n",
       "2494  06037980039  Census Tract 9800.39, Los Angeles County, Cali...   \n",
       "2495  06037990100  Census Tract 9901, Los Angeles County, California   \n",
       "2496  06037990200  Census Tract 9902, Los Angeles County, California   \n",
       "2497  06037990300  Census Tract 9903, Los Angeles County, California   \n",
       "\n",
       "     Gross Rent         FIPS  \n",
       "0          1689  06037101110  \n",
       "1          2529  06037101122  \n",
       "2          1324  06037101220  \n",
       "3          1484  06037101221  \n",
       "4          1525  06037101222  \n",
       "...         ...          ...  \n",
       "2493          -  06037980038  \n",
       "2494          -  06037980039  \n",
       "2495          -  06037990100  \n",
       "2496          -  06037990200  \n",
       "2497          -  06037990300  \n",
       "\n",
       "[2498 rows x 4 columns]"
      ]
     },
     "execution_count": 45,
     "metadata": {},
     "output_type": "execute_result"
    }
   ],
   "source": [
    "rent"
   ]
  },
  {
   "cell_type": "code",
   "execution_count": 46,
   "id": "01e0eca6-72e5-493d-b3e3-48cefa1df341",
   "metadata": {
    "executionInfo": {
     "elapsed": 7219,
     "status": "aborted",
     "timestamp": 1707737012441,
     "user": {
      "displayName": "Rodrigo Gutierrez",
      "userId": "04409930615507589682"
     },
     "user_tz": 480
    },
    "id": "01e0eca6-72e5-493d-b3e3-48cefa1df341"
   },
   "outputs": [],
   "source": [
    "## Merging here rent with tracts on 'FIPS'. Looks good."
   ]
  },
  {
   "cell_type": "code",
   "execution_count": 47,
   "id": "418110bc-2739-48d4-963b-0386b38895ad",
   "metadata": {
    "executionInfo": {
     "elapsed": 7214,
     "status": "aborted",
     "timestamp": 1707737012441,
     "user": {
      "displayName": "Rodrigo Gutierrez",
      "userId": "04409930615507589682"
     },
     "user_tz": 480
    },
    "id": "418110bc-2739-48d4-963b-0386b38895ad"
   },
   "outputs": [
    {
     "data": {
      "text/html": [
       "<div>\n",
       "<style scoped>\n",
       "    .dataframe tbody tr th:only-of-type {\n",
       "        vertical-align: middle;\n",
       "    }\n",
       "\n",
       "    .dataframe tbody tr th {\n",
       "        vertical-align: top;\n",
       "    }\n",
       "\n",
       "    .dataframe thead th {\n",
       "        text-align: right;\n",
       "    }\n",
       "</style>\n",
       "<table border=\"1\" class=\"dataframe\">\n",
       "  <thead>\n",
       "    <tr style=\"text-align: right;\">\n",
       "      <th></th>\n",
       "      <th>OBJECTID</th>\n",
       "      <th>CT20</th>\n",
       "      <th>LABEL</th>\n",
       "      <th>ShapeSTArea</th>\n",
       "      <th>ShapeSTLength</th>\n",
       "      <th>geometry</th>\n",
       "      <th>FIPS</th>\n",
       "      <th>GEO_ID</th>\n",
       "      <th>NAME</th>\n",
       "      <th>Gross Rent</th>\n",
       "    </tr>\n",
       "  </thead>\n",
       "  <tbody>\n",
       "    <tr>\n",
       "      <th>0</th>\n",
       "      <td>4992</td>\n",
       "      <td>101110</td>\n",
       "      <td>1011.10</td>\n",
       "      <td>1.229562e+07</td>\n",
       "      <td>15083.854287</td>\n",
       "      <td>POLYGON ((-118.29793 34.26323, -118.30082 34.2...</td>\n",
       "      <td>06037101110</td>\n",
       "      <td>06037101110</td>\n",
       "      <td>Census Tract 1011.10, Los Angeles County, Cali...</td>\n",
       "      <td>1689</td>\n",
       "    </tr>\n",
       "    <tr>\n",
       "      <th>1</th>\n",
       "      <td>4993</td>\n",
       "      <td>101122</td>\n",
       "      <td>1011.22</td>\n",
       "      <td>2.845774e+07</td>\n",
       "      <td>31671.455844</td>\n",
       "      <td>POLYGON ((-118.27743 34.25991, -118.27743 34.2...</td>\n",
       "      <td>06037101122</td>\n",
       "      <td>06037101122</td>\n",
       "      <td>Census Tract 1011.22, Los Angeles County, Cali...</td>\n",
       "      <td>2529</td>\n",
       "    </tr>\n",
       "    <tr>\n",
       "      <th>2</th>\n",
       "      <td>4994</td>\n",
       "      <td>101220</td>\n",
       "      <td>1012.20</td>\n",
       "      <td>7.522093e+06</td>\n",
       "      <td>12698.783810</td>\n",
       "      <td>POLYGON ((-118.27818 34.25577, -118.27887 34.2...</td>\n",
       "      <td>06037101220</td>\n",
       "      <td>06037101220</td>\n",
       "      <td>Census Tract 1012.20, Los Angeles County, Cali...</td>\n",
       "      <td>1324</td>\n",
       "    </tr>\n",
       "    <tr>\n",
       "      <th>3</th>\n",
       "      <td>4995</td>\n",
       "      <td>101221</td>\n",
       "      <td>1012.21</td>\n",
       "      <td>3.812000e+06</td>\n",
       "      <td>9161.710543</td>\n",
       "      <td>POLYGON ((-118.28735 34.25591, -118.28863 34.2...</td>\n",
       "      <td>06037101221</td>\n",
       "      <td>06037101221</td>\n",
       "      <td>Census Tract 1012.21, Los Angeles County, Cali...</td>\n",
       "      <td>1484</td>\n",
       "    </tr>\n",
       "    <tr>\n",
       "      <th>4</th>\n",
       "      <td>4996</td>\n",
       "      <td>101222</td>\n",
       "      <td>1012.22</td>\n",
       "      <td>3.191371e+06</td>\n",
       "      <td>9980.600461</td>\n",
       "      <td>POLYGON ((-118.28594 34.25590, -118.28697 34.2...</td>\n",
       "      <td>06037101222</td>\n",
       "      <td>06037101222</td>\n",
       "      <td>Census Tract 1012.22, Los Angeles County, Cali...</td>\n",
       "      <td>1525</td>\n",
       "    </tr>\n",
       "    <tr>\n",
       "      <th>...</th>\n",
       "      <td>...</td>\n",
       "      <td>...</td>\n",
       "      <td>...</td>\n",
       "      <td>...</td>\n",
       "      <td>...</td>\n",
       "      <td>...</td>\n",
       "      <td>...</td>\n",
       "      <td>...</td>\n",
       "      <td>...</td>\n",
       "      <td>...</td>\n",
       "    </tr>\n",
       "    <tr>\n",
       "      <th>2491</th>\n",
       "      <td>7483</td>\n",
       "      <td>577200</td>\n",
       "      <td>5772.00</td>\n",
       "      <td>3.763257e+07</td>\n",
       "      <td>29676.510893</td>\n",
       "      <td>POLYGON ((-118.15164 33.76626, -118.15242 33.7...</td>\n",
       "      <td>06037577200</td>\n",
       "      <td>06037577200</td>\n",
       "      <td>Census Tract 5772, Los Angeles County, California</td>\n",
       "      <td>1818</td>\n",
       "    </tr>\n",
       "    <tr>\n",
       "      <th>2492</th>\n",
       "      <td>7484</td>\n",
       "      <td>577300</td>\n",
       "      <td>5773.00</td>\n",
       "      <td>3.454461e+07</td>\n",
       "      <td>26605.219285</td>\n",
       "      <td>POLYGON ((-118.13269 33.75305, -118.13235 33.7...</td>\n",
       "      <td>06037577300</td>\n",
       "      <td>06037577300</td>\n",
       "      <td>Census Tract 5773, Los Angeles County, California</td>\n",
       "      <td>1714</td>\n",
       "    </tr>\n",
       "    <tr>\n",
       "      <th>2493</th>\n",
       "      <td>7485</td>\n",
       "      <td>577504</td>\n",
       "      <td>5775.04</td>\n",
       "      <td>4.154029e+07</td>\n",
       "      <td>30008.423940</td>\n",
       "      <td>POLYGON ((-118.13009 33.75447, -118.13067 33.7...</td>\n",
       "      <td>06037577504</td>\n",
       "      <td>06037577504</td>\n",
       "      <td>Census Tract 5775.04, Los Angeles County, Cali...</td>\n",
       "      <td>1957</td>\n",
       "    </tr>\n",
       "    <tr>\n",
       "      <th>2494</th>\n",
       "      <td>7486</td>\n",
       "      <td>599100</td>\n",
       "      <td>5991.00</td>\n",
       "      <td>3.618834e+09</td>\n",
       "      <td>792259.729437</td>\n",
       "      <td>MULTIPOLYGON (((-118.60595 33.47899, -118.6059...</td>\n",
       "      <td>06037599100</td>\n",
       "      <td>06037599100</td>\n",
       "      <td>Census Tract 5991, Los Angeles County, California</td>\n",
       "      <td>-</td>\n",
       "    </tr>\n",
       "    <tr>\n",
       "      <th>2495</th>\n",
       "      <td>7487</td>\n",
       "      <td>599000</td>\n",
       "      <td>5990.00</td>\n",
       "      <td>4.140374e+07</td>\n",
       "      <td>30722.660053</td>\n",
       "      <td>POLYGON ((-118.33163 33.35634, -118.33173 33.3...</td>\n",
       "      <td>06037599000</td>\n",
       "      <td>06037599000</td>\n",
       "      <td>Census Tract 5990, Los Angeles County, California</td>\n",
       "      <td>1672</td>\n",
       "    </tr>\n",
       "  </tbody>\n",
       "</table>\n",
       "<p>2496 rows × 10 columns</p>\n",
       "</div>"
      ],
      "text/plain": [
       "      OBJECTID    CT20    LABEL   ShapeSTArea  ShapeSTLength  \\\n",
       "0         4992  101110  1011.10  1.229562e+07   15083.854287   \n",
       "1         4993  101122  1011.22  2.845774e+07   31671.455844   \n",
       "2         4994  101220  1012.20  7.522093e+06   12698.783810   \n",
       "3         4995  101221  1012.21  3.812000e+06    9161.710543   \n",
       "4         4996  101222  1012.22  3.191371e+06    9980.600461   \n",
       "...        ...     ...      ...           ...            ...   \n",
       "2491      7483  577200  5772.00  3.763257e+07   29676.510893   \n",
       "2492      7484  577300  5773.00  3.454461e+07   26605.219285   \n",
       "2493      7485  577504  5775.04  4.154029e+07   30008.423940   \n",
       "2494      7486  599100  5991.00  3.618834e+09  792259.729437   \n",
       "2495      7487  599000  5990.00  4.140374e+07   30722.660053   \n",
       "\n",
       "                                               geometry         FIPS  \\\n",
       "0     POLYGON ((-118.29793 34.26323, -118.30082 34.2...  06037101110   \n",
       "1     POLYGON ((-118.27743 34.25991, -118.27743 34.2...  06037101122   \n",
       "2     POLYGON ((-118.27818 34.25577, -118.27887 34.2...  06037101220   \n",
       "3     POLYGON ((-118.28735 34.25591, -118.28863 34.2...  06037101221   \n",
       "4     POLYGON ((-118.28594 34.25590, -118.28697 34.2...  06037101222   \n",
       "...                                                 ...          ...   \n",
       "2491  POLYGON ((-118.15164 33.76626, -118.15242 33.7...  06037577200   \n",
       "2492  POLYGON ((-118.13269 33.75305, -118.13235 33.7...  06037577300   \n",
       "2493  POLYGON ((-118.13009 33.75447, -118.13067 33.7...  06037577504   \n",
       "2494  MULTIPOLYGON (((-118.60595 33.47899, -118.6059...  06037599100   \n",
       "2495  POLYGON ((-118.33163 33.35634, -118.33173 33.3...  06037599000   \n",
       "\n",
       "           GEO_ID                                               NAME  \\\n",
       "0     06037101110  Census Tract 1011.10, Los Angeles County, Cali...   \n",
       "1     06037101122  Census Tract 1011.22, Los Angeles County, Cali...   \n",
       "2     06037101220  Census Tract 1012.20, Los Angeles County, Cali...   \n",
       "3     06037101221  Census Tract 1012.21, Los Angeles County, Cali...   \n",
       "4     06037101222  Census Tract 1012.22, Los Angeles County, Cali...   \n",
       "...           ...                                                ...   \n",
       "2491  06037577200  Census Tract 5772, Los Angeles County, California   \n",
       "2492  06037577300  Census Tract 5773, Los Angeles County, California   \n",
       "2493  06037577504  Census Tract 5775.04, Los Angeles County, Cali...   \n",
       "2494  06037599100  Census Tract 5991, Los Angeles County, California   \n",
       "2495  06037599000  Census Tract 5990, Los Angeles County, California   \n",
       "\n",
       "     Gross Rent  \n",
       "0          1689  \n",
       "1          2529  \n",
       "2          1324  \n",
       "3          1484  \n",
       "4          1525  \n",
       "...         ...  \n",
       "2491       1818  \n",
       "2492       1714  \n",
       "2493       1957  \n",
       "2494          -  \n",
       "2495       1672  \n",
       "\n",
       "[2496 rows x 10 columns]"
      ]
     },
     "execution_count": 47,
     "metadata": {},
     "output_type": "execute_result"
    }
   ],
   "source": [
    "tracts_rent = tracts.merge(rent,on =\"FIPS\")\n",
    "tracts_rent"
   ]
  },
  {
   "cell_type": "code",
   "execution_count": 48,
   "id": "646c8c6d-a5af-4d3a-b98a-d6d6eb60e621",
   "metadata": {
    "executionInfo": {
     "elapsed": 7213,
     "status": "aborted",
     "timestamp": 1707737012441,
     "user": {
      "displayName": "Rodrigo Gutierrez",
      "userId": "04409930615507589682"
     },
     "user_tz": 480
    },
    "id": "646c8c6d-a5af-4d3a-b98a-d6d6eb60e621"
   },
   "outputs": [],
   "source": [
    "## Merging here the tracts_rent with the District 2 data on 'FIPS'."
   ]
  },
  {
   "cell_type": "code",
   "execution_count": 49,
   "id": "60bc10d1-952a-41bc-ba62-15b7197ecc5b",
   "metadata": {
    "executionInfo": {
     "elapsed": 7213,
     "status": "aborted",
     "timestamp": 1707737012442,
     "user": {
      "displayName": "Rodrigo Gutierrez",
      "userId": "04409930615507589682"
     },
     "user_tz": 480
    },
    "id": "60bc10d1-952a-41bc-ba62-15b7197ecc5b"
   },
   "outputs": [],
   "source": [
    "tracts_rentdis2 = tracts_rent.merge(District2, on = \"FIPS\")"
   ]
  },
  {
   "cell_type": "code",
   "execution_count": 50,
   "id": "f4d19004-1e63-41bc-a3a9-85fdc66cd299",
   "metadata": {
    "executionInfo": {
     "elapsed": 7212,
     "status": "aborted",
     "timestamp": 1707737012442,
     "user": {
      "displayName": "Rodrigo Gutierrez",
      "userId": "04409930615507589682"
     },
     "user_tz": 480
    },
    "id": "f4d19004-1e63-41bc-a3a9-85fdc66cd299"
   },
   "outputs": [],
   "source": [
    "## Let's see how well they combined. Looks good."
   ]
  },
  {
   "cell_type": "code",
   "execution_count": 51,
   "id": "b29c1649-521e-4ff2-ae1e-c821d9e3e172",
   "metadata": {
    "executionInfo": {
     "elapsed": 7207,
     "status": "aborted",
     "timestamp": 1707737012442,
     "user": {
      "displayName": "Rodrigo Gutierrez",
      "userId": "04409930615507589682"
     },
     "user_tz": 480
    },
    "id": "b29c1649-521e-4ff2-ae1e-c821d9e3e172"
   },
   "outputs": [
    {
     "data": {
      "text/html": [
       "<div>\n",
       "<style scoped>\n",
       "    .dataframe tbody tr th:only-of-type {\n",
       "        vertical-align: middle;\n",
       "    }\n",
       "\n",
       "    .dataframe tbody tr th {\n",
       "        vertical-align: top;\n",
       "    }\n",
       "\n",
       "    .dataframe thead th {\n",
       "        text-align: right;\n",
       "    }\n",
       "</style>\n",
       "<table border=\"1\" class=\"dataframe\">\n",
       "  <thead>\n",
       "    <tr style=\"text-align: right;\">\n",
       "      <th></th>\n",
       "      <th>OBJECTID</th>\n",
       "      <th>CT20_x</th>\n",
       "      <th>LABEL_x</th>\n",
       "      <th>ShapeSTArea</th>\n",
       "      <th>ShapeSTLength</th>\n",
       "      <th>geometry</th>\n",
       "      <th>FIPS</th>\n",
       "      <th>GEO_ID</th>\n",
       "      <th>NAME_x</th>\n",
       "      <th>Gross Rent</th>\n",
       "      <th>...</th>\n",
       "      <th>NAME_y</th>\n",
       "      <th>SUP_NAME</th>\n",
       "      <th>DIST_SUP</th>\n",
       "      <th>CITYNAME_ALF</th>\n",
       "      <th>NAME_1</th>\n",
       "      <th>JURISDICTION</th>\n",
       "      <th>AREA_NUM</th>\n",
       "      <th>AREA_NAME</th>\n",
       "      <th>Shape__Area</th>\n",
       "      <th>Shape__Length</th>\n",
       "    </tr>\n",
       "  </thead>\n",
       "  <tbody>\n",
       "    <tr>\n",
       "      <th>0</th>\n",
       "      <td>5631</td>\n",
       "      <td>211000</td>\n",
       "      <td>2110.00</td>\n",
       "      <td>2.859668e+07</td>\n",
       "      <td>25170.331758</td>\n",
       "      <td>POLYGON ((-118.32268 34.07621, -118.32355 34.0...</td>\n",
       "      <td>06037211000</td>\n",
       "      <td>06037211000</td>\n",
       "      <td>Census Tract 2110, Los Angeles County, California</td>\n",
       "      <td>2782</td>\n",
       "      <td>...</td>\n",
       "      <td>2ND SUP. DISTRICT</td>\n",
       "      <td>2ND DISTRICT: HOLLY MITCHELL</td>\n",
       "      <td>2</td>\n",
       "      <td>LOS ANGELES</td>\n",
       "      <td>NaN</td>\n",
       "      <td>INCORPORATED CITY</td>\n",
       "      <td>5</td>\n",
       "      <td>Westside Planning Area</td>\n",
       "      <td>3.881413e+06</td>\n",
       "      <td>9270.888577</td>\n",
       "    </tr>\n",
       "    <tr>\n",
       "      <th>1</th>\n",
       "      <td>5632</td>\n",
       "      <td>211121</td>\n",
       "      <td>2111.21</td>\n",
       "      <td>2.302636e+06</td>\n",
       "      <td>7588.943500</td>\n",
       "      <td>POLYGON ((-118.28441 34.07672, -118.28560 34.0...</td>\n",
       "      <td>06037211121</td>\n",
       "      <td>06037211121</td>\n",
       "      <td>Census Tract 2111.21, Los Angeles County, Cali...</td>\n",
       "      <td>1683</td>\n",
       "      <td>...</td>\n",
       "      <td>2ND SUP. DISTRICT</td>\n",
       "      <td>2ND DISTRICT: HOLLY MITCHELL</td>\n",
       "      <td>2</td>\n",
       "      <td>LOS ANGELES</td>\n",
       "      <td>NaN</td>\n",
       "      <td>INCORPORATED CITY</td>\n",
       "      <td>9</td>\n",
       "      <td>Metro Planning Area</td>\n",
       "      <td>3.125745e+05</td>\n",
       "      <td>2799.117227</td>\n",
       "    </tr>\n",
       "    <tr>\n",
       "      <th>2</th>\n",
       "      <td>5633</td>\n",
       "      <td>211122</td>\n",
       "      <td>2111.22</td>\n",
       "      <td>3.934734e+06</td>\n",
       "      <td>8274.051868</td>\n",
       "      <td>POLYGON ((-118.28682 34.07634, -118.28798 34.0...</td>\n",
       "      <td>06037211122</td>\n",
       "      <td>06037211122</td>\n",
       "      <td>Census Tract 2111.22, Los Angeles County, Cali...</td>\n",
       "      <td>1701</td>\n",
       "      <td>...</td>\n",
       "      <td>2ND SUP. DISTRICT</td>\n",
       "      <td>2ND DISTRICT: HOLLY MITCHELL</td>\n",
       "      <td>2</td>\n",
       "      <td>LOS ANGELES</td>\n",
       "      <td>NaN</td>\n",
       "      <td>INCORPORATED CITY</td>\n",
       "      <td>9</td>\n",
       "      <td>Metro Planning Area</td>\n",
       "      <td>5.341218e+05</td>\n",
       "      <td>3050.487937</td>\n",
       "    </tr>\n",
       "    <tr>\n",
       "      <th>3</th>\n",
       "      <td>5634</td>\n",
       "      <td>211123</td>\n",
       "      <td>2111.23</td>\n",
       "      <td>1.851716e+06</td>\n",
       "      <td>6798.256629</td>\n",
       "      <td>POLYGON ((-118.28231 34.06287, -118.28309 34.0...</td>\n",
       "      <td>06037211123</td>\n",
       "      <td>06037211123</td>\n",
       "      <td>Census Tract 2111.23, Los Angeles County, Cali...</td>\n",
       "      <td>2432</td>\n",
       "      <td>...</td>\n",
       "      <td>2ND SUP. DISTRICT</td>\n",
       "      <td>2ND DISTRICT: HOLLY MITCHELL</td>\n",
       "      <td>2</td>\n",
       "      <td>LOS ANGELES</td>\n",
       "      <td>NaN</td>\n",
       "      <td>INCORPORATED CITY</td>\n",
       "      <td>9</td>\n",
       "      <td>Metro Planning Area</td>\n",
       "      <td>2.513022e+05</td>\n",
       "      <td>2501.035059</td>\n",
       "    </tr>\n",
       "    <tr>\n",
       "      <th>4</th>\n",
       "      <td>5635</td>\n",
       "      <td>211124</td>\n",
       "      <td>2111.24</td>\n",
       "      <td>4.252116e+06</td>\n",
       "      <td>8179.690837</td>\n",
       "      <td>POLYGON ((-118.28681 34.06899, -118.28734 34.0...</td>\n",
       "      <td>06037211124</td>\n",
       "      <td>06037211124</td>\n",
       "      <td>Census Tract 2111.24, Los Angeles County, Cali...</td>\n",
       "      <td>1606</td>\n",
       "      <td>...</td>\n",
       "      <td>2ND SUP. DISTRICT</td>\n",
       "      <td>2ND DISTRICT: HOLLY MITCHELL</td>\n",
       "      <td>2</td>\n",
       "      <td>LOS ANGELES</td>\n",
       "      <td>NaN</td>\n",
       "      <td>INCORPORATED CITY</td>\n",
       "      <td>9</td>\n",
       "      <td>Metro Planning Area</td>\n",
       "      <td>5.771177e+05</td>\n",
       "      <td>3012.923477</td>\n",
       "    </tr>\n",
       "    <tr>\n",
       "      <th>...</th>\n",
       "      <td>...</td>\n",
       "      <td>...</td>\n",
       "      <td>...</td>\n",
       "      <td>...</td>\n",
       "      <td>...</td>\n",
       "      <td>...</td>\n",
       "      <td>...</td>\n",
       "      <td>...</td>\n",
       "      <td>...</td>\n",
       "      <td>...</td>\n",
       "      <td>...</td>\n",
       "      <td>...</td>\n",
       "      <td>...</td>\n",
       "      <td>...</td>\n",
       "      <td>...</td>\n",
       "      <td>...</td>\n",
       "      <td>...</td>\n",
       "      <td>...</td>\n",
       "      <td>...</td>\n",
       "      <td>...</td>\n",
       "      <td>...</td>\n",
       "    </tr>\n",
       "    <tr>\n",
       "      <th>501</th>\n",
       "      <td>7454</td>\n",
       "      <td>621204</td>\n",
       "      <td>6212.04</td>\n",
       "      <td>1.768767e+07</td>\n",
       "      <td>18044.600961</td>\n",
       "      <td>POLYGON ((-118.38581 33.84206, -118.38594 33.8...</td>\n",
       "      <td>06037621204</td>\n",
       "      <td>06037621204</td>\n",
       "      <td>Census Tract 6212.04, Los Angeles County, Cali...</td>\n",
       "      <td>2393</td>\n",
       "      <td>...</td>\n",
       "      <td>2ND SUP. DISTRICT</td>\n",
       "      <td>2ND DISTRICT: HOLLY MITCHELL</td>\n",
       "      <td>2</td>\n",
       "      <td>REDONDO BEACH</td>\n",
       "      <td>NaN</td>\n",
       "      <td>INCORPORATED CITY</td>\n",
       "      <td>11</td>\n",
       "      <td>South Bay Planning Area</td>\n",
       "      <td>3.156916e+06</td>\n",
       "      <td>7343.550176</td>\n",
       "    </tr>\n",
       "    <tr>\n",
       "      <th>502</th>\n",
       "      <td>7455</td>\n",
       "      <td>621324</td>\n",
       "      <td>6213.24</td>\n",
       "      <td>7.232156e+06</td>\n",
       "      <td>14495.167538</td>\n",
       "      <td>POLYGON ((-118.38554 33.82881, -118.38513 33.8...</td>\n",
       "      <td>06037621324</td>\n",
       "      <td>06037621324</td>\n",
       "      <td>Census Tract 6213.24, Los Angeles County, Cali...</td>\n",
       "      <td>2277</td>\n",
       "      <td>...</td>\n",
       "      <td>2ND SUP. DISTRICT</td>\n",
       "      <td>2ND DISTRICT: HOLLY MITCHELL</td>\n",
       "      <td>2</td>\n",
       "      <td>REDONDO BEACH</td>\n",
       "      <td>NaN</td>\n",
       "      <td>INCORPORATED CITY</td>\n",
       "      <td>11</td>\n",
       "      <td>South Bay Planning Area</td>\n",
       "      <td>1.999899e+06</td>\n",
       "      <td>6404.459387</td>\n",
       "    </tr>\n",
       "    <tr>\n",
       "      <th>503</th>\n",
       "      <td>7456</td>\n",
       "      <td>621326</td>\n",
       "      <td>6213.26</td>\n",
       "      <td>8.598067e+06</td>\n",
       "      <td>13999.170500</td>\n",
       "      <td>POLYGON ((-118.38554 33.82881, -118.38574 33.8...</td>\n",
       "      <td>06037621326</td>\n",
       "      <td>06037621326</td>\n",
       "      <td>Census Tract 6213.26, Los Angeles County, Cali...</td>\n",
       "      <td>2295</td>\n",
       "      <td>...</td>\n",
       "      <td>2ND SUP. DISTRICT</td>\n",
       "      <td>2ND DISTRICT: HOLLY MITCHELL</td>\n",
       "      <td>2</td>\n",
       "      <td>REDONDO BEACH</td>\n",
       "      <td>NaN</td>\n",
       "      <td>INCORPORATED CITY</td>\n",
       "      <td>11</td>\n",
       "      <td>South Bay Planning Area</td>\n",
       "      <td>2.474795e+06</td>\n",
       "      <td>6541.845926</td>\n",
       "    </tr>\n",
       "    <tr>\n",
       "      <th>504</th>\n",
       "      <td>7476</td>\n",
       "      <td>980028</td>\n",
       "      <td>9800.28</td>\n",
       "      <td>1.863799e+08</td>\n",
       "      <td>83749.390711</td>\n",
       "      <td>POLYGON ((-118.38574 33.95531, -118.38634 33.9...</td>\n",
       "      <td>06037980028</td>\n",
       "      <td>06037980028</td>\n",
       "      <td>Census Tract 9800.28, Los Angeles County, Cali...</td>\n",
       "      <td>-</td>\n",
       "      <td>...</td>\n",
       "      <td>2ND SUP. DISTRICT</td>\n",
       "      <td>2ND DISTRICT: HOLLY MITCHELL</td>\n",
       "      <td>2</td>\n",
       "      <td>LOS ANGELES</td>\n",
       "      <td>NaN</td>\n",
       "      <td>INCORPORATED CITY</td>\n",
       "      <td>5</td>\n",
       "      <td>Westside Planning Area</td>\n",
       "      <td>2.867719e+07</td>\n",
       "      <td>31517.576850</td>\n",
       "    </tr>\n",
       "    <tr>\n",
       "      <th>505</th>\n",
       "      <td>7477</td>\n",
       "      <td>980030</td>\n",
       "      <td>9800.30</td>\n",
       "      <td>4.594232e+07</td>\n",
       "      <td>30586.970798</td>\n",
       "      <td>POLYGON ((-118.42223 33.91633, -118.42756 33.9...</td>\n",
       "      <td>06037980030</td>\n",
       "      <td>06037980030</td>\n",
       "      <td>Census Tract 9800.30, Los Angeles County, Cali...</td>\n",
       "      <td>-</td>\n",
       "      <td>...</td>\n",
       "      <td>2ND SUP. DISTRICT</td>\n",
       "      <td>2ND DISTRICT: HOLLY MITCHELL</td>\n",
       "      <td>2</td>\n",
       "      <td>EL SEGUNDO</td>\n",
       "      <td>NaN</td>\n",
       "      <td>INCORPORATED CITY</td>\n",
       "      <td>5</td>\n",
       "      <td>South Bay Planning Area</td>\n",
       "      <td>7.606368e+06</td>\n",
       "      <td>12791.712010</td>\n",
       "    </tr>\n",
       "  </tbody>\n",
       "</table>\n",
       "<p>506 rows × 25 columns</p>\n",
       "</div>"
      ],
      "text/plain": [
       "     OBJECTID  CT20_x  LABEL_x   ShapeSTArea  ShapeSTLength  \\\n",
       "0        5631  211000  2110.00  2.859668e+07   25170.331758   \n",
       "1        5632  211121  2111.21  2.302636e+06    7588.943500   \n",
       "2        5633  211122  2111.22  3.934734e+06    8274.051868   \n",
       "3        5634  211123  2111.23  1.851716e+06    6798.256629   \n",
       "4        5635  211124  2111.24  4.252116e+06    8179.690837   \n",
       "..        ...     ...      ...           ...            ...   \n",
       "501      7454  621204  6212.04  1.768767e+07   18044.600961   \n",
       "502      7455  621324  6213.24  7.232156e+06   14495.167538   \n",
       "503      7456  621326  6213.26  8.598067e+06   13999.170500   \n",
       "504      7476  980028  9800.28  1.863799e+08   83749.390711   \n",
       "505      7477  980030  9800.30  4.594232e+07   30586.970798   \n",
       "\n",
       "                                              geometry         FIPS  \\\n",
       "0    POLYGON ((-118.32268 34.07621, -118.32355 34.0...  06037211000   \n",
       "1    POLYGON ((-118.28441 34.07672, -118.28560 34.0...  06037211121   \n",
       "2    POLYGON ((-118.28682 34.07634, -118.28798 34.0...  06037211122   \n",
       "3    POLYGON ((-118.28231 34.06287, -118.28309 34.0...  06037211123   \n",
       "4    POLYGON ((-118.28681 34.06899, -118.28734 34.0...  06037211124   \n",
       "..                                                 ...          ...   \n",
       "501  POLYGON ((-118.38581 33.84206, -118.38594 33.8...  06037621204   \n",
       "502  POLYGON ((-118.38554 33.82881, -118.38513 33.8...  06037621324   \n",
       "503  POLYGON ((-118.38554 33.82881, -118.38574 33.8...  06037621326   \n",
       "504  POLYGON ((-118.38574 33.95531, -118.38634 33.9...  06037980028   \n",
       "505  POLYGON ((-118.42223 33.91633, -118.42756 33.9...  06037980030   \n",
       "\n",
       "          GEO_ID                                             NAME_x  \\\n",
       "0    06037211000  Census Tract 2110, Los Angeles County, California   \n",
       "1    06037211121  Census Tract 2111.21, Los Angeles County, Cali...   \n",
       "2    06037211122  Census Tract 2111.22, Los Angeles County, Cali...   \n",
       "3    06037211123  Census Tract 2111.23, Los Angeles County, Cali...   \n",
       "4    06037211124  Census Tract 2111.24, Los Angeles County, Cali...   \n",
       "..           ...                                                ...   \n",
       "501  06037621204  Census Tract 6212.04, Los Angeles County, Cali...   \n",
       "502  06037621324  Census Tract 6213.24, Los Angeles County, Cali...   \n",
       "503  06037621326  Census Tract 6213.26, Los Angeles County, Cali...   \n",
       "504  06037980028  Census Tract 9800.28, Los Angeles County, Cali...   \n",
       "505  06037980030  Census Tract 9800.30, Los Angeles County, Cali...   \n",
       "\n",
       "    Gross Rent  ...             NAME_y                      SUP_NAME  \\\n",
       "0         2782  ...  2ND SUP. DISTRICT  2ND DISTRICT: HOLLY MITCHELL   \n",
       "1         1683  ...  2ND SUP. DISTRICT  2ND DISTRICT: HOLLY MITCHELL   \n",
       "2         1701  ...  2ND SUP. DISTRICT  2ND DISTRICT: HOLLY MITCHELL   \n",
       "3         2432  ...  2ND SUP. DISTRICT  2ND DISTRICT: HOLLY MITCHELL   \n",
       "4         1606  ...  2ND SUP. DISTRICT  2ND DISTRICT: HOLLY MITCHELL   \n",
       "..         ...  ...                ...                           ...   \n",
       "501       2393  ...  2ND SUP. DISTRICT  2ND DISTRICT: HOLLY MITCHELL   \n",
       "502       2277  ...  2ND SUP. DISTRICT  2ND DISTRICT: HOLLY MITCHELL   \n",
       "503       2295  ...  2ND SUP. DISTRICT  2ND DISTRICT: HOLLY MITCHELL   \n",
       "504          -  ...  2ND SUP. DISTRICT  2ND DISTRICT: HOLLY MITCHELL   \n",
       "505          -  ...  2ND SUP. DISTRICT  2ND DISTRICT: HOLLY MITCHELL   \n",
       "\n",
       "     DIST_SUP   CITYNAME_ALF  NAME_1       JURISDICTION AREA_NUM  \\\n",
       "0           2    LOS ANGELES     NaN  INCORPORATED CITY        5   \n",
       "1           2    LOS ANGELES     NaN  INCORPORATED CITY        9   \n",
       "2           2    LOS ANGELES     NaN  INCORPORATED CITY        9   \n",
       "3           2    LOS ANGELES     NaN  INCORPORATED CITY        9   \n",
       "4           2    LOS ANGELES     NaN  INCORPORATED CITY        9   \n",
       "..        ...            ...     ...                ...      ...   \n",
       "501         2  REDONDO BEACH     NaN  INCORPORATED CITY       11   \n",
       "502         2  REDONDO BEACH     NaN  INCORPORATED CITY       11   \n",
       "503         2  REDONDO BEACH     NaN  INCORPORATED CITY       11   \n",
       "504         2    LOS ANGELES     NaN  INCORPORATED CITY        5   \n",
       "505         2     EL SEGUNDO     NaN  INCORPORATED CITY        5   \n",
       "\n",
       "                   AREA_NAME   Shape__Area Shape__Length  \n",
       "0     Westside Planning Area  3.881413e+06   9270.888577  \n",
       "1        Metro Planning Area  3.125745e+05   2799.117227  \n",
       "2        Metro Planning Area  5.341218e+05   3050.487937  \n",
       "3        Metro Planning Area  2.513022e+05   2501.035059  \n",
       "4        Metro Planning Area  5.771177e+05   3012.923477  \n",
       "..                       ...           ...           ...  \n",
       "501  South Bay Planning Area  3.156916e+06   7343.550176  \n",
       "502  South Bay Planning Area  1.999899e+06   6404.459387  \n",
       "503  South Bay Planning Area  2.474795e+06   6541.845926  \n",
       "504   Westside Planning Area  2.867719e+07  31517.576850  \n",
       "505  South Bay Planning Area  7.606368e+06  12791.712010  \n",
       "\n",
       "[506 rows x 25 columns]"
      ]
     },
     "execution_count": 51,
     "metadata": {},
     "output_type": "execute_result"
    }
   ],
   "source": [
    "tracts_rentdis2"
   ]
  },
  {
   "cell_type": "code",
   "execution_count": 52,
   "id": "95696222-c0ba-4c11-8b89-199f7264f5bc",
   "metadata": {
    "executionInfo": {
     "elapsed": 7201,
     "status": "aborted",
     "timestamp": 1707737012442,
     "user": {
      "displayName": "Rodrigo Gutierrez",
      "userId": "04409930615507589682"
     },
     "user_tz": 480
    },
    "id": "95696222-c0ba-4c11-8b89-199f7264f5bc"
   },
   "outputs": [],
   "source": [
    "## Found this code to take away the rows where there was no rent listed. I checked again and I'm not sure why they disappeared\n",
    "## before I did this, but keeping it just in case."
   ]
  },
  {
   "cell_type": "code",
   "execution_count": 53,
   "id": "d4af6b89-346f-4ed2-9e1e-37b05b3b5a20",
   "metadata": {
    "executionInfo": {
     "elapsed": 7200,
     "status": "aborted",
     "timestamp": 1707737012442,
     "user": {
      "displayName": "Rodrigo Gutierrez",
      "userId": "04409930615507589682"
     },
     "user_tz": 480
    },
    "id": "d4af6b89-346f-4ed2-9e1e-37b05b3b5a20"
   },
   "outputs": [],
   "source": [
    "tracts_rentdis2 = tracts_rentdis2[tracts_rentdis2['Gross Rent'] != '-']"
   ]
  },
  {
   "cell_type": "code",
   "execution_count": 54,
   "id": "725d7061-4974-4216-a7d7-ae50352039de",
   "metadata": {
    "executionInfo": {
     "elapsed": 7199,
     "status": "aborted",
     "timestamp": 1707737012442,
     "user": {
      "displayName": "Rodrigo Gutierrez",
      "userId": "04409930615507589682"
     },
     "user_tz": 480
    },
    "id": "725d7061-4974-4216-a7d7-ae50352039de"
   },
   "outputs": [],
   "source": [
    "## Here I wanted to see the top 5 highest rents. Looks like District 2's highest gross rent seems to be 3459."
   ]
  },
  {
   "cell_type": "code",
   "execution_count": 55,
   "id": "06a274dc-97af-415f-8a3a-82b04d487920",
   "metadata": {
    "executionInfo": {
     "elapsed": 7174,
     "status": "aborted",
     "timestamp": 1707737012443,
     "user": {
      "displayName": "Rodrigo Gutierrez",
      "userId": "04409930615507589682"
     },
     "user_tz": 480
    },
    "id": "06a274dc-97af-415f-8a3a-82b04d487920"
   },
   "outputs": [
    {
     "data": {
      "text/html": [
       "<div>\n",
       "<style scoped>\n",
       "    .dataframe tbody tr th:only-of-type {\n",
       "        vertical-align: middle;\n",
       "    }\n",
       "\n",
       "    .dataframe tbody tr th {\n",
       "        vertical-align: top;\n",
       "    }\n",
       "\n",
       "    .dataframe thead th {\n",
       "        text-align: right;\n",
       "    }\n",
       "</style>\n",
       "<table border=\"1\" class=\"dataframe\">\n",
       "  <thead>\n",
       "    <tr style=\"text-align: right;\">\n",
       "      <th></th>\n",
       "      <th>GEO_ID</th>\n",
       "      <th>Gross Rent</th>\n",
       "    </tr>\n",
       "  </thead>\n",
       "  <tbody>\n",
       "    <tr>\n",
       "      <th>340</th>\n",
       "      <td>06037543304</td>\n",
       "      <td>3106</td>\n",
       "    </tr>\n",
       "    <tr>\n",
       "      <th>470</th>\n",
       "      <td>06037620901</td>\n",
       "      <td>3125</td>\n",
       "    </tr>\n",
       "    <tr>\n",
       "      <th>257</th>\n",
       "      <td>06037275312</td>\n",
       "      <td>3217</td>\n",
       "    </tr>\n",
       "    <tr>\n",
       "      <th>409</th>\n",
       "      <td>06037602302</td>\n",
       "      <td>3217</td>\n",
       "    </tr>\n",
       "    <tr>\n",
       "      <th>484</th>\n",
       "      <td>06037702900</td>\n",
       "      <td>3287</td>\n",
       "    </tr>\n",
       "    <tr>\n",
       "      <th>457</th>\n",
       "      <td>06037620301</td>\n",
       "      <td>3345</td>\n",
       "    </tr>\n",
       "    <tr>\n",
       "      <th>258</th>\n",
       "      <td>06037275313</td>\n",
       "      <td>3459</td>\n",
       "    </tr>\n",
       "    <tr>\n",
       "      <th>246</th>\n",
       "      <td>06037242600</td>\n",
       "      <td>675</td>\n",
       "    </tr>\n",
       "    <tr>\n",
       "      <th>247</th>\n",
       "      <td>06037242700</td>\n",
       "      <td>791</td>\n",
       "    </tr>\n",
       "    <tr>\n",
       "      <th>242</th>\n",
       "      <td>06037242100</td>\n",
       "      <td>834</td>\n",
       "    </tr>\n",
       "    <tr>\n",
       "      <th>158</th>\n",
       "      <td>06037232402</td>\n",
       "      <td>879</td>\n",
       "    </tr>\n",
       "    <tr>\n",
       "      <th>110</th>\n",
       "      <td>06037224420</td>\n",
       "      <td>889</td>\n",
       "    </tr>\n",
       "    <tr>\n",
       "      <th>329</th>\n",
       "      <td>06037542501</td>\n",
       "      <td>916</td>\n",
       "    </tr>\n",
       "    <tr>\n",
       "      <th>132</th>\n",
       "      <td>06037228900</td>\n",
       "      <td>924</td>\n",
       "    </tr>\n",
       "    <tr>\n",
       "      <th>311</th>\n",
       "      <td>06037541100</td>\n",
       "      <td>928</td>\n",
       "    </tr>\n",
       "    <tr>\n",
       "      <th>310</th>\n",
       "      <td>06037541003</td>\n",
       "      <td>952</td>\n",
       "    </tr>\n",
       "    <tr>\n",
       "      <th>244</th>\n",
       "      <td>06037242202</td>\n",
       "      <td>953</td>\n",
       "    </tr>\n",
       "    <tr>\n",
       "      <th>250</th>\n",
       "      <td>06037243100</td>\n",
       "      <td>968</td>\n",
       "    </tr>\n",
       "    <tr>\n",
       "      <th>175</th>\n",
       "      <td>06037234901</td>\n",
       "      <td>972</td>\n",
       "    </tr>\n",
       "    <tr>\n",
       "      <th>140</th>\n",
       "      <td>06037231220</td>\n",
       "      <td>985</td>\n",
       "    </tr>\n",
       "  </tbody>\n",
       "</table>\n",
       "</div>"
      ],
      "text/plain": [
       "          GEO_ID Gross Rent\n",
       "340  06037543304       3106\n",
       "470  06037620901       3125\n",
       "257  06037275312       3217\n",
       "409  06037602302       3217\n",
       "484  06037702900       3287\n",
       "457  06037620301       3345\n",
       "258  06037275313       3459\n",
       "246  06037242600        675\n",
       "247  06037242700        791\n",
       "242  06037242100        834\n",
       "158  06037232402        879\n",
       "110  06037224420        889\n",
       "329  06037542501        916\n",
       "132  06037228900        924\n",
       "311  06037541100        928\n",
       "310  06037541003        952\n",
       "244  06037242202        953\n",
       "250  06037243100        968\n",
       "175  06037234901        972\n",
       "140  06037231220        985"
      ]
     },
     "execution_count": 55,
     "metadata": {},
     "output_type": "execute_result"
    }
   ],
   "source": [
    "tracts_rentdis2.sort_values(by='Gross Rent', ascending = True)[['GEO_ID', 'Gross Rent']].tail(20)"
   ]
  },
  {
   "cell_type": "code",
   "execution_count": 56,
   "id": "11e93c06-c6ac-4958-94a4-aad4f6738245",
   "metadata": {
    "executionInfo": {
     "elapsed": 7172,
     "status": "aborted",
     "timestamp": 1707737012443,
     "user": {
      "displayName": "Rodrigo Gutierrez",
      "userId": "04409930615507589682"
     },
     "user_tz": 480
    },
    "id": "11e93c06-c6ac-4958-94a4-aad4f6738245"
   },
   "outputs": [],
   "source": [
    "## Doing the same, but for the smallest rent, seems like 675 is the smallest gross rent that could be found in a census tract."
   ]
  },
  {
   "cell_type": "code",
   "execution_count": 57,
   "id": "c9cf0266-08b7-48c2-a2d0-ef77d523cd8d",
   "metadata": {
    "executionInfo": {
     "elapsed": 7117,
     "status": "aborted",
     "timestamp": 1707737012443,
     "user": {
      "displayName": "Rodrigo Gutierrez",
      "userId": "04409930615507589682"
     },
     "user_tz": 480
    },
    "id": "c9cf0266-08b7-48c2-a2d0-ef77d523cd8d"
   },
   "outputs": [],
   "source": [
    "## Checking if any of the columns are empty. Doesn't appear like there is."
   ]
  },
  {
   "cell_type": "code",
   "execution_count": 58,
   "id": "70f6b9bd-fc40-4246-baf1-2955f5d24aaa",
   "metadata": {
    "executionInfo": {
     "elapsed": 7100,
     "status": "aborted",
     "timestamp": 1707737012444,
     "user": {
      "displayName": "Rodrigo Gutierrez",
      "userId": "04409930615507589682"
     },
     "user_tz": 480
    },
    "id": "70f6b9bd-fc40-4246-baf1-2955f5d24aaa"
   },
   "outputs": [
    {
     "data": {
      "text/plain": [
       "[]"
      ]
     },
     "execution_count": 58,
     "metadata": {},
     "output_type": "execute_result"
    }
   ],
   "source": [
    "tracts_rentdis2.columns[tracts_rentdis2.isna().all()].tolist()"
   ]
  },
  {
   "cell_type": "code",
   "execution_count": 59,
   "id": "0d428df2-e749-4610-ae73-5800bf9cfba9",
   "metadata": {
    "executionInfo": {
     "elapsed": 7325,
     "status": "aborted",
     "timestamp": 1707737012670,
     "user": {
      "displayName": "Rodrigo Gutierrez",
      "userId": "04409930615507589682"
     },
     "user_tz": 480
    },
    "id": "0d428df2-e749-4610-ae73-5800bf9cfba9"
   },
   "outputs": [],
   "source": [
    "## I had tried to plot this, but it said 'Gross Rent' wasn't plotable because they weren't integers, found this code to change it."
   ]
  },
  {
   "cell_type": "code",
   "execution_count": 60,
   "id": "a8d3c984-5b62-4396-8476-72303cb63023",
   "metadata": {
    "executionInfo": {
     "elapsed": 7315,
     "status": "aborted",
     "timestamp": 1707737012671,
     "user": {
      "displayName": "Rodrigo Gutierrez",
      "userId": "04409930615507589682"
     },
     "user_tz": 480
    },
    "id": "a8d3c984-5b62-4396-8476-72303cb63023"
   },
   "outputs": [
    {
     "name": "stderr",
     "output_type": "stream",
     "text": [
      "/opt/conda/lib/python3.11/site-packages/geopandas/geodataframe.py:1543: SettingWithCopyWarning: \n",
      "A value is trying to be set on a copy of a slice from a DataFrame.\n",
      "Try using .loc[row_indexer,col_indexer] = value instead\n",
      "\n",
      "See the caveats in the documentation: https://pandas.pydata.org/pandas-docs/stable/user_guide/indexing.html#returning-a-view-versus-a-copy\n",
      "  super().__setitem__(key, value)\n"
     ]
    }
   ],
   "source": [
    "tracts_rentdis2['Gross Rent'] = pd.to_numeric(tracts_rentdis2['Gross Rent'], errors='coerce')"
   ]
  },
  {
   "cell_type": "code",
   "execution_count": 61,
   "id": "37358bbb-9139-4da1-9f73-c6f598e011a1",
   "metadata": {
    "executionInfo": {
     "elapsed": 7313,
     "status": "aborted",
     "timestamp": 1707737012672,
     "user": {
      "displayName": "Rodrigo Gutierrez",
      "userId": "04409930615507589682"
     },
     "user_tz": 480
    },
    "id": "37358bbb-9139-4da1-9f73-c6f598e011a1"
   },
   "outputs": [],
   "source": [
    "## Using this next code to drop any NaN values that I do not want to plot within the 'Gross Rent' column."
   ]
  },
  {
   "cell_type": "code",
   "execution_count": 62,
   "id": "c3a3e9b3-8b99-48be-b103-50eac4e51112",
   "metadata": {
    "executionInfo": {
     "elapsed": 7302,
     "status": "aborted",
     "timestamp": 1707737012673,
     "user": {
      "displayName": "Rodrigo Gutierrez",
      "userId": "04409930615507589682"
     },
     "user_tz": 480
    },
    "id": "c3a3e9b3-8b99-48be-b103-50eac4e51112"
   },
   "outputs": [
    {
     "name": "stderr",
     "output_type": "stream",
     "text": [
      "/tmp/ipykernel_1873/3888192014.py:1: SettingWithCopyWarning: \n",
      "A value is trying to be set on a copy of a slice from a DataFrame\n",
      "\n",
      "See the caveats in the documentation: https://pandas.pydata.org/pandas-docs/stable/user_guide/indexing.html#returning-a-view-versus-a-copy\n",
      "  tracts_rentdis2.dropna(subset=['Gross Rent'], inplace=True)\n"
     ]
    }
   ],
   "source": [
    "tracts_rentdis2.dropna(subset=['Gross Rent'], inplace=True)"
   ]
  },
  {
   "cell_type": "code",
   "execution_count": 63,
   "id": "8193ec6d-a63f-4623-aad6-c817dd3fa699",
   "metadata": {
    "executionInfo": {
     "elapsed": 7298,
     "status": "aborted",
     "timestamp": 1707737012673,
     "user": {
      "displayName": "Rodrigo Gutierrez",
      "userId": "04409930615507589682"
     },
     "user_tz": 480
    },
    "id": "8193ec6d-a63f-4623-aad6-c817dd3fa699"
   },
   "outputs": [],
   "source": [
    "## Time to plot this finally, let's see if it works. First let's see how it looks on a histogram. Seems like the majority of\n",
    "## tracts fall between 1000 and 1500 rent."
   ]
  },
  {
   "cell_type": "code",
   "execution_count": 64,
   "id": "bf20e3b2-ec41-490d-a3bd-2ae978a9ce07",
   "metadata": {
    "executionInfo": {
     "elapsed": 7278,
     "status": "aborted",
     "timestamp": 1707737012673,
     "user": {
      "displayName": "Rodrigo Gutierrez",
      "userId": "04409930615507589682"
     },
     "user_tz": 480
    },
    "id": "bf20e3b2-ec41-490d-a3bd-2ae978a9ce07"
   },
   "outputs": [
    {
     "data": {
      "text/plain": [
       "<Axes: ylabel='Frequency'>"
      ]
     },
     "execution_count": 64,
     "metadata": {},
     "output_type": "execute_result"
    },
    {
     "data": {
      "image/png": "[encoded data removed]",
      "text/plain": [
       "<Figure size 640x480 with 1 Axes>"
      ]
     },
     "metadata": {},
     "output_type": "display_data"
    }
   ],
   "source": [
    "tracts_rentdis2['Gross Rent'].plot.hist()"
   ]
  },
  {
   "cell_type": "code",
   "execution_count": 65,
   "id": "0b94bd98-4fa1-4b69-a43b-4c5f94b8cee3",
   "metadata": {
    "executionInfo": {
     "elapsed": 7275,
     "status": "aborted",
     "timestamp": 1707737012673,
     "user": {
      "displayName": "Rodrigo Gutierrez",
      "userId": "04409930615507589682"
     },
     "user_tz": 480
    },
    "id": "0b94bd98-4fa1-4b69-a43b-4c5f94b8cee3"
   },
   "outputs": [],
   "source": [
    "## Now let's see it on a better map."
   ]
  },
  {
   "cell_type": "code",
   "execution_count": 66,
   "id": "c9c0fdef-0465-4480-9a63-5a3ff6763813",
   "metadata": {
    "executionInfo": {
     "elapsed": 7261,
     "status": "aborted",
     "timestamp": 1707737012673,
     "user": {
      "displayName": "Rodrigo Gutierrez",
      "userId": "04409930615507589682"
     },
     "user_tz": 480
    },
    "id": "c9c0fdef-0465-4480-9a63-5a3ff6763813"
   },
   "outputs": [
    {
     "data": {
      "text/plain": [
       "(-118.485410442826, -118.16541176882629, 33.78363832331894, 34.094443355303156)"
      ]
     },
     "execution_count": 66,
     "metadata": {},
     "output_type": "execute_result"
    },
    {
     "data": {
      "image/png": "[encoded data removed]",
      "text/plain": [
       "<Figure size 1200x1000 with 1 Axes>"
      ]
     },
     "metadata": {},
     "output_type": "display_data"
    }
   ],
   "source": [
    "dis2_tractsrentmap = tracts_rentdis2.plot(figsize=(12,10),\n",
    "                 column='Gross Rent',\n",
    "                 legend=True,\n",
    "                 scheme='NaturalBreaks')\n",
    "dis2_tractsrentmap.set_title('Gross Rent Costs in District 2 of LA County')\n",
    "dis2_tractsrentmap.axis('off')"
   ]
  },
  {
   "cell_type": "code",
   "execution_count": 67,
   "id": "4b9cf327-319b-47fd-954d-723128e97893",
   "metadata": {
    "executionInfo": {
     "elapsed": 7261,
     "status": "aborted",
     "timestamp": 1707737012674,
     "user": {
      "displayName": "Rodrigo Gutierrez",
      "userId": "04409930615507589682"
     },
     "user_tz": 480
    },
    "id": "4b9cf327-319b-47fd-954d-723128e97893"
   },
   "outputs": [],
   "source": [
    "## Map looks pretty good, we can see that higher rent tends to be more on the Westside of the District, lower rent is more\n",
    "## on Eastside."
   ]
  },
  {
   "cell_type": "code",
   "execution_count": 68,
   "id": "23ac4710-1d1f-4b78-8449-8297f75139d0",
   "metadata": {
    "executionInfo": {
     "elapsed": 7259,
     "status": "aborted",
     "timestamp": 1707737012674,
     "user": {
      "displayName": "Rodrigo Gutierrez",
      "userId": "04409930615507589682"
     },
     "user_tz": 480
    },
    "id": "23ac4710-1d1f-4b78-8449-8297f75139d0"
   },
   "outputs": [],
   "source": [
    "## Here I am not merging my District 5 data with my tracts_rent data, doing so on 'FIPS'."
   ]
  },
  {
   "cell_type": "code",
   "execution_count": 69,
   "id": "8fe78442-037c-486a-9c76-24333508f634",
   "metadata": {
    "executionInfo": {
     "elapsed": 7258,
     "status": "aborted",
     "timestamp": 1707737012674,
     "user": {
      "displayName": "Rodrigo Gutierrez",
      "userId": "04409930615507589682"
     },
     "user_tz": 480
    },
    "id": "8fe78442-037c-486a-9c76-24333508f634"
   },
   "outputs": [],
   "source": [
    "tracts_rentdis5 = tracts_rent.merge(District5, on = \"FIPS\")"
   ]
  },
  {
   "cell_type": "code",
   "execution_count": 70,
   "id": "b9ace7d6-4806-42a9-bdc9-5a6a7bfa1569",
   "metadata": {
    "executionInfo": {
     "elapsed": 7255,
     "status": "aborted",
     "timestamp": 1707737012674,
     "user": {
      "displayName": "Rodrigo Gutierrez",
      "userId": "04409930615507589682"
     },
     "user_tz": 480
    },
    "id": "b9ace7d6-4806-42a9-bdc9-5a6a7bfa1569"
   },
   "outputs": [],
   "source": [
    "## Similar to above, I am using this code to get rid of any values showing up as '-' in the 'Gross Rent' column."
   ]
  },
  {
   "cell_type": "code",
   "execution_count": 71,
   "id": "908665c8-6eff-4fa6-a15f-023f98d4c911",
   "metadata": {
    "executionInfo": {
     "elapsed": 7254,
     "status": "aborted",
     "timestamp": 1707737012674,
     "user": {
      "displayName": "Rodrigo Gutierrez",
      "userId": "04409930615507589682"
     },
     "user_tz": 480
    },
    "id": "908665c8-6eff-4fa6-a15f-023f98d4c911"
   },
   "outputs": [],
   "source": [
    "tracts_rentdis5 = tracts_rentdis5[tracts_rentdis5['Gross Rent'] != '-']"
   ]
  },
  {
   "cell_type": "code",
   "execution_count": 72,
   "id": "2a08ee5b-eede-41d3-bb27-ccf6ae03b5f6",
   "metadata": {
    "executionInfo": {
     "elapsed": 7253,
     "status": "aborted",
     "timestamp": 1707737012674,
     "user": {
      "displayName": "Rodrigo Gutierrez",
      "userId": "04409930615507589682"
     },
     "user_tz": 480
    },
    "id": "2a08ee5b-eede-41d3-bb27-ccf6ae03b5f6"
   },
   "outputs": [],
   "source": [
    "## Also like above, converting the values in 'Gross Rent' into integers."
   ]
  },
  {
   "cell_type": "code",
   "execution_count": 73,
   "id": "c430ea0b-cd21-4502-81c5-7b7f68de81cd",
   "metadata": {
    "executionInfo": {
     "elapsed": 7251,
     "status": "aborted",
     "timestamp": 1707737012674,
     "user": {
      "displayName": "Rodrigo Gutierrez",
      "userId": "04409930615507589682"
     },
     "user_tz": 480
    },
    "id": "c430ea0b-cd21-4502-81c5-7b7f68de81cd"
   },
   "outputs": [],
   "source": [
    "tracts_rentdis5['Gross Rent'] = pd.to_numeric(tracts_rentdis5['Gross Rent'], errors='coerce')"
   ]
  },
  {
   "cell_type": "code",
   "execution_count": 74,
   "id": "9370606d-d6a8-4558-92be-196104f3a0db",
   "metadata": {
    "executionInfo": {
     "elapsed": 7250,
     "status": "aborted",
     "timestamp": 1707737012674,
     "user": {
      "displayName": "Rodrigo Gutierrez",
      "userId": "04409930615507589682"
     },
     "user_tz": 480
    },
    "id": "9370606d-d6a8-4558-92be-196104f3a0db"
   },
   "outputs": [],
   "source": [
    "## Dropping the NaN values in the 'Gross Rent' column."
   ]
  },
  {
   "cell_type": "code",
   "execution_count": 75,
   "id": "85ee9de6-0aea-418a-b99e-4da9cdb3ab23",
   "metadata": {
    "executionInfo": {
     "elapsed": 7248,
     "status": "aborted",
     "timestamp": 1707737012674,
     "user": {
      "displayName": "Rodrigo Gutierrez",
      "userId": "04409930615507589682"
     },
     "user_tz": 480
    },
    "id": "85ee9de6-0aea-418a-b99e-4da9cdb3ab23"
   },
   "outputs": [],
   "source": [
    "tracts_rentdis5.dropna(subset=['Gross Rent'], inplace=True)"
   ]
  },
  {
   "cell_type": "code",
   "execution_count": 76,
   "id": "34f2caad-1d7b-4787-a424-45b0943913e3",
   "metadata": {
    "executionInfo": {
     "elapsed": 7248,
     "status": "aborted",
     "timestamp": 1707737012675,
     "user": {
      "displayName": "Rodrigo Gutierrez",
      "userId": "04409930615507589682"
     },
     "user_tz": 480
    },
    "id": "34f2caad-1d7b-4787-a424-45b0943913e3"
   },
   "outputs": [],
   "source": [
    "## Time to plot the data again, using same code as before. This graph looks different than District 2's, more census tracts\n",
    "## fall between 1500 and 2000 here."
   ]
  },
  {
   "cell_type": "code",
   "execution_count": 77,
   "id": "c93aa146-1efa-4ada-91e8-3354f5d05a91",
   "metadata": {
    "executionInfo": {
     "elapsed": 7242,
     "status": "aborted",
     "timestamp": 1707737012675,
     "user": {
      "displayName": "Rodrigo Gutierrez",
      "userId": "04409930615507589682"
     },
     "user_tz": 480
    },
    "id": "c93aa146-1efa-4ada-91e8-3354f5d05a91"
   },
   "outputs": [
    {
     "data": {
      "text/plain": [
       "<Axes: ylabel='Frequency'>"
      ]
     },
     "execution_count": 77,
     "metadata": {},
     "output_type": "execute_result"
    },
    {
     "data": {
      "image/png": "[encoded data removed]",
      "text/plain": [
       "<Figure size 640x480 with 1 Axes>"
      ]
     },
     "metadata": {},
     "output_type": "display_data"
    }
   ],
   "source": [
    "tracts_rentdis5['Gross Rent'].plot.hist()"
   ]
  },
  {
   "cell_type": "code",
   "execution_count": 78,
   "id": "53acdcf2-9b04-406c-af78-d2198fda4936",
   "metadata": {
    "executionInfo": {
     "elapsed": 7241,
     "status": "aborted",
     "timestamp": 1707737012675,
     "user": {
      "displayName": "Rodrigo Gutierrez",
      "userId": "04409930615507589682"
     },
     "user_tz": 480
    },
    "id": "53acdcf2-9b04-406c-af78-d2198fda4936"
   },
   "outputs": [],
   "source": [
    "## Now let's map it on a better map similar to the one above."
   ]
  },
  {
   "cell_type": "code",
   "execution_count": 79,
   "id": "2bf1281e-b96d-463d-bd81-afe78c9bd717",
   "metadata": {
    "executionInfo": {
     "elapsed": 7233,
     "status": "aborted",
     "timestamp": 1707737012675,
     "user": {
      "displayName": "Rodrigo Gutierrez",
      "userId": "04409930615507589682"
     },
     "user_tz": 480
    },
    "id": "2bf1281e-b96d-463d-bd81-afe78c9bd717"
   },
   "outputs": [
    {
     "data": {
      "text/plain": [
       "(-118.95661632230542,\n",
       " -117.59327715419354,\n",
       " 34.032452176861014,\n",
       " 34.86096567220503)"
      ]
     },
     "execution_count": 79,
     "metadata": {},
     "output_type": "execute_result"
    },
    {
     "data": {
      "image/png": "[encoded data removed]",
      "text/plain": [
       "<Figure size 1200x1000 with 1 Axes>"
      ]
     },
     "metadata": {},
     "output_type": "display_data"
    }
   ],
   "source": [
    "dis5_tractrentmap = tracts_rentdis5.plot(figsize=(12,10),\n",
    "                 column='Gross Rent',\n",
    "                 legend=True,\n",
    "                 scheme='NaturalBreaks')\n",
    "dis5_tractrentmap.set_title('Gross Rent Costs in District 5 of LA County')\n",
    "dis5_tractrentmap.axis('off')"
   ]
  },
  {
   "cell_type": "code",
   "execution_count": 80,
   "id": "23cb8904-6cb5-4438-949e-ddff7fedd318",
   "metadata": {
    "executionInfo": {
     "elapsed": 7228,
     "status": "aborted",
     "timestamp": 1707737012675,
     "user": {
      "displayName": "Rodrigo Gutierrez",
      "userId": "04409930615507589682"
     },
     "user_tz": 480
    },
    "id": "23cb8904-6cb5-4438-949e-ddff7fedd318"
   },
   "outputs": [],
   "source": [
    "### Looks good! Here we can see the Census Tracts are much bigger, because population is so sparse, in the more densely\n",
    "### populated tracts, we see higher rents."
   ]
  },
  {
   "cell_type": "code",
   "execution_count": 81,
   "id": "5a16364a-c229-4cf2-a377-b17063478edb",
   "metadata": {
    "executionInfo": {
     "elapsed": 7227,
     "status": "aborted",
     "timestamp": 1707737012675,
     "user": {
      "displayName": "Rodrigo Gutierrez",
      "userId": "04409930615507589682"
     },
     "user_tz": 480
    },
    "id": "5a16364a-c229-4cf2-a377-b17063478edb"
   },
   "outputs": [],
   "source": [
    "## Now lets read in the Parks data from the County."
   ]
  },
  {
   "cell_type": "code",
   "execution_count": null,
   "id": "b6ce656f-ac1b-4085-88ab-c3f53b060405",
   "metadata": {
    "executionInfo": {
     "elapsed": 7220,
     "status": "aborted",
     "timestamp": 1707737012675,
     "user": {
      "displayName": "Rodrigo Gutierrez",
      "userId": "04409930615507589682"
     },
     "user_tz": 480
    },
    "id": "b6ce656f-ac1b-4085-88ab-c3f53b060405"
   },
   "outputs": [],
   "source": [
    "parks = gpd.read_file('week5/Parks.geojson')\n",
    "parks.head()"
   ]
  },
  {
   "cell_type": "code",
   "execution_count": null,
   "id": "815afbf5-d3fd-46a9-a7c8-435f3c44525d",
   "metadata": {
    "executionInfo": {
     "elapsed": 7219,
     "status": "aborted",
     "timestamp": 1707737012675,
     "user": {
      "displayName": "Rodrigo Gutierrez",
      "userId": "04409930615507589682"
     },
     "user_tz": 480
    },
    "id": "815afbf5-d3fd-46a9-a7c8-435f3c44525d"
   },
   "outputs": [],
   "source": [
    "## Here I am merging my Parks data with my data of the Rent in District 2 tracts, on the column of 'Polygon'."
   ]
  },
  {
   "cell_type": "code",
   "execution_count": null,
   "id": "7f1b50fb-8f7a-422a-a0b8-35660cbf7bde",
   "metadata": {
    "executionInfo": {
     "elapsed": 7212,
     "status": "aborted",
     "timestamp": 1707737012675,
     "user": {
      "displayName": "Rodrigo Gutierrez",
      "userId": "04409930615507589682"
     },
     "user_tz": 480
    },
    "id": "7f1b50fb-8f7a-422a-a0b8-35660cbf7bde"
   },
   "outputs": [],
   "source": [
    "from shapely.geometry import Polygon\n",
    "geopandas = gpd\n",
    "parks_locationsD2 = geopandas.overlay(tracts_rentdis2, parks, how='intersection', keep_geom_type=None, make_valid=True)\n",
    "parks_locationsD2"
   ]
  },
  {
   "cell_type": "code",
   "execution_count": null,
   "id": "ff3f1416-f4b9-4678-8c29-e7513c0d1aeb",
   "metadata": {
    "executionInfo": {
     "elapsed": 7211,
     "status": "aborted",
     "timestamp": 1707737012675,
     "user": {
      "displayName": "Rodrigo Gutierrez",
      "userId": "04409930615507589682"
     },
     "user_tz": 480
    },
    "id": "ff3f1416-f4b9-4678-8c29-e7513c0d1aeb"
   },
   "outputs": [],
   "source": [
    "## Now let's map this."
   ]
  },
  {
   "cell_type": "code",
   "execution_count": null,
   "id": "a605ae6f-ec73-4e3a-95fe-715b03f5a1fd",
   "metadata": {
    "executionInfo": {
     "elapsed": 7205,
     "status": "aborted",
     "timestamp": 1707737012675,
     "user": {
      "displayName": "Rodrigo Gutierrez",
      "userId": "04409930615507589682"
     },
     "user_tz": 480
    },
    "id": "a605ae6f-ec73-4e3a-95fe-715b03f5a1fd"
   },
   "outputs": [],
   "source": [
    "dis2_tractsrentmap = parks_locationsD2.plot(figsize=(12,10),\n",
    "                            column='Gross Rent',\n",
    "                 legend=True,\n",
    "                 scheme='NaturalBreaks')\n",
    "dis2_tractsrentmap.set_title('Parks in relation to Rents in their Census Tracts in LA Supervisorial District 2')\n",
    "plt.savefig('D2_Rent_Parks_Pct.jpg')\n",
    "plt.show()"
   ]
  },
  {
   "cell_type": "code",
   "execution_count": null,
   "id": "6f18768c-cf4d-4e29-8f65-ab809512af82",
   "metadata": {
    "executionInfo": {
     "elapsed": 7205,
     "status": "aborted",
     "timestamp": 1707737012676,
     "user": {
      "displayName": "Rodrigo Gutierrez",
      "userId": "04409930615507589682"
     },
     "user_tz": 480
    },
    "id": "6f18768c-cf4d-4e29-8f65-ab809512af82"
   },
   "outputs": [],
   "source": [
    "## Now let's do the same for District 5, merging on \"Polygon'."
   ]
  },
  {
   "cell_type": "code",
   "execution_count": null,
   "id": "acecf1b3-c0f3-4ef3-b257-8840a6281951",
   "metadata": {
    "executionInfo": {
     "elapsed": 7200,
     "status": "aborted",
     "timestamp": 1707737012676,
     "user": {
      "displayName": "Rodrigo Gutierrez",
      "userId": "04409930615507589682"
     },
     "user_tz": 480
    },
    "id": "acecf1b3-c0f3-4ef3-b257-8840a6281951"
   },
   "outputs": [],
   "source": [
    "parks_locationsD5 = geopandas.overlay(tracts_rentdis5, parks, how='intersection', keep_geom_type=None, make_valid=True)"
   ]
  },
  {
   "cell_type": "code",
   "execution_count": null,
   "id": "b0ef37d2-0848-4e48-9e87-b66ceb33060f",
   "metadata": {
    "executionInfo": {
     "elapsed": 7199,
     "status": "aborted",
     "timestamp": 1707737012676,
     "user": {
      "displayName": "Rodrigo Gutierrez",
      "userId": "04409930615507589682"
     },
     "user_tz": 480
    },
    "id": "b0ef37d2-0848-4e48-9e87-b66ceb33060f"
   },
   "outputs": [],
   "source": [
    "## Let's map this the same as before, for District 5."
   ]
  },
  {
   "cell_type": "code",
   "execution_count": null,
   "id": "af54da26-6b3b-45d3-bc71-b6e4f0884760",
   "metadata": {
    "executionInfo": {
     "elapsed": 7188,
     "status": "aborted",
     "timestamp": 1707737012676,
     "user": {
      "displayName": "Rodrigo Gutierrez",
      "userId": "04409930615507589682"
     },
     "user_tz": 480
    },
    "id": "af54da26-6b3b-45d3-bc71-b6e4f0884760"
   },
   "outputs": [],
   "source": [
    "dis5_tractsrentmap = parks_locationsD5.plot(figsize=(12,10),\n",
    "                            column='Gross Rent',\n",
    "                 legend=True,\n",
    "                 scheme='NaturalBreaks')\n",
    "dis5_tractsrentmap.set_title('Parks in relation to Rents in their Census Tracts in LA Supervisorial District 5')\n",
    "plt.savefig('D5_Rent_Parks_Pct.jpg')\n",
    "plt.show()"
   ]
  },
  {
   "cell_type": "code",
   "execution_count": null,
   "id": "ecda601b-00c3-4159-af00-f327647b5da7",
   "metadata": {
    "executionInfo": {
     "elapsed": 7187,
     "status": "aborted",
     "timestamp": 1707737012676,
     "user": {
      "displayName": "Rodrigo Gutierrez",
      "userId": "04409930615507589682"
     },
     "user_tz": 480
    },
    "id": "ecda601b-00c3-4159-af00-f327647b5da7"
   },
   "outputs": [],
   "source": [
    "## This is interesting, there is a very large park, most likely a national park. It borders a park in an area with the highest\n",
    "## rent. We can see that the large park may have a low rent because few people actually live there. Lots of parks can be found\n",
    "## in Southern part of the District, it is more densely populated."
   ]
  },
  {
   "cell_type": "code",
   "execution_count": null,
   "id": "73c30d9e-c8ff-49cc-ac9f-ddc72c0faaab",
   "metadata": {
    "executionInfo": {
     "elapsed": 7186,
     "status": "aborted",
     "timestamp": 1707737012676,
     "user": {
      "displayName": "Rodrigo Gutierrez",
      "userId": "04409930615507589682"
     },
     "user_tz": 480
    },
    "id": "73c30d9e-c8ff-49cc-ac9f-ddc72c0faaab"
   },
   "outputs": [],
   "source": [
    "## Now lets map the unhoused Population in District 2."
   ]
  },
  {
   "cell_type": "code",
   "execution_count": null,
   "id": "faef879a-19e7-4eb9-9cba-ee5010181bb9",
   "metadata": {
    "executionInfo": {
     "elapsed": 7183,
     "status": "aborted",
     "timestamp": 1707737012679,
     "user": {
      "displayName": "Rodrigo Gutierrez",
      "userId": "04409930615507589682"
     },
     "user_tz": 480
    },
    "id": "faef879a-19e7-4eb9-9cba-ee5010181bb9"
   },
   "outputs": [],
   "source": [
    "Dis2_tractshomemap = Dis2_tracthome.plot(figsize=(12,10),\n",
    "                 column='Total Population',\n",
    "                 legend=True,\n",
    "                 scheme='NaturalBreaks')\n",
    "Dis2_tractshomemap.set_title('Total Unhoused Population in District 2 of LA County')\n",
    "Dis2_tractshomemap.axis('off')"
   ]
  },
  {
   "cell_type": "code",
   "execution_count": null,
   "id": "128f10ea-a7b6-42e2-8502-4d66fb2849ce",
   "metadata": {
    "executionInfo": {
     "elapsed": 7183,
     "status": "aborted",
     "timestamp": 1707737012680,
     "user": {
      "displayName": "Rodrigo Gutierrez",
      "userId": "04409930615507589682"
     },
     "user_tz": 480
    },
    "id": "128f10ea-a7b6-42e2-8502-4d66fb2849ce"
   },
   "outputs": [],
   "source": [
    "## Now let's do the same as with District 2, but this time with District 5."
   ]
  },
  {
   "cell_type": "code",
   "execution_count": null,
   "id": "dedf1c32-1079-4861-8a9b-d37a3b671cf2",
   "metadata": {
    "executionInfo": {
     "elapsed": 7176,
     "status": "aborted",
     "timestamp": 1707737012680,
     "user": {
      "displayName": "Rodrigo Gutierrez",
      "userId": "04409930615507589682"
     },
     "user_tz": 480
    },
    "id": "dedf1c32-1079-4861-8a9b-d37a3b671cf2"
   },
   "outputs": [],
   "source": [
    "Dis5_tractshomemap = Dis5_tracthome.plot(figsize=(12,10),\n",
    "                 column='Total Population',\n",
    "                 legend=True,\n",
    "                 scheme='NaturalBreaks')\n",
    "Dis5_tractshomemap.set_title('Total Unhoused Population in District 5 of LA County')\n",
    "Dis5_tractshomemap.axis('off')"
   ]
  },
  {
   "cell_type": "code",
   "execution_count": null,
   "id": "1c16f336-a0a7-44a7-9431-e0795b160a02",
   "metadata": {
    "executionInfo": {
     "elapsed": 7175,
     "status": "aborted",
     "timestamp": 1707737012680,
     "user": {
      "displayName": "Rodrigo Gutierrez",
      "userId": "04409930615507589682"
     },
     "user_tz": 480
    },
    "id": "1c16f336-a0a7-44a7-9431-e0795b160a02"
   },
   "outputs": [],
   "source": [
    "## Now let's merge Parks data with Homeless data like we did with the rent. We are merging on the Polygon."
   ]
  },
  {
   "cell_type": "code",
   "execution_count": null,
   "id": "431e47e9-3f50-4cd4-93eb-96f68e1f773d",
   "metadata": {
    "executionInfo": {
     "elapsed": 7174,
     "status": "aborted",
     "timestamp": 1707737012680,
     "user": {
      "displayName": "Rodrigo Gutierrez",
      "userId": "04409930615507589682"
     },
     "user_tz": 480
    },
    "id": "431e47e9-3f50-4cd4-93eb-96f68e1f773d"
   },
   "outputs": [],
   "source": [
    "parks_locationshomeD2 = geopandas.overlay(Dis2_tracthome, parks, how='intersection', keep_geom_type=None, make_valid=True)"
   ]
  },
  {
   "cell_type": "code",
   "execution_count": null,
   "id": "b676af15-6e9d-4b49-af35-ae0b887effaf",
   "metadata": {
    "executionInfo": {
     "elapsed": 7173,
     "status": "aborted",
     "timestamp": 1707737012680,
     "user": {
      "displayName": "Rodrigo Gutierrez",
      "userId": "04409930615507589682"
     },
     "user_tz": 480
    },
    "id": "b676af15-6e9d-4b49-af35-ae0b887effaf"
   },
   "outputs": [],
   "source": [
    "## Now we can map this like we did with the rent. Interesting, the bigger parks seem to have more unhoused individuals with one small one having the most."
   ]
  },
  {
   "cell_type": "code",
   "execution_count": null,
   "id": "1542b5fb-1f4f-4e1b-a915-99d89b470083",
   "metadata": {
    "executionInfo": {
     "elapsed": 7167,
     "status": "aborted",
     "timestamp": 1707737012680,
     "user": {
      "displayName": "Rodrigo Gutierrez",
      "userId": "04409930615507589682"
     },
     "user_tz": 480
    },
    "id": "1542b5fb-1f4f-4e1b-a915-99d89b470083"
   },
   "outputs": [],
   "source": [
    "dis2_tractshomemap = parks_locationshomeD2.plot(figsize=(12,10),\n",
    "                            column='Total Population',\n",
    "                 legend=True,\n",
    "                 scheme='NaturalBreaks')\n",
    "dis2_tractshomemap.set_title('Parks in relation to Total Unhoused in their Census Tracts in LA Supervisorial District 2')\n",
    "plt.savefig('D2_Home_Parks_Pct.jpg')\n",
    "plt.show()"
   ]
  },
  {
   "cell_type": "code",
   "execution_count": null,
   "id": "bd84e200-ea78-4df4-8121-26871d3c27ff",
   "metadata": {
    "executionInfo": {
     "elapsed": 7166,
     "status": "aborted",
     "timestamp": 1707737012680,
     "user": {
      "displayName": "Rodrigo Gutierrez",
      "userId": "04409930615507589682"
     },
     "user_tz": 480
    },
    "id": "bd84e200-ea78-4df4-8121-26871d3c27ff"
   },
   "outputs": [],
   "source": [
    "## Now lets do the same with District 5, merging parks with homeless count."
   ]
  },
  {
   "cell_type": "code",
   "execution_count": null,
   "id": "e9800c2c-b9ed-4e63-b7ef-125e80036b01",
   "metadata": {
    "executionInfo": {
     "elapsed": 7153,
     "status": "aborted",
     "timestamp": 1707737012681,
     "user": {
      "displayName": "Rodrigo Gutierrez",
      "userId": "04409930615507589682"
     },
     "user_tz": 480
    },
    "id": "e9800c2c-b9ed-4e63-b7ef-125e80036b01"
   },
   "outputs": [],
   "source": [
    "parks_locationshomeD5 = geopandas.overlay(Dis5_tracthome, parks, how='intersection', keep_geom_type=None, make_valid=True)\n",
    "parks_locationshomeD5"
   ]
  },
  {
   "cell_type": "code",
   "execution_count": null,
   "id": "769159de-7226-41e3-859a-496a9fbe6cc6",
   "metadata": {
    "executionInfo": {
     "elapsed": 7151,
     "status": "aborted",
     "timestamp": 1707737012681,
     "user": {
      "displayName": "Rodrigo Gutierrez",
      "userId": "04409930615507589682"
     },
     "user_tz": 480
    },
    "id": "769159de-7226-41e3-859a-496a9fbe6cc6"
   },
   "outputs": [],
   "source": [
    "## Now we can map it like we did before, interesting that the parks in the Northeast corner hold a lot of unhoused residents."
   ]
  },
  {
   "cell_type": "code",
   "execution_count": null,
   "id": "ea41a4e2-7f74-4a68-b2ae-7529b1e45fa9",
   "metadata": {
    "executionInfo": {
     "elapsed": 7142,
     "status": "aborted",
     "timestamp": 1707737012681,
     "user": {
      "displayName": "Rodrigo Gutierrez",
      "userId": "04409930615507589682"
     },
     "user_tz": 480
    },
    "id": "ea41a4e2-7f74-4a68-b2ae-7529b1e45fa9"
   },
   "outputs": [],
   "source": [
    "dis5_tractshomemap = parks_locationshomeD5.plot(figsize=(12,10),\n",
    "                            column='Total Population',\n",
    "                 legend=True,\n",
    "                 scheme='NaturalBreaks')\n",
    "dis5_tractshomemap.set_title('Parks in relation to Total Unhoused in their Census Tracts in LA Supervisorial District 5')\n",
    "plt.savefig('D5_Home_Parks_Pct.jpg')\n",
    "plt.show()"
   ]
  },
  {
   "cell_type": "code",
   "execution_count": null,
   "id": "9367874c-3068-4a18-a1af-0bae03218e51",
   "metadata": {
    "executionInfo": {
     "elapsed": 7141,
     "status": "aborted",
     "timestamp": 1707737012681,
     "user": {
      "displayName": "Rodrigo Gutierrez",
      "userId": "04409930615507589682"
     },
     "user_tz": 480
    },
    "id": "9367874c-3068-4a18-a1af-0bae03218e51"
   },
   "outputs": [],
   "source": [
    "## Now let's import folium and try to visualize the data. I'm not a fan of this map, it is not very helpful."
   ]
  },
  {
   "cell_type": "code",
   "execution_count": null,
   "id": "6a741cb7-5104-4863-9899-cc980ab35a61",
   "metadata": {
    "executionInfo": {
     "elapsed": 7140,
     "status": "aborted",
     "timestamp": 1707737012681,
     "user": {
      "displayName": "Rodrigo Gutierrez",
      "userId": "04409930615507589682"
     },
     "user_tz": 480
    },
    "id": "6a741cb7-5104-4863-9899-cc980ab35a61"
   },
   "outputs": [],
   "source": [
    "import folium"
   ]
  },
  {
   "cell_type": "code",
   "execution_count": null,
   "id": "abaa112f-617c-4ecf-8c8b-c9c85329b87c",
   "metadata": {
    "executionInfo": {
     "elapsed": 7129,
     "status": "aborted",
     "timestamp": 1707737012681,
     "user": {
      "displayName": "Rodrigo Gutierrez",
      "userId": "04409930615507589682"
     },
     "user_tz": 480
    },
    "id": "abaa112f-617c-4ecf-8c8b-c9c85329b87c"
   },
   "outputs": [],
   "source": [
    "mymap = folium.Map(location=[34.2,-118.2], zoom_start=10)  # Los Angeles coordinates\n",
    "\n",
    "# Add GeoJSON data to the map\n",
    "folium.GeoJson(\n",
    "    parks_locationshomeD5,\n",
    "    name='Parks',\n",
    ").add_to(mymap)\n",
    "\n",
    "legend_html = '''\n",
    "     <div style=\"position: fixed;\n",
    "     bottom: 50px; left: 50px; width: 150px; height: 120px;\n",
    "     background-color: white; border:2px solid grey; z-index:9999; font-size:14px;\n",
    "     \">&nbsp; Parks <br>\n",
    "     &nbsp; <img src=\"https://via.placeholder.com/10/00FF00\"> &nbsp; Park\n",
    "     <br>\n",
    "     &nbsp; <img src=\"https://via.placeholder.com/10/FF0000\"> &nbsp; Another Park\n",
    "      </div>\n",
    "     '''\n",
    "\n",
    "mymap.get_root().html.add_child(folium.Element(legend_html))\n",
    "# Display the map\n",
    "mymap"
   ]
  },
  {
   "cell_type": "code",
   "execution_count": null,
   "id": "0c75c4c9-6c9a-44dc-9789-6107cecc6feb",
   "metadata": {
    "executionInfo": {
     "elapsed": 7128,
     "status": "aborted",
     "timestamp": 1707737012681,
     "user": {
      "displayName": "Rodrigo Gutierrez",
      "userId": "04409930615507589682"
     },
     "user_tz": 480
    },
    "id": "0c75c4c9-6c9a-44dc-9789-6107cecc6feb"
   },
   "outputs": [],
   "source": [
    "## Let's try another way, using Chris' code from the lecture. Looks good, now to repeat for District 5."
   ]
  },
  {
   "cell_type": "code",
   "execution_count": null,
   "id": "3b36f677-db1e-4d88-961d-1d51fcee2bc2",
   "metadata": {
    "executionInfo": {
     "elapsed": 7119,
     "status": "aborted",
     "timestamp": 1707737012681,
     "user": {
      "displayName": "Rodrigo Gutierrez",
      "userId": "04409930615507589682"
     },
     "user_tz": 480
    },
    "id": "3b36f677-db1e-4d88-961d-1d51fcee2bc2"
   },
   "outputs": [],
   "source": [
    "m = folium.Map(location=[34.2,-118.2],\n",
    "               zoom_start = 9,\n",
    "               tiles='CartoDB positron',\n",
    "               attribution='CartoDB')\n",
    "\n",
    "# plot chorpleth over the base map\n",
    "folium.Choropleth(\n",
    "                  geo_data=tracts_rentdis2 , # geo data\n",
    "                  data=tracts_rentdis2 , # data\n",
    "                  key_on='feature.properties.FIPS', # key, or merge column\n",
    "                  columns=['FIPS', 'Gross Rent'], # [key, value]\n",
    "                  fill_color='BuPu',\n",
    "                  line_weight=0.1,\n",
    "                  fill_opacity=0.8,\n",
    "                  line_opacity=0.2, # line opacity (of the border)\n",
    "                  legend_name='Gross Rent').add_to(m)    # name on the legend color bar\n",
    "m"
   ]
  },
  {
   "cell_type": "code",
   "execution_count": null,
   "id": "d0477626-31b5-4ea9-8131-8054798c8483",
   "metadata": {
    "executionInfo": {
     "elapsed": 7118,
     "status": "aborted",
     "timestamp": 1707737012681,
     "user": {
      "displayName": "Rodrigo Gutierrez",
      "userId": "04409930615507589682"
     },
     "user_tz": 480
    },
    "id": "d0477626-31b5-4ea9-8131-8054798c8483"
   },
   "outputs": [],
   "source": [
    "m.save('tracts_home2.html')"
   ]
  },
  {
   "cell_type": "code",
   "execution_count": null,
   "id": "07de99db-f746-4270-a5ce-03c27ffaf4bf",
   "metadata": {
    "executionInfo": {
     "elapsed": 7117,
     "status": "aborted",
     "timestamp": 1707737012681,
     "user": {
      "displayName": "Rodrigo Gutierrez",
      "userId": "04409930615507589682"
     },
     "user_tz": 480
    },
    "id": "07de99db-f746-4270-a5ce-03c27ffaf4bf"
   },
   "outputs": [],
   "source": [
    "## Did the same thing here with District 5, this is good for helping visualize and compare rents across areas."
   ]
  },
  {
   "cell_type": "code",
   "execution_count": null,
   "id": "3d40ee7a-8521-4bc1-9181-b4601fdeb665",
   "metadata": {
    "executionInfo": {
     "elapsed": 7108,
     "status": "aborted",
     "timestamp": 1707737012682,
     "user": {
      "displayName": "Rodrigo Gutierrez",
      "userId": "04409930615507589682"
     },
     "user_tz": 480
    },
    "id": "3d40ee7a-8521-4bc1-9181-b4601fdeb665"
   },
   "outputs": [],
   "source": [
    "m = folium.Map(location=[34.2,-118.2],\n",
    "               zoom_start = 9,\n",
    "               tiles='CartoDB positron',\n",
    "               attribution='CartoDB')\n",
    "\n",
    "# plot chorpleth over the base map\n",
    "folium.Choropleth(\n",
    "                  geo_data=tracts_rentdis5 , # geo data\n",
    "                  data=tracts_rentdis5 , # data\n",
    "                  key_on='feature.properties.FIPS', # key, or merge column\n",
    "                  columns=['FIPS', 'Gross Rent'], # [key, value]\n",
    "                  fill_color='BuPu',\n",
    "                  line_weight=0.1,\n",
    "                  fill_opacity=0.8,\n",
    "                  line_opacity=0.2, # line opacity (of the border)\n",
    "                  legend_name='Gross Rent').add_to(m)    # name on the legend color bar\n",
    "m"
   ]
  },
  {
   "cell_type": "code",
   "execution_count": null,
   "id": "3bcff4c1-c28e-42ce-971b-59c933e15196",
   "metadata": {
    "executionInfo": {
     "elapsed": 7333,
     "status": "aborted",
     "timestamp": 1707737012908,
     "user": {
      "displayName": "Rodrigo Gutierrez",
      "userId": "04409930615507589682"
     },
     "user_tz": 480
    },
    "id": "3bcff4c1-c28e-42ce-971b-59c933e15196"
   },
   "outputs": [],
   "source": [
    "m.save('tracts_home5.html')"
   ]
  },
  {
   "cell_type": "code",
   "execution_count": null,
   "id": "66b2cda9-24df-40b8-b20b-b94c9b072caf",
   "metadata": {
    "executionInfo": {
     "elapsed": 7332,
     "status": "aborted",
     "timestamp": 1707737012908,
     "user": {
      "displayName": "Rodrigo Gutierrez",
      "userId": "04409930615507589682"
     },
     "user_tz": 480
    },
    "id": "66b2cda9-24df-40b8-b20b-b94c9b072caf"
   },
   "outputs": [],
   "source": [
    "## Now we can repeat but this time with the homeless population in District 2."
   ]
  },
  {
   "cell_type": "code",
   "execution_count": null,
   "id": "47670510-58a9-4037-b78a-a2b094c36fe8",
   "metadata": {
    "executionInfo": {
     "elapsed": 7322,
     "status": "aborted",
     "timestamp": 1707737012908,
     "user": {
      "displayName": "Rodrigo Gutierrez",
      "userId": "04409930615507589682"
     },
     "user_tz": 480
    },
    "id": "47670510-58a9-4037-b78a-a2b094c36fe8"
   },
   "outputs": [],
   "source": [
    "m = folium.Map(location=[34.2,-118.2],\n",
    "               zoom_start = 9,\n",
    "               tiles='CartoDB positron',\n",
    "               attribution='CartoDB')\n",
    "\n",
    "# plot chorpleth over the base map\n",
    "folium.Choropleth(\n",
    "                  geo_data=Dis2_tracthome , # geo data\n",
    "                  data=Dis2_tracthome , # data\n",
    "                  key_on='feature.properties.FIPS', # key, or merge column\n",
    "                  columns=['FIPS', 'Total Population'], # [key, value]\n",
    "                  fill_color='BuPu',\n",
    "                  line_weight=0.1,\n",
    "                  fill_opacity=0.8,\n",
    "                  line_opacity=0.2, # line opacity (of the border)\n",
    "                  legend_name='Total Population').add_to(m)    # name on the legend color bar\n",
    "m"
   ]
  },
  {
   "cell_type": "code",
   "execution_count": null,
   "id": "27c8717b-a6fb-4a93-ae0b-e891845a2962",
   "metadata": {
    "executionInfo": {
     "elapsed": 7321,
     "status": "aborted",
     "timestamp": 1707737012908,
     "user": {
      "displayName": "Rodrigo Gutierrez",
      "userId": "04409930615507589682"
     },
     "user_tz": 480
    },
    "id": "27c8717b-a6fb-4a93-ae0b-e891845a2962"
   },
   "outputs": [],
   "source": [
    "m.save('tracts_home2.html')"
   ]
  },
  {
   "cell_type": "code",
   "execution_count": null,
   "id": "f279fbff-0ad5-4d12-86c9-9f5dfd27523c",
   "metadata": {
    "executionInfo": {
     "elapsed": 7321,
     "status": "aborted",
     "timestamp": 1707737012909,
     "user": {
      "displayName": "Rodrigo Gutierrez",
      "userId": "04409930615507589682"
     },
     "user_tz": 480
    },
    "id": "f279fbff-0ad5-4d12-86c9-9f5dfd27523c"
   },
   "outputs": [],
   "source": [
    "## Now doing it again, but with District 5. Looks good."
   ]
  },
  {
   "cell_type": "code",
   "execution_count": null,
   "id": "de96a3ac-491d-4437-bb7d-39b9000f5ad8",
   "metadata": {
    "executionInfo": {
     "elapsed": 7310,
     "status": "aborted",
     "timestamp": 1707737012909,
     "user": {
      "displayName": "Rodrigo Gutierrez",
      "userId": "04409930615507589682"
     },
     "user_tz": 480
    },
    "id": "de96a3ac-491d-4437-bb7d-39b9000f5ad8"
   },
   "outputs": [],
   "source": [
    "m = folium.Map(location=[34.2,-118.2],\n",
    "               zoom_start = 9,\n",
    "               tiles='CartoDB positron',\n",
    "               attribution='CartoDB')\n",
    "\n",
    "# plot chorpleth over the base map\n",
    "folium.Choropleth(\n",
    "                  geo_data=Dis5_tracthome , # geo data\n",
    "                  data=Dis5_tracthome , # data\n",
    "                  key_on='feature.properties.FIPS', # key, or merge column\n",
    "                  columns=['FIPS', 'Total Population'], # [key, value]\n",
    "                  fill_color='BuPu',\n",
    "                  line_weight=0.1,\n",
    "                  fill_opacity=0.8,\n",
    "                  line_opacity=0.2, # line opacity (of the border)\n",
    "                  legend_name='Total Population').add_to(m)    # name on the legend color bar\n",
    "m"
   ]
  },
  {
   "cell_type": "code",
   "execution_count": null,
   "id": "a6f2252f-e3b4-4b35-aa3e-853d7eab595f",
   "metadata": {
    "executionInfo": {
     "elapsed": 7309,
     "status": "aborted",
     "timestamp": 1707737012909,
     "user": {
      "displayName": "Rodrigo Gutierrez",
      "userId": "04409930615507589682"
     },
     "user_tz": 480
    },
    "id": "a6f2252f-e3b4-4b35-aa3e-853d7eab595f"
   },
   "outputs": [],
   "source": [
    "m.save('tracts_home5.html')"
   ]
  },
  {
   "cell_type": "code",
   "execution_count": null,
   "id": "c4c9e954-94d8-4d70-80d8-4a250a1382b2",
   "metadata": {
    "executionInfo": {
     "elapsed": 7307,
     "status": "aborted",
     "timestamp": 1707737012909,
     "user": {
      "displayName": "Rodrigo Gutierrez",
      "userId": "04409930615507589682"
     },
     "user_tz": 480
    },
    "id": "c4c9e954-94d8-4d70-80d8-4a250a1382b2"
   },
   "outputs": [],
   "source": [
    "## Now let's do it with the merged homeless count and parks data. Very weird, I don't see anything showing for the 2nd District, let's try the 5th."
   ]
  },
  {
   "cell_type": "code",
   "execution_count": null,
   "id": "f9107d95-9832-4268-b91d-d959421db09d",
   "metadata": {
    "executionInfo": {
     "elapsed": 7301,
     "status": "aborted",
     "timestamp": 1707737012910,
     "user": {
      "displayName": "Rodrigo Gutierrez",
      "userId": "04409930615507589682"
     },
     "user_tz": 480
    },
    "id": "f9107d95-9832-4268-b91d-d959421db09d"
   },
   "outputs": [],
   "source": [
    "import folium\n",
    "\n",
    "# Initialize Folium map\n",
    "m = folium.Map(location=[34.2, -118.2], zoom_start=9, tiles='CartoDB positron', attribution='CartoDB')\n",
    "\n",
    "# Plot choropleth over the base map\n",
    "folium.Choropleth(\n",
    "    geo_data=parks_locationshomeD2,  # GeoJSON or GeoDataFrame\n",
    "    data=parks_locationshomeD2,       # Dataframe or Series\n",
    "    key_on='feature.properties.FIPS',  # GeoJSON property to bind the data to\n",
    "    columns=['FIPS', 'Total Population'],  # Column(s) in the dataframe to use\n",
    "    fill_color='BuPu',  # Color scale\n",
    "    line_weight=0.1,\n",
    "    fill_opacity=0.8,\n",
    "    line_opacity=0.2,\n",
    "    legend_name='<Unhoused Population near Parks>'  # Name on the legend color bar\n",
    ").add_to(m)\n",
    "m"
   ]
  },
  {
   "cell_type": "code",
   "execution_count": null,
   "id": "0c2218ad-3783-46fc-8f43-35649e24a383",
   "metadata": {
    "executionInfo": {
     "elapsed": 7300,
     "status": "aborted",
     "timestamp": 1707737012910,
     "user": {
      "displayName": "Rodrigo Gutierrez",
      "userId": "04409930615507589682"
     },
     "user_tz": 480
    },
    "id": "0c2218ad-3783-46fc-8f43-35649e24a383"
   },
   "outputs": [],
   "source": [
    "m.save('park_homeless2.html')"
   ]
  },
  {
   "cell_type": "code",
   "execution_count": null,
   "id": "e1bd1df8-d303-4e15-a8b0-8ffb182045b8",
   "metadata": {
    "executionInfo": {
     "elapsed": 7299,
     "status": "aborted",
     "timestamp": 1707737012910,
     "user": {
      "displayName": "Rodrigo Gutierrez",
      "userId": "04409930615507589682"
     },
     "user_tz": 480
    },
    "id": "e1bd1df8-d303-4e15-a8b0-8ffb182045b8"
   },
   "outputs": [],
   "source": [
    "## Huh, interesting, it does show up on this map, we can see the parks and the number of unhoused."
   ]
  },
  {
   "cell_type": "code",
   "execution_count": null,
   "id": "515a20a3-b8a9-4d09-b28c-703c4f24ea58",
   "metadata": {
    "executionInfo": {
     "elapsed": 7290,
     "status": "aborted",
     "timestamp": 1707737012910,
     "user": {
      "displayName": "Rodrigo Gutierrez",
      "userId": "04409930615507589682"
     },
     "user_tz": 480
    },
    "id": "515a20a3-b8a9-4d09-b28c-703c4f24ea58"
   },
   "outputs": [],
   "source": [
    "import folium\n",
    "\n",
    "# Initialize Folium map\n",
    "m = folium.Map(location=[34.2, -118.2], zoom_start=9, tiles='CartoDB positron', attribution='CartoDB')\n",
    "\n",
    "# Plot choropleth over the base map\n",
    "folium.Choropleth(\n",
    "    geo_data=parks_locationshomeD5,  # GeoJSON or GeoDataFrame\n",
    "    data=parks_locationshomeD5,       # Dataframe or Series\n",
    "    key_on='feature.properties.FIPS',  # GeoJSON property to bind the data to\n",
    "    columns=['FIPS', 'Total Population'],  # Column(s) in the dataframe to use\n",
    "    fill_color='BuPu',  # Color scale\n",
    "    line_weight=0.1,\n",
    "    fill_opacity=0.8,\n",
    "    line_opacity=0.2,\n",
    "    legend_name='<Unhoused near Parks>'  # Name on the legend color bar\n",
    ").add_to(m)\n",
    "m"
   ]
  },
  {
   "cell_type": "code",
   "execution_count": null,
   "id": "fd4c2594-ceea-4bfc-bc1a-c1cf8ef4e37b",
   "metadata": {
    "executionInfo": {
     "elapsed": 7289,
     "status": "aborted",
     "timestamp": 1707737012910,
     "user": {
      "displayName": "Rodrigo Gutierrez",
      "userId": "04409930615507589682"
     },
     "user_tz": 480
    },
    "id": "fd4c2594-ceea-4bfc-bc1a-c1cf8ef4e37b"
   },
   "outputs": [],
   "source": [
    "m.save('park_homeless5.html')"
   ]
  },
  {
   "cell_type": "code",
   "execution_count": null,
   "id": "76845c95-75f6-4726-9c73-9adeb70d0b51",
   "metadata": {
    "executionInfo": {
     "elapsed": 7288,
     "status": "aborted",
     "timestamp": 1707737012910,
     "user": {
      "displayName": "Rodrigo Gutierrez",
      "userId": "04409930615507589682"
     },
     "user_tz": 480
    },
    "id": "76845c95-75f6-4726-9c73-9adeb70d0b51"
   },
   "outputs": [],
   "source": [
    "## Now lets do the data of parks with the gross rents. Here is District 2."
   ]
  },
  {
   "cell_type": "code",
   "execution_count": null,
   "id": "8fd86682-5e84-4567-9935-577713015e70",
   "metadata": {
    "executionInfo": {
     "elapsed": 7281,
     "status": "aborted",
     "timestamp": 1707737012910,
     "user": {
      "displayName": "Rodrigo Gutierrez",
      "userId": "04409930615507589682"
     },
     "user_tz": 480
    },
    "id": "8fd86682-5e84-4567-9935-577713015e70",
    "scrolled": true
   },
   "outputs": [],
   "source": [
    "import folium\n",
    "\n",
    "# Initialize Folium map\n",
    "m = folium.Map(location=[34.2, -118.2], zoom_start=9, tiles='CartoDB positron', attribution='CartoDB')\n",
    "\n",
    "# Plot choropleth over the base map\n",
    "folium.Choropleth(\n",
    "    geo_data=parks_locationsD2,  # GeoJSON or GeoDataFrame\n",
    "    data=parks_locationsD2,       # Dataframe or Series\n",
    "    key_on='feature.properties.FIPS',  # GeoJSON property to bind the data to\n",
    "    columns=['FIPS', 'Gross Rent'],  # Column(s) in the dataframe to use\n",
    "    fill_color='BuPu',  # Color scale\n",
    "    line_weight=0.1,\n",
    "    fill_opacity=0.8,\n",
    "    line_opacity=0.2,\n",
    "    legend_name='Rent in District 2'  # Name on the legend color bar\n",
    ").add_to(m)\n",
    "m"
   ]
  },
  {
   "cell_type": "code",
   "execution_count": null,
   "id": "528d3722-3f8f-459f-9c1b-b35462929d42",
   "metadata": {
    "executionInfo": {
     "elapsed": 7280,
     "status": "aborted",
     "timestamp": 1707737012910,
     "user": {
      "displayName": "Rodrigo Gutierrez",
      "userId": "04409930615507589682"
     },
     "user_tz": 480
    },
    "id": "528d3722-3f8f-459f-9c1b-b35462929d42"
   },
   "outputs": [],
   "source": [
    "m.save('park_rent2.html')"
   ]
  },
  {
   "cell_type": "code",
   "execution_count": null,
   "id": "4e4abafa-aecb-48cc-9f52-ca877950cfc0",
   "metadata": {
    "executionInfo": {
     "elapsed": 7280,
     "status": "aborted",
     "timestamp": 1707737012911,
     "user": {
      "displayName": "Rodrigo Gutierrez",
      "userId": "04409930615507589682"
     },
     "user_tz": 480
    },
    "id": "4e4abafa-aecb-48cc-9f52-ca877950cfc0"
   },
   "outputs": [],
   "source": [
    "## Here is District 5, with parks and gross rent."
   ]
  },
  {
   "cell_type": "code",
   "execution_count": null,
   "id": "0c08df74-b0ad-44f2-98e2-b002ac9b4ffe",
   "metadata": {
    "executionInfo": {
     "elapsed": 7272,
     "status": "aborted",
     "timestamp": 1707737012911,
     "user": {
      "displayName": "Rodrigo Gutierrez",
      "userId": "04409930615507589682"
     },
     "user_tz": 480
    },
    "id": "0c08df74-b0ad-44f2-98e2-b002ac9b4ffe"
   },
   "outputs": [],
   "source": [
    "import folium\n",
    "\n",
    "# Initialize Folium map\n",
    "m = folium.Map(location=[34.2, -118.2], zoom_start=9, tiles='CartoDB positron', attribution='CartoDB')\n",
    "\n",
    "# Plot choropleth over the base map\n",
    "folium.Choropleth(\n",
    "    geo_data=parks_locationsD5,  # GeoJSON or GeoDataFrame\n",
    "    data=parks_locationsD5,       # Dataframe or Series\n",
    "    key_on='feature.properties.FIPS',  # GeoJSON property to bind the data to\n",
    "    columns=['FIPS', 'Gross Rent'],  # Column(s) in the dataframe to use\n",
    "    fill_color='BuPu',  # Color scale\n",
    "    line_weight=0.1,\n",
    "    fill_opacity=0.8,\n",
    "    line_opacity=0.2,\n",
    "    legend_name='Rent in District 5'  # Name on the legend color bar\n",
    ").add_to(m)\n",
    "m"
   ]
  },
  {
   "cell_type": "code",
   "execution_count": null,
   "id": "b9a84cf3-b22f-441d-b8bb-db3e696f6f43",
   "metadata": {
    "executionInfo": {
     "elapsed": 7271,
     "status": "aborted",
     "timestamp": 1707737012911,
     "user": {
      "displayName": "Rodrigo Gutierrez",
      "userId": "04409930615507589682"
     },
     "user_tz": 480
    },
    "id": "b9a84cf3-b22f-441d-b8bb-db3e696f6f43"
   },
   "outputs": [],
   "source": [
    "m.save('park_rent5.html')"
   ]
  }
 ],
 "metadata": {
  "colab": {
   "provenance": []
  },
  "kernelspec": {
   "display_name": "Python 3 (ipykernel)",
   "language": "python",
   "name": "python3"
  },
  "language_info": {
   "codemirror_mode": {
    "name": "ipython",
    "version": 3
   },
   "file_extension": ".py",
   "mimetype": "text/x-python",
   "name": "python",
   "nbconvert_exporter": "python",
   "pygments_lexer": "ipython3",
   "version": "3.11.7"
  }
 },
 "nbformat": 4,
 "nbformat_minor": 5
}
