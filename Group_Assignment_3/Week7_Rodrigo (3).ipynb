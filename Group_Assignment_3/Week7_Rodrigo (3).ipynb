{
 "cells": [
  {
   "cell_type": "code",
   "execution_count": null,
   "id": "d198d7ca-08a3-4003-af87-7ae1ebf173af",
   "metadata": {},
   "outputs": [],
   "source": [
    "## This is Rodrigo Gutierrez's midterm notebook. Our group is researching park equity in the 2nd and 5th Supervisorial Districts\n",
    "## in Los Angeles, CA. The members of my group are Annie Chan, Miles Parr Kim, Aydin Pasebani, and Max Garcia."
   ]
  },
  {
   "cell_type": "code",
   "execution_count": null,
   "id": "dfeeceb7-abfb-49d9-9112-8d71dce865d7",
   "metadata": {},
   "outputs": [],
   "source": [
    "## I am focusing my code on the number of unhoused individuals in LA County comparing that to the average rent, and whether\n",
    "## parks are more prevalent in census tracts with higher rent costs."
   ]
  },
  {
   "cell_type": "code",
   "execution_count": null,
   "id": "0c115c4b-7e39-45fe-a50f-fe6be3c223e0",
   "metadata": {},
   "outputs": [],
   "source": [
    "## This is my cleaned midterm notebook. I condensed the merging and was able to get the counts of the numbers and stored\n",
    "## in a dictionary possibly to use in the future."
   ]
  },
  {
   "cell_type": "code",
   "execution_count": null,
   "id": "dc26d586-9bbe-4c7c-a936-4ffa7195c37f",
   "metadata": {},
   "outputs": [],
   "source": [
    "## Here I am importing all my libraries that I will potentially use. I may not use them all, but I like to import them just in\n",
    "## case."
   ]
  },
  {
   "cell_type": "code",
   "execution_count": null,
   "id": "9f26addf-c5f9-49ba-8004-e8b11aea63cb",
   "metadata": {},
   "outputs": [],
   "source": [
    "import pandas as pd\n",
    "import geopandas as gpd\n",
    "from matplotlib import pyplot as plt\n",
    "import seaborn as sns\n",
    "from scipy.spatial import distance_matrix as distance_matrix\n",
    "from shapely.geometry import Point"
   ]
  },
  {
   "cell_type": "code",
   "execution_count": null,
   "id": "a127d673-48b8-4014-90b0-5ee1525fdc03",
   "metadata": {},
   "outputs": [],
   "source": [
    "## I created my ForLoop here with the intention of making the merge process a bit easier. I didn't feel comfortable with merging\n",
    "## further than what I did here. I still need to figure out how to make a different for loop to merge merged data sets. I first\n",
    "## started with District 2. I read in the JSON file and created the 'FIPS'column. I then created a data frame with the dataset\n",
    "## I would be using in it. I created an empty dictionary for my totals to go into. I then used the forloop\n",
    "##iterated through and read in my files\n",
    "## and created the FIPS columns, merging my District 2 data and my tracts data. I then read in my homeless data and also created\n",
    "## FIPS code, but using the Tract Number. I then merged this data with the first merge, so all three data sets were now merged.\n",
    "## I then used the .groupby() function and .sum() in order to get the sum of each respective column; how many unhoused, housed,\n",
    "## and total people there are. I used a second forloop to show each column within district_totals and how many people were in\n",
    "## each. I couldn't figure out how or even if I could do both data sets at the same time. It is something I would have to look\n",
    "## further into. I then decided to duplicate this but doing it with the District 5 data.\n"
   ]
  },
  {
   "cell_type": "code",
   "execution_count": null,
   "id": "2a2fd96b-cb5e-4a52-b7d7-75c925887e08",
   "metadata": {},
   "outputs": [],
   "source": [
    "## I also got rid of any unnecessary maps and lines of code that I would not use. I hope that maybe I can reduce the merging\n",
    "## of the rents and get the counts for that by using my for loop."
   ]
  },
  {
   "cell_type": "code",
   "execution_count": null,
   "id": "94b813bb-34d1-4db4-9c69-5539f9463c28",
   "metadata": {},
   "outputs": [],
   "source": [
    "# Load the GeoJSON file containing census tracts\n",
    "tracts = gpd.read_file('data/2020_Census_Tracts (1).geojson')\n",
    "tracts['FIPS'] = '06' + '037' + tracts['CT20']\n",
    "\n",
    "# Define the list of district names\n",
    "districts = ['District2']\n",
    "\n",
    "# Create a dictionary to store data for each district\n",
    "district_totals = {}\n",
    "\n",
    "# Iterate over district\n",
    "for district in districts:\n",
    "    # Load CSV data for the district\n",
    "    district_data = pd.read_csv('data/District2 (1).csv', dtype={'CT20': str})\n",
    "\n",
    "    # Add 'FIPS' column\n",
    "    district_data['FIPS'] = '06' + '037' + district_data['CT20']\n",
    "    \n",
    "    # Ensure 'FIPS' column is in the correct data type\n",
    "    district_data['FIPS'] = district_data['FIPS'].astype(str)\n",
    "    \n",
    "    # Merge CSV data with GeoJSON data based on a common identifier\n",
    "    merged_data = pd.merge(tracts, district_data, on='FIPS')\n",
    "    \n",
    "    # Load homeless data for the district\n",
    "    homeless_data = pd.read_csv('data/unhoused.csv', dtype={'TractNum' : str})\n",
    "    homeless_data['FIPS'] = '06' + '037' + homeless_data['TractNum']\n",
    "\n",
    "    # Merge the homeless data with the merged census tract data\n",
    "    homeless_merge = pd.merge(merged_data, homeless_data, on ='FIPS')\n",
    "    \n",
    "    # Group by tract and sum the counts of homeless people within each tract\n",
    "    tract_homeless_counts = homeless_merge.groupby('TractNum')[['Total Sheltered', 'Total Unsheltered', 'Total Population']].sum()\n",
    "    \n",
    "    # Store totals in the dictionary\n",
    "    district_totals[district] = tract_homeless_counts\n",
    "\n",
    "# Output the data for each district\n",
    "for district, totals in district_totals.items():\n",
    "    print(f\"District: {district}\")\n",
    "    print(totals)\n",
    "    print()"
   ]
  },
  {
   "cell_type": "code",
   "execution_count": null,
   "id": "90c4a56e-0ea5-47f4-bccc-6dbcc4ed2c4c",
   "metadata": {},
   "outputs": [],
   "source": [
    "# Load the GeoJSON file containing census tracts\n",
    "tracts = gpd.read_file('data/2020_Census_Tracts (1).geojson')\n",
    "tracts['FIPS'] = '06' + '037' + tracts['CT20']\n",
    "\n",
    "# Define the list of district names\n",
    "districts5 = ['District5']\n",
    "\n",
    "# Create a dictionary to store data for each district\n",
    "district_totals5 = {}\n",
    "\n",
    "# Iterate over district\n",
    "for district in districts5:\n",
    "    # Load CSV data for the district\n",
    "    district_data5 = pd.read_csv('data/District5 (1) (1).csv', dtype={'CT20': str})\n",
    "\n",
    "    # Add 'FIPS' column\n",
    "    district_data5['FIPS'] = '06' + '037' + district_data5['CT20']\n",
    "    \n",
    "    # Ensure 'FIPS' column is in the correct data type\n",
    "    district_data5['FIPS'] = district_data5['FIPS'].astype(str)\n",
    "    \n",
    "    # Merge CSV data with GeoJSON data based on a common identifier\n",
    "    merged_data5 = pd.merge(tracts, district_data5, on='FIPS')\n",
    "    \n",
    "    # Load homeless data for the district\n",
    "    homeless_data5 = pd.read_csv('data/unhoused.csv', dtype={'TractNum' : str})\n",
    "    homeless_data5['FIPS'] = '06' + '037' + homeless_data5['TractNum']\n",
    "\n",
    "    # Merge the homeless data with the merged census tract data\n",
    "    homeless_merge5 = pd.merge(merged_data5, homeless_data5, on ='FIPS')\n",
    "    \n",
    "    # Group by tract and sum the counts of homeless people within each tract\n",
    "    tract_homeless_counts5 = homeless_merge5.groupby('TractNum')[['Total Sheltered', 'Total Unsheltered', 'Total Population']].sum()\n",
    "    \n",
    "    # Store totals in the dictionary\n",
    "    district_totals5[district] = tract_homeless_counts5\n",
    "\n",
    "# Output the data for each district\n",
    "for district, totals in district_totals5.items():\n",
    "    print(f\"District: {district}\")\n",
    "    print(totals)\n",
    "    print()"
   ]
  },
  {
   "cell_type": "code",
   "execution_count": null,
   "id": "2b8576a0-e52a-4454-b89c-931b194a2ec5",
   "metadata": {},
   "outputs": [],
   "source": [
    "## I want to see what are the locations with the highest counts of unhoused individuals. I didn't know what CANNDU was,\n",
    "## but a quick internet search produced that it stands for 'Community And Neighbors for Ninth District Unity'. This area is in\n",
    "## South Los Angeles close to the neighborhood of Florence-Graham also nearby."
   ]
  },
  {
   "cell_type": "code",
   "execution_count": null,
   "id": "214344c4-83b8-4789-8d14-b09f5424f6a8",
   "metadata": {},
   "outputs": [],
   "source": [
    "homeless_merge.sort_values(by='Total Population', ascending = False)[['FIPS', 'Total Population', 'Location']].head(10)"
   ]
  },
  {
   "cell_type": "code",
   "execution_count": null,
   "id": "aebccb50-9f13-4e0d-9b2f-a940839c54a3",
   "metadata": {},
   "outputs": [],
   "source": [
    "## Similar to the line above, I see here that unincorporated Antelope Valley and Lancaster show up the most."
   ]
  },
  {
   "cell_type": "code",
   "execution_count": null,
   "id": "ec2d0c19-64cb-4a26-884a-99d942278829",
   "metadata": {},
   "outputs": [],
   "source": [
    "homeless_merge5.sort_values(by='Total Population', ascending = False)[['FIPS', 'Total Population', 'Location']].head(10)"
   ]
  },
  {
   "cell_type": "code",
   "execution_count": null,
   "id": "8dacaee3-340f-469d-a183-d247c88fbca4",
   "metadata": {},
   "outputs": [],
   "source": [
    "## Reading in data about Gross Rent in LA County, reading in GEO_ID as a string to use it to merge. I cleaned the data in Excel."
   ]
  },
  {
   "cell_type": "code",
   "execution_count": null,
   "id": "517ba6b7-8730-404f-bd56-34817cf4cf1d",
   "metadata": {},
   "outputs": [],
   "source": [
    "rent = pd.read_csv('data/rentdata.csv',\n",
    "dtype=\n",
    "    {\n",
    "        'GEO_ID':str,\n",
    "    }\n",
    ")\n",
    "rent"
   ]
  },
  {
   "cell_type": "code",
   "execution_count": null,
   "id": "1cc99499-1d77-4511-b821-fca65dfe7191",
   "metadata": {},
   "outputs": [],
   "source": [
    "## Here I am renaming the GEO_ID column to 'FIPS' in order to merge with my other data."
   ]
  },
  {
   "cell_type": "code",
   "execution_count": null,
   "id": "b3a731bf-7951-4ece-a0ec-1ea28c7d443c",
   "metadata": {},
   "outputs": [],
   "source": [
    "rent['FIPS'] = rent['GEO_ID']"
   ]
  },
  {
   "cell_type": "code",
   "execution_count": null,
   "id": "13a94b51-ef14-47f7-bbf0-0aa46337c8af",
   "metadata": {},
   "outputs": [],
   "source": [
    "## Checking how the data looks making sure there is a leading 0, there is!"
   ]
  },
  {
   "cell_type": "code",
   "execution_count": null,
   "id": "d41d4e12-6d7b-4749-9cff-fe7efb55f785",
   "metadata": {},
   "outputs": [],
   "source": [
    "rent"
   ]
  },
  {
   "cell_type": "code",
   "execution_count": null,
   "id": "01e0eca6-72e5-493d-b3e3-48cefa1df341",
   "metadata": {},
   "outputs": [],
   "source": [
    "## Merging here rent with tracts on 'FIPS'. Looks good."
   ]
  },
  {
   "cell_type": "code",
   "execution_count": null,
   "id": "418110bc-2739-48d4-963b-0386b38895ad",
   "metadata": {},
   "outputs": [],
   "source": [
    "tracts_rent = tracts.merge(rent,on =\"FIPS\")\n",
    "tracts_rent"
   ]
  },
  {
   "cell_type": "code",
   "execution_count": null,
   "id": "646c8c6d-a5af-4d3a-b98a-d6d6eb60e621",
   "metadata": {},
   "outputs": [],
   "source": [
    "## Merging here the tracts_rent with the District 2 data on 'FIPS'."
   ]
  },
  {
   "cell_type": "code",
   "execution_count": null,
   "id": "60bc10d1-952a-41bc-ba62-15b7197ecc5b",
   "metadata": {},
   "outputs": [],
   "source": [
    "tracts_rentdis2 = tracts_rent.merge(district_data, on = \"FIPS\")"
   ]
  },
  {
   "cell_type": "code",
   "execution_count": null,
   "id": "f4d19004-1e63-41bc-a3a9-85fdc66cd299",
   "metadata": {},
   "outputs": [],
   "source": [
    "## Let's see how well they combined. Looks good."
   ]
  },
  {
   "cell_type": "code",
   "execution_count": null,
   "id": "b29c1649-521e-4ff2-ae1e-c821d9e3e172",
   "metadata": {},
   "outputs": [],
   "source": [
    "tracts_rentdis2"
   ]
  },
  {
   "cell_type": "code",
   "execution_count": null,
   "id": "95696222-c0ba-4c11-8b89-199f7264f5bc",
   "metadata": {},
   "outputs": [],
   "source": [
    "## Found this code to take away the rows where there was no rent listed. I checked again and I'm not sure why they disappeared\n",
    "## before I did this, but keeping it just in case."
   ]
  },
  {
   "cell_type": "code",
   "execution_count": null,
   "id": "d4af6b89-346f-4ed2-9e1e-37b05b3b5a20",
   "metadata": {},
   "outputs": [],
   "source": [
    "tracts_rentdis2 = tracts_rentdis2[tracts_rentdis2['Gross Rent'] != '-']"
   ]
  },
  {
   "cell_type": "code",
   "execution_count": null,
   "id": "725d7061-4974-4216-a7d7-ae50352039de",
   "metadata": {},
   "outputs": [],
   "source": [
    "## Here I wanted to see the top 10 highest rents. Looks like District 2's highest gross rent seems to be 3459."
   ]
  },
  {
   "cell_type": "code",
   "execution_count": null,
   "id": "06a274dc-97af-415f-8a3a-82b04d487920",
   "metadata": {},
   "outputs": [],
   "source": [
    "tracts_rentdis2.sort_values(by='Gross Rent', ascending = False)[['GEO_ID', 'Gross Rent']].head(10)"
   ]
  },
  {
   "cell_type": "code",
   "execution_count": null,
   "id": "11e93c06-c6ac-4958-94a4-aad4f6738245",
   "metadata": {},
   "outputs": [],
   "source": [
    "## Doing the same, but for the smallest rent, seems like 675 is the smallest gross rent that could be found in a census tract."
   ]
  },
  {
   "cell_type": "code",
   "execution_count": null,
   "id": "1b25dc15-974c-403b-b68b-00dbc1d35392",
   "metadata": {},
   "outputs": [],
   "source": [
    "tracts_rentdis2.sort_values(by='Gross Rent', ascending = False)[['GEO_ID', 'Gross Rent']].tail(5)"
   ]
  },
  {
   "cell_type": "code",
   "execution_count": null,
   "id": "c9cf0266-08b7-48c2-a2d0-ef77d523cd8d",
   "metadata": {},
   "outputs": [],
   "source": [
    "## Checking if any of the columns are empty. Doesn't appear like there is."
   ]
  },
  {
   "cell_type": "code",
   "execution_count": null,
   "id": "70f6b9bd-fc40-4246-baf1-2955f5d24aaa",
   "metadata": {},
   "outputs": [],
   "source": [
    "tracts_rentdis2.columns[tracts_rentdis2.isna().all()].tolist()"
   ]
  },
  {
   "cell_type": "code",
   "execution_count": null,
   "id": "0d428df2-e749-4610-ae73-5800bf9cfba9",
   "metadata": {},
   "outputs": [],
   "source": [
    "## I had tried to plot this, but it said 'Gross Rent' wasn't plotable because they weren't integers, found this code to change it."
   ]
  },
  {
   "cell_type": "code",
   "execution_count": null,
   "id": "a8d3c984-5b62-4396-8476-72303cb63023",
   "metadata": {},
   "outputs": [],
   "source": [
    "tracts_rentdis2['Gross Rent'] = pd.to_numeric(tracts_rentdis2['Gross Rent'], errors='coerce')"
   ]
  },
  {
   "cell_type": "code",
   "execution_count": null,
   "id": "37358bbb-9139-4da1-9f73-c6f598e011a1",
   "metadata": {},
   "outputs": [],
   "source": [
    "## Using this next code to drop any NaN values that I do not want to plot within the 'Gross Rent' column."
   ]
  },
  {
   "cell_type": "code",
   "execution_count": null,
   "id": "c3a3e9b3-8b99-48be-b103-50eac4e51112",
   "metadata": {},
   "outputs": [],
   "source": [
    "tracts_rentdis2.dropna(subset=['Gross Rent'], inplace=True)"
   ]
  },
  {
   "cell_type": "code",
   "execution_count": null,
   "id": "8193ec6d-a63f-4623-aad6-c817dd3fa699",
   "metadata": {},
   "outputs": [],
   "source": [
    "## Time to plot this finally, let's see if it works. First let's see how it looks on a histogram. Seems like the majority of\n",
    "## tracts fall between 1000 and 1500 rent."
   ]
  },
  {
   "cell_type": "code",
   "execution_count": null,
   "id": "bf20e3b2-ec41-490d-a3bd-2ae978a9ce07",
   "metadata": {},
   "outputs": [],
   "source": [
    "tracts_rentdis2['Gross Rent'].plot.hist()"
   ]
  },
  {
   "cell_type": "code",
   "execution_count": null,
   "id": "0b94bd98-4fa1-4b69-a43b-4c5f94b8cee3",
   "metadata": {},
   "outputs": [],
   "source": [
    "## Now let's see it on a better map."
   ]
  },
  {
   "cell_type": "code",
   "execution_count": null,
   "id": "c9c0fdef-0465-4480-9a63-5a3ff6763813",
   "metadata": {},
   "outputs": [],
   "source": [
    "dis2_tractsrentmap = tracts_rentdis2.plot(figsize=(12,10),\n",
    "                 column='Gross Rent',\n",
    "                 legend=True, \n",
    "                 scheme='NaturalBreaks')\n",
    "dis2_tractsrentmap.set_title('Gross Rent Costs in District 2 of LA County')\n",
    "dis2_tractsrentmap.axis('off')"
   ]
  },
  {
   "cell_type": "code",
   "execution_count": null,
   "id": "4b9cf327-319b-47fd-954d-723128e97893",
   "metadata": {},
   "outputs": [],
   "source": [
    "## Map looks pretty good, we can see that higher rent tends to be more on the Westside of the District, lower rent is more \n",
    "## on Eastside."
   ]
  },
  {
   "cell_type": "code",
   "execution_count": null,
   "id": "23ac4710-1d1f-4b78-8449-8297f75139d0",
   "metadata": {},
   "outputs": [],
   "source": [
    "## Here I am merging my District 5 data with my tracts_rent data, doing so on 'FIPS'."
   ]
  },
  {
   "cell_type": "code",
   "execution_count": null,
   "id": "8fe78442-037c-486a-9c76-24333508f634",
   "metadata": {},
   "outputs": [],
   "source": [
    "tracts_rentdis5 = tracts_rent.merge(district_data5, on = \"FIPS\")"
   ]
  },
  {
   "cell_type": "code",
   "execution_count": null,
   "id": "b9ace7d6-4806-42a9-bdc9-5a6a7bfa1569",
   "metadata": {},
   "outputs": [],
   "source": [
    "## Similar to above, I am using this code to get rid of any values showing up as '-' in the 'Gross Rent' column."
   ]
  },
  {
   "cell_type": "code",
   "execution_count": null,
   "id": "908665c8-6eff-4fa6-a15f-023f98d4c911",
   "metadata": {},
   "outputs": [],
   "source": [
    "tracts_rentdis5 = tracts_rentdis5[tracts_rentdis5['Gross Rent'] != '-']"
   ]
  },
  {
   "cell_type": "code",
   "execution_count": null,
   "id": "2a08ee5b-eede-41d3-bb27-ccf6ae03b5f6",
   "metadata": {},
   "outputs": [],
   "source": [
    "## Also like above, converting the values in 'Gross Rent' into integers."
   ]
  },
  {
   "cell_type": "code",
   "execution_count": null,
   "id": "c430ea0b-cd21-4502-81c5-7b7f68de81cd",
   "metadata": {},
   "outputs": [],
   "source": [
    "tracts_rentdis5['Gross Rent'] = pd.to_numeric(tracts_rentdis5['Gross Rent'], errors='coerce')"
   ]
  },
  {
   "cell_type": "code",
   "execution_count": null,
   "id": "9370606d-d6a8-4558-92be-196104f3a0db",
   "metadata": {},
   "outputs": [],
   "source": [
    "## Dropping the NaN values in the 'Gross Rent' column."
   ]
  },
  {
   "cell_type": "code",
   "execution_count": null,
   "id": "85ee9de6-0aea-418a-b99e-4da9cdb3ab23",
   "metadata": {},
   "outputs": [],
   "source": [
    "tracts_rentdis5.dropna(subset=['Gross Rent'], inplace=True)"
   ]
  },
  {
   "cell_type": "code",
   "execution_count": null,
   "id": "34f2caad-1d7b-4787-a424-45b0943913e3",
   "metadata": {},
   "outputs": [],
   "source": [
    "## Time to plot the data again, using same code as before. This graph looks different than District 2's, more census tracts \n",
    "## fall between 1500 and 2000 here."
   ]
  },
  {
   "cell_type": "code",
   "execution_count": null,
   "id": "c93aa146-1efa-4ada-91e8-3354f5d05a91",
   "metadata": {},
   "outputs": [],
   "source": [
    "tracts_rentdis5['Gross Rent'].plot.hist()"
   ]
  },
  {
   "cell_type": "code",
   "execution_count": null,
   "id": "53acdcf2-9b04-406c-af78-d2198fda4936",
   "metadata": {},
   "outputs": [],
   "source": [
    "## Now let's map it on a better map similar to the one above."
   ]
  },
  {
   "cell_type": "code",
   "execution_count": null,
   "id": "2bf1281e-b96d-463d-bd81-afe78c9bd717",
   "metadata": {},
   "outputs": [],
   "source": [
    "dis5_tractrentmap = tracts_rentdis5.plot(figsize=(12,10),\n",
    "                 column='Gross Rent',\n",
    "                 legend=True, \n",
    "                 scheme='NaturalBreaks')\n",
    "dis5_tractrentmap.set_title('Gross Rent Costs in District 5 of LA County')\n",
    "dis5_tractrentmap.axis('off')"
   ]
  },
  {
   "cell_type": "code",
   "execution_count": null,
   "id": "23cb8904-6cb5-4438-949e-ddff7fedd318",
   "metadata": {},
   "outputs": [],
   "source": [
    "### Looks good! Here we can see the Census Tracts are much bigger, because population is so sparse, in the more densely\n",
    "### populated tracts, we see higher rents."
   ]
  },
  {
   "cell_type": "code",
   "execution_count": null,
   "id": "5a16364a-c229-4cf2-a377-b17063478edb",
   "metadata": {},
   "outputs": [],
   "source": [
    "## Now lets read in the Parks data from the County."
   ]
  },
  {
   "cell_type": "code",
   "execution_count": null,
   "id": "b6ce656f-ac1b-4085-88ab-c3f53b060405",
   "metadata": {},
   "outputs": [],
   "source": [
    "parks = gpd.read_file('data/Parks.geojson')\n",
    "parks.head()"
   ]
  },
  {
   "cell_type": "code",
   "execution_count": null,
   "id": "815afbf5-d3fd-46a9-a7c8-435f3c44525d",
   "metadata": {},
   "outputs": [],
   "source": [
    "## Here I am merging my Parks data with my data of the Rent in District 2 tracts, on the column of 'Polygon'."
   ]
  },
  {
   "cell_type": "code",
   "execution_count": null,
   "id": "7f1b50fb-8f7a-422a-a0b8-35660cbf7bde",
   "metadata": {},
   "outputs": [],
   "source": [
    "from shapely.geometry import Polygon\n",
    "geopandas = gpd\n",
    "parks_locationsD2 = geopandas.overlay(tracts_rentdis2, parks, how='intersection', keep_geom_type=None, make_valid=True)\n",
    "parks_locationsD2"
   ]
  },
  {
   "cell_type": "code",
   "execution_count": null,
   "id": "ff3f1416-f4b9-4678-8c29-e7513c0d1aeb",
   "metadata": {},
   "outputs": [],
   "source": [
    "## Now let's map this."
   ]
  },
  {
   "cell_type": "code",
   "execution_count": null,
   "id": "a605ae6f-ec73-4e3a-95fe-715b03f5a1fd",
   "metadata": {},
   "outputs": [],
   "source": [
    "dis2_tractsrentmap = parks_locationsD2.plot(figsize=(12,10),\n",
    "                            column='Gross Rent',\n",
    "                 legend=True, \n",
    "                 scheme='NaturalBreaks')\n",
    "dis2_tractsrentmap.set_title('Parks in relation to Rents in their Census Tracts in LA Supervisorial District 2')\n",
    "plt.savefig('D2_Rent_Parks_Pct.jpg')\n",
    "plt.show()"
   ]
  },
  {
   "cell_type": "code",
   "execution_count": null,
   "id": "6f18768c-cf4d-4e29-8f65-ab809512af82",
   "metadata": {},
   "outputs": [],
   "source": [
    "## Now let's do the same for District 5, merging on \"Polygon'."
   ]
  },
  {
   "cell_type": "code",
   "execution_count": null,
   "id": "acecf1b3-c0f3-4ef3-b257-8840a6281951",
   "metadata": {},
   "outputs": [],
   "source": [
    "parks_locationsD5 = geopandas.overlay(tracts_rentdis5, parks, how='intersection', keep_geom_type=None, make_valid=True)"
   ]
  },
  {
   "cell_type": "code",
   "execution_count": null,
   "id": "b0ef37d2-0848-4e48-9e87-b66ceb33060f",
   "metadata": {},
   "outputs": [],
   "source": [
    "## Let's map this the same as before, for District 5."
   ]
  },
  {
   "cell_type": "code",
   "execution_count": null,
   "id": "af54da26-6b3b-45d3-bc71-b6e4f0884760",
   "metadata": {},
   "outputs": [],
   "source": [
    "dis5_tractsrentmap = parks_locationsD5.plot(figsize=(12,10),\n",
    "                            column='Gross Rent',\n",
    "                 legend=True, \n",
    "                 scheme='NaturalBreaks')\n",
    "dis5_tractsrentmap.set_title('Parks in relation to Rents in their Census Tracts in LA Supervisorial District 5')\n",
    "plt.savefig('D5_Rent_Parks_Pct.jpg')\n",
    "plt.show()"
   ]
  },
  {
   "cell_type": "code",
   "execution_count": null,
   "id": "ecda601b-00c3-4159-af00-f327647b5da7",
   "metadata": {},
   "outputs": [],
   "source": [
    "## This is interesting, there is a very large park, most likely a national park. It borders a park in an area with the highest\n",
    "## rent. We can see that the large park may have a low rent because few people actually live there. Lots of parks can be found\n",
    "## in Southern part of the District, it is more densely populated."
   ]
  },
  {
   "cell_type": "code",
   "execution_count": null,
   "id": "73c30d9e-c8ff-49cc-ac9f-ddc72c0faaab",
   "metadata": {},
   "outputs": [],
   "source": [
    "## Now lets map the unhoused Population in District 2."
   ]
  },
  {
   "cell_type": "code",
   "execution_count": null,
   "id": "faef879a-19e7-4eb9-9cba-ee5010181bb9",
   "metadata": {},
   "outputs": [],
   "source": [
    "Dis2_tractshomemap = homeless_merge.plot(figsize=(12,10),\n",
    "                 column='Total Population',\n",
    "                 legend=True, \n",
    "                 scheme='NaturalBreaks')\n",
    "Dis2_tractshomemap.set_title('Total Unhoused Population in District 2 of LA County')\n",
    "Dis2_tractshomemap.axis('off')"
   ]
  },
  {
   "cell_type": "code",
   "execution_count": null,
   "id": "128f10ea-a7b6-42e2-8502-4d66fb2849ce",
   "metadata": {},
   "outputs": [],
   "source": [
    "## Now let's do the same as with District 2, but this time with District 5."
   ]
  },
  {
   "cell_type": "code",
   "execution_count": null,
   "id": "dedf1c32-1079-4861-8a9b-d37a3b671cf2",
   "metadata": {},
   "outputs": [],
   "source": [
    "Dis5_tractshomemap = homeless_merge5.plot(figsize=(12,10),\n",
    "                 column='Total Population',\n",
    "                 legend=True, \n",
    "                 scheme='NaturalBreaks')\n",
    "Dis5_tractshomemap.set_title('Total Unhoused Population in District 5 of LA County')\n",
    "Dis5_tractshomemap.axis('off')"
   ]
  },
  {
   "cell_type": "code",
   "execution_count": null,
   "id": "1c16f336-a0a7-44a7-9431-e0795b160a02",
   "metadata": {},
   "outputs": [],
   "source": [
    "## Now let's merge Parks data with Homeless data like we did with the rent. We are merging on the Polygon."
   ]
  },
  {
   "cell_type": "code",
   "execution_count": null,
   "id": "431e47e9-3f50-4cd4-93eb-96f68e1f773d",
   "metadata": {},
   "outputs": [],
   "source": [
    "parks_locationshomeD2 = geopandas.overlay(homeless_merge, parks, how='intersection', keep_geom_type=None, make_valid=True)"
   ]
  },
  {
   "cell_type": "code",
   "execution_count": null,
   "id": "b676af15-6e9d-4b49-af35-ae0b887effaf",
   "metadata": {},
   "outputs": [],
   "source": [
    "## Now we can map this like we did with the rent. Interesting, the bigger parks seem to have more unhoused individuals with one small one having the most."
   ]
  },
  {
   "cell_type": "code",
   "execution_count": null,
   "id": "1542b5fb-1f4f-4e1b-a915-99d89b470083",
   "metadata": {},
   "outputs": [],
   "source": [
    "dis2_tractshomemap = parks_locationshomeD2.plot(figsize=(12,10),\n",
    "                            column='Total Population',\n",
    "                 legend=True, \n",
    "                 scheme='NaturalBreaks')\n",
    "dis2_tractshomemap.set_title('Parks in relation to Total Unhoused in their Census Tracts in LA Supervisorial District 2')\n",
    "plt.savefig('D2_Home_Parks_Pct.jpg')\n",
    "plt.show()"
   ]
  },
  {
   "cell_type": "code",
   "execution_count": null,
   "id": "bd84e200-ea78-4df4-8121-26871d3c27ff",
   "metadata": {},
   "outputs": [],
   "source": [
    "## Now lets do the same with District 5, merging parks with homeless count."
   ]
  },
  {
   "cell_type": "code",
   "execution_count": null,
   "id": "e9800c2c-b9ed-4e63-b7ef-125e80036b01",
   "metadata": {},
   "outputs": [],
   "source": [
    "parks_locationshomeD5 = geopandas.overlay(homeless_merge5, parks, how='intersection', keep_geom_type=None, make_valid=True)\n",
    "parks_locationshomeD5"
   ]
  },
  {
   "cell_type": "code",
   "execution_count": null,
   "id": "769159de-7226-41e3-859a-496a9fbe6cc6",
   "metadata": {},
   "outputs": [],
   "source": [
    "## Now we can map it like we did before, interesting that the parks in the Northeast corner hold a lot of unhoused residents."
   ]
  },
  {
   "cell_type": "code",
   "execution_count": null,
   "id": "ea41a4e2-7f74-4a68-b2ae-7529b1e45fa9",
   "metadata": {},
   "outputs": [],
   "source": [
    "dis5_tractshomemap = parks_locationshomeD5.plot(figsize=(12,10),\n",
    "                            column='Total Population',\n",
    "                 legend=True, \n",
    "                 scheme='NaturalBreaks')\n",
    "dis5_tractshomemap.set_title('Parks in relation to Total Unhoused in their Census Tracts in LA Supervisorial District 5')\n",
    "plt.savefig('D5_Home_Parks_Pct.jpg')\n",
    "plt.show()"
   ]
  },
  {
   "cell_type": "code",
   "execution_count": null,
   "id": "0c75c4c9-6c9a-44dc-9789-6107cecc6feb",
   "metadata": {},
   "outputs": [],
   "source": [
    "## Let's try another way, using Chris' code from the lecture. Looks good, now to repeat for District 5."
   ]
  },
  {
   "cell_type": "code",
   "execution_count": null,
   "id": "3b36f677-db1e-4d88-961d-1d51fcee2bc2",
   "metadata": {},
   "outputs": [],
   "source": [
    "import folium\n",
    "m = folium.Map(location=[34.2,-118.2], \n",
    "               zoom_start = 9,\n",
    "               tiles='CartoDB positron', \n",
    "               attribution='CartoDB')\n",
    "\n",
    "# plot chorpleth over the base map\n",
    "folium.Choropleth(\n",
    "                  geo_data=tracts_rentdis2 , # geo data\n",
    "                  data=tracts_rentdis2 , # data          \n",
    "                  key_on='feature.properties.FIPS', # key, or merge column\n",
    "                  columns=['FIPS', 'Gross Rent'], # [key, value]\n",
    "                  fill_color='BuPu',\n",
    "                  line_weight=0.1, \n",
    "                  fill_opacity=0.8,\n",
    "                  line_opacity=0.2, # line opacity (of the border)\n",
    "                  legend_name='Gross Rent').add_to(m)    # name on the legend color bar\n",
    "m"
   ]
  },
  {
   "cell_type": "code",
   "execution_count": null,
   "id": "d0477626-31b5-4ea9-8131-8054798c8483",
   "metadata": {},
   "outputs": [],
   "source": [
    "m.save('tracts_home2.html')"
   ]
  },
  {
   "cell_type": "code",
   "execution_count": null,
   "id": "07de99db-f746-4270-a5ce-03c27ffaf4bf",
   "metadata": {},
   "outputs": [],
   "source": [
    "## Did the same thing here with District 5, this is good for helping visualize and compare rents across areas."
   ]
  },
  {
   "cell_type": "code",
   "execution_count": null,
   "id": "3d40ee7a-8521-4bc1-9181-b4601fdeb665",
   "metadata": {},
   "outputs": [],
   "source": [
    "m = folium.Map(location=[34.2,-118.2], \n",
    "               zoom_start = 9,\n",
    "               tiles='CartoDB positron', \n",
    "               attribution='CartoDB')\n",
    "\n",
    "# plot chorpleth over the base map\n",
    "folium.Choropleth(\n",
    "                  geo_data=tracts_rentdis5 , # geo data\n",
    "                  data=tracts_rentdis5 , # data          \n",
    "                  key_on='feature.properties.FIPS', # key, or merge column\n",
    "                  columns=['FIPS', 'Gross Rent'], # [key, value]\n",
    "                  fill_color='BuPu',\n",
    "                  line_weight=0.1, \n",
    "                  fill_opacity=0.8,\n",
    "                  line_opacity=0.2, # line opacity (of the border)\n",
    "                  legend_name='Gross Rent').add_to(m)    # name on the legend color bar\n",
    "m"
   ]
  },
  {
   "cell_type": "code",
   "execution_count": null,
   "id": "3bcff4c1-c28e-42ce-971b-59c933e15196",
   "metadata": {},
   "outputs": [],
   "source": [
    "m.save('tracts_home5.html')"
   ]
  },
  {
   "cell_type": "code",
   "execution_count": null,
   "id": "66b2cda9-24df-40b8-b20b-b94c9b072caf",
   "metadata": {},
   "outputs": [],
   "source": [
    "## Now we can repeat but this time with the homeless population in District 2."
   ]
  },
  {
   "cell_type": "code",
   "execution_count": null,
   "id": "47670510-58a9-4037-b78a-a2b094c36fe8",
   "metadata": {},
   "outputs": [],
   "source": [
    "m = folium.Map(location=[34.2,-118.2], \n",
    "               zoom_start = 9,\n",
    "               tiles='CartoDB positron', \n",
    "               attribution='CartoDB')\n",
    "\n",
    "# plot chorpleth over the base map\n",
    "folium.Choropleth(\n",
    "                  geo_data=homeless_merge , # geo data\n",
    "                  data=homeless_merge , # data          \n",
    "                  key_on='feature.properties.FIPS', # key, or merge column\n",
    "                  columns=['FIPS', 'Total Population'], # [key, value]\n",
    "                  fill_color='BuPu',\n",
    "                  line_weight=0.1, \n",
    "                  fill_opacity=0.8,\n",
    "                  line_opacity=0.2, # line opacity (of the border)\n",
    "                  legend_name='Total Population').add_to(m)    # name on the legend color bar\n",
    "m"
   ]
  },
  {
   "cell_type": "code",
   "execution_count": null,
   "id": "27c8717b-a6fb-4a93-ae0b-e891845a2962",
   "metadata": {},
   "outputs": [],
   "source": [
    "m.save('tracts_home2.html')"
   ]
  },
  {
   "cell_type": "code",
   "execution_count": null,
   "id": "f279fbff-0ad5-4d12-86c9-9f5dfd27523c",
   "metadata": {},
   "outputs": [],
   "source": [
    "## Now doing it again, but with District 5. Looks good."
   ]
  },
  {
   "cell_type": "code",
   "execution_count": null,
   "id": "de96a3ac-491d-4437-bb7d-39b9000f5ad8",
   "metadata": {},
   "outputs": [],
   "source": [
    "m = folium.Map(location=[34.2,-118.2], \n",
    "               zoom_start = 9,\n",
    "               tiles='CartoDB positron', \n",
    "               attribution='CartoDB')\n",
    "\n",
    "# plot chorpleth over the base map\n",
    "folium.Choropleth(\n",
    "                  geo_data=homeless_merge5 , # geo data\n",
    "                  data=homeless_merge , # data          \n",
    "                  key_on='feature.properties.FIPS', # key, or merge column\n",
    "                  columns=['FIPS', 'Total Population'], # [key, value]\n",
    "                  fill_color='BuPu',\n",
    "                  line_weight=0.1, \n",
    "                  fill_opacity=0.8,\n",
    "                  line_opacity=0.2, # line opacity (of the border)\n",
    "                  legend_name='Total Population').add_to(m)    # name on the legend color bar\n",
    "m"
   ]
  },
  {
   "cell_type": "code",
   "execution_count": null,
   "id": "a6f2252f-e3b4-4b35-aa3e-853d7eab595f",
   "metadata": {},
   "outputs": [],
   "source": [
    "m.save('tracts_home5.html')"
   ]
  },
  {
   "cell_type": "code",
   "execution_count": null,
   "id": "515a20a3-b8a9-4d09-b28c-703c4f24ea58",
   "metadata": {},
   "outputs": [],
   "source": [
    "import folium\n",
    "\n",
    "# Initialize Folium map\n",
    "m = folium.Map(location=[34.2, -118.2], zoom_start=9, tiles='CartoDB positron', attribution='CartoDB')\n",
    "\n",
    "# Plot choropleth over the base map\n",
    "folium.Choropleth(\n",
    "    geo_data=parks_locationshomeD5,  # GeoJSON or GeoDataFrame\n",
    "    data=parks_locationshomeD5,       # Dataframe or Series\n",
    "    key_on='feature.properties.FIPS',  # GeoJSON property to bind the data to\n",
    "    columns=['FIPS', 'Total Population'],  # Column(s) in the dataframe to use\n",
    "    fill_color='BuPu',  # Color scale\n",
    "    line_weight=0.1,\n",
    "    fill_opacity=0.8,\n",
    "    line_opacity=0.2,\n",
    "    legend_name='<Unhoused near Parks>'  # Name on the legend color bar\n",
    ").add_to(m)\n",
    "m"
   ]
  },
  {
   "cell_type": "code",
   "execution_count": null,
   "id": "fd4c2594-ceea-4bfc-bc1a-c1cf8ef4e37b",
   "metadata": {},
   "outputs": [],
   "source": [
    "m.save('park_homeless5.html')"
   ]
  },
  {
   "cell_type": "code",
   "execution_count": null,
   "id": "76845c95-75f6-4726-9c73-9adeb70d0b51",
   "metadata": {},
   "outputs": [],
   "source": [
    "## Now lets do the data of parks with the gross rents. Here is District 2."
   ]
  },
  {
   "cell_type": "code",
   "execution_count": null,
   "id": "8fd86682-5e84-4567-9935-577713015e70",
   "metadata": {
    "scrolled": true
   },
   "outputs": [],
   "source": [
    "import folium\n",
    "\n",
    "# Initialize Folium map\n",
    "m = folium.Map(location=[34.2, -118.2], zoom_start=9, tiles='CartoDB positron', attribution='CartoDB')\n",
    "\n",
    "# Plot choropleth over the base map\n",
    "folium.Choropleth(\n",
    "    geo_data=parks_locationsD2,  # GeoJSON or GeoDataFrame\n",
    "    data=parks_locationsD2,       # Dataframe or Series\n",
    "    key_on='feature.properties.FIPS',  # GeoJSON property to bind the data to\n",
    "    columns=['FIPS', 'Gross Rent'],  # Column(s) in the dataframe to use\n",
    "    fill_color='BuPu',  # Color scale\n",
    "    line_weight=0.1,\n",
    "    fill_opacity=0.8,\n",
    "    line_opacity=0.2,\n",
    "    legend_name='Rent in District 2'  # Name on the legend color bar\n",
    ").add_to(m)\n",
    "m"
   ]
  },
  {
   "cell_type": "code",
   "execution_count": null,
   "id": "528d3722-3f8f-459f-9c1b-b35462929d42",
   "metadata": {},
   "outputs": [],
   "source": [
    "m.save('park_rent2.html')"
   ]
  },
  {
   "cell_type": "code",
   "execution_count": null,
   "id": "4e4abafa-aecb-48cc-9f52-ca877950cfc0",
   "metadata": {},
   "outputs": [],
   "source": [
    "## Here is District 5, with parks and gross rent."
   ]
  },
  {
   "cell_type": "code",
   "execution_count": null,
   "id": "0c08df74-b0ad-44f2-98e2-b002ac9b4ffe",
   "metadata": {},
   "outputs": [],
   "source": [
    "import folium\n",
    "\n",
    "# Initialize Folium map\n",
    "m = folium.Map(location=[34.2, -118.2], zoom_start=9, tiles='CartoDB positron', attribution='CartoDB')\n",
    "\n",
    "# Plot choropleth over the base map\n",
    "folium.Choropleth(\n",
    "    geo_data=parks_locationsD5,  # GeoJSON or GeoDataFrame\n",
    "    data=parks_locationsD5,       # Dataframe or Series\n",
    "    key_on='feature.properties.FIPS',  # GeoJSON property to bind the data to\n",
    "    columns=['FIPS', 'Gross Rent'],  # Column(s) in the dataframe to use\n",
    "    fill_color='BuPu',  # Color scale\n",
    "    line_weight=0.1,\n",
    "    fill_opacity=0.8,\n",
    "    line_opacity=0.2,\n",
    "    legend_name='Rent in District 5'  # Name on the legend color bar\n",
    ").add_to(m)\n",
    "m"
   ]
  },
  {
   "cell_type": "code",
   "execution_count": null,
   "id": "b9a84cf3-b22f-441d-b8bb-db3e696f6f43",
   "metadata": {},
   "outputs": [],
   "source": [
    "m.save('park_rent5.html')"
   ]
  }
 ],
 "metadata": {
  "kernelspec": {
   "display_name": "Python 3 (ipykernel)",
   "language": "python",
   "name": "python3"
  },
  "language_info": {
   "codemirror_mode": {
    "name": "ipython",
    "version": 3
   },
   "file_extension": ".py",
   "mimetype": "text/x-python",
   "name": "python",
   "nbconvert_exporter": "python",
   "pygments_lexer": "ipython3",
   "version": "3.11.7"
  }
 },
 "nbformat": 4,
 "nbformat_minor": 5
}
