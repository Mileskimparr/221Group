{
 "cells": [
  {
   "cell_type": "markdown",
   "id": "4da0b4a8-94fe-43d4-a58e-d321f04e6c8e",
   "metadata": {},
   "source": [
    "# Cleaning the Parks dataset\n",
    "by: Annie Chan\n",
    "\n",
    "Our initial parks dataset comes from the **[County of LA website](https://egis-lacounty.hub.arcgis.com/datasets/lacounty::countywide-parks-and-open-space-public-hosted/about)**. Since we want to explore park equity in LA's Supervisorial Districts 2 and 5, we will only be focusing on parks that are open access to the public. Second, we will also highlight cemeteries, golf courses, and parkways, as we do not feel that these provide similar benefits as other parks in this dataset. Third, we will be removing unnecessary columns and coming up with a park score for local parks/regional recreation parks (due to data limitations, we are unable to come up with a park score for regional open spaces/natural areas.) Lastly, we will save all these data cleaning steps into a new geojson so that it's easier to work with down the line."
   ]
  },
  {
   "cell_type": "markdown",
   "id": "997723b1-c21c-446d-a77f-bac08e6f69bf",
   "metadata": {},
   "source": [
    "## Dataset info"
   ]
  },
  {
   "cell_type": "markdown",
   "id": "b6686eda-0bed-40ed-9356-2661c62548c2",
   "metadata": {},
   "source": [
    "- tracts: initial geojson from **[LA County Open Source GIS page](https://egis-lacounty.hub.arcgis.com/datasets/339787e096f94c2dbfbf1909698d6c5c/explore)**\n",
    "- district: initial CSV from **[LA County Census Tracts Viewer page](https://www.arcgis.com/apps/dashboards/e928d021b4d74e5ab4537fac43a3eaf5)**\n",
    "- tracts_district: merge between the tracts gdf and district df\n",
    "- parks: initial geojson from the **[County of LA website](https://egis-lacounty.hub.arcgis.com/datasets/lacounty::countywide-parks-and-open-space-public-hosted/about)**\n",
    "- parks_district: merged the two geodataframes of parks and tracts_district\n",
    "- parks_d2d5: subset of only the parks in District 2 and 5\n",
    "- open_parks_d2d5: keep only parks with ACCESS_TYP = 'Open Access'"
   ]
  },
  {
   "cell_type": "markdown",
   "id": "85706d5a-fa84-4ebc-99a5-88325b341b9a",
   "metadata": {},
   "source": [
    "## Step 1: Import libraries"
   ]
  },
  {
   "cell_type": "code",
   "execution_count": 53,
   "id": "4893bdd9-2d2a-4503-9eb3-13c602389406",
   "metadata": {},
   "outputs": [],
   "source": [
    "import pandas as pd\n",
    "import geopandas as gpd\n",
    "\n",
    "import matplotlib.pyplot as plt\n",
    "import contextily as ctx #for basemaps on the matplotlib plots\n",
    "import folium\n",
    "import branca\n",
    "import plotly.express as px # for interactive plots"
   ]
  },
  {
   "cell_type": "markdown",
   "id": "fbe93b77-0ee2-4eba-b4b9-b7363e1b8248",
   "metadata": {},
   "source": [
    "## Step 2: Import census tracts"
   ]
  },
  {
   "cell_type": "markdown",
   "id": "61f01193-3b20-4165-8465-41652f2d355f",
   "metadata": {},
   "source": [
    "I'm going to bring in the LA County census tracts and the LA County supervisorial district lines. Next, I'm going to subset the districts to only keep SD2 and SD5. Then I'm going to merge the SD2+SD5 dataset with the census tracts."
   ]
  },
  {
   "cell_type": "code",
   "execution_count": 54,
   "id": "776ec347-4f9f-42af-a17a-65ac8db81fc4",
   "metadata": {},
   "outputs": [
    {
     "name": "stdout",
     "output_type": "stream",
     "text": [
      "<class 'geopandas.geodataframe.GeoDataFrame'>\n",
      "RangeIndex: 2496 entries, 0 to 2495\n",
      "Data columns (total 6 columns):\n",
      " #   Column         Non-Null Count  Dtype   \n",
      "---  ------         --------------  -----   \n",
      " 0   OBJECTID       2496 non-null   int64   \n",
      " 1   CT20           2496 non-null   object  \n",
      " 2   LABEL          2496 non-null   object  \n",
      " 3   ShapeSTArea    2496 non-null   float64 \n",
      " 4   ShapeSTLength  2496 non-null   float64 \n",
      " 5   geometry       2496 non-null   geometry\n",
      "dtypes: float64(2), geometry(1), int64(1), object(2)\n",
      "memory usage: 117.1+ KB\n"
     ]
    }
   ],
   "source": [
    "tracts = gpd.read_file('data/2020_Census_Tracts.geojson')\n",
    "tracts.info()"
   ]
  },
  {
   "cell_type": "markdown",
   "id": "e2b7c6a8-39c0-43f4-907b-68194b150c5a",
   "metadata": {},
   "source": [
    "The 'CT20' column is an object, good. Now make the FIPS code for tracts for merging purposes later."
   ]
  },
  {
   "cell_type": "code",
   "execution_count": 55,
   "id": "996d754c-abcd-479e-be32-dd324eb915fa",
   "metadata": {},
   "outputs": [
    {
     "data": {
      "text/html": [
       "<div>\n",
       "<style scoped>\n",
       "    .dataframe tbody tr th:only-of-type {\n",
       "        vertical-align: middle;\n",
       "    }\n",
       "\n",
       "    .dataframe tbody tr th {\n",
       "        vertical-align: top;\n",
       "    }\n",
       "\n",
       "    .dataframe thead th {\n",
       "        text-align: right;\n",
       "    }\n",
       "</style>\n",
       "<table border=\"1\" class=\"dataframe\">\n",
       "  <thead>\n",
       "    <tr style=\"text-align: right;\">\n",
       "      <th></th>\n",
       "      <th>OBJECTID</th>\n",
       "      <th>CT20</th>\n",
       "      <th>LABEL</th>\n",
       "      <th>ShapeSTArea</th>\n",
       "      <th>ShapeSTLength</th>\n",
       "      <th>geometry</th>\n",
       "      <th>FIPS</th>\n",
       "    </tr>\n",
       "  </thead>\n",
       "  <tbody>\n",
       "    <tr>\n",
       "      <th>0</th>\n",
       "      <td>4992</td>\n",
       "      <td>101110</td>\n",
       "      <td>1011.10</td>\n",
       "      <td>1.229562e+07</td>\n",
       "      <td>15083.854287</td>\n",
       "      <td>POLYGON ((-118.29793 34.26323, -118.30082 34.2...</td>\n",
       "      <td>06037101110</td>\n",
       "    </tr>\n",
       "    <tr>\n",
       "      <th>1</th>\n",
       "      <td>4993</td>\n",
       "      <td>101122</td>\n",
       "      <td>1011.22</td>\n",
       "      <td>2.845774e+07</td>\n",
       "      <td>31671.455844</td>\n",
       "      <td>POLYGON ((-118.27743 34.25991, -118.27743 34.2...</td>\n",
       "      <td>06037101122</td>\n",
       "    </tr>\n",
       "    <tr>\n",
       "      <th>2</th>\n",
       "      <td>4994</td>\n",
       "      <td>101220</td>\n",
       "      <td>1012.20</td>\n",
       "      <td>7.522093e+06</td>\n",
       "      <td>12698.783810</td>\n",
       "      <td>POLYGON ((-118.27818 34.25577, -118.27887 34.2...</td>\n",
       "      <td>06037101220</td>\n",
       "    </tr>\n",
       "  </tbody>\n",
       "</table>\n",
       "</div>"
      ],
      "text/plain": [
       "   OBJECTID    CT20    LABEL   ShapeSTArea  ShapeSTLength  \\\n",
       "0      4992  101110  1011.10  1.229562e+07   15083.854287   \n",
       "1      4993  101122  1011.22  2.845774e+07   31671.455844   \n",
       "2      4994  101220  1012.20  7.522093e+06   12698.783810   \n",
       "\n",
       "                                            geometry         FIPS  \n",
       "0  POLYGON ((-118.29793 34.26323, -118.30082 34.2...  06037101110  \n",
       "1  POLYGON ((-118.27743 34.25991, -118.27743 34.2...  06037101122  \n",
       "2  POLYGON ((-118.27818 34.25577, -118.27887 34.2...  06037101220  "
      ]
     },
     "execution_count": 55,
     "metadata": {},
     "output_type": "execute_result"
    }
   ],
   "source": [
    "tracts['FIPS'] ='06' + '037' + tracts['CT20']\n",
    "tracts.head(3)"
   ]
  },
  {
   "cell_type": "markdown",
   "id": "cfee1fd1-25f7-4f09-b217-4a11ef42a078",
   "metadata": {},
   "source": [
    "## Step 3: Import supervisorial districts"
   ]
  },
  {
   "cell_type": "code",
   "execution_count": 56,
   "id": "b3987807-844c-4a75-a80c-807e427a3117",
   "metadata": {},
   "outputs": [],
   "source": [
    "district = pd.read_csv(\n",
    "    'data/All_LA_Census_Tracts_By_Supervisorial_District_2020.csv',\n",
    "    dtype=\n",
    "    {\n",
    "        'CT20': str\n",
    "    }\n",
    ")"
   ]
  },
  {
   "cell_type": "code",
   "execution_count": 57,
   "id": "cd2afa96-873e-494a-8efd-98f09c7e76e8",
   "metadata": {},
   "outputs": [
    {
     "name": "stdout",
     "output_type": "stream",
     "text": [
      "<class 'pandas.core.frame.DataFrame'>\n",
      "RangeIndex: 2495 entries, 0 to 2494\n",
      "Data columns (total 16 columns):\n",
      " #   Column         Non-Null Count  Dtype  \n",
      "---  ------         --------------  -----  \n",
      " 0   OBJECTID_12    2495 non-null   int64  \n",
      " 1   Join_Count     2495 non-null   int64  \n",
      " 2   TARGET_FID     2495 non-null   int64  \n",
      " 3   CT20           2495 non-null   object \n",
      " 4   LABEL          2495 non-null   float64\n",
      " 5   NAME           2495 non-null   object \n",
      " 6   SUP_NAME       2495 non-null   object \n",
      " 7   DIST_SUP       2495 non-null   int64  \n",
      " 8   CITYNAME_ALF   2262 non-null   object \n",
      " 9   NAME_1         283 non-null    object \n",
      " 10  JURISDICTION   2495 non-null   object \n",
      " 11  AREA_NUM       2495 non-null   int64  \n",
      " 12  AREA_NAME      2495 non-null   object \n",
      " 13  Shape__Area    2495 non-null   float64\n",
      " 14  Shape__Length  2495 non-null   float64\n",
      " 15  FIPS           2495 non-null   object \n",
      "dtypes: float64(3), int64(5), object(8)\n",
      "memory usage: 312.0+ KB\n"
     ]
    }
   ],
   "source": [
    "# make the FIPS code column\n",
    "district['FIPS'] = '06' + '037' + district['CT20']\n",
    "district.info()"
   ]
  },
  {
   "cell_type": "markdown",
   "id": "000447d8-882d-4c99-aec1-052a50ff98e3",
   "metadata": {},
   "source": [
    "## Step 4: Merge tracts and district, drop unneeded columns"
   ]
  },
  {
   "cell_type": "markdown",
   "id": "bbfa588b-288b-49ba-ad08-bdc3f96e4f44",
   "metadata": {},
   "source": [
    "Now merge tracts and district to get the geometry column."
   ]
  },
  {
   "cell_type": "code",
   "execution_count": 58,
   "id": "c0e77e97-a86f-4822-aedc-da23ff5a7206",
   "metadata": {},
   "outputs": [
    {
     "name": "stdout",
     "output_type": "stream",
     "text": [
      "<class 'geopandas.geodataframe.GeoDataFrame'>\n",
      "RangeIndex: 2495 entries, 0 to 2494\n",
      "Data columns (total 22 columns):\n",
      " #   Column         Non-Null Count  Dtype   \n",
      "---  ------         --------------  -----   \n",
      " 0   OBJECTID       2495 non-null   int64   \n",
      " 1   CT20_x         2495 non-null   object  \n",
      " 2   LABEL_x        2495 non-null   object  \n",
      " 3   ShapeSTArea    2495 non-null   float64 \n",
      " 4   ShapeSTLength  2495 non-null   float64 \n",
      " 5   geometry       2495 non-null   geometry\n",
      " 6   FIPS           2495 non-null   object  \n",
      " 7   OBJECTID_12    2495 non-null   int64   \n",
      " 8   Join_Count     2495 non-null   int64   \n",
      " 9   TARGET_FID     2495 non-null   int64   \n",
      " 10  CT20_y         2495 non-null   object  \n",
      " 11  LABEL_y        2495 non-null   float64 \n",
      " 12  NAME           2495 non-null   object  \n",
      " 13  SUP_NAME       2495 non-null   object  \n",
      " 14  DIST_SUP       2495 non-null   int64   \n",
      " 15  CITYNAME_ALF   2262 non-null   object  \n",
      " 16  NAME_1         283 non-null    object  \n",
      " 17  JURISDICTION   2495 non-null   object  \n",
      " 18  AREA_NUM       2495 non-null   int64   \n",
      " 19  AREA_NAME      2495 non-null   object  \n",
      " 20  Shape__Area    2495 non-null   float64 \n",
      " 21  Shape__Length  2495 non-null   float64 \n",
      "dtypes: float64(5), geometry(1), int64(6), object(10)\n",
      "memory usage: 429.0+ KB\n"
     ]
    }
   ],
   "source": [
    "#this direction matters? tracts is a geodataframe and district is just a dataframe\n",
    "tracts_district = tracts.merge(district, on = 'FIPS')\n",
    "tracts_district.info()"
   ]
  },
  {
   "cell_type": "markdown",
   "id": "c1f0d707-79ce-4510-a9bd-c9a61edcb505",
   "metadata": {},
   "source": [
    "Let's narrow down the variables in the dataset so it's cleaner and rename the columns for clarity."
   ]
  },
  {
   "cell_type": "code",
   "execution_count": 59,
   "id": "1dbb2e53-2dcc-46f9-9600-f95fd78a0e65",
   "metadata": {},
   "outputs": [],
   "source": [
    "tracts_district = tracts_district[['FIPS',\n",
    "                           'Join_Count',\n",
    "                           'DIST_SUP',\n",
    "                           'CITYNAME_ALF',\n",
    "                           'NAME_1',\n",
    "                           'JURISDICTION',\n",
    "                            'geometry']].copy()"
   ]
  },
  {
   "cell_type": "code",
   "execution_count": 60,
   "id": "2c0fb1fa-f0db-44f3-9cac-d687efc0a648",
   "metadata": {},
   "outputs": [],
   "source": [
    "#rename the columns for clarity as well\n",
    "tracts_district.rename(columns={'CITYNAME_ALF': 'CITY_NAME', 'NAME_1': 'UNINCORP_NAME'}, inplace=True)"
   ]
  },
  {
   "cell_type": "code",
   "execution_count": 61,
   "id": "6d173389-24b4-438f-9dd6-45d74b4122dd",
   "metadata": {},
   "outputs": [
    {
     "data": {
      "text/html": [
       "<div>\n",
       "<style scoped>\n",
       "    .dataframe tbody tr th:only-of-type {\n",
       "        vertical-align: middle;\n",
       "    }\n",
       "\n",
       "    .dataframe tbody tr th {\n",
       "        vertical-align: top;\n",
       "    }\n",
       "\n",
       "    .dataframe thead th {\n",
       "        text-align: right;\n",
       "    }\n",
       "</style>\n",
       "<table border=\"1\" class=\"dataframe\">\n",
       "  <thead>\n",
       "    <tr style=\"text-align: right;\">\n",
       "      <th></th>\n",
       "      <th>FIPS</th>\n",
       "      <th>Join_Count</th>\n",
       "      <th>DIST_SUP</th>\n",
       "      <th>CITY_NAME</th>\n",
       "      <th>UNINCORP_NAME</th>\n",
       "      <th>JURISDICTION</th>\n",
       "      <th>geometry</th>\n",
       "    </tr>\n",
       "  </thead>\n",
       "  <tbody>\n",
       "    <tr>\n",
       "      <th>1321</th>\n",
       "      <td>06037407702</td>\n",
       "      <td>1</td>\n",
       "      <td>1</td>\n",
       "      <td>LA PUENTE</td>\n",
       "      <td>NaN</td>\n",
       "      <td>INCORPORATED CITY</td>\n",
       "      <td>POLYGON ((-117.95081 34.02808, -117.95090 34.0...</td>\n",
       "    </tr>\n",
       "    <tr>\n",
       "      <th>2133</th>\n",
       "      <td>06037620521</td>\n",
       "      <td>1</td>\n",
       "      <td>2</td>\n",
       "      <td>REDONDO BEACH</td>\n",
       "      <td>NaN</td>\n",
       "      <td>INCORPORATED CITY</td>\n",
       "      <td>POLYGON ((-118.36132 33.88012, -118.36144 33.8...</td>\n",
       "    </tr>\n",
       "    <tr>\n",
       "      <th>414</th>\n",
       "      <td>06037185102</td>\n",
       "      <td>1</td>\n",
       "      <td>1</td>\n",
       "      <td>LOS ANGELES</td>\n",
       "      <td>NaN</td>\n",
       "      <td>INCORPORATED CITY</td>\n",
       "      <td>POLYGON ((-118.20797 34.11309, -118.20828 34.1...</td>\n",
       "    </tr>\n",
       "  </tbody>\n",
       "</table>\n",
       "</div>"
      ],
      "text/plain": [
       "             FIPS  Join_Count  DIST_SUP      CITY_NAME UNINCORP_NAME  \\\n",
       "1321  06037407702           1         1      LA PUENTE           NaN   \n",
       "2133  06037620521           1         2  REDONDO BEACH           NaN   \n",
       "414   06037185102           1         1    LOS ANGELES           NaN   \n",
       "\n",
       "           JURISDICTION                                           geometry  \n",
       "1321  INCORPORATED CITY  POLYGON ((-117.95081 34.02808, -117.95090 34.0...  \n",
       "2133  INCORPORATED CITY  POLYGON ((-118.36132 33.88012, -118.36144 33.8...  \n",
       "414   INCORPORATED CITY  POLYGON ((-118.20797 34.11309, -118.20828 34.1...  "
      ]
     },
     "execution_count": 61,
     "metadata": {},
     "output_type": "execute_result"
    }
   ],
   "source": [
    "tracts_district.sample(3)"
   ]
  },
  {
   "cell_type": "markdown",
   "id": "9084fbb0-fcb1-401d-88e0-d24c6649b3c0",
   "metadata": {},
   "source": [
    "## Step 5: Import parks"
   ]
  },
  {
   "cell_type": "code",
   "execution_count": 62,
   "id": "76a5f9b8-99ee-4d7b-a5ab-1daf3ad452ae",
   "metadata": {},
   "outputs": [],
   "source": [
    "parks = gpd.read_file('data/Countywide_Parks_and_Open_Space_(Public_-_Hosted).geojson')"
   ]
  },
  {
   "cell_type": "code",
   "execution_count": 63,
   "id": "87215bab-ec47-4c55-ae17-ca985c84e2ec",
   "metadata": {},
   "outputs": [
    {
     "name": "stdout",
     "output_type": "stream",
     "text": [
      "<class 'geopandas.geodataframe.GeoDataFrame'>\n",
      "RangeIndex: 3012 entries, 0 to 3011\n",
      "Data columns (total 53 columns):\n",
      " #   Column         Non-Null Count  Dtype   \n",
      "---  ------         --------------  -----   \n",
      " 0   OBJECTID       3012 non-null   int64   \n",
      " 1   UNIT_ID        3011 non-null   float64 \n",
      " 2   LMS_ID         1263 non-null   float64 \n",
      " 3   PARK_NAME      3012 non-null   object  \n",
      " 4   PARK_LBL       3012 non-null   object  \n",
      " 5   ACCESS_TYP     3012 non-null   object  \n",
      " 6   RPT_ACRES      3012 non-null   float64 \n",
      " 7   GIS_ACRES      3012 non-null   float64 \n",
      " 8   AGNCY_NAME     3012 non-null   object  \n",
      " 9   AGNCY_LEV      3012 non-null   object  \n",
      " 10  AGNCY_TYP      3012 non-null   object  \n",
      " 11  AGNCY_WEB      3010 non-null   object  \n",
      " 12  MNG_AGENCY     3012 non-null   object  \n",
      " 13  COGP_TYP       3011 non-null   object  \n",
      " 14  NDS_AN_TYP     3009 non-null   object  \n",
      " 15  NEEDS_ANLZ     3010 non-null   object  \n",
      " 16  TKIT_SUM       3010 non-null   object  \n",
      " 17  AMEN_RPT       3010 non-null   object  \n",
      " 18  PRKINF_CND     3009 non-null   object  \n",
      " 19  AM_OPNSP       3009 non-null   object  \n",
      " 20  AM_TRLS        3009 non-null   object  \n",
      " 21  TRLS_MI        3010 non-null   float64 \n",
      " 22  TENIS          3011 non-null   float64 \n",
      " 23  BSKTB          3011 non-null   float64 \n",
      " 24  BASEB          3011 non-null   float64 \n",
      " 25  SOCCR          3011 non-null   float64 \n",
      " 26  MPFLD          3011 non-null   float64 \n",
      " 27  FITZN          3011 non-null   float64 \n",
      " 28  SK8PK          3011 non-null   float64 \n",
      " 29  PCNIC          3011 non-null   float64 \n",
      " 30  PLGND          3011 non-null   float64 \n",
      " 31  POOLS          3011 non-null   float64 \n",
      " 32  SPPAD          3011 non-null   float64 \n",
      " 33  DGPRK          3011 non-null   float64 \n",
      " 34  GYM            3011 non-null   float64 \n",
      " 35  COMCT          3011 non-null   float64 \n",
      " 36  SNRCT          3011 non-null   float64 \n",
      " 37  RSTRM          3011 non-null   float64 \n",
      " 38  TOTAL_GOOD     3010 non-null   float64 \n",
      " 39  TOTAL_FAIR     3010 non-null   float64 \n",
      " 40  TOTAL_POOR     3010 non-null   float64 \n",
      " 41  TYPE           3011 non-null   object  \n",
      " 42  CENTER_LAT     3012 non-null   float64 \n",
      " 43  CENTER_LON     3012 non-null   float64 \n",
      " 44  ADDRESS        2631 non-null   object  \n",
      " 45  CITY           2993 non-null   object  \n",
      " 46  ZIP            2992 non-null   object  \n",
      " 47  HOURS          268 non-null    object  \n",
      " 48  PHONES         517 non-null    object  \n",
      " 49  IS_COUNTY      3012 non-null   object  \n",
      " 50  Shape__Area    3012 non-null   float64 \n",
      " 51  Shape__Length  3012 non-null   float64 \n",
      " 52  geometry       3012 non-null   geometry\n",
      "dtypes: float64(28), geometry(1), int64(1), object(23)\n",
      "memory usage: 1.2+ MB\n"
     ]
    }
   ],
   "source": [
    "parks.info()"
   ]
  },
  {
   "cell_type": "markdown",
   "id": "362aaeb3-8691-412d-a39f-37f011cd0f73",
   "metadata": {},
   "source": [
    "## Step 6: Merge parks with tracts_district, then drop unneeded columns"
   ]
  },
  {
   "cell_type": "markdown",
   "id": "9b6dee07-965e-4ac4-8fbf-2bb44ace0608",
   "metadata": {},
   "source": [
    "I found this shapely.geometry code on the internet to get to geopandas.overlay, I don't really understand it though"
   ]
  },
  {
   "cell_type": "code",
   "execution_count": 64,
   "id": "460730ea-6bfa-4d97-a64a-fb5cd914c7bd",
   "metadata": {},
   "outputs": [
    {
     "name": "stderr",
     "output_type": "stream",
     "text": [
      "/tmp/ipykernel_295/557824015.py:3: UserWarning:\n",
      "\n",
      "`keep_geom_type=True` in overlay resulted in 20 dropped geometries of different geometry types than df1 has. Set `keep_geom_type=False` to retain all geometries\n",
      "\n"
     ]
    }
   ],
   "source": [
    "from shapely.geometry import Polygon\n",
    "geopandas = gpd\n",
    "parks_district = geopandas.overlay(tracts_district, parks, how='intersection', keep_geom_type=None, make_valid=True)"
   ]
  },
  {
   "cell_type": "markdown",
   "id": "7a54d0a2-79b4-4afa-a4c6-1dd030d58b97",
   "metadata": {},
   "source": [
    "Narrow down the variables again for this parks_d2d5 set. Keeping the same name of the dataset."
   ]
  },
  {
   "cell_type": "code",
   "execution_count": 65,
   "id": "342de920-6267-4478-a2fe-7b65a2d2c896",
   "metadata": {},
   "outputs": [],
   "source": [
    "parks_district = parks_district[['FIPS','Join_Count','DIST_SUP', 'CITY_NAME','UNINCORP_NAME','JURISDICTION','UNIT_ID','PARK_NAME','ACCESS_TYP',\n",
    "            'RPT_ACRES','GIS_ACRES','AGNCY_NAME','AGNCY_TYP', 'COGP_TYP','AMEN_RPT','PRKINF_CND','AM_OPNSP','AM_TRLS',\n",
    "            'TOTAL_GOOD','TOTAL_FAIR', 'TOTAL_POOR', 'RSTRM', 'TYPE','CENTER_LAT','CENTER_LON','Shape__Area', 'Shape__Length','geometry']].copy()"
   ]
  },
  {
   "cell_type": "code",
   "execution_count": 66,
   "id": "418b30c9-a720-4e09-a699-ec39eac548c9",
   "metadata": {},
   "outputs": [
    {
     "name": "stdout",
     "output_type": "stream",
     "text": [
      "<class 'geopandas.geodataframe.GeoDataFrame'>\n",
      "RangeIndex: 3948 entries, 0 to 3947\n",
      "Data columns (total 28 columns):\n",
      " #   Column         Non-Null Count  Dtype   \n",
      "---  ------         --------------  -----   \n",
      " 0   FIPS           3948 non-null   object  \n",
      " 1   Join_Count     3948 non-null   int64   \n",
      " 2   DIST_SUP       3948 non-null   int64   \n",
      " 3   CITY_NAME      3091 non-null   object  \n",
      " 4   UNINCORP_NAME  939 non-null    object  \n",
      " 5   JURISDICTION   3948 non-null   object  \n",
      " 6   UNIT_ID        3947 non-null   float64 \n",
      " 7   PARK_NAME      3948 non-null   object  \n",
      " 8   ACCESS_TYP     3948 non-null   object  \n",
      " 9   RPT_ACRES      3948 non-null   float64 \n",
      " 10  GIS_ACRES      3948 non-null   float64 \n",
      " 11  AGNCY_NAME     3948 non-null   object  \n",
      " 12  AGNCY_TYP      3948 non-null   object  \n",
      " 13  COGP_TYP       3947 non-null   object  \n",
      " 14  AMEN_RPT       3946 non-null   object  \n",
      " 15  PRKINF_CND     3945 non-null   object  \n",
      " 16  AM_OPNSP       3945 non-null   object  \n",
      " 17  AM_TRLS        3945 non-null   object  \n",
      " 18  TOTAL_GOOD     3946 non-null   float64 \n",
      " 19  TOTAL_FAIR     3946 non-null   float64 \n",
      " 20  TOTAL_POOR     3946 non-null   float64 \n",
      " 21  RSTRM          3947 non-null   float64 \n",
      " 22  TYPE           3947 non-null   object  \n",
      " 23  CENTER_LAT     3948 non-null   float64 \n",
      " 24  CENTER_LON     3948 non-null   float64 \n",
      " 25  Shape__Area    3948 non-null   float64 \n",
      " 26  Shape__Length  3948 non-null   float64 \n",
      " 27  geometry       3948 non-null   geometry\n",
      "dtypes: float64(11), geometry(1), int64(2), object(14)\n",
      "memory usage: 863.8+ KB\n"
     ]
    }
   ],
   "source": [
    "parks_district.info()"
   ]
  },
  {
   "cell_type": "markdown",
   "id": "abf93970-5a58-456b-8be9-70176fe110f9",
   "metadata": {},
   "source": [
    "we're going to take a small break from data merging/cleaning to use plotly to plot the number of parks in each district. This is how we chose Supervisorial Districts 2 and 5 to focus on for our research question, because SD2 has the least parks and SD5 has the most."
   ]
  },
  {
   "cell_type": "code",
   "execution_count": 67,
   "id": "7410b8f8-c93a-4eaa-a413-fa9c6fbfb9fe",
   "metadata": {},
   "outputs": [
    {
     "data": {
      "text/html": [
       "<div>\n",
       "<style scoped>\n",
       "    .dataframe tbody tr th:only-of-type {\n",
       "        vertical-align: middle;\n",
       "    }\n",
       "\n",
       "    .dataframe tbody tr th {\n",
       "        vertical-align: top;\n",
       "    }\n",
       "\n",
       "    .dataframe thead th {\n",
       "        text-align: right;\n",
       "    }\n",
       "</style>\n",
       "<table border=\"1\" class=\"dataframe\">\n",
       "  <thead>\n",
       "    <tr style=\"text-align: right;\">\n",
       "      <th></th>\n",
       "      <th>DIST_SUP</th>\n",
       "      <th>counts</th>\n",
       "    </tr>\n",
       "  </thead>\n",
       "  <tbody>\n",
       "    <tr>\n",
       "      <th>0</th>\n",
       "      <td>1</td>\n",
       "      <td>565</td>\n",
       "    </tr>\n",
       "    <tr>\n",
       "      <th>1</th>\n",
       "      <td>2</td>\n",
       "      <td>462</td>\n",
       "    </tr>\n",
       "    <tr>\n",
       "      <th>2</th>\n",
       "      <td>3</td>\n",
       "      <td>981</td>\n",
       "    </tr>\n",
       "    <tr>\n",
       "      <th>3</th>\n",
       "      <td>4</td>\n",
       "      <td>873</td>\n",
       "    </tr>\n",
       "    <tr>\n",
       "      <th>4</th>\n",
       "      <td>5</td>\n",
       "      <td>1067</td>\n",
       "    </tr>\n",
       "  </tbody>\n",
       "</table>\n",
       "</div>"
      ],
      "text/plain": [
       "   DIST_SUP  counts\n",
       "0         1     565\n",
       "1         2     462\n",
       "2         3     981\n",
       "3         4     873\n",
       "4         5    1067"
      ]
     },
     "execution_count": 67,
     "metadata": {},
     "output_type": "execute_result"
    }
   ],
   "source": [
    "counts_parks = parks_district.groupby(['DIST_SUP']).size().reset_index(name='counts')\n",
    "counts_parks"
   ]
  },
  {
   "cell_type": "code",
   "execution_count": 68,
   "id": "35076d94-f3ec-4977-899b-0f75c29c51bb",
   "metadata": {},
   "outputs": [
    {
     "data": {
      "application/vnd.plotly.v1+json": {
       "config": {
        "plotlyServerURL": "https://plot.ly"
       },
       "data": [
        {
         "alignmentgroup": "True",
         "hovertemplate": "Supervisorial District=%{x}<br>counts=%{y}<extra></extra>",
         "legendgroup": "",
         "marker": {
          "color": "#ffffb2",
          "pattern": {
           "shape": ""
          }
         },
         "name": "",
         "offsetgroup": "",
         "orientation": "v",
         "showlegend": false,
         "textposition": "auto",
         "type": "bar",
         "x": [
          1,
          2,
          3,
          4,
          5
         ],
         "xaxis": "x",
         "y": [
          565,
          462,
          981,
          873,
          1067
         ],
         "yaxis": "y"
        }
       ],
       "layout": {
        "autosize": true,
        "barmode": "relative",
        "legend": {
         "tracegroupgap": 0
        },
        "template": {
         "data": {
          "bar": [
           {
            "error_x": {
             "color": "#2a3f5f"
            },
            "error_y": {
             "color": "#2a3f5f"
            },
            "marker": {
             "line": {
              "color": "#E5ECF6",
              "width": 0.5
             },
             "pattern": {
              "fillmode": "overlay",
              "size": 10,
              "solidity": 0.2
             }
            },
            "type": "bar"
           }
          ],
          "barpolar": [
           {
            "marker": {
             "line": {
              "color": "#E5ECF6",
              "width": 0.5
             },
             "pattern": {
              "fillmode": "overlay",
              "size": 10,
              "solidity": 0.2
             }
            },
            "type": "barpolar"
           }
          ],
          "carpet": [
           {
            "aaxis": {
             "endlinecolor": "#2a3f5f",
             "gridcolor": "white",
             "linecolor": "white",
             "minorgridcolor": "white",
             "startlinecolor": "#2a3f5f"
            },
            "baxis": {
             "endlinecolor": "#2a3f5f",
             "gridcolor": "white",
             "linecolor": "white",
             "minorgridcolor": "white",
             "startlinecolor": "#2a3f5f"
            },
            "type": "carpet"
           }
          ],
          "choropleth": [
           {
            "colorbar": {
             "outlinewidth": 0,
             "ticks": ""
            },
            "type": "choropleth"
           }
          ],
          "contour": [
           {
            "colorbar": {
             "outlinewidth": 0,
             "ticks": ""
            },
            "colorscale": [
             [
              0,
              "#0d0887"
             ],
             [
              0.1111111111111111,
              "#46039f"
             ],
             [
              0.2222222222222222,
              "#7201a8"
             ],
             [
              0.3333333333333333,
              "#9c179e"
             ],
             [
              0.4444444444444444,
              "#bd3786"
             ],
             [
              0.5555555555555556,
              "#d8576b"
             ],
             [
              0.6666666666666666,
              "#ed7953"
             ],
             [
              0.7777777777777778,
              "#fb9f3a"
             ],
             [
              0.8888888888888888,
              "#fdca26"
             ],
             [
              1,
              "#f0f921"
             ]
            ],
            "type": "contour"
           }
          ],
          "contourcarpet": [
           {
            "colorbar": {
             "outlinewidth": 0,
             "ticks": ""
            },
            "type": "contourcarpet"
           }
          ],
          "heatmap": [
           {
            "colorbar": {
             "outlinewidth": 0,
             "ticks": ""
            },
            "colorscale": [
             [
              0,
              "#0d0887"
             ],
             [
              0.1111111111111111,
              "#46039f"
             ],
             [
              0.2222222222222222,
              "#7201a8"
             ],
             [
              0.3333333333333333,
              "#9c179e"
             ],
             [
              0.4444444444444444,
              "#bd3786"
             ],
             [
              0.5555555555555556,
              "#d8576b"
             ],
             [
              0.6666666666666666,
              "#ed7953"
             ],
             [
              0.7777777777777778,
              "#fb9f3a"
             ],
             [
              0.8888888888888888,
              "#fdca26"
             ],
             [
              1,
              "#f0f921"
             ]
            ],
            "type": "heatmap"
           }
          ],
          "heatmapgl": [
           {
            "colorbar": {
             "outlinewidth": 0,
             "ticks": ""
            },
            "colorscale": [
             [
              0,
              "#0d0887"
             ],
             [
              0.1111111111111111,
              "#46039f"
             ],
             [
              0.2222222222222222,
              "#7201a8"
             ],
             [
              0.3333333333333333,
              "#9c179e"
             ],
             [
              0.4444444444444444,
              "#bd3786"
             ],
             [
              0.5555555555555556,
              "#d8576b"
             ],
             [
              0.6666666666666666,
              "#ed7953"
             ],
             [
              0.7777777777777778,
              "#fb9f3a"
             ],
             [
              0.8888888888888888,
              "#fdca26"
             ],
             [
              1,
              "#f0f921"
             ]
            ],
            "type": "heatmapgl"
           }
          ],
          "histogram": [
           {
            "marker": {
             "pattern": {
              "fillmode": "overlay",
              "size": 10,
              "solidity": 0.2
             }
            },
            "type": "histogram"
           }
          ],
          "histogram2d": [
           {
            "colorbar": {
             "outlinewidth": 0,
             "ticks": ""
            },
            "colorscale": [
             [
              0,
              "#0d0887"
             ],
             [
              0.1111111111111111,
              "#46039f"
             ],
             [
              0.2222222222222222,
              "#7201a8"
             ],
             [
              0.3333333333333333,
              "#9c179e"
             ],
             [
              0.4444444444444444,
              "#bd3786"
             ],
             [
              0.5555555555555556,
              "#d8576b"
             ],
             [
              0.6666666666666666,
              "#ed7953"
             ],
             [
              0.7777777777777778,
              "#fb9f3a"
             ],
             [
              0.8888888888888888,
              "#fdca26"
             ],
             [
              1,
              "#f0f921"
             ]
            ],
            "type": "histogram2d"
           }
          ],
          "histogram2dcontour": [
           {
            "colorbar": {
             "outlinewidth": 0,
             "ticks": ""
            },
            "colorscale": [
             [
              0,
              "#0d0887"
             ],
             [
              0.1111111111111111,
              "#46039f"
             ],
             [
              0.2222222222222222,
              "#7201a8"
             ],
             [
              0.3333333333333333,
              "#9c179e"
             ],
             [
              0.4444444444444444,
              "#bd3786"
             ],
             [
              0.5555555555555556,
              "#d8576b"
             ],
             [
              0.6666666666666666,
              "#ed7953"
             ],
             [
              0.7777777777777778,
              "#fb9f3a"
             ],
             [
              0.8888888888888888,
              "#fdca26"
             ],
             [
              1,
              "#f0f921"
             ]
            ],
            "type": "histogram2dcontour"
           }
          ],
          "mesh3d": [
           {
            "colorbar": {
             "outlinewidth": 0,
             "ticks": ""
            },
            "type": "mesh3d"
           }
          ],
          "parcoords": [
           {
            "line": {
             "colorbar": {
              "outlinewidth": 0,
              "ticks": ""
             }
            },
            "type": "parcoords"
           }
          ],
          "pie": [
           {
            "automargin": true,
            "type": "pie"
           }
          ],
          "scatter": [
           {
            "fillpattern": {
             "fillmode": "overlay",
             "size": 10,
             "solidity": 0.2
            },
            "type": "scatter"
           }
          ],
          "scatter3d": [
           {
            "line": {
             "colorbar": {
              "outlinewidth": 0,
              "ticks": ""
             }
            },
            "marker": {
             "colorbar": {
              "outlinewidth": 0,
              "ticks": ""
             }
            },
            "type": "scatter3d"
           }
          ],
          "scattercarpet": [
           {
            "marker": {
             "colorbar": {
              "outlinewidth": 0,
              "ticks": ""
             }
            },
            "type": "scattercarpet"
           }
          ],
          "scattergeo": [
           {
            "marker": {
             "colorbar": {
              "outlinewidth": 0,
              "ticks": ""
             }
            },
            "type": "scattergeo"
           }
          ],
          "scattergl": [
           {
            "marker": {
             "colorbar": {
              "outlinewidth": 0,
              "ticks": ""
             }
            },
            "type": "scattergl"
           }
          ],
          "scattermapbox": [
           {
            "marker": {
             "colorbar": {
              "outlinewidth": 0,
              "ticks": ""
             }
            },
            "type": "scattermapbox"
           }
          ],
          "scatterpolar": [
           {
            "marker": {
             "colorbar": {
              "outlinewidth": 0,
              "ticks": ""
             }
            },
            "type": "scatterpolar"
           }
          ],
          "scatterpolargl": [
           {
            "marker": {
             "colorbar": {
              "outlinewidth": 0,
              "ticks": ""
             }
            },
            "type": "scatterpolargl"
           }
          ],
          "scatterternary": [
           {
            "marker": {
             "colorbar": {
              "outlinewidth": 0,
              "ticks": ""
             }
            },
            "type": "scatterternary"
           }
          ],
          "surface": [
           {
            "colorbar": {
             "outlinewidth": 0,
             "ticks": ""
            },
            "colorscale": [
             [
              0,
              "#0d0887"
             ],
             [
              0.1111111111111111,
              "#46039f"
             ],
             [
              0.2222222222222222,
              "#7201a8"
             ],
             [
              0.3333333333333333,
              "#9c179e"
             ],
             [
              0.4444444444444444,
              "#bd3786"
             ],
             [
              0.5555555555555556,
              "#d8576b"
             ],
             [
              0.6666666666666666,
              "#ed7953"
             ],
             [
              0.7777777777777778,
              "#fb9f3a"
             ],
             [
              0.8888888888888888,
              "#fdca26"
             ],
             [
              1,
              "#f0f921"
             ]
            ],
            "type": "surface"
           }
          ],
          "table": [
           {
            "cells": {
             "fill": {
              "color": "#EBF0F8"
             },
             "line": {
              "color": "white"
             }
            },
            "header": {
             "fill": {
              "color": "#C8D4E3"
             },
             "line": {
              "color": "white"
             }
            },
            "type": "table"
           }
          ]
         },
         "layout": {
          "annotationdefaults": {
           "arrowcolor": "#2a3f5f",
           "arrowhead": 0,
           "arrowwidth": 1
          },
          "autotypenumbers": "strict",
          "coloraxis": {
           "colorbar": {
            "outlinewidth": 0,
            "ticks": ""
           }
          },
          "colorscale": {
           "diverging": [
            [
             0,
             "#8e0152"
            ],
            [
             0.1,
             "#c51b7d"
            ],
            [
             0.2,
             "#de77ae"
            ],
            [
             0.3,
             "#f1b6da"
            ],
            [
             0.4,
             "#fde0ef"
            ],
            [
             0.5,
             "#f7f7f7"
            ],
            [
             0.6,
             "#e6f5d0"
            ],
            [
             0.7,
             "#b8e186"
            ],
            [
             0.8,
             "#7fbc41"
            ],
            [
             0.9,
             "#4d9221"
            ],
            [
             1,
             "#276419"
            ]
           ],
           "sequential": [
            [
             0,
             "#0d0887"
            ],
            [
             0.1111111111111111,
             "#46039f"
            ],
            [
             0.2222222222222222,
             "#7201a8"
            ],
            [
             0.3333333333333333,
             "#9c179e"
            ],
            [
             0.4444444444444444,
             "#bd3786"
            ],
            [
             0.5555555555555556,
             "#d8576b"
            ],
            [
             0.6666666666666666,
             "#ed7953"
            ],
            [
             0.7777777777777778,
             "#fb9f3a"
            ],
            [
             0.8888888888888888,
             "#fdca26"
            ],
            [
             1,
             "#f0f921"
            ]
           ],
           "sequentialminus": [
            [
             0,
             "#0d0887"
            ],
            [
             0.1111111111111111,
             "#46039f"
            ],
            [
             0.2222222222222222,
             "#7201a8"
            ],
            [
             0.3333333333333333,
             "#9c179e"
            ],
            [
             0.4444444444444444,
             "#bd3786"
            ],
            [
             0.5555555555555556,
             "#d8576b"
            ],
            [
             0.6666666666666666,
             "#ed7953"
            ],
            [
             0.7777777777777778,
             "#fb9f3a"
            ],
            [
             0.8888888888888888,
             "#fdca26"
            ],
            [
             1,
             "#f0f921"
            ]
           ]
          },
          "colorway": [
           "#636efa",
           "#EF553B",
           "#00cc96",
           "#ab63fa",
           "#FFA15A",
           "#19d3f3",
           "#FF6692",
           "#B6E880",
           "#FF97FF",
           "#FECB52"
          ],
          "font": {
           "color": "#2a3f5f"
          },
          "geo": {
           "bgcolor": "white",
           "lakecolor": "white",
           "landcolor": "#E5ECF6",
           "showlakes": true,
           "showland": true,
           "subunitcolor": "white"
          },
          "hoverlabel": {
           "align": "left"
          },
          "hovermode": "closest",
          "mapbox": {
           "style": "light"
          },
          "paper_bgcolor": "white",
          "plot_bgcolor": "#E5ECF6",
          "polar": {
           "angularaxis": {
            "gridcolor": "white",
            "linecolor": "white",
            "ticks": ""
           },
           "bgcolor": "#E5ECF6",
           "radialaxis": {
            "gridcolor": "white",
            "linecolor": "white",
            "ticks": ""
           }
          },
          "scene": {
           "xaxis": {
            "backgroundcolor": "#E5ECF6",
            "gridcolor": "white",
            "gridwidth": 2,
            "linecolor": "white",
            "showbackground": true,
            "ticks": "",
            "zerolinecolor": "white"
           },
           "yaxis": {
            "backgroundcolor": "#E5ECF6",
            "gridcolor": "white",
            "gridwidth": 2,
            "linecolor": "white",
            "showbackground": true,
            "ticks": "",
            "zerolinecolor": "white"
           },
           "zaxis": {
            "backgroundcolor": "#E5ECF6",
            "gridcolor": "white",
            "gridwidth": 2,
            "linecolor": "white",
            "showbackground": true,
            "ticks": "",
            "zerolinecolor": "white"
           }
          },
          "shapedefaults": {
           "line": {
            "color": "#2a3f5f"
           }
          },
          "ternary": {
           "aaxis": {
            "gridcolor": "white",
            "linecolor": "white",
            "ticks": ""
           },
           "baxis": {
            "gridcolor": "white",
            "linecolor": "white",
            "ticks": ""
           },
           "bgcolor": "#E5ECF6",
           "caxis": {
            "gridcolor": "white",
            "linecolor": "white",
            "ticks": ""
           }
          },
          "title": {
           "x": 0.05
          },
          "xaxis": {
           "automargin": true,
           "gridcolor": "white",
           "linecolor": "white",
           "ticks": "",
           "title": {
            "standoff": 15
           },
           "zerolinecolor": "white",
           "zerolinewidth": 2
          },
          "yaxis": {
           "automargin": true,
           "gridcolor": "white",
           "linecolor": "white",
           "ticks": "",
           "title": {
            "standoff": 15
           },
           "zerolinecolor": "white",
           "zerolinewidth": 2
          }
         }
        },
        "title": {
         "text": "Number of Parks in LA County by Supervisorial District"
        },
        "xaxis": {
         "anchor": "y",
         "autorange": true,
         "domain": [
          0,
          1
         ],
         "range": [
          0.5,
          5.5
         ],
         "title": {
          "text": "Supervisorial District"
         },
         "type": "linear"
        },
        "yaxis": {
         "anchor": "x",
         "autorange": true,
         "domain": [
          0,
          1
         ],
         "range": [
          0,
          1123.157894736842
         ],
         "title": {
          "text": "counts"
         },
         "type": "linear"
        }
       }
      },
      "image/png": "[encoded data removed]",
      "text/html": [
       "<div>                            <div id=\"7e77569d-eb3f-489e-8198-e7dccb1f490b\" class=\"plotly-graph-div\" style=\"height:525px; width:100%;\"></div>            <script type=\"text/javascript\">                require([\"plotly\"], function(Plotly) {                    window.PLOTLYENV=window.PLOTLYENV || {};                                    if (document.getElementById(\"7e77569d-eb3f-489e-8198-e7dccb1f490b\")) {                    Plotly.newPlot(                        \"7e77569d-eb3f-489e-8198-e7dccb1f490b\",                        [{\"alignmentgroup\":\"True\",\"hovertemplate\":\"Supervisorial District=%{x}\\u003cbr\\u003ecounts=%{y}\\u003cextra\\u003e\\u003c\\u002fextra\\u003e\",\"legendgroup\":\"\",\"marker\":{\"color\":\"#ffffb2\",\"pattern\":{\"shape\":\"\"}},\"name\":\"\",\"offsetgroup\":\"\",\"orientation\":\"v\",\"showlegend\":false,\"textposition\":\"auto\",\"x\":[1,2,3,4,5],\"xaxis\":\"x\",\"y\":[565,462,981,873,1067],\"yaxis\":\"y\",\"type\":\"bar\"}],                        {\"template\":{\"data\":{\"histogram2dcontour\":[{\"type\":\"histogram2dcontour\",\"colorbar\":{\"outlinewidth\":0,\"ticks\":\"\"},\"colorscale\":[[0.0,\"#0d0887\"],[0.1111111111111111,\"#46039f\"],[0.2222222222222222,\"#7201a8\"],[0.3333333333333333,\"#9c179e\"],[0.4444444444444444,\"#bd3786\"],[0.5555555555555556,\"#d8576b\"],[0.6666666666666666,\"#ed7953\"],[0.7777777777777778,\"#fb9f3a\"],[0.8888888888888888,\"#fdca26\"],[1.0,\"#f0f921\"]]}],\"choropleth\":[{\"type\":\"choropleth\",\"colorbar\":{\"outlinewidth\":0,\"ticks\":\"\"}}],\"histogram2d\":[{\"type\":\"histogram2d\",\"colorbar\":{\"outlinewidth\":0,\"ticks\":\"\"},\"colorscale\":[[0.0,\"#0d0887\"],[0.1111111111111111,\"#46039f\"],[0.2222222222222222,\"#7201a8\"],[0.3333333333333333,\"#9c179e\"],[0.4444444444444444,\"#bd3786\"],[0.5555555555555556,\"#d8576b\"],[0.6666666666666666,\"#ed7953\"],[0.7777777777777778,\"#fb9f3a\"],[0.8888888888888888,\"#fdca26\"],[1.0,\"#f0f921\"]]}],\"heatmap\":[{\"type\":\"heatmap\",\"colorbar\":{\"outlinewidth\":0,\"ticks\":\"\"},\"colorscale\":[[0.0,\"#0d0887\"],[0.1111111111111111,\"#46039f\"],[0.2222222222222222,\"#7201a8\"],[0.3333333333333333,\"#9c179e\"],[0.4444444444444444,\"#bd3786\"],[0.5555555555555556,\"#d8576b\"],[0.6666666666666666,\"#ed7953\"],[0.7777777777777778,\"#fb9f3a\"],[0.8888888888888888,\"#fdca26\"],[1.0,\"#f0f921\"]]}],\"heatmapgl\":[{\"type\":\"heatmapgl\",\"colorbar\":{\"outlinewidth\":0,\"ticks\":\"\"},\"colorscale\":[[0.0,\"#0d0887\"],[0.1111111111111111,\"#46039f\"],[0.2222222222222222,\"#7201a8\"],[0.3333333333333333,\"#9c179e\"],[0.4444444444444444,\"#bd3786\"],[0.5555555555555556,\"#d8576b\"],[0.6666666666666666,\"#ed7953\"],[0.7777777777777778,\"#fb9f3a\"],[0.8888888888888888,\"#fdca26\"],[1.0,\"#f0f921\"]]}],\"contourcarpet\":[{\"type\":\"contourcarpet\",\"colorbar\":{\"outlinewidth\":0,\"ticks\":\"\"}}],\"contour\":[{\"type\":\"contour\",\"colorbar\":{\"outlinewidth\":0,\"ticks\":\"\"},\"colorscale\":[[0.0,\"#0d0887\"],[0.1111111111111111,\"#46039f\"],[0.2222222222222222,\"#7201a8\"],[0.3333333333333333,\"#9c179e\"],[0.4444444444444444,\"#bd3786\"],[0.5555555555555556,\"#d8576b\"],[0.6666666666666666,\"#ed7953\"],[0.7777777777777778,\"#fb9f3a\"],[0.8888888888888888,\"#fdca26\"],[1.0,\"#f0f921\"]]}],\"surface\":[{\"type\":\"surface\",\"colorbar\":{\"outlinewidth\":0,\"ticks\":\"\"},\"colorscale\":[[0.0,\"#0d0887\"],[0.1111111111111111,\"#46039f\"],[0.2222222222222222,\"#7201a8\"],[0.3333333333333333,\"#9c179e\"],[0.4444444444444444,\"#bd3786\"],[0.5555555555555556,\"#d8576b\"],[0.6666666666666666,\"#ed7953\"],[0.7777777777777778,\"#fb9f3a\"],[0.8888888888888888,\"#fdca26\"],[1.0,\"#f0f921\"]]}],\"mesh3d\":[{\"type\":\"mesh3d\",\"colorbar\":{\"outlinewidth\":0,\"ticks\":\"\"}}],\"scatter\":[{\"fillpattern\":{\"fillmode\":\"overlay\",\"size\":10,\"solidity\":0.2},\"type\":\"scatter\"}],\"parcoords\":[{\"type\":\"parcoords\",\"line\":{\"colorbar\":{\"outlinewidth\":0,\"ticks\":\"\"}}}],\"scatterpolargl\":[{\"type\":\"scatterpolargl\",\"marker\":{\"colorbar\":{\"outlinewidth\":0,\"ticks\":\"\"}}}],\"bar\":[{\"error_x\":{\"color\":\"#2a3f5f\"},\"error_y\":{\"color\":\"#2a3f5f\"},\"marker\":{\"line\":{\"color\":\"#E5ECF6\",\"width\":0.5},\"pattern\":{\"fillmode\":\"overlay\",\"size\":10,\"solidity\":0.2}},\"type\":\"bar\"}],\"scattergeo\":[{\"type\":\"scattergeo\",\"marker\":{\"colorbar\":{\"outlinewidth\":0,\"ticks\":\"\"}}}],\"scatterpolar\":[{\"type\":\"scatterpolar\",\"marker\":{\"colorbar\":{\"outlinewidth\":0,\"ticks\":\"\"}}}],\"histogram\":[{\"marker\":{\"pattern\":{\"fillmode\":\"overlay\",\"size\":10,\"solidity\":0.2}},\"type\":\"histogram\"}],\"scattergl\":[{\"type\":\"scattergl\",\"marker\":{\"colorbar\":{\"outlinewidth\":0,\"ticks\":\"\"}}}],\"scatter3d\":[{\"type\":\"scatter3d\",\"line\":{\"colorbar\":{\"outlinewidth\":0,\"ticks\":\"\"}},\"marker\":{\"colorbar\":{\"outlinewidth\":0,\"ticks\":\"\"}}}],\"scattermapbox\":[{\"type\":\"scattermapbox\",\"marker\":{\"colorbar\":{\"outlinewidth\":0,\"ticks\":\"\"}}}],\"scatterternary\":[{\"type\":\"scatterternary\",\"marker\":{\"colorbar\":{\"outlinewidth\":0,\"ticks\":\"\"}}}],\"scattercarpet\":[{\"type\":\"scattercarpet\",\"marker\":{\"colorbar\":{\"outlinewidth\":0,\"ticks\":\"\"}}}],\"carpet\":[{\"aaxis\":{\"endlinecolor\":\"#2a3f5f\",\"gridcolor\":\"white\",\"linecolor\":\"white\",\"minorgridcolor\":\"white\",\"startlinecolor\":\"#2a3f5f\"},\"baxis\":{\"endlinecolor\":\"#2a3f5f\",\"gridcolor\":\"white\",\"linecolor\":\"white\",\"minorgridcolor\":\"white\",\"startlinecolor\":\"#2a3f5f\"},\"type\":\"carpet\"}],\"table\":[{\"cells\":{\"fill\":{\"color\":\"#EBF0F8\"},\"line\":{\"color\":\"white\"}},\"header\":{\"fill\":{\"color\":\"#C8D4E3\"},\"line\":{\"color\":\"white\"}},\"type\":\"table\"}],\"barpolar\":[{\"marker\":{\"line\":{\"color\":\"#E5ECF6\",\"width\":0.5},\"pattern\":{\"fillmode\":\"overlay\",\"size\":10,\"solidity\":0.2}},\"type\":\"barpolar\"}],\"pie\":[{\"automargin\":true,\"type\":\"pie\"}]},\"layout\":{\"autotypenumbers\":\"strict\",\"colorway\":[\"#636efa\",\"#EF553B\",\"#00cc96\",\"#ab63fa\",\"#FFA15A\",\"#19d3f3\",\"#FF6692\",\"#B6E880\",\"#FF97FF\",\"#FECB52\"],\"font\":{\"color\":\"#2a3f5f\"},\"hovermode\":\"closest\",\"hoverlabel\":{\"align\":\"left\"},\"paper_bgcolor\":\"white\",\"plot_bgcolor\":\"#E5ECF6\",\"polar\":{\"bgcolor\":\"#E5ECF6\",\"angularaxis\":{\"gridcolor\":\"white\",\"linecolor\":\"white\",\"ticks\":\"\"},\"radialaxis\":{\"gridcolor\":\"white\",\"linecolor\":\"white\",\"ticks\":\"\"}},\"ternary\":{\"bgcolor\":\"#E5ECF6\",\"aaxis\":{\"gridcolor\":\"white\",\"linecolor\":\"white\",\"ticks\":\"\"},\"baxis\":{\"gridcolor\":\"white\",\"linecolor\":\"white\",\"ticks\":\"\"},\"caxis\":{\"gridcolor\":\"white\",\"linecolor\":\"white\",\"ticks\":\"\"}},\"coloraxis\":{\"colorbar\":{\"outlinewidth\":0,\"ticks\":\"\"}},\"colorscale\":{\"sequential\":[[0.0,\"#0d0887\"],[0.1111111111111111,\"#46039f\"],[0.2222222222222222,\"#7201a8\"],[0.3333333333333333,\"#9c179e\"],[0.4444444444444444,\"#bd3786\"],[0.5555555555555556,\"#d8576b\"],[0.6666666666666666,\"#ed7953\"],[0.7777777777777778,\"#fb9f3a\"],[0.8888888888888888,\"#fdca26\"],[1.0,\"#f0f921\"]],\"sequentialminus\":[[0.0,\"#0d0887\"],[0.1111111111111111,\"#46039f\"],[0.2222222222222222,\"#7201a8\"],[0.3333333333333333,\"#9c179e\"],[0.4444444444444444,\"#bd3786\"],[0.5555555555555556,\"#d8576b\"],[0.6666666666666666,\"#ed7953\"],[0.7777777777777778,\"#fb9f3a\"],[0.8888888888888888,\"#fdca26\"],[1.0,\"#f0f921\"]],\"diverging\":[[0,\"#8e0152\"],[0.1,\"#c51b7d\"],[0.2,\"#de77ae\"],[0.3,\"#f1b6da\"],[0.4,\"#fde0ef\"],[0.5,\"#f7f7f7\"],[0.6,\"#e6f5d0\"],[0.7,\"#b8e186\"],[0.8,\"#7fbc41\"],[0.9,\"#4d9221\"],[1,\"#276419\"]]},\"xaxis\":{\"gridcolor\":\"white\",\"linecolor\":\"white\",\"ticks\":\"\",\"title\":{\"standoff\":15},\"zerolinecolor\":\"white\",\"automargin\":true,\"zerolinewidth\":2},\"yaxis\":{\"gridcolor\":\"white\",\"linecolor\":\"white\",\"ticks\":\"\",\"title\":{\"standoff\":15},\"zerolinecolor\":\"white\",\"automargin\":true,\"zerolinewidth\":2},\"scene\":{\"xaxis\":{\"backgroundcolor\":\"#E5ECF6\",\"gridcolor\":\"white\",\"linecolor\":\"white\",\"showbackground\":true,\"ticks\":\"\",\"zerolinecolor\":\"white\",\"gridwidth\":2},\"yaxis\":{\"backgroundcolor\":\"#E5ECF6\",\"gridcolor\":\"white\",\"linecolor\":\"white\",\"showbackground\":true,\"ticks\":\"\",\"zerolinecolor\":\"white\",\"gridwidth\":2},\"zaxis\":{\"backgroundcolor\":\"#E5ECF6\",\"gridcolor\":\"white\",\"linecolor\":\"white\",\"showbackground\":true,\"ticks\":\"\",\"zerolinecolor\":\"white\",\"gridwidth\":2}},\"shapedefaults\":{\"line\":{\"color\":\"#2a3f5f\"}},\"annotationdefaults\":{\"arrowcolor\":\"#2a3f5f\",\"arrowhead\":0,\"arrowwidth\":1},\"geo\":{\"bgcolor\":\"white\",\"landcolor\":\"#E5ECF6\",\"subunitcolor\":\"white\",\"showland\":true,\"showlakes\":true,\"lakecolor\":\"white\"},\"title\":{\"x\":0.05},\"mapbox\":{\"style\":\"light\"}}},\"xaxis\":{\"anchor\":\"y\",\"domain\":[0.0,1.0],\"title\":{\"text\":\"Supervisorial District\"}},\"yaxis\":{\"anchor\":\"x\",\"domain\":[0.0,1.0],\"title\":{\"text\":\"counts\"}},\"legend\":{\"tracegroupgap\":0},\"title\":{\"text\":\"Number of Parks in LA County by Supervisorial District\"},\"barmode\":\"relative\"},                        {\"responsive\": true}                    ).then(function(){\n",
       "                            \n",
       "var gd = document.getElementById('7e77569d-eb3f-489e-8198-e7dccb1f490b');\n",
       "var x = new MutationObserver(function (mutations, observer) {{\n",
       "        var display = window.getComputedStyle(gd).display;\n",
       "        if (!display || display === 'none') {{\n",
       "            console.log([gd, 'removed!']);\n",
       "            Plotly.purge(gd);\n",
       "            observer.disconnect();\n",
       "        }}\n",
       "}});\n",
       "\n",
       "// Listen for the removal of the full notebook cells\n",
       "var notebookContainer = gd.closest('#notebook-container');\n",
       "if (notebookContainer) {{\n",
       "    x.observe(notebookContainer, {childList: true});\n",
       "}}\n",
       "\n",
       "// Listen for the clearing of the current output cell\n",
       "var outputEl = gd.closest('.output');\n",
       "if (outputEl) {{\n",
       "    x.observe(outputEl, {childList: true});\n",
       "}}\n",
       "\n",
       "                        })                };                });            </script>        </div>"
      ]
     },
     "metadata": {},
     "output_type": "display_data"
    }
   ],
   "source": [
    "fig = px.bar(counts_parks, x='DIST_SUP', y='counts',\n",
    "              color_discrete_sequence =['#ffffb2']*len(counts_parks),\n",
    "             labels={\n",
    "                     'DIST_SUP': 'Supervisorial District'\n",
    "                 }, #rename the titles\n",
    "             title = 'Number of Parks in LA County by Supervisorial District')\n",
    "\n",
    "fig.show()"
   ]
  },
  {
   "cell_type": "markdown",
   "id": "4317512d-9638-48f1-ae9e-26ff0cdc29ce",
   "metadata": {},
   "source": [
    "Now let's save this plotly plot as html so we can embed it to our storymap later."
   ]
  },
  {
   "cell_type": "code",
   "execution_count": 21,
   "id": "29017a5f-d7e9-4409-a970-e245d257c424",
   "metadata": {},
   "outputs": [],
   "source": [
    "fig.write_html(\"count_parks_plotly.html\")"
   ]
  },
  {
   "cell_type": "markdown",
   "id": "ede99acb-4bed-4c62-b424-aa0263a014c1",
   "metadata": {},
   "source": [
    "## Step 7: Subset to only keep Supervisorial Districts 2 and 5"
   ]
  },
  {
   "cell_type": "code",
   "execution_count": 69,
   "id": "a8fa4b5d-0fdf-45e2-919d-dea98dd424df",
   "metadata": {},
   "outputs": [
    {
     "data": {
      "text/html": [
       "<div>\n",
       "<style scoped>\n",
       "    .dataframe tbody tr th:only-of-type {\n",
       "        vertical-align: middle;\n",
       "    }\n",
       "\n",
       "    .dataframe tbody tr th {\n",
       "        vertical-align: top;\n",
       "    }\n",
       "\n",
       "    .dataframe thead th {\n",
       "        text-align: right;\n",
       "    }\n",
       "</style>\n",
       "<table border=\"1\" class=\"dataframe\">\n",
       "  <thead>\n",
       "    <tr style=\"text-align: right;\">\n",
       "      <th></th>\n",
       "      <th>FIPS</th>\n",
       "      <th>Join_Count</th>\n",
       "      <th>DIST_SUP</th>\n",
       "      <th>CITY_NAME</th>\n",
       "      <th>UNINCORP_NAME</th>\n",
       "      <th>JURISDICTION</th>\n",
       "      <th>UNIT_ID</th>\n",
       "      <th>PARK_NAME</th>\n",
       "      <th>ACCESS_TYP</th>\n",
       "      <th>RPT_ACRES</th>\n",
       "      <th>...</th>\n",
       "      <th>TOTAL_GOOD</th>\n",
       "      <th>TOTAL_FAIR</th>\n",
       "      <th>TOTAL_POOR</th>\n",
       "      <th>RSTRM</th>\n",
       "      <th>TYPE</th>\n",
       "      <th>CENTER_LAT</th>\n",
       "      <th>CENTER_LON</th>\n",
       "      <th>Shape__Area</th>\n",
       "      <th>Shape__Length</th>\n",
       "      <th>geometry</th>\n",
       "    </tr>\n",
       "  </thead>\n",
       "  <tbody>\n",
       "    <tr>\n",
       "      <th>3348</th>\n",
       "      <td>06037910810</td>\n",
       "      <td>1</td>\n",
       "      <td>5</td>\n",
       "      <td>NaN</td>\n",
       "      <td>SANTA CLARITA VALLEY</td>\n",
       "      <td>UNINCORPORATED AREA</td>\n",
       "      <td>46211.0</td>\n",
       "      <td>Unnamed site - Santa Clarita Watershed Recreat...</td>\n",
       "      <td>Unknown Access</td>\n",
       "      <td>58.135</td>\n",
       "      <td>...</td>\n",
       "      <td>0.0</td>\n",
       "      <td>0.0</td>\n",
       "      <td>0.0</td>\n",
       "      <td>0.0</td>\n",
       "      <td>Natural Areas</td>\n",
       "      <td>34.471233</td>\n",
       "      <td>-118.332973</td>\n",
       "      <td>2.532027e+06</td>\n",
       "      <td>7752.800496</td>\n",
       "      <td>POLYGON ((-118.33140 34.46785, -118.33214 34.4...</td>\n",
       "    </tr>\n",
       "    <tr>\n",
       "      <th>1429</th>\n",
       "      <td>06037401602</td>\n",
       "      <td>2</td>\n",
       "      <td>5</td>\n",
       "      <td>LA VERNE</td>\n",
       "      <td>NaN</td>\n",
       "      <td>INCORPORATED CITY</td>\n",
       "      <td>6106.0</td>\n",
       "      <td>Community Center/Civic Center</td>\n",
       "      <td>Open Access</td>\n",
       "      <td>4.811</td>\n",
       "      <td>...</td>\n",
       "      <td>10.0</td>\n",
       "      <td>1.0</td>\n",
       "      <td>0.0</td>\n",
       "      <td>0.0</td>\n",
       "      <td>Local Park</td>\n",
       "      <td>33.896130</td>\n",
       "      <td>-118.312486</td>\n",
       "      <td>2.406686e+05</td>\n",
       "      <td>2746.362463</td>\n",
       "      <td>POLYGON ((-117.76406 34.11148, -117.76469 34.1...</td>\n",
       "    </tr>\n",
       "    <tr>\n",
       "      <th>142</th>\n",
       "      <td>06037930400</td>\n",
       "      <td>3</td>\n",
       "      <td>5</td>\n",
       "      <td>NaN</td>\n",
       "      <td>ANTELOPE VALLEY</td>\n",
       "      <td>UNINCORPORATED AREA</td>\n",
       "      <td>14635.0</td>\n",
       "      <td>Unnamed site - Mountains Recreation and Conser...</td>\n",
       "      <td>Unknown Access</td>\n",
       "      <td>146.884</td>\n",
       "      <td>...</td>\n",
       "      <td>0.0</td>\n",
       "      <td>0.0</td>\n",
       "      <td>0.0</td>\n",
       "      <td>0.0</td>\n",
       "      <td>Regional Open Space</td>\n",
       "      <td>34.333590</td>\n",
       "      <td>-118.471812</td>\n",
       "      <td>6.397625e+06</td>\n",
       "      <td>18169.106047</td>\n",
       "      <td>POLYGON ((-118.46888 34.33010, -118.46904 34.3...</td>\n",
       "    </tr>\n",
       "    <tr>\n",
       "      <th>1189</th>\n",
       "      <td>06037310100</td>\n",
       "      <td>1</td>\n",
       "      <td>5</td>\n",
       "      <td>BURBANK</td>\n",
       "      <td>NaN</td>\n",
       "      <td>INCORPORATED CITY</td>\n",
       "      <td>7139.0</td>\n",
       "      <td>City of Burbank Open Space Mountain Reserve 6</td>\n",
       "      <td>Open Access</td>\n",
       "      <td>60.615</td>\n",
       "      <td>...</td>\n",
       "      <td>0.0</td>\n",
       "      <td>0.0</td>\n",
       "      <td>0.0</td>\n",
       "      <td>0.0</td>\n",
       "      <td>Regional Open Space</td>\n",
       "      <td>34.207684</td>\n",
       "      <td>-118.319636</td>\n",
       "      <td>2.640219e+06</td>\n",
       "      <td>11098.017187</td>\n",
       "      <td>POLYGON ((-118.31453 34.20957, -118.31649 34.2...</td>\n",
       "    </tr>\n",
       "    <tr>\n",
       "      <th>2648</th>\n",
       "      <td>06037621102</td>\n",
       "      <td>1</td>\n",
       "      <td>2</td>\n",
       "      <td>HERMOSA BEACH</td>\n",
       "      <td>NaN</td>\n",
       "      <td>INCORPORATED CITY</td>\n",
       "      <td>6107.0</td>\n",
       "      <td>Greenwood Park (City of Hermosa Beach)</td>\n",
       "      <td>Open Access</td>\n",
       "      <td>0.477</td>\n",
       "      <td>...</td>\n",
       "      <td>0.0</td>\n",
       "      <td>0.0</td>\n",
       "      <td>0.0</td>\n",
       "      <td>0.0</td>\n",
       "      <td>Local Park</td>\n",
       "      <td>33.863073</td>\n",
       "      <td>-118.392186</td>\n",
       "      <td>2.079687e+04</td>\n",
       "      <td>755.050442</td>\n",
       "      <td>POLYGON ((-118.39187 33.86315, -118.39185 33.8...</td>\n",
       "    </tr>\n",
       "  </tbody>\n",
       "</table>\n",
       "<p>5 rows × 28 columns</p>\n",
       "</div>"
      ],
      "text/plain": [
       "             FIPS  Join_Count  DIST_SUP      CITY_NAME         UNINCORP_NAME  \\\n",
       "3348  06037910810           1         5            NaN  SANTA CLARITA VALLEY   \n",
       "1429  06037401602           2         5       LA VERNE                   NaN   \n",
       "142   06037930400           3         5            NaN       ANTELOPE VALLEY   \n",
       "1189  06037310100           1         5        BURBANK                   NaN   \n",
       "2648  06037621102           1         2  HERMOSA BEACH                   NaN   \n",
       "\n",
       "             JURISDICTION  UNIT_ID  \\\n",
       "3348  UNINCORPORATED AREA  46211.0   \n",
       "1429    INCORPORATED CITY   6106.0   \n",
       "142   UNINCORPORATED AREA  14635.0   \n",
       "1189    INCORPORATED CITY   7139.0   \n",
       "2648    INCORPORATED CITY   6107.0   \n",
       "\n",
       "                                              PARK_NAME      ACCESS_TYP  \\\n",
       "3348  Unnamed site - Santa Clarita Watershed Recreat...  Unknown Access   \n",
       "1429                      Community Center/Civic Center     Open Access   \n",
       "142   Unnamed site - Mountains Recreation and Conser...  Unknown Access   \n",
       "1189      City of Burbank Open Space Mountain Reserve 6     Open Access   \n",
       "2648             Greenwood Park (City of Hermosa Beach)     Open Access   \n",
       "\n",
       "      RPT_ACRES  ...  TOTAL_GOOD TOTAL_FAIR TOTAL_POOR RSTRM  \\\n",
       "3348     58.135  ...         0.0        0.0        0.0   0.0   \n",
       "1429      4.811  ...        10.0        1.0        0.0   0.0   \n",
       "142     146.884  ...         0.0        0.0        0.0   0.0   \n",
       "1189     60.615  ...         0.0        0.0        0.0   0.0   \n",
       "2648      0.477  ...         0.0        0.0        0.0   0.0   \n",
       "\n",
       "                     TYPE CENTER_LAT  CENTER_LON   Shape__Area  Shape__Length  \\\n",
       "3348        Natural Areas  34.471233 -118.332973  2.532027e+06    7752.800496   \n",
       "1429           Local Park  33.896130 -118.312486  2.406686e+05    2746.362463   \n",
       "142   Regional Open Space  34.333590 -118.471812  6.397625e+06   18169.106047   \n",
       "1189  Regional Open Space  34.207684 -118.319636  2.640219e+06   11098.017187   \n",
       "2648           Local Park  33.863073 -118.392186  2.079687e+04     755.050442   \n",
       "\n",
       "                                               geometry  \n",
       "3348  POLYGON ((-118.33140 34.46785, -118.33214 34.4...  \n",
       "1429  POLYGON ((-117.76406 34.11148, -117.76469 34.1...  \n",
       "142   POLYGON ((-118.46888 34.33010, -118.46904 34.3...  \n",
       "1189  POLYGON ((-118.31453 34.20957, -118.31649 34.2...  \n",
       "2648  POLYGON ((-118.39187 33.86315, -118.39185 33.8...  \n",
       "\n",
       "[5 rows x 28 columns]"
      ]
     },
     "execution_count": 69,
     "metadata": {},
     "output_type": "execute_result"
    }
   ],
   "source": [
    "parks_d2d5 = parks_district[parks_district.DIST_SUP.isin([2, 5])].copy()\n",
    "parks_d2d5.sample(5)"
   ]
  },
  {
   "cell_type": "markdown",
   "id": "ec4d9db3-37a3-4653-8af9-4669c165c22b",
   "metadata": {},
   "source": [
    "## Step 8: Park Score for Local Parks/Regional Recreation Parks"
   ]
  },
  {
   "cell_type": "markdown",
   "id": "1c801fb2-b036-4637-95e7-2b9589c522d3",
   "metadata": {},
   "source": [
    "I'm taking the park score analysis and working off Miles' code for Week 7 from the Midterm_Cleaned.ipynb. He figured out how to make a \"score\" for parks' amenities based on the TOTAL_GOOD, TOTAL_FAIR, and TOTAL_POOR columns. Good is worth 1 point, Fair is worth 0.5, and Poor is worth 0.\n",
    "\n",
    "The amenities that LA County counted are tennis courts, basketball courts, baseball fields, soccer fields, multi-purpose fields, fitness zones, skateparks, picnic shelters, playgrounds, pools, splash pads, dog parks, gymnasiums, commmunity centers, senior centers, and restrooms."
   ]
  },
  {
   "cell_type": "code",
   "execution_count": 70,
   "id": "8a2bc4be-9d32-4303-b24f-89f1358cdb43",
   "metadata": {},
   "outputs": [],
   "source": [
    "parks_d2d5['Score'] = (parks_d2d5['TOTAL_GOOD'] + \n",
    "                       (parks_d2d5['TOTAL_FAIR']*0.5)) / (parks_d2d5['TOTAL_GOOD'] + parks_d2d5['TOTAL_FAIR'] + parks_d2d5['TOTAL_POOR'])\n",
    "parks_d2d5['Score'].fillna(0, inplace = True)"
   ]
  },
  {
   "cell_type": "code",
   "execution_count": 71,
   "id": "7acd83e5-9abd-48ca-a10b-a81c32af2b12",
   "metadata": {},
   "outputs": [
    {
     "data": {
      "text/html": [
       "<div>\n",
       "<style scoped>\n",
       "    .dataframe tbody tr th:only-of-type {\n",
       "        vertical-align: middle;\n",
       "    }\n",
       "\n",
       "    .dataframe tbody tr th {\n",
       "        vertical-align: top;\n",
       "    }\n",
       "\n",
       "    .dataframe thead th {\n",
       "        text-align: right;\n",
       "    }\n",
       "</style>\n",
       "<table border=\"1\" class=\"dataframe\">\n",
       "  <thead>\n",
       "    <tr style=\"text-align: right;\">\n",
       "      <th></th>\n",
       "      <th>PARK_NAME</th>\n",
       "      <th>TYPE</th>\n",
       "      <th>AMEN_RPT</th>\n",
       "      <th>TOTAL_GOOD</th>\n",
       "      <th>TOTAL_FAIR</th>\n",
       "      <th>TOTAL_POOR</th>\n",
       "      <th>Score</th>\n",
       "    </tr>\n",
       "  </thead>\n",
       "  <tbody>\n",
       "    <tr>\n",
       "      <th>2237</th>\n",
       "      <td>Raymond Street Park</td>\n",
       "      <td>Local Park</td>\n",
       "      <td>Yes</td>\n",
       "      <td>0.0</td>\n",
       "      <td>2.0</td>\n",
       "      <td>0.0</td>\n",
       "      <td>0.50</td>\n",
       "    </tr>\n",
       "    <tr>\n",
       "      <th>2658</th>\n",
       "      <td>Torrance holding 6</td>\n",
       "      <td>Natural Areas</td>\n",
       "      <td>No</td>\n",
       "      <td>0.0</td>\n",
       "      <td>0.0</td>\n",
       "      <td>0.0</td>\n",
       "      <td>0.00</td>\n",
       "    </tr>\n",
       "    <tr>\n",
       "      <th>102</th>\n",
       "      <td>Hansen Dam Park</td>\n",
       "      <td>Regional Recreation Park</td>\n",
       "      <td>Yes</td>\n",
       "      <td>12.0</td>\n",
       "      <td>6.0</td>\n",
       "      <td>2.0</td>\n",
       "      <td>0.75</td>\n",
       "    </tr>\n",
       "    <tr>\n",
       "      <th>3231</th>\n",
       "      <td>Lancaster Cemetery</td>\n",
       "      <td>Natural Areas</td>\n",
       "      <td>No</td>\n",
       "      <td>0.0</td>\n",
       "      <td>0.0</td>\n",
       "      <td>0.0</td>\n",
       "      <td>0.00</td>\n",
       "    </tr>\n",
       "    <tr>\n",
       "      <th>1387</th>\n",
       "      <td>Gladstone Park (City of Glendora)</td>\n",
       "      <td>Local Park</td>\n",
       "      <td>Yes</td>\n",
       "      <td>4.0</td>\n",
       "      <td>1.0</td>\n",
       "      <td>0.0</td>\n",
       "      <td>0.90</td>\n",
       "    </tr>\n",
       "  </tbody>\n",
       "</table>\n",
       "</div>"
      ],
      "text/plain": [
       "                              PARK_NAME                      TYPE AMEN_RPT  \\\n",
       "2237                Raymond Street Park                Local Park      Yes   \n",
       "2658                 Torrance holding 6             Natural Areas       No   \n",
       "102                     Hansen Dam Park  Regional Recreation Park      Yes   \n",
       "3231                 Lancaster Cemetery             Natural Areas       No   \n",
       "1387  Gladstone Park (City of Glendora)                Local Park      Yes   \n",
       "\n",
       "      TOTAL_GOOD  TOTAL_FAIR  TOTAL_POOR  Score  \n",
       "2237         0.0         2.0         0.0   0.50  \n",
       "2658         0.0         0.0         0.0   0.00  \n",
       "102         12.0         6.0         2.0   0.75  \n",
       "3231         0.0         0.0         0.0   0.00  \n",
       "1387         4.0         1.0         0.0   0.90  "
      ]
     },
     "execution_count": 71,
     "metadata": {},
     "output_type": "execute_result"
    }
   ],
   "source": [
    "#check\n",
    "parks_d2d5[['PARK_NAME', 'TYPE', 'AMEN_RPT','TOTAL_GOOD', 'TOTAL_FAIR', 'TOTAL_POOR', 'Score']].sample(5)"
   ]
  },
  {
   "cell_type": "markdown",
   "id": "20cd6f4e-4069-4e6e-a01a-bfc502d85763",
   "metadata": {},
   "source": [
    "One limitation to our park score is that it pretty much only applies to Local Parks (ex: Sunland Park) or Regional Recreation Parks (ex: Kenneth Hahn State Recreation Area). Nearly all rows with AMEN_RPT = No (no amenities reported) will have a score of 0, since the park score is based on conditions of amenities. "
   ]
  },
  {
   "cell_type": "code",
   "execution_count": 72,
   "id": "5f0f02b8-5a0c-4fa9-9d66-7a1482e340a4",
   "metadata": {},
   "outputs": [
    {
     "data": {
      "text/html": [
       "<div>\n",
       "<style scoped>\n",
       "    .dataframe tbody tr th:only-of-type {\n",
       "        vertical-align: middle;\n",
       "    }\n",
       "\n",
       "    .dataframe tbody tr th {\n",
       "        vertical-align: top;\n",
       "    }\n",
       "\n",
       "    .dataframe thead th {\n",
       "        text-align: right;\n",
       "    }\n",
       "</style>\n",
       "<table border=\"1\" class=\"dataframe\">\n",
       "  <thead>\n",
       "    <tr style=\"text-align: right;\">\n",
       "      <th></th>\n",
       "      <th>FIPS</th>\n",
       "      <th>Join_Count</th>\n",
       "      <th>DIST_SUP</th>\n",
       "      <th>CITY_NAME</th>\n",
       "      <th>UNINCORP_NAME</th>\n",
       "      <th>JURISDICTION</th>\n",
       "      <th>UNIT_ID</th>\n",
       "      <th>PARK_NAME</th>\n",
       "      <th>ACCESS_TYP</th>\n",
       "      <th>RPT_ACRES</th>\n",
       "      <th>GIS_ACRES</th>\n",
       "      <th>AGNCY_NAME</th>\n",
       "      <th>AGNCY_TYP</th>\n",
       "      <th>COGP_TYP</th>\n",
       "      <th>AMEN_RPT</th>\n",
       "      <th>PRKINF_CND</th>\n",
       "      <th>AM_OPNSP</th>\n",
       "      <th>AM_TRLS</th>\n",
       "      <th>TOTAL_GOOD</th>\n",
       "      <th>TOTAL_FAIR</th>\n",
       "      <th>TOTAL_POOR</th>\n",
       "      <th>RSTRM</th>\n",
       "      <th>TYPE</th>\n",
       "      <th>CENTER_LAT</th>\n",
       "      <th>CENTER_LON</th>\n",
       "      <th>Shape__Area</th>\n",
       "      <th>Shape__Length</th>\n",
       "      <th>geometry</th>\n",
       "      <th>Score</th>\n",
       "    </tr>\n",
       "  </thead>\n",
       "  <tbody>\n",
       "    <tr>\n",
       "      <th>2513</th>\n",
       "      <td>06037600303</td>\n",
       "      <td>1</td>\n",
       "      <td>2</td>\n",
       "      <td>NaN</td>\n",
       "      <td>W ATHENS - WESTMONT</td>\n",
       "      <td>UNINCORPORATED AREA</td>\n",
       "      <td>100110.0</td>\n",
       "      <td>Woodcrest Play Park</td>\n",
       "      <td>Open Access</td>\n",
       "      <td>0.08</td>\n",
       "      <td>0.078948</td>\n",
       "      <td>Los Angeles, County of</td>\n",
       "      <td>County Agency</td>\n",
       "      <td>Pocket</td>\n",
       "      <td>No</td>\n",
       "      <td>None</td>\n",
       "      <td>None</td>\n",
       "      <td>None</td>\n",
       "      <td>2.0</td>\n",
       "      <td>0.0</td>\n",
       "      <td>0.0</td>\n",
       "      <td>0.0</td>\n",
       "      <td>Local Park</td>\n",
       "      <td>33.939864</td>\n",
       "      <td>-118.299867</td>\n",
       "      <td>3438.975586</td>\n",
       "      <td>362.013666</td>\n",
       "      <td>POLYGON ((-118.29978 33.93974, -118.29990 33.9...</td>\n",
       "      <td>1.0</td>\n",
       "    </tr>\n",
       "  </tbody>\n",
       "</table>\n",
       "</div>"
      ],
      "text/plain": [
       "             FIPS  Join_Count  DIST_SUP CITY_NAME        UNINCORP_NAME  \\\n",
       "2513  06037600303           1         2       NaN  W ATHENS - WESTMONT   \n",
       "\n",
       "             JURISDICTION   UNIT_ID            PARK_NAME   ACCESS_TYP  \\\n",
       "2513  UNINCORPORATED AREA  100110.0  Woodcrest Play Park  Open Access   \n",
       "\n",
       "      RPT_ACRES  GIS_ACRES              AGNCY_NAME      AGNCY_TYP COGP_TYP  \\\n",
       "2513       0.08   0.078948  Los Angeles, County of  County Agency   Pocket   \n",
       "\n",
       "     AMEN_RPT PRKINF_CND AM_OPNSP AM_TRLS  TOTAL_GOOD  TOTAL_FAIR  TOTAL_POOR  \\\n",
       "2513       No       None     None    None         2.0         0.0         0.0   \n",
       "\n",
       "      RSTRM        TYPE  CENTER_LAT  CENTER_LON  Shape__Area  Shape__Length  \\\n",
       "2513    0.0  Local Park   33.939864 -118.299867  3438.975586     362.013666   \n",
       "\n",
       "                                               geometry  Score  \n",
       "2513  POLYGON ((-118.29978 33.93974, -118.29990 33.9...    1.0  "
      ]
     },
     "metadata": {},
     "output_type": "display_data"
    }
   ],
   "source": [
    "#use this code to look at ALL the columns\n",
    "with pd.option_context('display.max_rows', 5, 'display.max_columns', None): \n",
    "    display(parks_d2d5[(parks_d2d5['AMEN_RPT'] == 'No') & (parks_d2d5['Score'] > 0)])"
   ]
  },
  {
   "cell_type": "markdown",
   "id": "627dc169-13bf-46ee-ba43-85d0dbcde3a5",
   "metadata": {},
   "source": [
    "But there is one anomaly, Woodcrest Play Park, that has AMEN_RPT = No but a Score of 1. **We'll hard recode this singular row to AMEN_RPT = Yes so that it maintains a park score.**"
   ]
  },
  {
   "cell_type": "code",
   "execution_count": 73,
   "id": "de116159-b676-4791-a4e2-c54039614bfe",
   "metadata": {},
   "outputs": [],
   "source": [
    "parks_d2d5.loc[parks_d2d5['PARK_NAME'] == 'Woodcrest Play Park', 'AMEN_RPT'] = 'Yes'"
   ]
  },
  {
   "cell_type": "markdown",
   "id": "13614ba2-1f6e-4fe3-8af5-31dbd1f0aa76",
   "metadata": {},
   "source": [
    "Unfortunately, after exploring the dataset more, there are no other columns we can leverage to build a score for parks with AMEN_RPT = 0. Most of the parks that aren't included in the amenities report are TYPE = 'Natural Areas' or 'Regional Open Space'.\n",
    "\n",
    "The plotly bar chart below sums up our issue pretty well."
   ]
  },
  {
   "cell_type": "code",
   "execution_count": 74,
   "id": "fd66a78b-272e-48de-9442-ab2819a3391a",
   "metadata": {},
   "outputs": [
    {
     "data": {
      "text/html": [
       "<div>\n",
       "<style scoped>\n",
       "    .dataframe tbody tr th:only-of-type {\n",
       "        vertical-align: middle;\n",
       "    }\n",
       "\n",
       "    .dataframe tbody tr th {\n",
       "        vertical-align: top;\n",
       "    }\n",
       "\n",
       "    .dataframe thead th {\n",
       "        text-align: right;\n",
       "    }\n",
       "</style>\n",
       "<table border=\"1\" class=\"dataframe\">\n",
       "  <thead>\n",
       "    <tr style=\"text-align: right;\">\n",
       "      <th></th>\n",
       "      <th>AMEN_RPT</th>\n",
       "      <th>TYPE</th>\n",
       "      <th>counts</th>\n",
       "    </tr>\n",
       "  </thead>\n",
       "  <tbody>\n",
       "    <tr>\n",
       "      <th>0</th>\n",
       "      <td>No</td>\n",
       "      <td>Local Park</td>\n",
       "      <td>18</td>\n",
       "    </tr>\n",
       "    <tr>\n",
       "      <th>1</th>\n",
       "      <td>No</td>\n",
       "      <td>Natural Areas</td>\n",
       "      <td>545</td>\n",
       "    </tr>\n",
       "    <tr>\n",
       "      <th>2</th>\n",
       "      <td>No</td>\n",
       "      <td>Regional Open Space</td>\n",
       "      <td>288</td>\n",
       "    </tr>\n",
       "    <tr>\n",
       "      <th>3</th>\n",
       "      <td>No</td>\n",
       "      <td>Regional Recreation Park</td>\n",
       "      <td>1</td>\n",
       "    </tr>\n",
       "    <tr>\n",
       "      <th>4</th>\n",
       "      <td>Yes</td>\n",
       "      <td>Local Park</td>\n",
       "      <td>648</td>\n",
       "    </tr>\n",
       "    <tr>\n",
       "      <th>5</th>\n",
       "      <td>Yes</td>\n",
       "      <td>Regional Open Space</td>\n",
       "      <td>1</td>\n",
       "    </tr>\n",
       "    <tr>\n",
       "      <th>6</th>\n",
       "      <td>Yes</td>\n",
       "      <td>Regional Recreation Park</td>\n",
       "      <td>27</td>\n",
       "    </tr>\n",
       "  </tbody>\n",
       "</table>\n",
       "</div>"
      ],
      "text/plain": [
       "  AMEN_RPT                      TYPE  counts\n",
       "0       No                Local Park      18\n",
       "1       No             Natural Areas     545\n",
       "2       No       Regional Open Space     288\n",
       "3       No  Regional Recreation Park       1\n",
       "4      Yes                Local Park     648\n",
       "5      Yes       Regional Open Space       1\n",
       "6      Yes  Regional Recreation Park      27"
      ]
     },
     "execution_count": 74,
     "metadata": {},
     "output_type": "execute_result"
    }
   ],
   "source": [
    "counts_amen_rpt = parks_d2d5.groupby(['AMEN_RPT', 'TYPE']).size().reset_index(name='counts')\n",
    "counts_amen_rpt"
   ]
  },
  {
   "cell_type": "code",
   "execution_count": 83,
   "id": "1f742d03-0833-4144-a88d-4cd26f854510",
   "metadata": {},
   "outputs": [
    {
     "data": {
      "application/vnd.plotly.v1+json": {
       "config": {
        "plotlyServerURL": "https://plot.ly"
       },
       "data": [
        {
         "alignmentgroup": "True",
         "hovertemplate": "In Amenities Report=No<br>Park Type=%{x}<br>counts=%{y}<extra></extra>",
         "legendgroup": "No",
         "marker": {
          "color": "#bd0026",
          "pattern": {
           "shape": ""
          }
         },
         "name": "No",
         "offsetgroup": "No",
         "orientation": "v",
         "showlegend": true,
         "textposition": "auto",
         "type": "bar",
         "x": [
          "Local Park",
          "Natural Areas",
          "Regional Open Space",
          "Regional Recreation Park"
         ],
         "xaxis": "x",
         "y": [
          18,
          545,
          288,
          1
         ],
         "yaxis": "y"
        },
        {
         "alignmentgroup": "True",
         "hovertemplate": "In Amenities Report=Yes<br>Park Type=%{x}<br>counts=%{y}<extra></extra>",
         "legendgroup": "Yes",
         "marker": {
          "color": "#ffffb2",
          "pattern": {
           "shape": ""
          }
         },
         "name": "Yes",
         "offsetgroup": "Yes",
         "orientation": "v",
         "showlegend": true,
         "textposition": "auto",
         "type": "bar",
         "x": [
          "Local Park",
          "Regional Open Space",
          "Regional Recreation Park"
         ],
         "xaxis": "x",
         "y": [
          648,
          1,
          27
         ],
         "yaxis": "y"
        }
       ],
       "layout": {
        "autosize": true,
        "barmode": "relative",
        "legend": {
         "title": {
          "text": "In Amenities Report"
         },
         "tracegroupgap": 0
        },
        "template": {
         "data": {
          "bar": [
           {
            "error_x": {
             "color": "#2a3f5f"
            },
            "error_y": {
             "color": "#2a3f5f"
            },
            "marker": {
             "line": {
              "color": "#E5ECF6",
              "width": 0.5
             },
             "pattern": {
              "fillmode": "overlay",
              "size": 10,
              "solidity": 0.2
             }
            },
            "type": "bar"
           }
          ],
          "barpolar": [
           {
            "marker": {
             "line": {
              "color": "#E5ECF6",
              "width": 0.5
             },
             "pattern": {
              "fillmode": "overlay",
              "size": 10,
              "solidity": 0.2
             }
            },
            "type": "barpolar"
           }
          ],
          "carpet": [
           {
            "aaxis": {
             "endlinecolor": "#2a3f5f",
             "gridcolor": "white",
             "linecolor": "white",
             "minorgridcolor": "white",
             "startlinecolor": "#2a3f5f"
            },
            "baxis": {
             "endlinecolor": "#2a3f5f",
             "gridcolor": "white",
             "linecolor": "white",
             "minorgridcolor": "white",
             "startlinecolor": "#2a3f5f"
            },
            "type": "carpet"
           }
          ],
          "choropleth": [
           {
            "colorbar": {
             "outlinewidth": 0,
             "ticks": ""
            },
            "type": "choropleth"
           }
          ],
          "contour": [
           {
            "colorbar": {
             "outlinewidth": 0,
             "ticks": ""
            },
            "colorscale": [
             [
              0,
              "#0d0887"
             ],
             [
              0.1111111111111111,
              "#46039f"
             ],
             [
              0.2222222222222222,
              "#7201a8"
             ],
             [
              0.3333333333333333,
              "#9c179e"
             ],
             [
              0.4444444444444444,
              "#bd3786"
             ],
             [
              0.5555555555555556,
              "#d8576b"
             ],
             [
              0.6666666666666666,
              "#ed7953"
             ],
             [
              0.7777777777777778,
              "#fb9f3a"
             ],
             [
              0.8888888888888888,
              "#fdca26"
             ],
             [
              1,
              "#f0f921"
             ]
            ],
            "type": "contour"
           }
          ],
          "contourcarpet": [
           {
            "colorbar": {
             "outlinewidth": 0,
             "ticks": ""
            },
            "type": "contourcarpet"
           }
          ],
          "heatmap": [
           {
            "colorbar": {
             "outlinewidth": 0,
             "ticks": ""
            },
            "colorscale": [
             [
              0,
              "#0d0887"
             ],
             [
              0.1111111111111111,
              "#46039f"
             ],
             [
              0.2222222222222222,
              "#7201a8"
             ],
             [
              0.3333333333333333,
              "#9c179e"
             ],
             [
              0.4444444444444444,
              "#bd3786"
             ],
             [
              0.5555555555555556,
              "#d8576b"
             ],
             [
              0.6666666666666666,
              "#ed7953"
             ],
             [
              0.7777777777777778,
              "#fb9f3a"
             ],
             [
              0.8888888888888888,
              "#fdca26"
             ],
             [
              1,
              "#f0f921"
             ]
            ],
            "type": "heatmap"
           }
          ],
          "heatmapgl": [
           {
            "colorbar": {
             "outlinewidth": 0,
             "ticks": ""
            },
            "colorscale": [
             [
              0,
              "#0d0887"
             ],
             [
              0.1111111111111111,
              "#46039f"
             ],
             [
              0.2222222222222222,
              "#7201a8"
             ],
             [
              0.3333333333333333,
              "#9c179e"
             ],
             [
              0.4444444444444444,
              "#bd3786"
             ],
             [
              0.5555555555555556,
              "#d8576b"
             ],
             [
              0.6666666666666666,
              "#ed7953"
             ],
             [
              0.7777777777777778,
              "#fb9f3a"
             ],
             [
              0.8888888888888888,
              "#fdca26"
             ],
             [
              1,
              "#f0f921"
             ]
            ],
            "type": "heatmapgl"
           }
          ],
          "histogram": [
           {
            "marker": {
             "pattern": {
              "fillmode": "overlay",
              "size": 10,
              "solidity": 0.2
             }
            },
            "type": "histogram"
           }
          ],
          "histogram2d": [
           {
            "colorbar": {
             "outlinewidth": 0,
             "ticks": ""
            },
            "colorscale": [
             [
              0,
              "#0d0887"
             ],
             [
              0.1111111111111111,
              "#46039f"
             ],
             [
              0.2222222222222222,
              "#7201a8"
             ],
             [
              0.3333333333333333,
              "#9c179e"
             ],
             [
              0.4444444444444444,
              "#bd3786"
             ],
             [
              0.5555555555555556,
              "#d8576b"
             ],
             [
              0.6666666666666666,
              "#ed7953"
             ],
             [
              0.7777777777777778,
              "#fb9f3a"
             ],
             [
              0.8888888888888888,
              "#fdca26"
             ],
             [
              1,
              "#f0f921"
             ]
            ],
            "type": "histogram2d"
           }
          ],
          "histogram2dcontour": [
           {
            "colorbar": {
             "outlinewidth": 0,
             "ticks": ""
            },
            "colorscale": [
             [
              0,
              "#0d0887"
             ],
             [
              0.1111111111111111,
              "#46039f"
             ],
             [
              0.2222222222222222,
              "#7201a8"
             ],
             [
              0.3333333333333333,
              "#9c179e"
             ],
             [
              0.4444444444444444,
              "#bd3786"
             ],
             [
              0.5555555555555556,
              "#d8576b"
             ],
             [
              0.6666666666666666,
              "#ed7953"
             ],
             [
              0.7777777777777778,
              "#fb9f3a"
             ],
             [
              0.8888888888888888,
              "#fdca26"
             ],
             [
              1,
              "#f0f921"
             ]
            ],
            "type": "histogram2dcontour"
           }
          ],
          "mesh3d": [
           {
            "colorbar": {
             "outlinewidth": 0,
             "ticks": ""
            },
            "type": "mesh3d"
           }
          ],
          "parcoords": [
           {
            "line": {
             "colorbar": {
              "outlinewidth": 0,
              "ticks": ""
             }
            },
            "type": "parcoords"
           }
          ],
          "pie": [
           {
            "automargin": true,
            "type": "pie"
           }
          ],
          "scatter": [
           {
            "fillpattern": {
             "fillmode": "overlay",
             "size": 10,
             "solidity": 0.2
            },
            "type": "scatter"
           }
          ],
          "scatter3d": [
           {
            "line": {
             "colorbar": {
              "outlinewidth": 0,
              "ticks": ""
             }
            },
            "marker": {
             "colorbar": {
              "outlinewidth": 0,
              "ticks": ""
             }
            },
            "type": "scatter3d"
           }
          ],
          "scattercarpet": [
           {
            "marker": {
             "colorbar": {
              "outlinewidth": 0,
              "ticks": ""
             }
            },
            "type": "scattercarpet"
           }
          ],
          "scattergeo": [
           {
            "marker": {
             "colorbar": {
              "outlinewidth": 0,
              "ticks": ""
             }
            },
            "type": "scattergeo"
           }
          ],
          "scattergl": [
           {
            "marker": {
             "colorbar": {
              "outlinewidth": 0,
              "ticks": ""
             }
            },
            "type": "scattergl"
           }
          ],
          "scattermapbox": [
           {
            "marker": {
             "colorbar": {
              "outlinewidth": 0,
              "ticks": ""
             }
            },
            "type": "scattermapbox"
           }
          ],
          "scatterpolar": [
           {
            "marker": {
             "colorbar": {
              "outlinewidth": 0,
              "ticks": ""
             }
            },
            "type": "scatterpolar"
           }
          ],
          "scatterpolargl": [
           {
            "marker": {
             "colorbar": {
              "outlinewidth": 0,
              "ticks": ""
             }
            },
            "type": "scatterpolargl"
           }
          ],
          "scatterternary": [
           {
            "marker": {
             "colorbar": {
              "outlinewidth": 0,
              "ticks": ""
             }
            },
            "type": "scatterternary"
           }
          ],
          "surface": [
           {
            "colorbar": {
             "outlinewidth": 0,
             "ticks": ""
            },
            "colorscale": [
             [
              0,
              "#0d0887"
             ],
             [
              0.1111111111111111,
              "#46039f"
             ],
             [
              0.2222222222222222,
              "#7201a8"
             ],
             [
              0.3333333333333333,
              "#9c179e"
             ],
             [
              0.4444444444444444,
              "#bd3786"
             ],
             [
              0.5555555555555556,
              "#d8576b"
             ],
             [
              0.6666666666666666,
              "#ed7953"
             ],
             [
              0.7777777777777778,
              "#fb9f3a"
             ],
             [
              0.8888888888888888,
              "#fdca26"
             ],
             [
              1,
              "#f0f921"
             ]
            ],
            "type": "surface"
           }
          ],
          "table": [
           {
            "cells": {
             "fill": {
              "color": "#EBF0F8"
             },
             "line": {
              "color": "white"
             }
            },
            "header": {
             "fill": {
              "color": "#C8D4E3"
             },
             "line": {
              "color": "white"
             }
            },
            "type": "table"
           }
          ]
         },
         "layout": {
          "annotationdefaults": {
           "arrowcolor": "#2a3f5f",
           "arrowhead": 0,
           "arrowwidth": 1
          },
          "autotypenumbers": "strict",
          "coloraxis": {
           "colorbar": {
            "outlinewidth": 0,
            "ticks": ""
           }
          },
          "colorscale": {
           "diverging": [
            [
             0,
             "#8e0152"
            ],
            [
             0.1,
             "#c51b7d"
            ],
            [
             0.2,
             "#de77ae"
            ],
            [
             0.3,
             "#f1b6da"
            ],
            [
             0.4,
             "#fde0ef"
            ],
            [
             0.5,
             "#f7f7f7"
            ],
            [
             0.6,
             "#e6f5d0"
            ],
            [
             0.7,
             "#b8e186"
            ],
            [
             0.8,
             "#7fbc41"
            ],
            [
             0.9,
             "#4d9221"
            ],
            [
             1,
             "#276419"
            ]
           ],
           "sequential": [
            [
             0,
             "#0d0887"
            ],
            [
             0.1111111111111111,
             "#46039f"
            ],
            [
             0.2222222222222222,
             "#7201a8"
            ],
            [
             0.3333333333333333,
             "#9c179e"
            ],
            [
             0.4444444444444444,
             "#bd3786"
            ],
            [
             0.5555555555555556,
             "#d8576b"
            ],
            [
             0.6666666666666666,
             "#ed7953"
            ],
            [
             0.7777777777777778,
             "#fb9f3a"
            ],
            [
             0.8888888888888888,
             "#fdca26"
            ],
            [
             1,
             "#f0f921"
            ]
           ],
           "sequentialminus": [
            [
             0,
             "#0d0887"
            ],
            [
             0.1111111111111111,
             "#46039f"
            ],
            [
             0.2222222222222222,
             "#7201a8"
            ],
            [
             0.3333333333333333,
             "#9c179e"
            ],
            [
             0.4444444444444444,
             "#bd3786"
            ],
            [
             0.5555555555555556,
             "#d8576b"
            ],
            [
             0.6666666666666666,
             "#ed7953"
            ],
            [
             0.7777777777777778,
             "#fb9f3a"
            ],
            [
             0.8888888888888888,
             "#fdca26"
            ],
            [
             1,
             "#f0f921"
            ]
           ]
          },
          "colorway": [
           "#636efa",
           "#EF553B",
           "#00cc96",
           "#ab63fa",
           "#FFA15A",
           "#19d3f3",
           "#FF6692",
           "#B6E880",
           "#FF97FF",
           "#FECB52"
          ],
          "font": {
           "color": "#2a3f5f"
          },
          "geo": {
           "bgcolor": "white",
           "lakecolor": "white",
           "landcolor": "#E5ECF6",
           "showlakes": true,
           "showland": true,
           "subunitcolor": "white"
          },
          "hoverlabel": {
           "align": "left"
          },
          "hovermode": "closest",
          "mapbox": {
           "style": "light"
          },
          "paper_bgcolor": "white",
          "plot_bgcolor": "#E5ECF6",
          "polar": {
           "angularaxis": {
            "gridcolor": "white",
            "linecolor": "white",
            "ticks": ""
           },
           "bgcolor": "#E5ECF6",
           "radialaxis": {
            "gridcolor": "white",
            "linecolor": "white",
            "ticks": ""
           }
          },
          "scene": {
           "xaxis": {
            "backgroundcolor": "#E5ECF6",
            "gridcolor": "white",
            "gridwidth": 2,
            "linecolor": "white",
            "showbackground": true,
            "ticks": "",
            "zerolinecolor": "white"
           },
           "yaxis": {
            "backgroundcolor": "#E5ECF6",
            "gridcolor": "white",
            "gridwidth": 2,
            "linecolor": "white",
            "showbackground": true,
            "ticks": "",
            "zerolinecolor": "white"
           },
           "zaxis": {
            "backgroundcolor": "#E5ECF6",
            "gridcolor": "white",
            "gridwidth": 2,
            "linecolor": "white",
            "showbackground": true,
            "ticks": "",
            "zerolinecolor": "white"
           }
          },
          "shapedefaults": {
           "line": {
            "color": "#2a3f5f"
           }
          },
          "ternary": {
           "aaxis": {
            "gridcolor": "white",
            "linecolor": "white",
            "ticks": ""
           },
           "baxis": {
            "gridcolor": "white",
            "linecolor": "white",
            "ticks": ""
           },
           "bgcolor": "#E5ECF6",
           "caxis": {
            "gridcolor": "white",
            "linecolor": "white",
            "ticks": ""
           }
          },
          "title": {
           "x": 0.05
          },
          "xaxis": {
           "automargin": true,
           "gridcolor": "white",
           "linecolor": "white",
           "ticks": "",
           "title": {
            "standoff": 15
           },
           "zerolinecolor": "white",
           "zerolinewidth": 2
          },
          "yaxis": {
           "automargin": true,
           "gridcolor": "white",
           "linecolor": "white",
           "ticks": "",
           "title": {
            "standoff": 15
           },
           "zerolinecolor": "white",
           "zerolinewidth": 2
          }
         }
        },
        "title": {
         "text": "Types of Parks included in LA County Parks' Amenities Report"
        },
        "xaxis": {
         "anchor": "y",
         "autorange": true,
         "domain": [
          0,
          1
         ],
         "range": [
          -0.5,
          3.5
         ],
         "title": {
          "text": "Park Type"
         },
         "type": "category"
        },
        "yaxis": {
         "anchor": "x",
         "autorange": true,
         "domain": [
          0,
          1
         ],
         "range": [
          0,
          701.0526315789474
         ],
         "title": {
          "text": "counts"
         },
         "type": "linear"
        }
       }
      },
      "image/png": "[encoded data removed]",
      "text/html": [
       "<div>                            <div id=\"eb9be297-2aca-45d1-a30f-32308f01d2fd\" class=\"plotly-graph-div\" style=\"height:525px; width:100%;\"></div>            <script type=\"text/javascript\">                require([\"plotly\"], function(Plotly) {                    window.PLOTLYENV=window.PLOTLYENV || {};                                    if (document.getElementById(\"eb9be297-2aca-45d1-a30f-32308f01d2fd\")) {                    Plotly.newPlot(                        \"eb9be297-2aca-45d1-a30f-32308f01d2fd\",                        [{\"alignmentgroup\":\"True\",\"hovertemplate\":\"In Amenities Report=No\\u003cbr\\u003ePark Type=%{x}\\u003cbr\\u003ecounts=%{y}\\u003cextra\\u003e\\u003c\\u002fextra\\u003e\",\"legendgroup\":\"No\",\"marker\":{\"color\":\"#bd0026\",\"pattern\":{\"shape\":\"\"}},\"name\":\"No\",\"offsetgroup\":\"No\",\"orientation\":\"v\",\"showlegend\":true,\"textposition\":\"auto\",\"x\":[\"Local Park\",\"Natural Areas\",\"Regional Open Space\",\"Regional Recreation Park\"],\"xaxis\":\"x\",\"y\":[18,545,288,1],\"yaxis\":\"y\",\"type\":\"bar\"},{\"alignmentgroup\":\"True\",\"hovertemplate\":\"In Amenities Report=Yes\\u003cbr\\u003ePark Type=%{x}\\u003cbr\\u003ecounts=%{y}\\u003cextra\\u003e\\u003c\\u002fextra\\u003e\",\"legendgroup\":\"Yes\",\"marker\":{\"color\":\"#ffffb2\",\"pattern\":{\"shape\":\"\"}},\"name\":\"Yes\",\"offsetgroup\":\"Yes\",\"orientation\":\"v\",\"showlegend\":true,\"textposition\":\"auto\",\"x\":[\"Local Park\",\"Regional Open Space\",\"Regional Recreation Park\"],\"xaxis\":\"x\",\"y\":[648,1,27],\"yaxis\":\"y\",\"type\":\"bar\"}],                        {\"template\":{\"data\":{\"histogram2dcontour\":[{\"type\":\"histogram2dcontour\",\"colorbar\":{\"outlinewidth\":0,\"ticks\":\"\"},\"colorscale\":[[0.0,\"#0d0887\"],[0.1111111111111111,\"#46039f\"],[0.2222222222222222,\"#7201a8\"],[0.3333333333333333,\"#9c179e\"],[0.4444444444444444,\"#bd3786\"],[0.5555555555555556,\"#d8576b\"],[0.6666666666666666,\"#ed7953\"],[0.7777777777777778,\"#fb9f3a\"],[0.8888888888888888,\"#fdca26\"],[1.0,\"#f0f921\"]]}],\"choropleth\":[{\"type\":\"choropleth\",\"colorbar\":{\"outlinewidth\":0,\"ticks\":\"\"}}],\"histogram2d\":[{\"type\":\"histogram2d\",\"colorbar\":{\"outlinewidth\":0,\"ticks\":\"\"},\"colorscale\":[[0.0,\"#0d0887\"],[0.1111111111111111,\"#46039f\"],[0.2222222222222222,\"#7201a8\"],[0.3333333333333333,\"#9c179e\"],[0.4444444444444444,\"#bd3786\"],[0.5555555555555556,\"#d8576b\"],[0.6666666666666666,\"#ed7953\"],[0.7777777777777778,\"#fb9f3a\"],[0.8888888888888888,\"#fdca26\"],[1.0,\"#f0f921\"]]}],\"heatmap\":[{\"type\":\"heatmap\",\"colorbar\":{\"outlinewidth\":0,\"ticks\":\"\"},\"colorscale\":[[0.0,\"#0d0887\"],[0.1111111111111111,\"#46039f\"],[0.2222222222222222,\"#7201a8\"],[0.3333333333333333,\"#9c179e\"],[0.4444444444444444,\"#bd3786\"],[0.5555555555555556,\"#d8576b\"],[0.6666666666666666,\"#ed7953\"],[0.7777777777777778,\"#fb9f3a\"],[0.8888888888888888,\"#fdca26\"],[1.0,\"#f0f921\"]]}],\"heatmapgl\":[{\"type\":\"heatmapgl\",\"colorbar\":{\"outlinewidth\":0,\"ticks\":\"\"},\"colorscale\":[[0.0,\"#0d0887\"],[0.1111111111111111,\"#46039f\"],[0.2222222222222222,\"#7201a8\"],[0.3333333333333333,\"#9c179e\"],[0.4444444444444444,\"#bd3786\"],[0.5555555555555556,\"#d8576b\"],[0.6666666666666666,\"#ed7953\"],[0.7777777777777778,\"#fb9f3a\"],[0.8888888888888888,\"#fdca26\"],[1.0,\"#f0f921\"]]}],\"contourcarpet\":[{\"type\":\"contourcarpet\",\"colorbar\":{\"outlinewidth\":0,\"ticks\":\"\"}}],\"contour\":[{\"type\":\"contour\",\"colorbar\":{\"outlinewidth\":0,\"ticks\":\"\"},\"colorscale\":[[0.0,\"#0d0887\"],[0.1111111111111111,\"#46039f\"],[0.2222222222222222,\"#7201a8\"],[0.3333333333333333,\"#9c179e\"],[0.4444444444444444,\"#bd3786\"],[0.5555555555555556,\"#d8576b\"],[0.6666666666666666,\"#ed7953\"],[0.7777777777777778,\"#fb9f3a\"],[0.8888888888888888,\"#fdca26\"],[1.0,\"#f0f921\"]]}],\"surface\":[{\"type\":\"surface\",\"colorbar\":{\"outlinewidth\":0,\"ticks\":\"\"},\"colorscale\":[[0.0,\"#0d0887\"],[0.1111111111111111,\"#46039f\"],[0.2222222222222222,\"#7201a8\"],[0.3333333333333333,\"#9c179e\"],[0.4444444444444444,\"#bd3786\"],[0.5555555555555556,\"#d8576b\"],[0.6666666666666666,\"#ed7953\"],[0.7777777777777778,\"#fb9f3a\"],[0.8888888888888888,\"#fdca26\"],[1.0,\"#f0f921\"]]}],\"mesh3d\":[{\"type\":\"mesh3d\",\"colorbar\":{\"outlinewidth\":0,\"ticks\":\"\"}}],\"scatter\":[{\"fillpattern\":{\"fillmode\":\"overlay\",\"size\":10,\"solidity\":0.2},\"type\":\"scatter\"}],\"parcoords\":[{\"type\":\"parcoords\",\"line\":{\"colorbar\":{\"outlinewidth\":0,\"ticks\":\"\"}}}],\"scatterpolargl\":[{\"type\":\"scatterpolargl\",\"marker\":{\"colorbar\":{\"outlinewidth\":0,\"ticks\":\"\"}}}],\"bar\":[{\"error_x\":{\"color\":\"#2a3f5f\"},\"error_y\":{\"color\":\"#2a3f5f\"},\"marker\":{\"line\":{\"color\":\"#E5ECF6\",\"width\":0.5},\"pattern\":{\"fillmode\":\"overlay\",\"size\":10,\"solidity\":0.2}},\"type\":\"bar\"}],\"scattergeo\":[{\"type\":\"scattergeo\",\"marker\":{\"colorbar\":{\"outlinewidth\":0,\"ticks\":\"\"}}}],\"scatterpolar\":[{\"type\":\"scatterpolar\",\"marker\":{\"colorbar\":{\"outlinewidth\":0,\"ticks\":\"\"}}}],\"histogram\":[{\"marker\":{\"pattern\":{\"fillmode\":\"overlay\",\"size\":10,\"solidity\":0.2}},\"type\":\"histogram\"}],\"scattergl\":[{\"type\":\"scattergl\",\"marker\":{\"colorbar\":{\"outlinewidth\":0,\"ticks\":\"\"}}}],\"scatter3d\":[{\"type\":\"scatter3d\",\"line\":{\"colorbar\":{\"outlinewidth\":0,\"ticks\":\"\"}},\"marker\":{\"colorbar\":{\"outlinewidth\":0,\"ticks\":\"\"}}}],\"scattermapbox\":[{\"type\":\"scattermapbox\",\"marker\":{\"colorbar\":{\"outlinewidth\":0,\"ticks\":\"\"}}}],\"scatterternary\":[{\"type\":\"scatterternary\",\"marker\":{\"colorbar\":{\"outlinewidth\":0,\"ticks\":\"\"}}}],\"scattercarpet\":[{\"type\":\"scattercarpet\",\"marker\":{\"colorbar\":{\"outlinewidth\":0,\"ticks\":\"\"}}}],\"carpet\":[{\"aaxis\":{\"endlinecolor\":\"#2a3f5f\",\"gridcolor\":\"white\",\"linecolor\":\"white\",\"minorgridcolor\":\"white\",\"startlinecolor\":\"#2a3f5f\"},\"baxis\":{\"endlinecolor\":\"#2a3f5f\",\"gridcolor\":\"white\",\"linecolor\":\"white\",\"minorgridcolor\":\"white\",\"startlinecolor\":\"#2a3f5f\"},\"type\":\"carpet\"}],\"table\":[{\"cells\":{\"fill\":{\"color\":\"#EBF0F8\"},\"line\":{\"color\":\"white\"}},\"header\":{\"fill\":{\"color\":\"#C8D4E3\"},\"line\":{\"color\":\"white\"}},\"type\":\"table\"}],\"barpolar\":[{\"marker\":{\"line\":{\"color\":\"#E5ECF6\",\"width\":0.5},\"pattern\":{\"fillmode\":\"overlay\",\"size\":10,\"solidity\":0.2}},\"type\":\"barpolar\"}],\"pie\":[{\"automargin\":true,\"type\":\"pie\"}]},\"layout\":{\"autotypenumbers\":\"strict\",\"colorway\":[\"#636efa\",\"#EF553B\",\"#00cc96\",\"#ab63fa\",\"#FFA15A\",\"#19d3f3\",\"#FF6692\",\"#B6E880\",\"#FF97FF\",\"#FECB52\"],\"font\":{\"color\":\"#2a3f5f\"},\"hovermode\":\"closest\",\"hoverlabel\":{\"align\":\"left\"},\"paper_bgcolor\":\"white\",\"plot_bgcolor\":\"#E5ECF6\",\"polar\":{\"bgcolor\":\"#E5ECF6\",\"angularaxis\":{\"gridcolor\":\"white\",\"linecolor\":\"white\",\"ticks\":\"\"},\"radialaxis\":{\"gridcolor\":\"white\",\"linecolor\":\"white\",\"ticks\":\"\"}},\"ternary\":{\"bgcolor\":\"#E5ECF6\",\"aaxis\":{\"gridcolor\":\"white\",\"linecolor\":\"white\",\"ticks\":\"\"},\"baxis\":{\"gridcolor\":\"white\",\"linecolor\":\"white\",\"ticks\":\"\"},\"caxis\":{\"gridcolor\":\"white\",\"linecolor\":\"white\",\"ticks\":\"\"}},\"coloraxis\":{\"colorbar\":{\"outlinewidth\":0,\"ticks\":\"\"}},\"colorscale\":{\"sequential\":[[0.0,\"#0d0887\"],[0.1111111111111111,\"#46039f\"],[0.2222222222222222,\"#7201a8\"],[0.3333333333333333,\"#9c179e\"],[0.4444444444444444,\"#bd3786\"],[0.5555555555555556,\"#d8576b\"],[0.6666666666666666,\"#ed7953\"],[0.7777777777777778,\"#fb9f3a\"],[0.8888888888888888,\"#fdca26\"],[1.0,\"#f0f921\"]],\"sequentialminus\":[[0.0,\"#0d0887\"],[0.1111111111111111,\"#46039f\"],[0.2222222222222222,\"#7201a8\"],[0.3333333333333333,\"#9c179e\"],[0.4444444444444444,\"#bd3786\"],[0.5555555555555556,\"#d8576b\"],[0.6666666666666666,\"#ed7953\"],[0.7777777777777778,\"#fb9f3a\"],[0.8888888888888888,\"#fdca26\"],[1.0,\"#f0f921\"]],\"diverging\":[[0,\"#8e0152\"],[0.1,\"#c51b7d\"],[0.2,\"#de77ae\"],[0.3,\"#f1b6da\"],[0.4,\"#fde0ef\"],[0.5,\"#f7f7f7\"],[0.6,\"#e6f5d0\"],[0.7,\"#b8e186\"],[0.8,\"#7fbc41\"],[0.9,\"#4d9221\"],[1,\"#276419\"]]},\"xaxis\":{\"gridcolor\":\"white\",\"linecolor\":\"white\",\"ticks\":\"\",\"title\":{\"standoff\":15},\"zerolinecolor\":\"white\",\"automargin\":true,\"zerolinewidth\":2},\"yaxis\":{\"gridcolor\":\"white\",\"linecolor\":\"white\",\"ticks\":\"\",\"title\":{\"standoff\":15},\"zerolinecolor\":\"white\",\"automargin\":true,\"zerolinewidth\":2},\"scene\":{\"xaxis\":{\"backgroundcolor\":\"#E5ECF6\",\"gridcolor\":\"white\",\"linecolor\":\"white\",\"showbackground\":true,\"ticks\":\"\",\"zerolinecolor\":\"white\",\"gridwidth\":2},\"yaxis\":{\"backgroundcolor\":\"#E5ECF6\",\"gridcolor\":\"white\",\"linecolor\":\"white\",\"showbackground\":true,\"ticks\":\"\",\"zerolinecolor\":\"white\",\"gridwidth\":2},\"zaxis\":{\"backgroundcolor\":\"#E5ECF6\",\"gridcolor\":\"white\",\"linecolor\":\"white\",\"showbackground\":true,\"ticks\":\"\",\"zerolinecolor\":\"white\",\"gridwidth\":2}},\"shapedefaults\":{\"line\":{\"color\":\"#2a3f5f\"}},\"annotationdefaults\":{\"arrowcolor\":\"#2a3f5f\",\"arrowhead\":0,\"arrowwidth\":1},\"geo\":{\"bgcolor\":\"white\",\"landcolor\":\"#E5ECF6\",\"subunitcolor\":\"white\",\"showland\":true,\"showlakes\":true,\"lakecolor\":\"white\"},\"title\":{\"x\":0.05},\"mapbox\":{\"style\":\"light\"}}},\"xaxis\":{\"anchor\":\"y\",\"domain\":[0.0,1.0],\"title\":{\"text\":\"Park Type\"}},\"yaxis\":{\"anchor\":\"x\",\"domain\":[0.0,1.0],\"title\":{\"text\":\"counts\"}},\"legend\":{\"title\":{\"text\":\"In Amenities Report\"},\"tracegroupgap\":0},\"title\":{\"text\":\"Types of Parks included in LA County Parks' Amenities Report\"},\"barmode\":\"relative\"},                        {\"responsive\": true}                    ).then(function(){\n",
       "                            \n",
       "var gd = document.getElementById('eb9be297-2aca-45d1-a30f-32308f01d2fd');\n",
       "var x = new MutationObserver(function (mutations, observer) {{\n",
       "        var display = window.getComputedStyle(gd).display;\n",
       "        if (!display || display === 'none') {{\n",
       "            console.log([gd, 'removed!']);\n",
       "            Plotly.purge(gd);\n",
       "            observer.disconnect();\n",
       "        }}\n",
       "}});\n",
       "\n",
       "// Listen for the removal of the full notebook cells\n",
       "var notebookContainer = gd.closest('#notebook-container');\n",
       "if (notebookContainer) {{\n",
       "    x.observe(notebookContainer, {childList: true});\n",
       "}}\n",
       "\n",
       "// Listen for the clearing of the current output cell\n",
       "var outputEl = gd.closest('.output');\n",
       "if (outputEl) {{\n",
       "    x.observe(outputEl, {childList: true});\n",
       "}}\n",
       "\n",
       "                        })                };                });            </script>        </div>"
      ]
     },
     "metadata": {},
     "output_type": "display_data"
    }
   ],
   "source": [
    "fig = px.bar(counts_amen_rpt, x='TYPE', y='counts',\n",
    "              color = 'AMEN_RPT',\n",
    "             labels={\n",
    "                     'TYPE': 'Park Type', 'AMEN_RPT': 'In Amenities Report'\n",
    "                 }, #rename the titles\n",
    "             title = \"Types of Parks included in LA County Parks' Amenities Report\",\n",
    "             color_discrete_map={\n",
    "                 'Yes': '#ffffb2',\n",
    "                 'No': '#bd0026'\n",
    "             }\n",
    "            )\n",
    "\n",
    "fig.show()"
   ]
  },
  {
   "cell_type": "code",
   "execution_count": 84,
   "id": "e7f96930-a29f-4e61-80ef-f232dcc0b24a",
   "metadata": {},
   "outputs": [],
   "source": [
    "fig.write_html(\"amen_rpt_by_park_type_plotly.html\")"
   ]
  },
  {
   "cell_type": "markdown",
   "id": "ed943b30-94c5-48e8-aa6a-152379f8bb9b",
   "metadata": {},
   "source": [
    "We still want to be able to map this data, but not confuse it with parks that *actually* have a Park Score of 0. So we will set these parks with AMEN_RPT = No to as Park Score of -1."
   ]
  },
  {
   "cell_type": "code",
   "execution_count": 35,
   "id": "f7b7388f-dd83-4818-9cdb-f668c4acfa61",
   "metadata": {},
   "outputs": [],
   "source": [
    "parks_d2d5.loc[parks_d2d5['AMEN_RPT'] == 'No', 'Score'] = -1"
   ]
  },
  {
   "cell_type": "code",
   "execution_count": 36,
   "id": "dea03ca8-ee99-48d4-b503-382c45768a3f",
   "metadata": {},
   "outputs": [
    {
     "data": {
      "text/plain": [
       "AMEN_RPT  Score    \n",
       "No        -1.000000    852\n",
       "Yes        0.000000     79\n",
       "           0.115385      2\n",
       "           0.125000      1\n",
       "           0.142857      1\n",
       "                      ... \n",
       "           0.944444      2\n",
       "           0.950000      1\n",
       "           0.954545      6\n",
       "           0.979167      4\n",
       "           1.000000    128\n",
       "Length: 106, dtype: int64"
      ]
     },
     "execution_count": 36,
     "metadata": {},
     "output_type": "execute_result"
    }
   ],
   "source": [
    "#check that 852 rows were recoded - yes!\n",
    "parks_d2d5.groupby(['AMEN_RPT', 'Score']).size()"
   ]
  },
  {
   "cell_type": "markdown",
   "id": "c2fc1894-7069-4b22-9c8a-fa4753cbe62d",
   "metadata": {},
   "source": [
    "## Step 9: filter to only keep parks that are Open Access"
   ]
  },
  {
   "cell_type": "markdown",
   "id": "c06f995a-c29e-4145-b5ee-796c8233483b",
   "metadata": {},
   "source": [
    "There's a column for the parks' access type, which are Open Access (1241 rows), Unknown Access (144), Restricted Access (79), No Public Access (65). I got these numbers from ```parks_d2d5.value_counts(\"ACCESS_TYP\")```.\n",
    "\n",
    "We're only going to keep Open Access in our new dataset called **open_parks_d2d5**, since we know for sure these are available to the public.\n",
    "\n",
    "*(Side note: when I ran value_counts on Unknown Access, most of these rows have a Park Name of 'Unnamed site - Mountains Recreation and Conservation Authority'.)*"
   ]
  },
  {
   "cell_type": "code",
   "execution_count": 37,
   "id": "ec2f5c57-e01a-47df-8c11-e8bf3a129bb4",
   "metadata": {},
   "outputs": [
    {
     "name": "stdout",
     "output_type": "stream",
     "text": [
      "<class 'geopandas.geodataframe.GeoDataFrame'>\n",
      "Index: 1241 entries, 0 to 3906\n",
      "Data columns (total 29 columns):\n",
      " #   Column         Non-Null Count  Dtype   \n",
      "---  ------         --------------  -----   \n",
      " 0   FIPS           1241 non-null   object  \n",
      " 1   Join_Count     1241 non-null   int64   \n",
      " 2   DIST_SUP       1241 non-null   int64   \n",
      " 3   CITY_NAME      997 non-null    object  \n",
      " 4   UNINCORP_NAME  272 non-null    object  \n",
      " 5   JURISDICTION   1241 non-null   object  \n",
      " 6   UNIT_ID        1241 non-null   float64 \n",
      " 7   PARK_NAME      1241 non-null   object  \n",
      " 8   ACCESS_TYP     1241 non-null   object  \n",
      " 9   RPT_ACRES      1241 non-null   float64 \n",
      " 10  GIS_ACRES      1241 non-null   float64 \n",
      " 11  AGNCY_NAME     1241 non-null   object  \n",
      " 12  AGNCY_TYP      1241 non-null   object  \n",
      " 13  COGP_TYP       1241 non-null   object  \n",
      " 14  AMEN_RPT       1240 non-null   object  \n",
      " 15  PRKINF_CND     1239 non-null   object  \n",
      " 16  AM_OPNSP       1239 non-null   object  \n",
      " 17  AM_TRLS        1239 non-null   object  \n",
      " 18  TOTAL_GOOD     1240 non-null   float64 \n",
      " 19  TOTAL_FAIR     1240 non-null   float64 \n",
      " 20  TOTAL_POOR     1240 non-null   float64 \n",
      " 21  RSTRM          1241 non-null   float64 \n",
      " 22  TYPE           1241 non-null   object  \n",
      " 23  CENTER_LAT     1241 non-null   float64 \n",
      " 24  CENTER_LON     1241 non-null   float64 \n",
      " 25  Shape__Area    1241 non-null   float64 \n",
      " 26  Shape__Length  1241 non-null   float64 \n",
      " 27  geometry       1241 non-null   geometry\n",
      " 28  Score          1241 non-null   float64 \n",
      "dtypes: float64(12), geometry(1), int64(2), object(14)\n",
      "memory usage: 290.9+ KB\n"
     ]
    }
   ],
   "source": [
    "open_parks_d2d5 = parks_d2d5[parks_d2d5['ACCESS_TYP']=='Open Access'] #should be 1241\n",
    "open_parks_d2d5.info()"
   ]
  },
  {
   "cell_type": "markdown",
   "id": "b0680428-f893-40bb-ac49-7796e4790852",
   "metadata": {},
   "source": [
    "## Step 10: Make new column denoting cemeteries, golf courses, and parkways\n",
    "In past weeks of analysis, we stumbled upon the fact that some cemeteries, golf courses, and parkways/greenbelts (strips of green grass along a road, sometimes with a walking path) are considered parks. We would like to add a column that denotes this, since we're not convinced this really counts as adequate \"parks\".\n",
    "\n",
    "First, I looked at the data pretty extensively using variations of this code: ```with pd.option_context('display.max_rows', 5, 'display.max_columns', None): \n",
    "    display(parks_d2d5[parks_d2d5['PARK_NAME'].str.contains('Parkway|Greenbelt'))]) ```\n",
    "\n",
    "Then, I defined a if-else function and applied to a new hodge podge column called **CEMETERY_GOLF_ETC**."
   ]
  },
  {
   "cell_type": "code",
   "execution_count": 41,
   "id": "3f5626d3-db91-464b-8d8d-6cff96d6fbcf",
   "metadata": {},
   "outputs": [
    {
     "name": "stderr",
     "output_type": "stream",
     "text": [
      "/opt/conda/lib/python3.11/site-packages/geopandas/geodataframe.py:1543: SettingWithCopyWarning:\n",
      "\n",
      "\n",
      "A value is trying to be set on a copy of a slice from a DataFrame.\n",
      "Try using .loc[row_indexer,col_indexer] = value instead\n",
      "\n",
      "See the caveats in the documentation: https://pandas.pydata.org/pandas-docs/stable/user_guide/indexing.html#returning-a-view-versus-a-copy\n",
      "\n"
     ]
    }
   ],
   "source": [
    "# this code is from the internet\n",
    "def assign(park_name):\n",
    "    if 'Cemetery' in park_name:\n",
    "        return 'Cemetery'\n",
    "    elif 'Golf' in park_name:\n",
    "        return 'Golf Course'\n",
    "    elif 'Parkway' in park_name or 'Greenbelt' in park_name and 'Open' not in park_name:\n",
    "        return 'Parkway'\n",
    "    else:\n",
    "        return 'No Specification'\n",
    "\n",
    "open_parks_d2d5['CEMETERY_GOLF_ETC'] = open_parks_d2d5['PARK_NAME'].apply(assign)\n"
   ]
  },
  {
   "cell_type": "code",
   "execution_count": 42,
   "id": "887fad04-71ac-44df-a37e-763c4538dfa8",
   "metadata": {},
   "outputs": [
    {
     "data": {
      "text/plain": [
       "CEMETERY_GOLF_ETC\n",
       "No Specification    1185\n",
       "Parkway               31\n",
       "Golf Course           20\n",
       "Cemetery               5\n",
       "Name: count, dtype: int64"
      ]
     },
     "execution_count": 42,
     "metadata": {},
     "output_type": "execute_result"
    }
   ],
   "source": [
    "# check for reasonability - good\n",
    "open_parks_d2d5.value_counts('CEMETERY_GOLF_ETC')"
   ]
  },
  {
   "cell_type": "code",
   "execution_count": 49,
   "id": "5ac220a3-82e8-4527-8572-5d554b86d11d",
   "metadata": {},
   "outputs": [
    {
     "data": {
      "text/html": [
       "<div>\n",
       "<style scoped>\n",
       "    .dataframe tbody tr th:only-of-type {\n",
       "        vertical-align: middle;\n",
       "    }\n",
       "\n",
       "    .dataframe tbody tr th {\n",
       "        vertical-align: top;\n",
       "    }\n",
       "\n",
       "    .dataframe thead th {\n",
       "        text-align: right;\n",
       "    }\n",
       "</style>\n",
       "<table border=\"1\" class=\"dataframe\">\n",
       "  <thead>\n",
       "    <tr style=\"text-align: right;\">\n",
       "      <th></th>\n",
       "      <th>FIPS</th>\n",
       "      <th>Join_Count</th>\n",
       "      <th>DIST_SUP</th>\n",
       "      <th>CITY_NAME</th>\n",
       "      <th>UNINCORP_NAME</th>\n",
       "      <th>JURISDICTION</th>\n",
       "      <th>UNIT_ID</th>\n",
       "      <th>PARK_NAME</th>\n",
       "      <th>ACCESS_TYP</th>\n",
       "      <th>RPT_ACRES</th>\n",
       "      <th>...</th>\n",
       "      <th>TOTAL_POOR</th>\n",
       "      <th>RSTRM</th>\n",
       "      <th>TYPE</th>\n",
       "      <th>CENTER_LAT</th>\n",
       "      <th>CENTER_LON</th>\n",
       "      <th>Shape__Area</th>\n",
       "      <th>Shape__Length</th>\n",
       "      <th>geometry</th>\n",
       "      <th>Score</th>\n",
       "      <th>CEMETERY_GOLF_ETC</th>\n",
       "    </tr>\n",
       "  </thead>\n",
       "  <tbody>\n",
       "    <tr>\n",
       "      <th>811</th>\n",
       "      <td>06037238000</td>\n",
       "      <td>1</td>\n",
       "      <td>2</td>\n",
       "      <td>LOS ANGELES</td>\n",
       "      <td>NaN</td>\n",
       "      <td>INCORPORATED CITY</td>\n",
       "      <td>6210.0</td>\n",
       "      <td>98th Street Parkway</td>\n",
       "      <td>Open Access</td>\n",
       "      <td>15.590</td>\n",
       "      <td>...</td>\n",
       "      <td>0.0</td>\n",
       "      <td>0.0</td>\n",
       "      <td>Natural Areas</td>\n",
       "      <td>33.947117</td>\n",
       "      <td>-118.271957</td>\n",
       "      <td>679129.590820</td>\n",
       "      <td>28653.819611</td>\n",
       "      <td>MULTIPOLYGON (((-118.30260 33.94693, -118.3025...</td>\n",
       "      <td>-1.0</td>\n",
       "      <td>Parkway</td>\n",
       "    </tr>\n",
       "    <tr>\n",
       "      <th>541</th>\n",
       "      <td>06037189102</td>\n",
       "      <td>2</td>\n",
       "      <td>5</td>\n",
       "      <td>LOS ANGELES</td>\n",
       "      <td>NaN</td>\n",
       "      <td>INCORPORATED CITY</td>\n",
       "      <td>6204.0</td>\n",
       "      <td>Vermont Parkway (City of Los Angeles)</td>\n",
       "      <td>Open Access</td>\n",
       "      <td>4.664</td>\n",
       "      <td>...</td>\n",
       "      <td>0.0</td>\n",
       "      <td>0.0</td>\n",
       "      <td>Regional Open Space</td>\n",
       "      <td>34.027902</td>\n",
       "      <td>-118.291279</td>\n",
       "      <td>203176.970703</td>\n",
       "      <td>10416.004323</td>\n",
       "      <td>MULTIPOLYGON (((-118.28992 34.11457, -118.2900...</td>\n",
       "      <td>-1.0</td>\n",
       "      <td>Parkway</td>\n",
       "    </tr>\n",
       "    <tr>\n",
       "      <th>3314</th>\n",
       "      <td>06037910501</td>\n",
       "      <td>1</td>\n",
       "      <td>5</td>\n",
       "      <td>PALMDALE</td>\n",
       "      <td>NaN</td>\n",
       "      <td>INCORPORATED CITY</td>\n",
       "      <td>46114.0</td>\n",
       "      <td>Dr. Robert C. St. Clair Parkway</td>\n",
       "      <td>Open Access</td>\n",
       "      <td>8.719</td>\n",
       "      <td>...</td>\n",
       "      <td>0.0</td>\n",
       "      <td>0.0</td>\n",
       "      <td>Regional Open Space</td>\n",
       "      <td>34.580997</td>\n",
       "      <td>-118.117143</td>\n",
       "      <td>379733.874023</td>\n",
       "      <td>8740.579297</td>\n",
       "      <td>MULTIPOLYGON (((-118.11622 34.57602, -118.1161...</td>\n",
       "      <td>-1.0</td>\n",
       "      <td>Parkway</td>\n",
       "    </tr>\n",
       "  </tbody>\n",
       "</table>\n",
       "<p>3 rows × 30 columns</p>\n",
       "</div>"
      ],
      "text/plain": [
       "             FIPS  Join_Count  DIST_SUP    CITY_NAME UNINCORP_NAME  \\\n",
       "811   06037238000           1         2  LOS ANGELES           NaN   \n",
       "541   06037189102           2         5  LOS ANGELES           NaN   \n",
       "3314  06037910501           1         5     PALMDALE           NaN   \n",
       "\n",
       "           JURISDICTION  UNIT_ID                              PARK_NAME  \\\n",
       "811   INCORPORATED CITY   6210.0                    98th Street Parkway   \n",
       "541   INCORPORATED CITY   6204.0  Vermont Parkway (City of Los Angeles)   \n",
       "3314  INCORPORATED CITY  46114.0        Dr. Robert C. St. Clair Parkway   \n",
       "\n",
       "       ACCESS_TYP  RPT_ACRES  ...  TOTAL_POOR RSTRM                 TYPE  \\\n",
       "811   Open Access     15.590  ...         0.0   0.0        Natural Areas   \n",
       "541   Open Access      4.664  ...         0.0   0.0  Regional Open Space   \n",
       "3314  Open Access      8.719  ...         0.0   0.0  Regional Open Space   \n",
       "\n",
       "     CENTER_LAT  CENTER_LON    Shape__Area Shape__Length  \\\n",
       "811   33.947117 -118.271957  679129.590820  28653.819611   \n",
       "541   34.027902 -118.291279  203176.970703  10416.004323   \n",
       "3314  34.580997 -118.117143  379733.874023   8740.579297   \n",
       "\n",
       "                                               geometry  Score  \\\n",
       "811   MULTIPOLYGON (((-118.30260 33.94693, -118.3025...   -1.0   \n",
       "541   MULTIPOLYGON (((-118.28992 34.11457, -118.2900...   -1.0   \n",
       "3314  MULTIPOLYGON (((-118.11622 34.57602, -118.1161...   -1.0   \n",
       "\n",
       "      CEMETERY_GOLF_ETC  \n",
       "811             Parkway  \n",
       "541             Parkway  \n",
       "3314            Parkway  \n",
       "\n",
       "[3 rows x 30 columns]"
      ]
     },
     "execution_count": 49,
     "metadata": {},
     "output_type": "execute_result"
    }
   ],
   "source": [
    "open_parks_d2d5[open_parks_d2d5['CEMETERY_GOLF_ETC']!='No Specification'].sample(3)"
   ]
  },
  {
   "cell_type": "markdown",
   "id": "8f4e1981-d5ae-4268-b02d-3eaca75d445e",
   "metadata": {},
   "source": [
    "## Step 11: save open_parks_d2d5 gdf as a geojson"
   ]
  },
  {
   "cell_type": "code",
   "execution_count": 52,
   "id": "cef3b4d5-39a6-445b-9ecc-5f9cd4ecb24d",
   "metadata": {},
   "outputs": [],
   "source": [
    "# new code from W9 lecture - Export the GeoDataFrame to GeoJSON\n",
    "open_parks_d2d5.to_file(\"data/open_parks_d2d5.geojson\", driver=\"GeoJSON\")"
   ]
  },
  {
   "cell_type": "markdown",
   "id": "140568d3-5346-4f9e-a946-002dd3063c0f",
   "metadata": {},
   "source": [
    "### End of data cleaning steps"
   ]
  },
  {
   "cell_type": "code",
   "execution_count": null,
   "id": "909d7439-51c1-4982-8ad6-ffe7f136f977",
   "metadata": {},
   "outputs": [],
   "source": []
  }
 ],
 "metadata": {
  "kernelspec": {
   "display_name": "Python 3 (ipykernel)",
   "language": "python",
   "name": "python3"
  },
  "language_info": {
   "codemirror_mode": {
    "name": "ipython",
    "version": 3
   },
   "file_extension": ".py",
   "mimetype": "text/x-python",
   "name": "python",
   "nbconvert_exporter": "python",
   "pygments_lexer": "ipython3",
   "version": "3.11.7"
  }
 },
 "nbformat": 4,
 "nbformat_minor": 5
}
